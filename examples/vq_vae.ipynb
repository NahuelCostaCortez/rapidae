{
    "cells": [
        {
            "cell_type": "markdown",
            "metadata": {},
            "source": [
                "<a href=\"https://colab.research.google.com/github/NahuelCostaCortez/rapidae/blob/main/examples/vq_vae.ipynb\" target=\"_parent\"><img src=\"https://colab.research.google.com/assets/colab-badge.svg\" alt=\"Open In Colab\"/></a>"
            ]
        },
        {
            "cell_type": "markdown",
            "metadata": {},
            "source": [
                "# VQ VAE"
            ]
        },
        {
            "cell_type": "markdown",
            "metadata": {},
            "source": [
                "A Vector Quantized-Variational Autoencoder (VQ-VAE) is an extension of the traditional Variational Autoencoder (VAE) that incorporates discrete latent variables. In VQ-VAE, the encoder maps the input data to continuous latent variables, and a discrete codebook is introduced to quantize these continuous variables. This quantization helps to introduce a form of discrete structure into the latent space, making it more interpretable and potentially capturing more meaningful representations.\n",
                "\n",
                "The key components of a VQ-VAE include:\n",
                "\n",
                "1. **Encoder:** This part of the network maps the input data to continuous latent variables.\n",
                "\n",
                "2. **Codebook:** A set of discrete vectors that serve as the representative centroids of the quantized latent space.\n",
                "\n",
                "3. **Quantization:** The continuous latent variables from the encoder are quantized by finding the closest vector in the codebook. This discrete representation is then used in the subsequent stages.\n",
                "\n",
                "4. **Decoder:** The decoder reconstructs the input data using both the quantized discrete latent variables and the continuous variables.\n",
                "\n",
                "VQ-VAEs are particularly useful when dealing with data that exhibits a mix of continuous and discrete patterns. They find applications in generative tasks where having a structured and interpretable latent space is essential, such as in generating diverse and meaningful samples in image and speech synthesis."
            ]
        },
        {
            "cell_type": "code",
            "execution_count": 1,
            "metadata": {},
            "outputs": [],
            "source": [
                "# Install the library\n",
                "\n",
                "!pip install rapidae"
            ]
        },
        {
            "cell_type": "code",
            "execution_count": 3,
            "metadata": {},
            "outputs": [],
            "source": [
                "from keras import utils\n",
                "from rapidae.data import load_MNIST\n",
                "from rapidae.models import VQ_VAE\n",
                "from rapidae.pipelines import TrainingPipeline\n",
                "from rapidae.evaluate import plot_reconstructions"
            ]
        },
        {
            "cell_type": "markdown",
            "metadata": {},
            "source": [
                "### Data"
            ]
        },
        {
            "cell_type": "markdown",
            "metadata": {},
            "source": [
                "Download and preprocess the dataset. In this example, the selected dataset is the well-known MNIST composed of handwritten digit images.\n",
                "\n",
                "Train and test labels are converted into one-hot encoding."
            ]
        },
        {
            "cell_type": "code",
            "execution_count": 4,
            "metadata": {},
            "outputs": [
                {
                    "name": "stderr",
                    "output_type": "stream",
                    "text": [
                        "2024-04-16 14:47:20 \u001b[32m[INFO]\u001b[0m: Downloading train-images-idx3-ubyte.gz...\u001b[0m\n"
                    ]
                },
                {
                    "name": "stderr",
                    "output_type": "stream",
                    "text": [
                        "2024-04-16 14:47:21 \u001b[32m[INFO]\u001b[0m: Downloading train-labels-idx1-ubyte.gz...\u001b[0m\n",
                        "2024-04-16 14:47:21 \u001b[32m[INFO]\u001b[0m: Downloading t10k-images-idx3-ubyte.gz...\u001b[0m\n",
                        "2024-04-16 14:47:21 \u001b[32m[INFO]\u001b[0m: Downloading t10k-labels-idx1-ubyte.gz...\u001b[0m\n",
                        "2024-04-16 14:47:21 \u001b[32m[INFO]\u001b[0m: Deleting MNIST data...\u001b[0m\n"
                    ]
                }
            ],
            "source": [
                "# Load MNIST dataset\n",
                "data = load_MNIST()\n",
                "\n",
                "x_train = data[\"x_train\"].astype('float32') / 255\n",
                "x_test = data[\"x_test\"].astype('float32') / 255\n",
                "\n",
                "# Obtaint number of clasess\n",
                "n_classes = len(set(data[\"y_train\"]))"
            ]
        },
        {
            "cell_type": "markdown",
            "metadata": {},
            "source": [
                "### Model"
            ]
        },
        {
            "cell_type": "markdown",
            "metadata": {},
            "source": [
                "Model's creation step. The selected encoder and decoder are similar to the ones used in the vanilla vae example for MNIST, but with a few changes related to latent space, since in VQ-vae we don't have available 'z_mean' and 'z_log_var' arrays."
            ]
        },
        {
            "cell_type": "code",
            "execution_count": 6,
            "metadata": {},
            "outputs": [
                {
                    "name": "stderr",
                    "output_type": "stream",
                    "text": [
                        "2024-04-16 14:50:52 \u001b[32m[INFO]\u001b[0m: Trying to set encoder and decoder from child class...\u001b[0m\n",
                        "2024-04-16 14:50:52 \u001b[32m[INFO]\u001b[0m: Encoder set from vq_vae.\u001b[0m\n",
                        "2024-04-16 14:50:52 \u001b[32m[INFO]\u001b[0m: Decoder set from vq_vae.\u001b[0m\n"
                    ]
                }
            ],
            "source": [
                "# Model creation\n",
                "model = VQ_VAE(input_dim=x_train.shape[1:],\n",
                "               latent_dim=2)"
            ]
        },
        {
            "cell_type": "markdown",
            "metadata": {},
            "source": [
                "### Training"
            ]
        },
        {
            "cell_type": "markdown",
            "metadata": {},
            "source": [
                "Define the training pipeline. You can fix some hyperparameters related to training (learning rate, batch size, numer of epochs, etc.). You can also pass a list of model callbacks."
            ]
        },
        {
            "cell_type": "code",
            "execution_count": 8,
            "metadata": {},
            "outputs": [
                {
                    "name": "stderr",
                    "output_type": "stream",
                    "text": [
                        "2024-04-16 14:51:38 \u001b[32m[INFO]\u001b[0m: +++ vq_vae_MNIST +++\u001b[0m\n",
                        "2024-04-16 14:51:38 \u001b[32m[INFO]\u001b[0m: Creating folder in ./output_dir/vq_vae_MNIST_2024-04-16_14-51\u001b[0m\n"
                    ]
                },
                {
                    "name": "stderr",
                    "output_type": "stream",
                    "text": [
                        "2024-04-16 14:51:38 \u001b[32m[INFO]\u001b[0m: \n",
                        "TRAINING STARTED\n",
                        "\tBackend: tensorflow\n",
                        "\tEager mode: False\n",
                        "\tValidation data available: False\n",
                        "\tCallbacks set: ['EarlyStopping', 'ModelCheckpoint'] \n",
                        "\u001b[0m\n"
                    ]
                },
                {
                    "name": "stdout",
                    "output_type": "stream",
                    "text": [
                        "Epoch 1/20\n"
                    ]
                },
                {
                    "name": "stderr",
                    "output_type": "stream",
                    "text": [
                        "2024-04-16 14:51:38.702762: W external/local_tsl/tsl/framework/cpu_allocator_impl.cc:83] Allocation of 188160000 exceeds 10% of free system memory.\n",
                        "2024-04-16 14:51:40.478390: W external/local_tsl/tsl/framework/cpu_allocator_impl.cc:83] Allocation of 30030336 exceeds 10% of free system memory.\n",
                        "2024-04-16 14:51:40.552449: W external/local_tsl/tsl/framework/cpu_allocator_impl.cc:83] Allocation of 30030336 exceeds 10% of free system memory.\n",
                        "2024-04-16 14:51:40.555432: W external/local_tsl/tsl/framework/cpu_allocator_impl.cc:83] Allocation of 29352960 exceeds 10% of free system memory.\n"
                    ]
                },
                {
                    "name": "stdout",
                    "output_type": "stream",
                    "text": [
                        "\n",
                        "Epoch 1: loss improved from inf to 0.01750, saving model to ./output_dir/vq_vae_MNIST_2024-04-16_14-51/model.weights.h5\n",
                        "469/469 - 42s - 89ms/step - loss: 0.0175 - reconstruction_loss: 0.0143 - vq_loss: 0.0032\n",
                        "Epoch 2/20\n",
                        "\n",
                        "Epoch 2: loss improved from 0.01750 to 0.00554, saving model to ./output_dir/vq_vae_MNIST_2024-04-16_14-51/model.weights.h5\n",
                        "469/469 - 40s - 85ms/step - loss: 0.0055 - reconstruction_loss: 0.0052 - vq_loss: 3.3616e-04\n",
                        "Epoch 3/20\n",
                        "\n",
                        "Epoch 3: loss improved from 0.00554 to 0.00475, saving model to ./output_dir/vq_vae_MNIST_2024-04-16_14-51/model.weights.h5\n",
                        "469/469 - 40s - 85ms/step - loss: 0.0048 - reconstruction_loss: 0.0044 - vq_loss: 3.5587e-04\n",
                        "Epoch 4/20\n",
                        "\n",
                        "Epoch 4: loss improved from 0.00475 to 0.00443, saving model to ./output_dir/vq_vae_MNIST_2024-04-16_14-51/model.weights.h5\n",
                        "469/469 - 40s - 85ms/step - loss: 0.0044 - reconstruction_loss: 0.0041 - vq_loss: 3.5452e-04\n",
                        "Epoch 5/20\n",
                        "\n",
                        "Epoch 5: loss improved from 0.00443 to 0.00426, saving model to ./output_dir/vq_vae_MNIST_2024-04-16_14-51/model.weights.h5\n",
                        "469/469 - 40s - 85ms/step - loss: 0.0043 - reconstruction_loss: 0.0039 - vq_loss: 3.5270e-04\n",
                        "Epoch 6/20\n",
                        "\n",
                        "Epoch 6: loss improved from 0.00426 to 0.00411, saving model to ./output_dir/vq_vae_MNIST_2024-04-16_14-51/model.weights.h5\n",
                        "469/469 - 38s - 81ms/step - loss: 0.0041 - reconstruction_loss: 0.0038 - vq_loss: 3.4273e-04\n",
                        "Epoch 7/20\n",
                        "\n",
                        "Epoch 7: loss improved from 0.00411 to 0.00402, saving model to ./output_dir/vq_vae_MNIST_2024-04-16_14-51/model.weights.h5\n",
                        "469/469 - 38s - 81ms/step - loss: 0.0040 - reconstruction_loss: 0.0037 - vq_loss: 3.3772e-04\n",
                        "Epoch 8/20\n",
                        "\n",
                        "Epoch 8: loss improved from 0.00402 to 0.00392, saving model to ./output_dir/vq_vae_MNIST_2024-04-16_14-51/model.weights.h5\n",
                        "469/469 - 38s - 81ms/step - loss: 0.0039 - reconstruction_loss: 0.0036 - vq_loss: 3.2955e-04\n",
                        "Epoch 9/20\n",
                        "\n",
                        "Epoch 9: loss improved from 0.00392 to 0.00384, saving model to ./output_dir/vq_vae_MNIST_2024-04-16_14-51/model.weights.h5\n",
                        "469/469 - 38s - 80ms/step - loss: 0.0038 - reconstruction_loss: 0.0035 - vq_loss: 3.2234e-04\n",
                        "Epoch 10/20\n",
                        "\n",
                        "Epoch 10: loss improved from 0.00384 to 0.00378, saving model to ./output_dir/vq_vae_MNIST_2024-04-16_14-51/model.weights.h5\n",
                        "469/469 - 40s - 85ms/step - loss: 0.0038 - reconstruction_loss: 0.0035 - vq_loss: 3.1413e-04\n",
                        "Epoch 11/20\n",
                        "\n",
                        "Epoch 11: loss improved from 0.00378 to 0.00371, saving model to ./output_dir/vq_vae_MNIST_2024-04-16_14-51/model.weights.h5\n",
                        "469/469 - 38s - 81ms/step - loss: 0.0037 - reconstruction_loss: 0.0034 - vq_loss: 3.0692e-04\n",
                        "Epoch 12/20\n",
                        "\n",
                        "Epoch 12: loss improved from 0.00371 to 0.00366, saving model to ./output_dir/vq_vae_MNIST_2024-04-16_14-51/model.weights.h5\n",
                        "469/469 - 38s - 81ms/step - loss: 0.0037 - reconstruction_loss: 0.0034 - vq_loss: 3.0206e-04\n",
                        "Epoch 13/20\n",
                        "\n",
                        "Epoch 13: loss improved from 0.00366 to 0.00361, saving model to ./output_dir/vq_vae_MNIST_2024-04-16_14-51/model.weights.h5\n",
                        "469/469 - 38s - 81ms/step - loss: 0.0036 - reconstruction_loss: 0.0033 - vq_loss: 2.9783e-04\n",
                        "Epoch 14/20\n",
                        "\n",
                        "Epoch 14: loss improved from 0.00361 to 0.00357, saving model to ./output_dir/vq_vae_MNIST_2024-04-16_14-51/model.weights.h5\n",
                        "469/469 - 38s - 81ms/step - loss: 0.0036 - reconstruction_loss: 0.0033 - vq_loss: 2.9329e-04\n",
                        "Epoch 15/20\n",
                        "\n",
                        "Epoch 15: loss improved from 0.00357 to 0.00352, saving model to ./output_dir/vq_vae_MNIST_2024-04-16_14-51/model.weights.h5\n",
                        "469/469 - 38s - 81ms/step - loss: 0.0035 - reconstruction_loss: 0.0032 - vq_loss: 2.9006e-04\n",
                        "Epoch 16/20\n",
                        "\n",
                        "Epoch 16: loss improved from 0.00352 to 0.00348, saving model to ./output_dir/vq_vae_MNIST_2024-04-16_14-51/model.weights.h5\n",
                        "469/469 - 38s - 81ms/step - loss: 0.0035 - reconstruction_loss: 0.0032 - vq_loss: 2.8348e-04\n",
                        "Epoch 17/20\n",
                        "\n",
                        "Epoch 17: loss improved from 0.00348 to 0.00344, saving model to ./output_dir/vq_vae_MNIST_2024-04-16_14-51/model.weights.h5\n",
                        "469/469 - 38s - 81ms/step - loss: 0.0034 - reconstruction_loss: 0.0032 - vq_loss: 2.7903e-04\n",
                        "Epoch 18/20\n",
                        "\n",
                        "Epoch 18: loss improved from 0.00344 to 0.00341, saving model to ./output_dir/vq_vae_MNIST_2024-04-16_14-51/model.weights.h5\n",
                        "469/469 - 38s - 81ms/step - loss: 0.0034 - reconstruction_loss: 0.0031 - vq_loss: 2.7404e-04\n",
                        "Epoch 19/20\n",
                        "\n",
                        "Epoch 19: loss improved from 0.00341 to 0.00338, saving model to ./output_dir/vq_vae_MNIST_2024-04-16_14-51/model.weights.h5\n",
                        "469/469 - 38s - 80ms/step - loss: 0.0034 - reconstruction_loss: 0.0031 - vq_loss: 2.6995e-04\n",
                        "Epoch 20/20\n",
                        "\n",
                        "Epoch 20: loss improved from 0.00338 to 0.00334, saving model to ./output_dir/vq_vae_MNIST_2024-04-16_14-51/model.weights.h5\n",
                        "469/469 - 38s - 82ms/step - loss: 0.0033 - reconstruction_loss: 0.0031 - vq_loss: 2.6391e-04\n"
                    ]
                },
                {
                    "name": "stderr",
                    "output_type": "stream",
                    "text": [
                        "2024-04-16 15:04:31 \u001b[32m[INFO]\u001b[0m: Restoring best model\u001b[0m\n",
                        "2024-04-16 15:04:31 \u001b[32m[INFO]\u001b[0m: Best model restored\u001b[0m\n"
                    ]
                }
            ],
            "source": [
                "pipe = TrainingPipeline(name='vq_vae_MNIST',\n",
                "                        model=model, num_epochs=20)\n",
                "\n",
                "trained_model = pipe(x=x_train)"
            ]
        },
        {
            "cell_type": "markdown",
            "metadata": {},
            "source": [
                "### Evaluation"
            ]
        },
        {
            "cell_type": "markdown",
            "metadata": {},
            "source": [
                "Let's now check the performance of the model. The original images are displayed in the first row and the reconstructions in the second. \n",
                "\n",
                "These results look decent but you can play around with some hyperparameters like the dimensionality of the embedding to get better results."
            ]
        },
        {
            "cell_type": "code",
            "execution_count": 9,
            "metadata": {},
            "outputs": [
                {
                    "name": "stdout",
                    "output_type": "stream",
                    "text": [
                        "\u001b[1m313/313\u001b[0m \u001b[32m━━━━━━━━━━━━━━━━━━━━\u001b[0m\u001b[37m\u001b[0m \u001b[1m3s\u001b[0m 10ms/step\n"
                    ]
                },
                {
                    "data": {
                        "image/png": "[encoded data removed]",
                        "text/plain": [
                            "<Figure size 2000x400 with 20 Axes>"
                        ]
                    },
                    "metadata": {},
                    "output_type": "display_data"
                }
            ],
            "source": [
                "outputs = trained_model.predict(x_test)\n",
                "\n",
                "plot_reconstructions(x_test, outputs['x_recon'])"
            ]
        }
    ],
    "metadata": {
        "kernelspec": {
            "display_name": "aepy-test",
            "language": "python",
            "name": "python3"
        },
        "language_info": {
            "codemirror_mode": {
                "name": "ipython",
                "version": 3
            },
            "file_extension": ".py",
            "mimetype": "text/x-python",
            "name": "python",
            "nbconvert_exporter": "python",
            "pygments_lexer": "ipython3",
            "version": "3.10.10"
        }
    },
    "nbformat": 4,
    "nbformat_minor": 2
}
