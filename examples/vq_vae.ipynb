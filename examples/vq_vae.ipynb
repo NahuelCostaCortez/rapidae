{
 "cells": [
  {
   "cell_type": "code",
   "execution_count": 1,
   "metadata": {},
   "outputs": [],
   "source": [
    "# Fist install the library\n",
    "\n",
    "#%pip install aepy"
   ]
  },
  {
   "cell_type": "code",
   "execution_count": 2,
   "metadata": {},
   "outputs": [
    {
     "name": "stdout",
     "output_type": "stream",
     "text": [
      "Using TensorFlow backend\n"
     ]
    },
    {
     "name": "stderr",
     "output_type": "stream",
     "text": [
      "2023-12-04 14:28:35.415443: I tensorflow/core/platform/cpu_feature_guard.cc:182] This TensorFlow binary is optimized to use available CPU instructions in performance-critical operations.\n",
      "To enable the following instructions: AVX2 FMA, in other operations, rebuild TensorFlow with the appropriate compiler flags.\n"
     ]
    }
   ],
   "source": [
    "import os\n",
    "import sys\n",
    "\n",
    "notebook_dir = os.path.abspath('')\n",
    "sys.path.append(os.path.join(notebook_dir, '..'))\n",
    "\n",
    "import numpy as np\n",
    "\n",
    "from sklearn.metrics import accuracy_score\n",
    "from keras_core import utils\n",
    "\n",
    "from aepy.data.datasets import load_MNIST\n",
    "from aepy.data.utils import evaluate, display_diff, add_noise\n",
    "from aepy.models.vq_vae.vq_vae_model import VQ_VAE\n",
    "from aepy.models.base.default_architectures import VanillaEncoder, VanillaDecoder\n",
    "from aepy.pipelines.training import TrainingPipeline"
   ]
  },
  {
   "cell_type": "code",
   "execution_count": 3,
   "metadata": {},
   "outputs": [
    {
     "name": "stderr",
     "output_type": "stream",
     "text": [
      "2023-12-04 14:28:41 \u001b[32m[INFO]\u001b[0m: train-images-idx3-ubyte.gz already exists.\u001b[0m\n",
      "2023-12-04 14:28:41 \u001b[32m[INFO]\u001b[0m: train-labels-idx1-ubyte.gz already exists.\u001b[0m\n",
      "2023-12-04 14:28:41 \u001b[32m[INFO]\u001b[0m: t10k-images-idx3-ubyte.gz already exists.\u001b[0m\n",
      "2023-12-04 14:28:41 \u001b[32m[INFO]\u001b[0m: t10k-labels-idx1-ubyte.gz already exists.\u001b[0m\n"
     ]
    }
   ],
   "source": [
    "# Load MNIST dataset\n",
    "x_train, y_train, x_test, y_test = load_MNIST(persistant=True)\n",
    "\n",
    "# Obtaint number of clasess\n",
    "n_classes = len(set(y_train))\n",
    "\n",
    "# Convert labels to categorical\n",
    "y_train = utils.to_categorical(y_train, n_classes)\n",
    "y_test = utils.to_categorical(y_test, n_classes)"
   ]
  },
  {
   "cell_type": "code",
   "execution_count": 4,
   "metadata": {},
   "outputs": [],
   "source": [
    "train_data = dict(data=x_train.astype(float), labels=x_train)\n",
    "test_data = dict(data=x_test.astype(float), labels=y_test)"
   ]
  },
  {
   "cell_type": "code",
   "execution_count": 5,
   "metadata": {},
   "outputs": [
    {
     "name": "stdout",
     "output_type": "stream",
     "text": [
      "(60000, 28)\n"
     ]
    }
   ],
   "source": [
    "# Model creation\n",
    "model = VQ_VAE(input_dim=(x_train.shape[0], x_train.shape[1]), \n",
    "            latent_dim=2, encoder=VanillaEncoder, decoder=VanillaDecoder, layers_conf=[64, 32])"
   ]
  },
  {
   "cell_type": "code",
   "execution_count": 6,
   "metadata": {},
   "outputs": [
    {
     "name": "stderr",
     "output_type": "stream",
     "text": [
      "2023-12-04 14:28:42 \u001b[32m[INFO]\u001b[0m: +++ training_pipeline +++\u001b[0m\n",
      "2023-12-04 14:28:42 \u001b[32m[INFO]\u001b[0m: Creating folder in ../output_dir/training_pipeline_2023-12-04_14-28-42\u001b[0m\n"
     ]
    },
    {
     "name": "stdout",
     "output_type": "stream",
     "text": [
      "Epoch 1/10\n"
     ]
    },
    {
     "ename": "ValueError",
     "evalue": "in user code:\n\n    File \"/home/lucas/experiment/aepy/examples/../aepy/models/vq_vae/vq_vae_model.py\", line 97, in train_step  *\n        outputs = self(inputs)\n    File \"/home/lucas/python_envs/aepy-test/lib/python3.10/site-packages/keras_core/src/utils/traceback_utils.py\", line 679, in error_handler  *\n        return fn(*args, **kwargs)\n    File \"/home/lucas/python_envs/aepy-test/lib/python3.10/site-packages/keras_core/src/layers/layer.py\", line 735, in __call__  *\n        self._maybe_build(call_spec)\n    File \"/home/lucas/python_envs/aepy-test/lib/python3.10/site-packages/keras_core/src/layers/layer.py\", line 1177, in _maybe_build  *\n        raise ValueError(\n\n    ValueError: Layer 'vq_vae' looks like it has unbuilt state, but Keras is not able to trace the layer `call()` in order to build it automatically. Possible causes:\n    1. The `call()` method of your layer may be crashing. Try to `__call__()` the layer eagerly on some test input first to see if it works. E.g. `x = np.random.random((3, 4)); y = layer(x)`\n    2. If the `call()` method is correct, then you may need to implement the `def build(self, input_shape)` method on your layer. It should create all variables used by the layer (e.g. by calling `layer.build()` on all its children layers).\n",
     "output_type": "error",
     "traceback": [
      "\u001b[0;31m---------------------------------------------------------------------------\u001b[0m",
      "\u001b[0;31mValueError\u001b[0m                                Traceback (most recent call last)",
      "\u001b[1;32m/home/lucas/experiment/aepy/examples/vq_vae.ipynb Cell 6\u001b[0m line \u001b[0;36m4\n\u001b[1;32m      <a href='vscode-notebook-cell:/home/lucas/experiment/aepy/examples/vq_vae.ipynb#W5sZmlsZQ%3D%3D?line=0'>1</a>\u001b[0m pipe \u001b[39m=\u001b[39m TrainingPipeline(name\u001b[39m=\u001b[39m\u001b[39m'\u001b[39m\u001b[39mtraining_pipeline\u001b[39m\u001b[39m'\u001b[39m,\n\u001b[1;32m      <a href='vscode-notebook-cell:/home/lucas/experiment/aepy/examples/vq_vae.ipynb#W5sZmlsZQ%3D%3D?line=1'>2</a>\u001b[0m                         model\u001b[39m=\u001b[39mmodel, num_epochs\u001b[39m=\u001b[39m\u001b[39m10\u001b[39m)\n\u001b[0;32m----> <a href='vscode-notebook-cell:/home/lucas/experiment/aepy/examples/vq_vae.ipynb#W5sZmlsZQ%3D%3D?line=3'>4</a>\u001b[0m trained_model \u001b[39m=\u001b[39m pipe(train_data\u001b[39m=\u001b[39;49mtrain_data)\n",
      "File \u001b[0;32m~/experiment/aepy/examples/../aepy/pipelines/training.py:96\u001b[0m, in \u001b[0;36mTrainingPipeline.__call__\u001b[0;34m(self, train_data, eval_data, callbacks, save_model)\u001b[0m\n\u001b[1;32m     93\u001b[0m \u001b[39m# compile and fit the model\u001b[39;00m\n\u001b[1;32m     94\u001b[0m \u001b[39mself\u001b[39m\u001b[39m.\u001b[39mmodel\u001b[39m.\u001b[39mcompile(optimizer\u001b[39m=\u001b[39moptimizer, run_eagerly\u001b[39m=\u001b[39m\u001b[39mTrue\u001b[39;00m)\n\u001b[0;32m---> 96\u001b[0m \u001b[39mself\u001b[39;49m\u001b[39m.\u001b[39;49mmodel\u001b[39m.\u001b[39;49mfit(train_data,\n\u001b[1;32m     97\u001b[0m                validation_data\u001b[39m=\u001b[39;49meval_data,\n\u001b[1;32m     98\u001b[0m                shuffle\u001b[39m=\u001b[39;49m\u001b[39mTrue\u001b[39;49;00m,\n\u001b[1;32m     99\u001b[0m                epochs\u001b[39m=\u001b[39;49m\u001b[39mself\u001b[39;49m\u001b[39m.\u001b[39;49mnum_epochs,\n\u001b[1;32m    100\u001b[0m                batch_size\u001b[39m=\u001b[39;49m\u001b[39mself\u001b[39;49m\u001b[39m.\u001b[39;49mbatch_size,\n\u001b[1;32m    101\u001b[0m                callbacks\u001b[39m=\u001b[39;49mcallbacks,\n\u001b[1;32m    102\u001b[0m                verbose\u001b[39m=\u001b[39;49m\u001b[39m2\u001b[39;49m)\n\u001b[1;32m    104\u001b[0m \u001b[39m# restore the best model\u001b[39;00m\n\u001b[1;32m    105\u001b[0m \u001b[39mself\u001b[39m\u001b[39m.\u001b[39mmodel\u001b[39m.\u001b[39mload_weights(os\u001b[39m.\u001b[39mpath\u001b[39m.\u001b[39mjoin(\u001b[39mself\u001b[39m\u001b[39m.\u001b[39moutput_dir, \u001b[39m'\u001b[39m\u001b[39mmodel.weights.h5\u001b[39m\u001b[39m'\u001b[39m))\n",
      "File \u001b[0;32m~/python_envs/aepy-test/lib/python3.10/site-packages/keras_core/src/utils/traceback_utils.py:123\u001b[0m, in \u001b[0;36mfilter_traceback.<locals>.error_handler\u001b[0;34m(*args, **kwargs)\u001b[0m\n\u001b[1;32m    120\u001b[0m     filtered_tb \u001b[39m=\u001b[39m _process_traceback_frames(e\u001b[39m.\u001b[39m__traceback__)\n\u001b[1;32m    121\u001b[0m     \u001b[39m# To get the full stack trace, call:\u001b[39;00m\n\u001b[1;32m    122\u001b[0m     \u001b[39m# `keras_core.config.disable_traceback_filtering()`\u001b[39;00m\n\u001b[0;32m--> 123\u001b[0m     \u001b[39mraise\u001b[39;00m e\u001b[39m.\u001b[39mwith_traceback(filtered_tb) \u001b[39mfrom\u001b[39;00m \u001b[39mNone\u001b[39;00m\n\u001b[1;32m    124\u001b[0m \u001b[39mfinally\u001b[39;00m:\n\u001b[1;32m    125\u001b[0m     \u001b[39mdel\u001b[39;00m filtered_tb\n",
      "File \u001b[0;32m/tmp/__autograph_generated_filelyfe7or8.py:13\u001b[0m, in \u001b[0;36mouter_factory.<locals>.inner_factory.<locals>.tf__train_step\u001b[0;34m(self, inputs)\u001b[0m\n\u001b[1;32m     11\u001b[0m labels_x \u001b[39m=\u001b[39m ag__\u001b[39m.\u001b[39mld(inputs)[\u001b[39m'\u001b[39m\u001b[39mlabels\u001b[39m\u001b[39m'\u001b[39m]\n\u001b[1;32m     12\u001b[0m \u001b[39mwith\u001b[39;00m ag__\u001b[39m.\u001b[39mld(tf)\u001b[39m.\u001b[39mGradientTape() \u001b[39mas\u001b[39;00m tape:\n\u001b[0;32m---> 13\u001b[0m     outputs \u001b[39m=\u001b[39m ag__\u001b[39m.\u001b[39;49mconverted_call(ag__\u001b[39m.\u001b[39;49mld(\u001b[39mself\u001b[39;49m), (ag__\u001b[39m.\u001b[39;49mld(inputs),), \u001b[39mNone\u001b[39;49;00m, fscope)\n\u001b[1;32m     14\u001b[0m     losses \u001b[39m=\u001b[39m ag__\u001b[39m.\u001b[39mconverted_call(ag__\u001b[39m.\u001b[39mld(\u001b[39mself\u001b[39m)\u001b[39m.\u001b[39mcompute_losses, (ag__\u001b[39m.\u001b[39mld(x), ag__\u001b[39m.\u001b[39mld(outputs), ag__\u001b[39m.\u001b[39mld(labels_x)), \u001b[39mNone\u001b[39;00m, fscope)\n\u001b[1;32m     15\u001b[0m     total_loss \u001b[39m=\u001b[39m ag__\u001b[39m.\u001b[39mconverted_call(ag__\u001b[39m.\u001b[39mld(\u001b[39msum\u001b[39m), (ag__\u001b[39m.\u001b[39mconverted_call(ag__\u001b[39m.\u001b[39mld(losses)\u001b[39m.\u001b[39mvalues, (), \u001b[39mNone\u001b[39;00m, fscope),), \u001b[39mNone\u001b[39;00m, fscope)\n",
      "File \u001b[0;32m/tmp/__autograph_generated_fileq0o_tcfs.py:44\u001b[0m, in \u001b[0;36mouter_factory.<locals>.inner_factory.<locals>.tf__error_handler\u001b[0;34m(*args, **kwargs)\u001b[0m\n\u001b[1;32m     42\u001b[0m         filtered_tb \u001b[39m=\u001b[39m ag__\u001b[39m.\u001b[39mUndefined(\u001b[39m'\u001b[39m\u001b[39mfiltered_tb\u001b[39m\u001b[39m'\u001b[39m)\n\u001b[1;32m     43\u001b[0m filtered_tb \u001b[39m=\u001b[39m ag__\u001b[39m.\u001b[39mUndefined(\u001b[39m'\u001b[39m\u001b[39mfiltered_tb\u001b[39m\u001b[39m'\u001b[39m)\n\u001b[0;32m---> 44\u001b[0m ag__\u001b[39m.\u001b[39;49mif_stmt(ag__\u001b[39m.\u001b[39;49mnot_(ag__\u001b[39m.\u001b[39;49mconverted_call(ag__\u001b[39m.\u001b[39;49mld(is_traceback_filtering_enabled), (), \u001b[39mNone\u001b[39;49;00m, fscope)), if_body, else_body, get_state, set_state, (\u001b[39m'\u001b[39;49m\u001b[39mdo_return\u001b[39;49m\u001b[39m'\u001b[39;49m, \u001b[39m'\u001b[39;49m\u001b[39mretval_\u001b[39;49m\u001b[39m'\u001b[39;49m), \u001b[39m2\u001b[39;49m)\n\u001b[1;32m     45\u001b[0m \u001b[39mreturn\u001b[39;00m fscope\u001b[39m.\u001b[39mret(retval_, do_return)\n",
      "File \u001b[0;32m/tmp/__autograph_generated_fileq0o_tcfs.py:40\u001b[0m, in \u001b[0;36mouter_factory.<locals>.inner_factory.<locals>.tf__error_handler.<locals>.else_body\u001b[0;34m()\u001b[0m\n\u001b[1;32m     38\u001b[0m \u001b[39mexcept\u001b[39;00m \u001b[39mException\u001b[39;00m \u001b[39mas\u001b[39;00m e:\n\u001b[1;32m     39\u001b[0m     filtered_tb \u001b[39m=\u001b[39m ag__\u001b[39m.\u001b[39mconverted_call(ag__\u001b[39m.\u001b[39mld(_process_traceback_frames), (ag__\u001b[39m.\u001b[39mld(e)\u001b[39m.\u001b[39m__traceback__,), \u001b[39mNone\u001b[39;00m, fscope)\n\u001b[0;32m---> 40\u001b[0m     \u001b[39mraise\u001b[39;00m ag__\u001b[39m.\u001b[39mconverted_call(ag__\u001b[39m.\u001b[39mld(e)\u001b[39m.\u001b[39mwith_traceback, (ag__\u001b[39m.\u001b[39mld(filtered_tb),), \u001b[39mNone\u001b[39;00m, fscope) \u001b[39mfrom\u001b[39;00m \u001b[39mNone\u001b[39;00m\n\u001b[1;32m     41\u001b[0m \u001b[39mfinally\u001b[39;00m:\n\u001b[1;32m     42\u001b[0m     filtered_tb \u001b[39m=\u001b[39m ag__\u001b[39m.\u001b[39mUndefined(\u001b[39m'\u001b[39m\u001b[39mfiltered_tb\u001b[39m\u001b[39m'\u001b[39m)\n",
      "File \u001b[0;32m/tmp/__autograph_generated_fileq0o_tcfs.py:34\u001b[0m, in \u001b[0;36mouter_factory.<locals>.inner_factory.<locals>.tf__error_handler.<locals>.else_body\u001b[0;34m()\u001b[0m\n\u001b[1;32m     32\u001b[0m \u001b[39mtry\u001b[39;00m:\n\u001b[1;32m     33\u001b[0m     do_return \u001b[39m=\u001b[39m \u001b[39mTrue\u001b[39;00m\n\u001b[0;32m---> 34\u001b[0m     retval_ \u001b[39m=\u001b[39m ag__\u001b[39m.\u001b[39mconverted_call(ag__\u001b[39m.\u001b[39mld(fn), \u001b[39mtuple\u001b[39m(ag__\u001b[39m.\u001b[39mld(args)), \u001b[39mdict\u001b[39m(\u001b[39m*\u001b[39m\u001b[39m*\u001b[39mag__\u001b[39m.\u001b[39mld(kwargs)), fscope)\n\u001b[1;32m     35\u001b[0m \u001b[39mexcept\u001b[39;00m:\n\u001b[1;32m     36\u001b[0m     do_return \u001b[39m=\u001b[39m \u001b[39mFalse\u001b[39;00m\n",
      "File \u001b[0;32m/tmp/__autograph_generated_filedxuo45mj.py:188\u001b[0m, in \u001b[0;36mouter_factory.<locals>.inner_factory.<locals>.tf____call__\u001b[0;34m(self, *args, **kwargs)\u001b[0m\n\u001b[1;32m    186\u001b[0m ag__\u001b[39m.\u001b[39mconverted_call(ag__\u001b[39m.\u001b[39mld(\u001b[39mself\u001b[39m)\u001b[39m.\u001b[39m_assert_input_compatibility, (ag__\u001b[39m.\u001b[39mld(call_spec)\u001b[39m.\u001b[39mfirst_arg,), \u001b[39mNone\u001b[39;00m, fscope)\n\u001b[1;32m    187\u001b[0m \u001b[39mwith\u001b[39;00m ag__\u001b[39m.\u001b[39mld(backend)\u001b[39m.\u001b[39mname_scope(ag__\u001b[39m.\u001b[39mld(\u001b[39mself\u001b[39m)\u001b[39m.\u001b[39mname, caller\u001b[39m=\u001b[39mag__\u001b[39m.\u001b[39mld(\u001b[39mself\u001b[39m)):\n\u001b[0;32m--> 188\u001b[0m     ag__\u001b[39m.\u001b[39;49mconverted_call(ag__\u001b[39m.\u001b[39;49mld(\u001b[39mself\u001b[39;49m)\u001b[39m.\u001b[39;49m_maybe_build, (ag__\u001b[39m.\u001b[39;49mld(call_spec),), \u001b[39mNone\u001b[39;49;00m, fscope)\n\u001b[1;32m    189\u001b[0m call_context \u001b[39m=\u001b[39m ag__\u001b[39m.\u001b[39mconverted_call(ag__\u001b[39m.\u001b[39mld(\u001b[39mself\u001b[39m)\u001b[39m.\u001b[39m_get_call_context, (), \u001b[39mNone\u001b[39;00m, fscope)\n\u001b[1;32m    190\u001b[0m training \u001b[39m=\u001b[39m ag__\u001b[39m.\u001b[39mconverted_call(ag__\u001b[39m.\u001b[39mld(call_spec)\u001b[39m.\u001b[39muser_arguments_dict\u001b[39m.\u001b[39mget, (\u001b[39m'\u001b[39m\u001b[39mtraining\u001b[39m\u001b[39m'\u001b[39m, \u001b[39mNone\u001b[39;00m), \u001b[39mNone\u001b[39;00m, fscope)\n",
      "File \u001b[0;32m/tmp/__autograph_generated_filet8i8jn41.py:140\u001b[0m, in \u001b[0;36mouter_factory.<locals>.inner_factory.<locals>.tf___maybe_build\u001b[0;34m(self, call_spec)\u001b[0m\n\u001b[1;32m    138\u001b[0m shapes_dict \u001b[39m=\u001b[39m ag__\u001b[39m.\u001b[39mUndefined(\u001b[39m'\u001b[39m\u001b[39mshapes_dict\u001b[39m\u001b[39m'\u001b[39m)\n\u001b[1;32m    139\u001b[0m first_shape \u001b[39m=\u001b[39m ag__\u001b[39m.\u001b[39mUndefined(\u001b[39m'\u001b[39m\u001b[39mfirst_shape\u001b[39m\u001b[39m'\u001b[39m)\n\u001b[0;32m--> 140\u001b[0m ag__\u001b[39m.\u001b[39;49mif_stmt(ag__\u001b[39m.\u001b[39;49mld(\u001b[39mself\u001b[39;49m)\u001b[39m.\u001b[39;49mbuilt, if_body_6, else_body_6, get_state_6, set_state_6, (\u001b[39m'\u001b[39;49m\u001b[39mdo_return\u001b[39;49m\u001b[39m'\u001b[39;49m, \u001b[39m'\u001b[39;49m\u001b[39mretval_\u001b[39;49m\u001b[39m'\u001b[39;49m), \u001b[39m2\u001b[39;49m)\n\u001b[1;32m    141\u001b[0m \u001b[39mreturn\u001b[39;00m fscope\u001b[39m.\u001b[39mret(retval_, do_return)\n",
      "File \u001b[0;32m/tmp/__autograph_generated_filet8i8jn41.py:136\u001b[0m, in \u001b[0;36mouter_factory.<locals>.inner_factory.<locals>.tf___maybe_build.<locals>.else_body_6\u001b[0;34m()\u001b[0m\n\u001b[1;32m    134\u001b[0m     ag__\u001b[39m.\u001b[39mif_stmt(ag__\u001b[39m.\u001b[39mnot_(do_return), if_body_4, else_body_4, get_state_4, set_state_4, (), \u001b[39m0\u001b[39m)\n\u001b[1;32m    135\u001b[0m success \u001b[39m=\u001b[39m ag__\u001b[39m.\u001b[39mUndefined(\u001b[39m'\u001b[39m\u001b[39msuccess\u001b[39m\u001b[39m'\u001b[39m)\n\u001b[0;32m--> 136\u001b[0m ag__\u001b[39m.\u001b[39;49mif_stmt(ag__\u001b[39m.\u001b[39;49mnot_(ag__\u001b[39m.\u001b[39;49mconverted_call(ag__\u001b[39m.\u001b[39;49mld(utils)\u001b[39m.\u001b[39;49mis_default, (ag__\u001b[39m.\u001b[39;49mld(\u001b[39mself\u001b[39;49m)\u001b[39m.\u001b[39;49mbuild,), \u001b[39mNone\u001b[39;49;00m, fscope)), if_body_5, else_body_5, get_state_5, set_state_5, (\u001b[39m'\u001b[39;49m\u001b[39mdo_return\u001b[39;49m\u001b[39m'\u001b[39;49m, \u001b[39m'\u001b[39;49m\u001b[39mretval_\u001b[39;49m\u001b[39m'\u001b[39;49m, \u001b[39m'\u001b[39;49m\u001b[39mshapes_dict\u001b[39;49m\u001b[39m'\u001b[39;49m), \u001b[39m2\u001b[39;49m)\n",
      "File \u001b[0;32m/tmp/__autograph_generated_filet8i8jn41.py:121\u001b[0m, in \u001b[0;36mouter_factory.<locals>.inner_factory.<locals>.tf___maybe_build.<locals>.else_body_6.<locals>.else_body_5\u001b[0;34m()\u001b[0m\n\u001b[1;32m    119\u001b[0m     \u001b[39mpass\u001b[39;00m\n\u001b[1;32m    120\u001b[0m success \u001b[39m=\u001b[39m ag__\u001b[39m.\u001b[39mUndefined(\u001b[39m'\u001b[39m\u001b[39msuccess\u001b[39m\u001b[39m'\u001b[39m)\n\u001b[0;32m--> 121\u001b[0m ag__\u001b[39m.\u001b[39;49mif_stmt(ag__\u001b[39m.\u001b[39;49mconverted_call(ag__\u001b[39m.\u001b[39;49mld(might_have_unbuilt_state), (ag__\u001b[39m.\u001b[39;49mld(\u001b[39mself\u001b[39;49m),), \u001b[39mNone\u001b[39;49;00m, fscope), if_body_3, else_body_3, get_state_3, set_state_3, (\u001b[39m'\u001b[39;49m\u001b[39mdo_return\u001b[39;49m\u001b[39m'\u001b[39;49m, \u001b[39m'\u001b[39;49m\u001b[39mretval_\u001b[39;49m\u001b[39m'\u001b[39;49m), \u001b[39m2\u001b[39;49m)\n\u001b[1;32m    123\u001b[0m \u001b[39mdef\u001b[39;00m \u001b[39mget_state_4\u001b[39m():\n\u001b[1;32m    124\u001b[0m     \u001b[39mreturn\u001b[39;00m ()\n",
      "File \u001b[0;32m/tmp/__autograph_generated_filet8i8jn41.py:115\u001b[0m, in \u001b[0;36mouter_factory.<locals>.inner_factory.<locals>.tf___maybe_build.<locals>.else_body_6.<locals>.else_body_5.<locals>.if_body_3\u001b[0;34m()\u001b[0m\n\u001b[1;32m    113\u001b[0m     \u001b[39mnonlocal\u001b[39;00m do_return, retval_\n\u001b[1;32m    114\u001b[0m     \u001b[39mpass\u001b[39;00m\n\u001b[0;32m--> 115\u001b[0m ag__\u001b[39m.\u001b[39;49mif_stmt(ag__\u001b[39m.\u001b[39;49mnot_(ag__\u001b[39m.\u001b[39;49mld(success)), if_body_2, else_body_2, get_state_2, set_state_2, (\u001b[39m'\u001b[39;49m\u001b[39mdo_return\u001b[39;49m\u001b[39m'\u001b[39;49m, \u001b[39m'\u001b[39;49m\u001b[39mretval_\u001b[39;49m\u001b[39m'\u001b[39;49m), \u001b[39m2\u001b[39;49m)\n",
      "File \u001b[0;32m/tmp/__autograph_generated_filet8i8jn41.py:110\u001b[0m, in \u001b[0;36mouter_factory.<locals>.inner_factory.<locals>.tf___maybe_build.<locals>.else_body_6.<locals>.else_body_5.<locals>.if_body_3.<locals>.if_body_2\u001b[0;34m()\u001b[0m\n\u001b[1;32m    108\u001b[0m     \u001b[39mnonlocal\u001b[39;00m do_return, retval_\n\u001b[1;32m    109\u001b[0m     \u001b[39mraise\u001b[39;00m ag__\u001b[39m.\u001b[39mconverted_call(ag__\u001b[39m.\u001b[39mld(\u001b[39mValueError\u001b[39;00m), (\u001b[39mf\u001b[39m\u001b[39m\"\u001b[39m\u001b[39mLayer \u001b[39m\u001b[39m'\u001b[39m\u001b[39m{\u001b[39;00mag__\u001b[39m.\u001b[39mld(\u001b[39mself\u001b[39m)\u001b[39m.\u001b[39mname\u001b[39m}\u001b[39;00m\u001b[39m'\u001b[39m\u001b[39m looks like it has unbuilt state, but Keras is not able to trace the layer `call()` in order to build it automatically. Possible causes:\u001b[39m\u001b[39m\\n\u001b[39;00m\u001b[39m1. The `call()` method of your layer may be crashing. Try to `__call__()` the layer eagerly on some test input first to see if it works. E.g. `x = np.random.random((3, 4)); y = layer(x)`\u001b[39m\u001b[39m\\n\u001b[39;00m\u001b[39m2. If the `call()` method is correct, then you may need to implement the `def build(self, input_shape)` method on your layer. It should create all variables used by the layer (e.g. by calling `layer.build()` on all its children layers).\u001b[39m\u001b[39m\"\u001b[39m,), \u001b[39mNone\u001b[39;00m, fscope)\n\u001b[0;32m--> 110\u001b[0m ag__\u001b[39m.\u001b[39;49mif_stmt(ag__\u001b[39m.\u001b[39;49mld(call_spec)\u001b[39m.\u001b[39;49meager, if_body_1, else_body_1, get_state_1, set_state_1, (\u001b[39m'\u001b[39;49m\u001b[39mdo_return\u001b[39;49m\u001b[39m'\u001b[39;49m, \u001b[39m'\u001b[39;49m\u001b[39mretval_\u001b[39;49m\u001b[39m'\u001b[39;49m), \u001b[39m2\u001b[39;49m)\n",
      "File \u001b[0;32m/tmp/__autograph_generated_filet8i8jn41.py:109\u001b[0m, in \u001b[0;36mouter_factory.<locals>.inner_factory.<locals>.tf___maybe_build.<locals>.else_body_6.<locals>.else_body_5.<locals>.if_body_3.<locals>.if_body_2.<locals>.else_body_1\u001b[0;34m()\u001b[0m\n\u001b[1;32m    107\u001b[0m \u001b[39mdef\u001b[39;00m \u001b[39melse_body_1\u001b[39m():\n\u001b[1;32m    108\u001b[0m     \u001b[39mnonlocal\u001b[39;00m do_return, retval_\n\u001b[0;32m--> 109\u001b[0m     \u001b[39mraise\u001b[39;00m ag__\u001b[39m.\u001b[39mconverted_call(ag__\u001b[39m.\u001b[39mld(\u001b[39mValueError\u001b[39;00m), (\u001b[39mf\u001b[39m\u001b[39m\"\u001b[39m\u001b[39mLayer \u001b[39m\u001b[39m'\u001b[39m\u001b[39m{\u001b[39;00mag__\u001b[39m.\u001b[39mld(\u001b[39mself\u001b[39m)\u001b[39m.\u001b[39mname\u001b[39m}\u001b[39;00m\u001b[39m'\u001b[39m\u001b[39m looks like it has unbuilt state, but Keras is not able to trace the layer `call()` in order to build it automatically. Possible causes:\u001b[39m\u001b[39m\\n\u001b[39;00m\u001b[39m1. The `call()` method of your layer may be crashing. Try to `__call__()` the layer eagerly on some test input first to see if it works. E.g. `x = np.random.random((3, 4)); y = layer(x)`\u001b[39m\u001b[39m\\n\u001b[39;00m\u001b[39m2. If the `call()` method is correct, then you may need to implement the `def build(self, input_shape)` method on your layer. It should create all variables used by the layer (e.g. by calling `layer.build()` on all its children layers).\u001b[39m\u001b[39m\"\u001b[39m,), \u001b[39mNone\u001b[39;00m, fscope)\n",
      "\u001b[0;31mValueError\u001b[0m: in user code:\n\n    File \"/home/lucas/experiment/aepy/examples/../aepy/models/vq_vae/vq_vae_model.py\", line 97, in train_step  *\n        outputs = self(inputs)\n    File \"/home/lucas/python_envs/aepy-test/lib/python3.10/site-packages/keras_core/src/utils/traceback_utils.py\", line 679, in error_handler  *\n        return fn(*args, **kwargs)\n    File \"/home/lucas/python_envs/aepy-test/lib/python3.10/site-packages/keras_core/src/layers/layer.py\", line 735, in __call__  *\n        self._maybe_build(call_spec)\n    File \"/home/lucas/python_envs/aepy-test/lib/python3.10/site-packages/keras_core/src/layers/layer.py\", line 1177, in _maybe_build  *\n        raise ValueError(\n\n    ValueError: Layer 'vq_vae' looks like it has unbuilt state, but Keras is not able to trace the layer `call()` in order to build it automatically. Possible causes:\n    1. The `call()` method of your layer may be crashing. Try to `__call__()` the layer eagerly on some test input first to see if it works. E.g. `x = np.random.random((3, 4)); y = layer(x)`\n    2. If the `call()` method is correct, then you may need to implement the `def build(self, input_shape)` method on your layer. It should create all variables used by the layer (e.g. by calling `layer.build()` on all its children layers).\n"
     ]
    }
   ],
   "source": [
    "pipe = TrainingPipeline(name='training_pipeline',\n",
    "                        model=model, num_epochs=10)\n",
    "\n",
    "trained_model = pipe(train_data=train_data)"
   ]
  },
  {
   "cell_type": "code",
   "execution_count": null,
   "metadata": {},
   "outputs": [],
   "source": []
  }
 ],
 "metadata": {
  "kernelspec": {
   "display_name": "aepy-test",
   "language": "python",
   "name": "python3"
  },
  "language_info": {
   "codemirror_mode": {
    "name": "ipython",
    "version": 3
   },
   "file_extension": ".py",
   "mimetype": "text/x-python",
   "name": "python",
   "nbconvert_exporter": "python",
   "pygments_lexer": "ipython3",
   "version": "3.10.12"
  }
 },
 "nbformat": 4,
 "nbformat_minor": 2
}
