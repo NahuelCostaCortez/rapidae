{
 "cells": [
  {
   "cell_type": "markdown",
   "metadata": {},
   "source": [
    "# Example of MLP VAE with MNIST dataset"
   ]
  },
  {
   "cell_type": "code",
   "execution_count": 1,
   "metadata": {},
   "outputs": [],
   "source": [
    "# Fist install the library\n",
    "\n",
    "#%pip install rapidae"
   ]
  },
  {
   "cell_type": "markdown",
   "metadata": {},
   "source": [
    "Since Rapidae uses the new version of Keras 3, this allows the use of different backends. \n",
    "We can select among the 3 available backends (Tensorflow, Pytorch and Jax) by modifying the environment variable \"KERAS_BACKEND\".\n",
    "In the next cell we can define it."
   ]
  },
  {
   "cell_type": "code",
   "execution_count": 2,
   "metadata": {},
   "outputs": [],
   "source": [
    "import os\n",
    "\n",
    "os.environ[\"KERAS_BACKEND\"] = \"torch\""
   ]
  },
  {
   "cell_type": "code",
   "execution_count": 3,
   "metadata": {},
   "outputs": [
    {
     "name": "stderr",
     "output_type": "stream",
     "text": [
      "/home/lucaspc/venvs/keras_core/lib/python3.11/site-packages/torch/cuda/__init__.py:138: UserWarning: CUDA initialization: CUDA unknown error - this may be due to an incorrectly set up environment, e.g. changing env variable CUDA_VISIBLE_DEVICES after program start. Setting the available devices to be zero. (Triggered internally at ../c10/cuda/CUDAFunctions.cpp:108.)\n",
      "  return torch._C._cuda_getDeviceCount() > 0\n"
     ]
    }
   ],
   "source": [
    "import sys\n",
    "\n",
    "notebook_dir = os.path.abspath('')\n",
    "sys.path.append(os.path.join(notebook_dir, '..'))\n",
    "\n",
    "from keras import utils\n",
    "from rapidae.data.datasets import load_MNIST\n",
    "from rapidae.data.utils import display_diff\n",
    "from rapidae.models.base.default_architectures import Encoder_MLP, Decoder_MLP\n",
    "from rapidae.models.vae.vae_model import VAE\n",
    "from rapidae.pipelines.training import TrainingPipeline\n",
    "\n",
    "# Reproducibility in Keras. This will set:\n",
    "# 1) `numpy` seed\n",
    "# 2) backend random seed\n",
    "# 3) `python` random seed\n",
    "utils.set_random_seed(1)"
   ]
  },
  {
   "cell_type": "markdown",
   "metadata": {},
   "source": [
    "# Download and preprocess the dataset\n",
    "\n",
    "Download and preprocess the dataset. In this example, the selected dataset is the well-known MNIST composed of handwritten number images.\n",
    "\n",
    "The \"persistant\" parameter of the load_MNIST() serves as a flag to determine if we want the dataset to be cached in the datasets folder.\n",
    "\n",
    "Train and test data are normalized.\n",
    "\n",
    "We also need to convert the labels into one-hot encoding."
   ]
  },
  {
   "cell_type": "code",
   "execution_count": 4,
   "metadata": {},
   "outputs": [
    {
     "name": "stderr",
     "output_type": "stream",
     "text": [
      "2023-12-28 19:20:20 \u001b[32m[INFO]\u001b[0m: train-images-idx3-ubyte.gz already exists.\u001b[0m\n",
      "2023-12-28 19:20:20 \u001b[32m[INFO]\u001b[0m: train-labels-idx1-ubyte.gz already exists.\u001b[0m\n",
      "2023-12-28 19:20:20 \u001b[32m[INFO]\u001b[0m: t10k-images-idx3-ubyte.gz already exists.\u001b[0m\n",
      "2023-12-28 19:20:20 \u001b[32m[INFO]\u001b[0m: t10k-labels-idx1-ubyte.gz already exists.\u001b[0m\n"
     ]
    }
   ],
   "source": [
    "# Load MNIST dataset\n",
    "x_train, y_train, x_test, y_test = load_MNIST(persistant=True)\n",
    "\n",
    "x_train = x_train.reshape(x_train.shape[0], -1).astype(\"float32\") / 255\n",
    "x_test = x_test.reshape(x_test.shape[0], -1).astype(\"float32\") / 255\n",
    "\n",
    "# Obtain number of clasess\n",
    "n_classes = len(set(y_train))\n",
    "\n",
    "# Convert labels to categorical\n",
    "y_train = utils.to_categorical(y_train, n_classes)\n",
    "y_test = utils.to_categorical(y_test, n_classes)"
   ]
  },
  {
   "cell_type": "markdown",
   "metadata": {},
   "source": [
    "### Model creation\n",
    "\n",
    "In this example we are using a vanilla MLP variational autoencoder. "
   ]
  },
  {
   "cell_type": "code",
   "execution_count": 6,
   "metadata": {},
   "outputs": [
    {
     "name": "stderr",
     "output_type": "stream",
     "text": [
      "2023-12-28 19:20:21 \u001b[32m[INFO]\u001b[0m: No specific dowstream task has been selected\u001b[0m\n"
     ]
    }
   ],
   "source": [
    "# Model creation\n",
    "model = VAE(input_dim=x_train.shape[1], latent_dim=32,\n",
    "            encoder=Encoder_MLP, decoder=Decoder_MLP, layers_conf=[128, 64])"
   ]
  },
  {
   "cell_type": "markdown",
   "metadata": {},
   "source": [
    "### Training pipeline\n",
    "\n",
    "Define the training pipeline. There you can fix some hyperparameters related to the training phase of the autoencoder, like learning rate, bath size, numer of epochs, etc.\n",
    "Here you can define callbacks to the model.\n",
    "Also the pipeline's name can be customized to facilitate the identification of the corresponding folder with the saved models inside output_dir folder."
   ]
  },
  {
   "cell_type": "code",
   "execution_count": 7,
   "metadata": {},
   "outputs": [
    {
     "name": "stderr",
     "output_type": "stream",
     "text": [
      "2023-12-28 19:20:21 \u001b[32m[INFO]\u001b[0m: +++ training_pipeline +++\u001b[0m\n",
      "2023-12-28 19:20:21 \u001b[32m[INFO]\u001b[0m: Creating folder in ../output_dir/training_pipeline_2023-12-28_19-20-21\u001b[0m\n"
     ]
    },
    {
     "name": "stdout",
     "output_type": "stream",
     "text": [
      "Epoch 1/40\n",
      "\n",
      "Epoch 1: loss improved from inf to 0.07721, saving model to ../output_dir/training_pipeline_2023-12-28_19-20-21/model.weights.h5\n",
      "469/469 - 3s - 6ms/step - kl_loss: 0.0080 - loss: 0.0772 - reconstruction_loss: 0.0692\n",
      "Epoch 2/40\n",
      "\n",
      "Epoch 2: loss improved from 0.07721 to 0.06751, saving model to ../output_dir/training_pipeline_2023-12-28_19-20-21/model.weights.h5\n",
      "469/469 - 3s - 5ms/step - kl_loss: 4.3210e-09 - loss: 0.0675 - reconstruction_loss: 0.0675\n",
      "Epoch 3/40\n",
      "\n",
      "Epoch 3: loss improved from 0.06751 to 0.06744, saving model to ../output_dir/training_pipeline_2023-12-28_19-20-21/model.weights.h5\n",
      "469/469 - 2s - 5ms/step - kl_loss: 8.8962e-10 - loss: 0.0674 - reconstruction_loss: 0.0674\n",
      "Epoch 4/40\n",
      "\n",
      "Epoch 4: loss improved from 0.06744 to 0.06740, saving model to ../output_dir/training_pipeline_2023-12-28_19-20-21/model.weights.h5\n",
      "469/469 - 3s - 5ms/step - kl_loss: 4.4481e-10 - loss: 0.0674 - reconstruction_loss: 0.0674\n",
      "Epoch 5/40\n",
      "\n",
      "Epoch 5: loss improved from 0.06740 to 0.06738, saving model to ../output_dir/training_pipeline_2023-12-28_19-20-21/model.weights.h5\n",
      "469/469 - 3s - 5ms/step - kl_loss: 0.0000e+00 - loss: 0.0674 - reconstruction_loss: 0.0674\n",
      "Epoch 6/40\n",
      "\n",
      "Epoch 6: loss improved from 0.06738 to 0.06736, saving model to ../output_dir/training_pipeline_2023-12-28_19-20-21/model.weights.h5\n",
      "469/469 - 3s - 5ms/step - kl_loss: 0.0000e+00 - loss: 0.0674 - reconstruction_loss: 0.0674\n",
      "Epoch 7/40\n",
      "\n",
      "Epoch 7: loss improved from 0.06736 to 0.06735, saving model to ../output_dir/training_pipeline_2023-12-28_19-20-21/model.weights.h5\n",
      "469/469 - 2s - 5ms/step - kl_loss: 0.0000e+00 - loss: 0.0673 - reconstruction_loss: 0.0673\n",
      "Epoch 8/40\n",
      "\n",
      "Epoch 8: loss did not improve from 0.06735\n",
      "469/469 - 2s - 5ms/step - kl_loss: 0.0000e+00 - loss: 0.0674 - reconstruction_loss: 0.0674\n",
      "Epoch 9/40\n",
      "\n",
      "Epoch 9: loss improved from 0.06735 to 0.06734, saving model to ../output_dir/training_pipeline_2023-12-28_19-20-21/model.weights.h5\n",
      "469/469 - 2s - 5ms/step - kl_loss: 0.0000e+00 - loss: 0.0673 - reconstruction_loss: 0.0673\n",
      "Epoch 10/40\n",
      "\n",
      "Epoch 10: loss improved from 0.06734 to 0.06733, saving model to ../output_dir/training_pipeline_2023-12-28_19-20-21/model.weights.h5\n",
      "469/469 - 3s - 6ms/step - kl_loss: 0.0000e+00 - loss: 0.0673 - reconstruction_loss: 0.0673\n",
      "Epoch 11/40\n",
      "\n",
      "Epoch 11: loss improved from 0.06733 to 0.06733, saving model to ../output_dir/training_pipeline_2023-12-28_19-20-21/model.weights.h5\n",
      "469/469 - 2s - 5ms/step - kl_loss: 0.0000e+00 - loss: 0.0673 - reconstruction_loss: 0.0673\n",
      "Epoch 12/40\n",
      "\n",
      "Epoch 12: loss improved from 0.06733 to 0.06731, saving model to ../output_dir/training_pipeline_2023-12-28_19-20-21/model.weights.h5\n",
      "469/469 - 2s - 5ms/step - kl_loss: 1.7983e-07 - loss: 0.0673 - reconstruction_loss: 0.0673\n",
      "Epoch 13/40\n",
      "\n",
      "Epoch 13: loss improved from 0.06731 to 0.06731, saving model to ../output_dir/training_pipeline_2023-12-28_19-20-21/model.weights.h5\n",
      "469/469 - 2s - 5ms/step - kl_loss: 7.6291e-07 - loss: 0.0673 - reconstruction_loss: 0.0673\n",
      "Epoch 14/40\n",
      "\n",
      "Epoch 14: loss improved from 0.06731 to 0.06730, saving model to ../output_dir/training_pipeline_2023-12-28_19-20-21/model.weights.h5\n",
      "469/469 - 2s - 5ms/step - kl_loss: 4.6578e-07 - loss: 0.0673 - reconstruction_loss: 0.0673\n",
      "Epoch 15/40\n",
      "\n",
      "Epoch 15: loss improved from 0.06730 to 0.06730, saving model to ../output_dir/training_pipeline_2023-12-28_19-20-21/model.weights.h5\n",
      "469/469 - 2s - 5ms/step - kl_loss: 1.4186e-06 - loss: 0.0673 - reconstruction_loss: 0.0673\n",
      "Epoch 16/40\n",
      "\n",
      "Epoch 16: loss improved from 0.06730 to 0.06730, saving model to ../output_dir/training_pipeline_2023-12-28_19-20-21/model.weights.h5\n",
      "469/469 - 2s - 5ms/step - kl_loss: 1.0038e-06 - loss: 0.0673 - reconstruction_loss: 0.0673\n",
      "Epoch 17/40\n",
      "\n",
      "Epoch 17: loss improved from 0.06730 to 0.06729, saving model to ../output_dir/training_pipeline_2023-12-28_19-20-21/model.weights.h5\n",
      "469/469 - 2s - 5ms/step - kl_loss: 1.6961e-06 - loss: 0.0673 - reconstruction_loss: 0.0673\n",
      "Epoch 18/40\n",
      "\n",
      "Epoch 18: loss improved from 0.06729 to 0.06729, saving model to ../output_dir/training_pipeline_2023-12-28_19-20-21/model.weights.h5\n",
      "469/469 - 3s - 6ms/step - kl_loss: 1.2298e-06 - loss: 0.0673 - reconstruction_loss: 0.0673\n",
      "Epoch 19/40\n",
      "\n",
      "Epoch 19: loss improved from 0.06729 to 0.06729, saving model to ../output_dir/training_pipeline_2023-12-28_19-20-21/model.weights.h5\n",
      "469/469 - 3s - 6ms/step - kl_loss: 1.4815e-06 - loss: 0.0673 - reconstruction_loss: 0.0673\n",
      "Epoch 20/40\n",
      "\n",
      "Epoch 20: loss improved from 0.06729 to 0.06728, saving model to ../output_dir/training_pipeline_2023-12-28_19-20-21/model.weights.h5\n",
      "469/469 - 3s - 5ms/step - kl_loss: 1.3785e-06 - loss: 0.0673 - reconstruction_loss: 0.0673\n",
      "Epoch 21/40\n",
      "\n",
      "Epoch 21: loss did not improve from 0.06728\n",
      "469/469 - 3s - 5ms/step - kl_loss: 1.3266e-06 - loss: 0.0673 - reconstruction_loss: 0.0673\n",
      "Epoch 22/40\n",
      "\n",
      "Epoch 22: loss did not improve from 0.06728\n",
      "469/469 - 3s - 5ms/step - kl_loss: 1.4542e-06 - loss: 0.0673 - reconstruction_loss: 0.0673\n",
      "Epoch 23/40\n",
      "\n",
      "Epoch 23: loss improved from 0.06728 to 0.06728, saving model to ../output_dir/training_pipeline_2023-12-28_19-20-21/model.weights.h5\n",
      "469/469 - 3s - 5ms/step - kl_loss: 1.4271e-06 - loss: 0.0673 - reconstruction_loss: 0.0673\n",
      "Epoch 24/40\n",
      "\n",
      "Epoch 24: loss improved from 0.06728 to 0.06728, saving model to ../output_dir/training_pipeline_2023-12-28_19-20-21/model.weights.h5\n",
      "469/469 - 3s - 5ms/step - kl_loss: 1.1993e-06 - loss: 0.0673 - reconstruction_loss: 0.0673\n",
      "Epoch 25/40\n",
      "\n",
      "Epoch 25: loss improved from 0.06728 to 0.06728, saving model to ../output_dir/training_pipeline_2023-12-28_19-20-21/model.weights.h5\n",
      "469/469 - 3s - 5ms/step - kl_loss: 1.3970e-06 - loss: 0.0673 - reconstruction_loss: 0.0673\n",
      "Epoch 26/40\n",
      "\n",
      "Epoch 26: loss did not improve from 0.06728\n",
      "469/469 - 3s - 6ms/step - kl_loss: 1.2597e-06 - loss: 0.0673 - reconstruction_loss: 0.0673\n",
      "Epoch 27/40\n",
      "\n",
      "Epoch 27: loss did not improve from 0.06728\n",
      "469/469 - 2s - 5ms/step - kl_loss: 1.4253e-06 - loss: 0.0673 - reconstruction_loss: 0.0673\n",
      "Epoch 28/40\n",
      "\n",
      "Epoch 28: loss improved from 0.06728 to 0.06727, saving model to ../output_dir/training_pipeline_2023-12-28_19-20-21/model.weights.h5\n",
      "469/469 - 2s - 5ms/step - kl_loss: 1.3578e-06 - loss: 0.0673 - reconstruction_loss: 0.0673\n",
      "Epoch 29/40\n",
      "\n",
      "Epoch 29: loss did not improve from 0.06727\n",
      "469/469 - 3s - 5ms/step - kl_loss: 1.3313e-06 - loss: 0.0673 - reconstruction_loss: 0.0673\n",
      "Epoch 30/40\n",
      "\n",
      "Epoch 30: loss improved from 0.06727 to 0.06727, saving model to ../output_dir/training_pipeline_2023-12-28_19-20-21/model.weights.h5\n",
      "469/469 - 3s - 5ms/step - kl_loss: 1.3942e-06 - loss: 0.0673 - reconstruction_loss: 0.0673\n",
      "Epoch 31/40\n",
      "\n",
      "Epoch 31: loss did not improve from 0.06727\n",
      "469/469 - 2s - 5ms/step - kl_loss: 1.3966e-06 - loss: 0.0673 - reconstruction_loss: 0.0673\n",
      "Epoch 32/40\n",
      "\n",
      "Epoch 32: loss did not improve from 0.06727\n",
      "469/469 - 2s - 5ms/step - kl_loss: 1.3671e-06 - loss: 0.0673 - reconstruction_loss: 0.0673\n",
      "Epoch 33/40\n",
      "\n",
      "Epoch 33: loss improved from 0.06727 to 0.06727, saving model to ../output_dir/training_pipeline_2023-12-28_19-20-21/model.weights.h5\n",
      "469/469 - 2s - 5ms/step - kl_loss: 1.3344e-06 - loss: 0.0673 - reconstruction_loss: 0.0673\n",
      "Epoch 34/40\n",
      "\n",
      "Epoch 34: loss did not improve from 0.06727\n",
      "469/469 - 2s - 5ms/step - kl_loss: 1.4177e-06 - loss: 0.0673 - reconstruction_loss: 0.0673\n",
      "Epoch 35/40\n",
      "\n",
      "Epoch 35: loss improved from 0.06727 to 0.06727, saving model to ../output_dir/training_pipeline_2023-12-28_19-20-21/model.weights.h5\n",
      "469/469 - 2s - 5ms/step - kl_loss: 1.4364e-06 - loss: 0.0673 - reconstruction_loss: 0.0673\n",
      "Epoch 36/40\n",
      "\n",
      "Epoch 36: loss did not improve from 0.06727\n",
      "469/469 - 2s - 5ms/step - kl_loss: 1.3611e-06 - loss: 0.0673 - reconstruction_loss: 0.0673\n",
      "Epoch 37/40\n",
      "\n",
      "Epoch 37: loss improved from 0.06727 to 0.06727, saving model to ../output_dir/training_pipeline_2023-12-28_19-20-21/model.weights.h5\n",
      "469/469 - 3s - 5ms/step - kl_loss: 1.3484e-06 - loss: 0.0673 - reconstruction_loss: 0.0673\n",
      "Epoch 38/40\n",
      "\n",
      "Epoch 38: loss did not improve from 0.06727\n",
      "469/469 - 2s - 5ms/step - kl_loss: 1.3085e-06 - loss: 0.0673 - reconstruction_loss: 0.0673\n",
      "Epoch 39/40\n",
      "\n",
      "Epoch 39: loss improved from 0.06727 to 0.06727, saving model to ../output_dir/training_pipeline_2023-12-28_19-20-21/model.weights.h5\n",
      "469/469 - 2s - 5ms/step - kl_loss: 1.2820e-06 - loss: 0.0673 - reconstruction_loss: 0.0673\n",
      "Epoch 40/40\n",
      "\n",
      "Epoch 40: loss improved from 0.06727 to 0.06727, saving model to ../output_dir/training_pipeline_2023-12-28_19-20-21/model.weights.h5\n",
      "469/469 - 3s - 5ms/step - kl_loss: 1.2918e-06 - loss: 0.0673 - reconstruction_loss: 0.0673\n"
     ]
    }
   ],
   "source": [
    "pipe = TrainingPipeline(name='training_pipeline', learning_rate=0.01,\n",
    "                        model=model, num_epochs=40, batch_size=128)\n",
    "\n",
    "trained_model = pipe(x=x_train, y=y_train)"
   ]
  },
  {
   "cell_type": "markdown",
   "metadata": {},
   "source": [
    "### Evaluation step"
   ]
  },
  {
   "cell_type": "code",
   "execution_count": 8,
   "metadata": {},
   "outputs": [
    {
     "name": "stdout",
     "output_type": "stream",
     "text": [
      "\u001b[1m313/313\u001b[0m \u001b[32m━━━━━━━━━━━━━━━━━━━━\u001b[0m\u001b[37m\u001b[0m \u001b[1m1s\u001b[0m 2ms/step\n"
     ]
    },
    {
     "data": {
      "image/png": "[encoded data removed]",
      "text/plain": [
       "<Figure size 2000x400 with 20 Axes>"
      ]
     },
     "metadata": {},
     "output_type": "display_data"
    }
   ],
   "source": [
    "y_hat = trained_model.predict(x_test)\n",
    "\n",
    "display_diff(x_test, y_hat['recon'])"
   ]
  }
 ],
 "metadata": {
  "kernelspec": {
   "display_name": "keras_core",
   "language": "python",
   "name": "python3"
  },
  "language_info": {
   "codemirror_mode": {
    "name": "ipython",
    "version": 3
   },
   "file_extension": ".py",
   "mimetype": "text/x-python",
   "name": "python",
   "nbconvert_exporter": "python",
   "pygments_lexer": "ipython3",
   "version": "3.11.2"
  }
 },
 "nbformat": 4,
 "nbformat_minor": 2
}
