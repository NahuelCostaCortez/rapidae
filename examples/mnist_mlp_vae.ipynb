{
 "cells": [
  {
   "cell_type": "code",
   "execution_count": 1,
   "metadata": {},
   "outputs": [],
   "source": [
    "# Fist install the library\n",
    "\n",
    "#%pip install rapidae"
   ]
  },
  {
   "cell_type": "code",
   "execution_count": 2,
   "metadata": {},
   "outputs": [],
   "source": [
    "import os\n",
    "\n",
    "os.environ[\"KERAS_BACKEND\"] = \"torch\""
   ]
  },
  {
   "cell_type": "code",
   "execution_count": 3,
   "metadata": {},
   "outputs": [],
   "source": [
    "import sys\n",
    "import copy\n",
    "\n",
    "notebook_dir = os.path.abspath('')\n",
    "sys.path.append(os.path.join(notebook_dir, '..'))\n",
    "\n",
    "from keras import utils\n",
    "from rapidae.data.datasets import load_MNIST\n",
    "from rapidae.data.utils import display_diff\n",
    "from rapidae.models.base.default_architectures import Encoder_Conv_MNIST, Decoder_Conv_MNIST\n",
    "from rapidae.models.vae.vae_model import VAE\n",
    "from rapidae.pipelines.training import TrainingPipeline"
   ]
  },
  {
   "cell_type": "code",
   "execution_count": 4,
   "metadata": {},
   "outputs": [
    {
     "name": "stderr",
     "output_type": "stream",
     "text": [
      "2023-12-27 14:27:41 \u001b[32m[INFO]\u001b[0m: train-images-idx3-ubyte.gz already exists.\u001b[0m\n",
      "2023-12-27 14:27:41 \u001b[32m[INFO]\u001b[0m: train-labels-idx1-ubyte.gz already exists.\u001b[0m\n",
      "2023-12-27 14:27:41 \u001b[32m[INFO]\u001b[0m: t10k-images-idx3-ubyte.gz already exists.\u001b[0m\n",
      "2023-12-27 14:27:41 \u001b[32m[INFO]\u001b[0m: t10k-labels-idx1-ubyte.gz already exists.\u001b[0m\n"
     ]
    },
    {
     "name": "stdout",
     "output_type": "stream",
     "text": [
      "(60000, 28, 28, 1)\n"
     ]
    }
   ],
   "source": [
    "# Load MNIST dataset\n",
    "x_train, y_train, x_test, y_test = load_MNIST(persistant=True)\n",
    "\n",
    "y_train_orig = copy.copy(y_train)\n",
    "y_test_orig = copy.copy(y_test)\n",
    "\n",
    "x_train = x_train.astype(\"float32\") / 255\n",
    "x_test = x_test.astype(\"float32\") / 255\n",
    "print(x_train.shape)\n",
    "# Obtaint number of clasess\n",
    "n_classes = len(set(y_train))"
   ]
  },
  {
   "cell_type": "code",
   "execution_count": 5,
   "metadata": {},
   "outputs": [],
   "source": [
    "# Convert labels to categorical\n",
    "y_train = utils.to_categorical(y_train, n_classes)\n",
    "y_test = utils.to_categorical(y_test, n_classes)"
   ]
  },
  {
   "cell_type": "code",
   "execution_count": 6,
   "metadata": {},
   "outputs": [
    {
     "name": "stderr",
     "output_type": "stream",
     "text": [
      "2023-12-27 14:27:41 \u001b[32m[INFO]\u001b[0m: No specific dowstream task has been selected\u001b[0m\n"
     ]
    }
   ],
   "source": [
    "# Model creation\n",
    "model = VAE(input_dim=(x_train.shape[1], x_train.shape[2]), latent_dim=2,\n",
    "            encoder=Encoder_Conv_MNIST, decoder=Decoder_Conv_MNIST, layers_conf=[32, 64])"
   ]
  },
  {
   "cell_type": "code",
   "execution_count": 7,
   "metadata": {},
   "outputs": [
    {
     "name": "stderr",
     "output_type": "stream",
     "text": [
      "2023-12-27 14:27:41 \u001b[32m[INFO]\u001b[0m: +++ training_pipeline +++\u001b[0m\n",
      "2023-12-27 14:27:41 \u001b[32m[INFO]\u001b[0m: Creating folder in ../output_dir/training_pipeline_2023-12-27_14-27-41\u001b[0m\n"
     ]
    },
    {
     "name": "stdout",
     "output_type": "stream",
     "text": [
      "Epoch 1/40\n"
     ]
    },
    {
     "name": "stderr",
     "output_type": "stream",
     "text": [
      "/home/lucaspc/venvs/keras_core/lib/python3.11/site-packages/keras/src/backend/common/backend_utils.py:88: UserWarning: You might experience inconsistencies accross backends when calling conv transpose with kernel_size=3, stride=2, dilation_rate=1, padding=same, output_padding=1.\n",
      "  warnings.warn(\n"
     ]
    },
    {
     "name": "stdout",
     "output_type": "stream",
     "text": [
      "\n",
      "Epoch 1: loss improved from inf to 0.07030, saving model to ../output_dir/training_pipeline_2023-12-27_14-27-41/model.weights.h5\n",
      "469/469 - 4s - 9ms/step - kl_loss: 1.6838e-04 - loss: 0.0703 - reconstruction_loss: 0.0701\n",
      "Epoch 2/40\n",
      "\n",
      "Epoch 2: loss improved from 0.07030 to 0.06739, saving model to ../output_dir/training_pipeline_2023-12-27_14-27-41/model.weights.h5\n",
      "469/469 - 3s - 7ms/step - kl_loss: 2.6168e-07 - loss: 0.0674 - reconstruction_loss: 0.0674\n",
      "Epoch 3/40\n",
      "\n",
      "Epoch 3: loss improved from 0.06739 to 0.06737, saving model to ../output_dir/training_pipeline_2023-12-27_14-27-41/model.weights.h5\n",
      "469/469 - 4s - 8ms/step - kl_loss: 1.6613e-07 - loss: 0.0674 - reconstruction_loss: 0.0674\n",
      "Epoch 4/40\n",
      "\n",
      "Epoch 4: loss improved from 0.06737 to 0.06736, saving model to ../output_dir/training_pipeline_2023-12-27_14-27-41/model.weights.h5\n",
      "469/469 - 4s - 9ms/step - kl_loss: 1.7268e-07 - loss: 0.0674 - reconstruction_loss: 0.0674\n",
      "Epoch 5/40\n",
      "\n",
      "Epoch 5: loss did not improve from 0.06736\n",
      "469/469 - 4s - 8ms/step - kl_loss: 1.1831e-07 - loss: 0.0674 - reconstruction_loss: 0.0674\n",
      "Epoch 6/40\n",
      "\n",
      "Epoch 6: loss improved from 0.06736 to 0.06734, saving model to ../output_dir/training_pipeline_2023-12-27_14-27-41/model.weights.h5\n",
      "469/469 - 4s - 8ms/step - kl_loss: 1.1605e-07 - loss: 0.0673 - reconstruction_loss: 0.0673\n",
      "Epoch 7/40\n",
      "\n",
      "Epoch 7: loss improved from 0.06734 to 0.06733, saving model to ../output_dir/training_pipeline_2023-12-27_14-27-41/model.weights.h5\n",
      "469/469 - 4s - 8ms/step - kl_loss: 6.9403e-08 - loss: 0.0673 - reconstruction_loss: 0.0673\n",
      "Epoch 8/40\n",
      "\n",
      "Epoch 8: loss improved from 0.06733 to 0.06733, saving model to ../output_dir/training_pipeline_2023-12-27_14-27-41/model.weights.h5\n",
      "469/469 - 3s - 7ms/step - kl_loss: 8.2909e-08 - loss: 0.0673 - reconstruction_loss: 0.0673\n",
      "Epoch 9/40\n",
      "\n",
      "Epoch 9: loss did not improve from 0.06733\n",
      "469/469 - 3s - 7ms/step - kl_loss: 6.9827e-08 - loss: 0.0673 - reconstruction_loss: 0.0673\n",
      "Epoch 10/40\n",
      "\n",
      "Epoch 10: loss improved from 0.06733 to 0.06732, saving model to ../output_dir/training_pipeline_2023-12-27_14-27-41/model.weights.h5\n",
      "469/469 - 4s - 8ms/step - kl_loss: 7.2157e-08 - loss: 0.0673 - reconstruction_loss: 0.0673\n",
      "Epoch 11/40\n",
      "\n",
      "Epoch 11: loss did not improve from 0.06732\n",
      "469/469 - 3s - 7ms/step - kl_loss: 7.5922e-08 - loss: 0.0673 - reconstruction_loss: 0.0673\n",
      "Epoch 12/40\n",
      "\n",
      "Epoch 12: loss improved from 0.06732 to 0.06731, saving model to ../output_dir/training_pipeline_2023-12-27_14-27-41/model.weights.h5\n",
      "469/469 - 4s - 8ms/step - kl_loss: 7.8286e-08 - loss: 0.0673 - reconstruction_loss: 0.0673\n",
      "Epoch 13/40\n",
      "\n",
      "Epoch 13: loss did not improve from 0.06731\n",
      "469/469 - 3s - 7ms/step - kl_loss: 6.6871e-08 - loss: 0.0673 - reconstruction_loss: 0.0673\n",
      "Epoch 14/40\n",
      "\n",
      "Epoch 14: loss did not improve from 0.06731\n",
      "469/469 - 3s - 7ms/step - kl_loss: 9.3904e-08 - loss: 0.0673 - reconstruction_loss: 0.0673\n",
      "Epoch 15/40\n",
      "\n",
      "Epoch 15: loss improved from 0.06731 to 0.06730, saving model to ../output_dir/training_pipeline_2023-12-27_14-27-41/model.weights.h5\n",
      "469/469 - 3s - 7ms/step - kl_loss: 1.1123e-07 - loss: 0.0673 - reconstruction_loss: 0.0673\n",
      "Epoch 16/40\n",
      "\n",
      "Epoch 16: loss did not improve from 0.06730\n",
      "469/469 - 3s - 7ms/step - kl_loss: 1.1843e-07 - loss: 0.0673 - reconstruction_loss: 0.0673\n",
      "Epoch 17/40\n",
      "\n",
      "Epoch 17: loss did not improve from 0.06730\n",
      "469/469 - 3s - 7ms/step - kl_loss: 9.7161e-08 - loss: 0.0673 - reconstruction_loss: 0.0673\n",
      "Epoch 18/40\n",
      "\n",
      "Epoch 18: loss did not improve from 0.06730\n",
      "469/469 - 3s - 7ms/step - kl_loss: 1.9309e-07 - loss: 0.0673 - reconstruction_loss: 0.0673\n",
      "Epoch 19/40\n",
      "\n",
      "Epoch 19: loss did not improve from 0.06730\n",
      "469/469 - 4s - 8ms/step - kl_loss: 7.8487e-08 - loss: 0.0673 - reconstruction_loss: 0.0673\n",
      "Epoch 20/40\n",
      "\n",
      "Epoch 20: loss did not improve from 0.06730\n",
      "469/469 - 3s - 7ms/step - kl_loss: 1.4058e-07 - loss: 0.0673 - reconstruction_loss: 0.0673\n",
      "Epoch 21/40\n",
      "\n",
      "Epoch 21: loss did not improve from 0.06730\n",
      "469/469 - 3s - 7ms/step - kl_loss: 1.0599e-07 - loss: 0.0673 - reconstruction_loss: 0.0673\n",
      "Epoch 22/40\n",
      "\n",
      "Epoch 22: loss did not improve from 0.06730\n",
      "469/469 - 3s - 7ms/step - kl_loss: 1.8733e-07 - loss: 0.0673 - reconstruction_loss: 0.0673\n",
      "Epoch 23/40\n",
      "\n",
      "Epoch 23: loss improved from 0.06730 to 0.06730, saving model to ../output_dir/training_pipeline_2023-12-27_14-27-41/model.weights.h5\n",
      "469/469 - 3s - 7ms/step - kl_loss: 7.5046e-08 - loss: 0.0673 - reconstruction_loss: 0.0673\n",
      "Epoch 24/40\n",
      "\n",
      "Epoch 24: loss did not improve from 0.06730\n",
      "469/469 - 3s - 7ms/step - kl_loss: 1.2270e-07 - loss: 0.0673 - reconstruction_loss: 0.0673\n",
      "Epoch 25/40\n",
      "\n",
      "Epoch 25: loss did not improve from 0.06730\n",
      "469/469 - 3s - 7ms/step - kl_loss: 1.1463e-07 - loss: 0.0673 - reconstruction_loss: 0.0673\n",
      "Epoch 26/40\n",
      "\n",
      "Epoch 26: loss improved from 0.06730 to 0.06730, saving model to ../output_dir/training_pipeline_2023-12-27_14-27-41/model.weights.h5\n",
      "469/469 - 4s - 8ms/step - kl_loss: 1.1889e-07 - loss: 0.0673 - reconstruction_loss: 0.0673\n",
      "Epoch 27/40\n",
      "\n",
      "Epoch 27: loss did not improve from 0.06730\n",
      "469/469 - 4s - 8ms/step - kl_loss: 1.2499e-07 - loss: 0.0673 - reconstruction_loss: 0.0673\n",
      "Epoch 28/40\n",
      "\n",
      "Epoch 28: loss did not improve from 0.06730\n",
      "469/469 - 3s - 7ms/step - kl_loss: 1.2283e-07 - loss: 0.0673 - reconstruction_loss: 0.0673\n",
      "Epoch 29/40\n",
      "\n",
      "Epoch 29: loss did not improve from 0.06730\n",
      "469/469 - 3s - 7ms/step - kl_loss: 1.1038e-07 - loss: 0.0673 - reconstruction_loss: 0.0673\n",
      "Epoch 30/40\n",
      "\n",
      "Epoch 30: loss did not improve from 0.06730\n",
      "469/469 - 4s - 8ms/step - kl_loss: 1.2023e-07 - loss: 0.0673 - reconstruction_loss: 0.0673\n",
      "Epoch 31/40\n",
      "\n",
      "Epoch 31: loss did not improve from 0.06730\n",
      "469/469 - 4s - 8ms/step - kl_loss: 1.2785e-07 - loss: 0.0673 - reconstruction_loss: 0.0673\n",
      "Epoch 32/40\n",
      "\n",
      "Epoch 32: loss did not improve from 0.06730\n",
      "469/469 - 4s - 8ms/step - kl_loss: 1.2811e-07 - loss: 0.0673 - reconstruction_loss: 0.0673\n",
      "Epoch 33/40\n",
      "\n",
      "Epoch 33: loss did not improve from 0.06730\n",
      "469/469 - 4s - 8ms/step - kl_loss: 1.1247e-07 - loss: 0.0673 - reconstruction_loss: 0.0673\n",
      "Epoch 34/40\n",
      "\n",
      "Epoch 34: loss did not improve from 0.06730\n",
      "469/469 - 4s - 8ms/step - kl_loss: 1.2175e-07 - loss: 0.0673 - reconstruction_loss: 0.0673\n",
      "Epoch 35/40\n",
      "\n",
      "Epoch 35: loss did not improve from 0.06730\n",
      "469/469 - 4s - 8ms/step - kl_loss: 1.3084e-07 - loss: 0.0673 - reconstruction_loss: 0.0673\n",
      "Epoch 36/40\n",
      "\n",
      "Epoch 36: loss did not improve from 0.06730\n",
      "469/469 - 4s - 8ms/step - kl_loss: 1.1457e-07 - loss: 0.0673 - reconstruction_loss: 0.0673\n",
      "Epoch 36: early stopping\n"
     ]
    }
   ],
   "source": [
    "pipe = TrainingPipeline(name='training_pipeline', learning_rate=0.01,\n",
    "                        model=model, num_epochs=40, batch_size=128)\n",
    "\n",
    "trained_model = pipe(x=x_train, y=y_train)"
   ]
  },
  {
   "cell_type": "code",
   "execution_count": 8,
   "metadata": {},
   "outputs": [
    {
     "name": "stdout",
     "output_type": "stream",
     "text": [
      "\u001b[1m313/313\u001b[0m \u001b[32m━━━━━━━━━━━━━━━━━━━━\u001b[0m\u001b[37m\u001b[0m \u001b[1m1s\u001b[0m 3ms/step\n"
     ]
    },
    {
     "data": {
      "image/png": "[encoded data removed]",
      "text/plain": [
       "<Figure size 2000x400 with 20 Axes>"
      ]
     },
     "metadata": {},
     "output_type": "display_data"
    }
   ],
   "source": [
    "y_hat = trained_model.predict(x_test)\n",
    "\n",
    "display_diff(x_test, y_hat['recon'])"
   ]
  }
 ],
 "metadata": {
  "kernelspec": {
   "display_name": "keras_core",
   "language": "python",
   "name": "python3"
  },
  "language_info": {
   "codemirror_mode": {
    "name": "ipython",
    "version": 3
   },
   "file_extension": ".py",
   "mimetype": "text/x-python",
   "name": "python",
   "nbconvert_exporter": "python",
   "pygments_lexer": "ipython3",
   "version": "3.11.2"
  }
 },
 "nbformat": 4,
 "nbformat_minor": 2
}
