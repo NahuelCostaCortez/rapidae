{
 "cells": [
  {
   "cell_type": "markdown",
   "metadata": {},
   "source": [
    "# Example of MLP VAE with MNIST dataset"
   ]
  },
  {
   "cell_type": "code",
   "execution_count": 1,
   "metadata": {},
   "outputs": [],
   "source": [
    "# First install the library\n",
    "\n",
    "# %pip install rapidae"
   ]
  },
  {
   "cell_type": "markdown",
   "metadata": {},
   "source": [
    "Since Rapidae uses the new version of Keras 3, this allows the use of different backends. \n",
    "We can select among the 3 available backends (Tensorflow, Pytorch and Jax) by modifying the environment variable \"KERAS_BACKEND\".\n",
    "In the next cell we can define it."
   ]
  },
  {
   "cell_type": "code",
   "execution_count": 2,
   "metadata": {},
   "outputs": [],
   "source": [
    "import os\n",
    "\n",
    "os.environ[\"KERAS_BACKEND\"] = \"torch\""
   ]
  },
  {
   "cell_type": "code",
   "execution_count": 3,
   "metadata": {},
   "outputs": [
    {
     "name": "stderr",
     "output_type": "stream",
     "text": [
      "2024-01-11 20:58:40.405535: E external/local_xla/xla/stream_executor/cuda/cuda_dnn.cc:9261] Unable to register cuDNN factory: Attempting to register factory for plugin cuDNN when one has already been registered\n",
      "2024-01-11 20:58:40.405565: E external/local_xla/xla/stream_executor/cuda/cuda_fft.cc:607] Unable to register cuFFT factory: Attempting to register factory for plugin cuFFT when one has already been registered\n",
      "2024-01-11 20:58:40.406261: E external/local_xla/xla/stream_executor/cuda/cuda_blas.cc:1515] Unable to register cuBLAS factory: Attempting to register factory for plugin cuBLAS when one has already been registered\n",
      "2024-01-11 20:58:40.411587: I tensorflow/core/platform/cpu_feature_guard.cc:182] This TensorFlow binary is optimized to use available CPU instructions in performance-critical operations.\n",
      "To enable the following instructions: AVX2 FMA, in other operations, rebuild TensorFlow with the appropriate compiler flags.\n",
      "2024-01-11 20:58:41.137024: W tensorflow/compiler/tf2tensorrt/utils/py_utils.cc:38] TF-TRT Warning: Could not find TensorRT\n"
     ]
    }
   ],
   "source": [
    "import sys\n",
    "\n",
    "#notebook_dir = os.path.abspath('')\n",
    "#sys.path.append(os.path.join(notebook_dir, '..', 'src'))\n",
    "\n",
    "from rapidae.pipelines.training import TrainingPipeline\n",
    "from rapidae.models.vae.vae_model import VAE\n",
    "from rapidae.models.base.default_architectures import Encoder_MLP, Decoder_MLP\n",
    "from rapidae.data.utils import display_diff\n",
    "from rapidae.data.datasets import load_MNIST\n",
    "from keras import utils\n",
    "\n",
    "# For reproducibility in Keras 3. This will set:\n",
    "# 1) `numpy` seed\n",
    "# 2) backend random seed\n",
    "# 3) `python` random seed\n",
    "utils.set_random_seed(1)"
   ]
  },
  {
   "cell_type": "markdown",
   "metadata": {},
   "source": [
    "# Download and preprocess the dataset\n",
    "\n",
    "Download and preprocess the dataset. In this example, the selected dataset is the well-known MNIST composed of handwritten number images.\n",
    "\n",
    "The \"persistant\" parameter of the load_MNIST() serves as a flag to determine if we want the dataset to be cached in the datasets folder.\n",
    "\n",
    "Train and test data are normalized.\n",
    "\n",
    "We also need to convert the labels into one-hot encoding."
   ]
  },
  {
   "cell_type": "code",
   "execution_count": 4,
   "metadata": {},
   "outputs": [
    {
     "name": "stderr",
     "output_type": "stream",
     "text": [
      "2024-01-11 20:58:41 \u001b[32m[INFO]\u001b[0m: train-images-idx3-ubyte.gz already exists.\u001b[0m\n",
      "2024-01-11 20:58:41 \u001b[32m[INFO]\u001b[0m: train-labels-idx1-ubyte.gz already exists.\u001b[0m\n",
      "2024-01-11 20:58:41 \u001b[32m[INFO]\u001b[0m: t10k-images-idx3-ubyte.gz already exists.\u001b[0m\n",
      "2024-01-11 20:58:41 \u001b[32m[INFO]\u001b[0m: t10k-labels-idx1-ubyte.gz already exists.\u001b[0m\n"
     ]
    }
   ],
   "source": [
    "# Load MNIST dataset\n",
    "x_train, y_train, x_test, y_test = load_MNIST(persistant=True)\n",
    "\n",
    "x_train = x_train.reshape(x_train.shape[0], -1).astype(\"float32\") / 255\n",
    "x_test = x_test.reshape(x_test.shape[0], -1).astype(\"float32\") / 255\n",
    "\n",
    "# Obtain number of clasess\n",
    "n_classes = len(set(y_train))\n",
    "\n",
    "# Convert labels to categorical\n",
    "y_train = utils.to_categorical(y_train, n_classes)\n",
    "y_test = utils.to_categorical(y_test, n_classes)"
   ]
  },
  {
   "cell_type": "markdown",
   "metadata": {},
   "source": [
    "### Model creation\n",
    "\n",
    "In this example we are using a vanilla MLP variational autoencoder. "
   ]
  },
  {
   "cell_type": "code",
   "execution_count": 5,
   "metadata": {},
   "outputs": [
    {
     "name": "stderr",
     "output_type": "stream",
     "text": [
      "2024-01-11 20:58:41 \u001b[32m[INFO]\u001b[0m: No specific dowstream task has been selected\u001b[0m\n"
     ]
    }
   ],
   "source": [
    "# Model creation\n",
    "model = VAE(input_dim=x_train.shape[1], latent_dim=32,\n",
    "            encoder=Encoder_MLP, decoder=Decoder_MLP, layers_conf=[64])"
   ]
  },
  {
   "cell_type": "markdown",
   "metadata": {},
   "source": [
    "### Training pipeline\n",
    "\n",
    "Define the training pipeline. There you can fix some hyperparameters related to the training phase of the autoencoder, like learning rate, bath size, numer of epochs, etc.\n",
    "Here you can define callbacks to the model.\n",
    "Also the pipeline's name can be customized to facilitate the identification of the corresponding folder with the saved models inside output_dir folder."
   ]
  },
  {
   "cell_type": "code",
   "execution_count": 6,
   "metadata": {},
   "outputs": [
    {
     "name": "stderr",
     "output_type": "stream",
     "text": [
      "2024-01-11 20:58:41 \u001b[32m[INFO]\u001b[0m: +++ training_pipeline_mnist_mlp_vae +++\u001b[0m\n",
      "2024-01-11 20:58:41 \u001b[32m[INFO]\u001b[0m: Creating folder in ../output_dir/training_pipeline_mnist_mlp_vae_2024-01-11_20-58-41\u001b[0m\n"
     ]
    },
    {
     "name": "stdout",
     "output_type": "stream",
     "text": [
      "Epoch 1/40\n",
      "\n",
      "Epoch 1: loss improved from inf to 0.09324, saving model to ../output_dir/training_pipeline_mnist_mlp_vae_2024-01-11_20-58-41/model.weights.h5\n",
      "469/469 - 2s - 5ms/step - kl_loss: 0.0236 - loss: 0.0932 - reconstruction_loss: 0.0696\n",
      "Epoch 2/40\n",
      "\n",
      "Epoch 2: loss improved from 0.09324 to 0.06775, saving model to ../output_dir/training_pipeline_mnist_mlp_vae_2024-01-11_20-58-41/model.weights.h5\n",
      "469/469 - 2s - 5ms/step - kl_loss: 1.9597e-07 - loss: 0.0677 - reconstruction_loss: 0.0677\n",
      "Epoch 3/40\n",
      "\n",
      "Epoch 3: loss improved from 0.06775 to 0.06761, saving model to ../output_dir/training_pipeline_mnist_mlp_vae_2024-01-11_20-58-41/model.weights.h5\n",
      "469/469 - 2s - 5ms/step - kl_loss: 1.8123e-07 - loss: 0.0676 - reconstruction_loss: 0.0676\n",
      "Epoch 4/40\n",
      "\n",
      "Epoch 4: loss improved from 0.06761 to 0.06757, saving model to ../output_dir/training_pipeline_mnist_mlp_vae_2024-01-11_20-58-41/model.weights.h5\n",
      "469/469 - 2s - 5ms/step - kl_loss: 1.7831e-07 - loss: 0.0676 - reconstruction_loss: 0.0676\n",
      "Epoch 5/40\n",
      "\n",
      "Epoch 5: loss improved from 0.06757 to 0.06751, saving model to ../output_dir/training_pipeline_mnist_mlp_vae_2024-01-11_20-58-41/model.weights.h5\n",
      "469/469 - 2s - 5ms/step - kl_loss: 1.7246e-07 - loss: 0.0675 - reconstruction_loss: 0.0675\n",
      "Epoch 6/40\n",
      "\n",
      "Epoch 6: loss improved from 0.06751 to 0.06744, saving model to ../output_dir/training_pipeline_mnist_mlp_vae_2024-01-11_20-58-41/model.weights.h5\n",
      "469/469 - 2s - 5ms/step - kl_loss: 1.6388e-07 - loss: 0.0674 - reconstruction_loss: 0.0674\n",
      "Epoch 7/40\n",
      "\n",
      "Epoch 7: loss improved from 0.06744 to 0.06740, saving model to ../output_dir/training_pipeline_mnist_mlp_vae_2024-01-11_20-58-41/model.weights.h5\n",
      "469/469 - 2s - 5ms/step - kl_loss: 1.7163e-07 - loss: 0.0674 - reconstruction_loss: 0.0674\n",
      "Epoch 8/40\n",
      "\n",
      "Epoch 8: loss improved from 0.06740 to 0.06737, saving model to ../output_dir/training_pipeline_mnist_mlp_vae_2024-01-11_20-58-41/model.weights.h5\n",
      "469/469 - 2s - 5ms/step - kl_loss: 1.6439e-07 - loss: 0.0674 - reconstruction_loss: 0.0674\n",
      "Epoch 9/40\n",
      "\n",
      "Epoch 9: loss improved from 0.06737 to 0.06736, saving model to ../output_dir/training_pipeline_mnist_mlp_vae_2024-01-11_20-58-41/model.weights.h5\n",
      "469/469 - 2s - 5ms/step - kl_loss: 1.7278e-07 - loss: 0.0674 - reconstruction_loss: 0.0674\n",
      "Epoch 10/40\n",
      "\n",
      "Epoch 10: loss improved from 0.06736 to 0.06733, saving model to ../output_dir/training_pipeline_mnist_mlp_vae_2024-01-11_20-58-41/model.weights.h5\n",
      "469/469 - 2s - 5ms/step - kl_loss: 1.6541e-07 - loss: 0.0673 - reconstruction_loss: 0.0673\n",
      "Epoch 11/40\n",
      "\n",
      "Epoch 11: loss improved from 0.06733 to 0.06732, saving model to ../output_dir/training_pipeline_mnist_mlp_vae_2024-01-11_20-58-41/model.weights.h5\n",
      "469/469 - 2s - 5ms/step - kl_loss: 1.6744e-07 - loss: 0.0673 - reconstruction_loss: 0.0673\n",
      "Epoch 12/40\n",
      "\n",
      "Epoch 12: loss improved from 0.06732 to 0.06731, saving model to ../output_dir/training_pipeline_mnist_mlp_vae_2024-01-11_20-58-41/model.weights.h5\n",
      "469/469 - 2s - 5ms/step - kl_loss: 1.7081e-07 - loss: 0.0673 - reconstruction_loss: 0.0673\n",
      "Epoch 13/40\n",
      "\n",
      "Epoch 13: loss improved from 0.06731 to 0.06731, saving model to ../output_dir/training_pipeline_mnist_mlp_vae_2024-01-11_20-58-41/model.weights.h5\n",
      "469/469 - 2s - 5ms/step - kl_loss: 2.0811e-07 - loss: 0.0673 - reconstruction_loss: 0.0673\n",
      "Epoch 14/40\n",
      "\n",
      "Epoch 14: loss improved from 0.06731 to 0.06730, saving model to ../output_dir/training_pipeline_mnist_mlp_vae_2024-01-11_20-58-41/model.weights.h5\n",
      "469/469 - 2s - 4ms/step - kl_loss: 2.6593e-07 - loss: 0.0673 - reconstruction_loss: 0.0673\n",
      "Epoch 15/40\n",
      "\n",
      "Epoch 15: loss improved from 0.06730 to 0.06730, saving model to ../output_dir/training_pipeline_mnist_mlp_vae_2024-01-11_20-58-41/model.weights.h5\n",
      "469/469 - 2s - 5ms/step - kl_loss: 3.1289e-07 - loss: 0.0673 - reconstruction_loss: 0.0673\n",
      "Epoch 16/40\n",
      "\n",
      "Epoch 16: loss improved from 0.06730 to 0.06730, saving model to ../output_dir/training_pipeline_mnist_mlp_vae_2024-01-11_20-58-41/model.weights.h5\n",
      "469/469 - 2s - 4ms/step - kl_loss: 5.7126e-07 - loss: 0.0673 - reconstruction_loss: 0.0673\n",
      "Epoch 17/40\n",
      "\n",
      "Epoch 17: loss did not improve from 0.06730\n",
      "469/469 - 2s - 4ms/step - kl_loss: 7.4677e-07 - loss: 0.0673 - reconstruction_loss: 0.0673\n",
      "Epoch 18/40\n",
      "\n",
      "Epoch 18: loss improved from 0.06730 to 0.06729, saving model to ../output_dir/training_pipeline_mnist_mlp_vae_2024-01-11_20-58-41/model.weights.h5\n",
      "469/469 - 2s - 4ms/step - kl_loss: 1.0851e-06 - loss: 0.0673 - reconstruction_loss: 0.0673\n",
      "Epoch 19/40\n",
      "\n",
      "Epoch 19: loss did not improve from 0.06729\n",
      "469/469 - 2s - 4ms/step - kl_loss: 1.4115e-06 - loss: 0.0673 - reconstruction_loss: 0.0673\n",
      "Epoch 20/40\n",
      "\n",
      "Epoch 20: loss improved from 0.06729 to 0.06729, saving model to ../output_dir/training_pipeline_mnist_mlp_vae_2024-01-11_20-58-41/model.weights.h5\n",
      "469/469 - 2s - 4ms/step - kl_loss: 1.6151e-06 - loss: 0.0673 - reconstruction_loss: 0.0673\n",
      "Epoch 21/40\n",
      "\n",
      "Epoch 21: loss improved from 0.06729 to 0.06728, saving model to ../output_dir/training_pipeline_mnist_mlp_vae_2024-01-11_20-58-41/model.weights.h5\n",
      "469/469 - 2s - 4ms/step - kl_loss: 1.8418e-06 - loss: 0.0673 - reconstruction_loss: 0.0673\n",
      "Epoch 22/40\n",
      "\n",
      "Epoch 22: loss improved from 0.06728 to 0.06728, saving model to ../output_dir/training_pipeline_mnist_mlp_vae_2024-01-11_20-58-41/model.weights.h5\n",
      "469/469 - 2s - 4ms/step - kl_loss: 1.7418e-06 - loss: 0.0673 - reconstruction_loss: 0.0673\n",
      "Epoch 23/40\n",
      "\n",
      "Epoch 23: loss improved from 0.06728 to 0.06728, saving model to ../output_dir/training_pipeline_mnist_mlp_vae_2024-01-11_20-58-41/model.weights.h5\n",
      "469/469 - 2s - 4ms/step - kl_loss: 1.8255e-06 - loss: 0.0673 - reconstruction_loss: 0.0673\n",
      "Epoch 24/40\n",
      "\n",
      "Epoch 24: loss improved from 0.06728 to 0.06728, saving model to ../output_dir/training_pipeline_mnist_mlp_vae_2024-01-11_20-58-41/model.weights.h5\n",
      "469/469 - 2s - 4ms/step - kl_loss: 1.8290e-06 - loss: 0.0673 - reconstruction_loss: 0.0673\n",
      "Epoch 25/40\n",
      "\n",
      "Epoch 25: loss improved from 0.06728 to 0.06728, saving model to ../output_dir/training_pipeline_mnist_mlp_vae_2024-01-11_20-58-41/model.weights.h5\n",
      "469/469 - 2s - 4ms/step - kl_loss: 1.8471e-06 - loss: 0.0673 - reconstruction_loss: 0.0673\n",
      "Epoch 26/40\n",
      "\n",
      "Epoch 26: loss did not improve from 0.06728\n",
      "469/469 - 2s - 4ms/step - kl_loss: 1.8165e-06 - loss: 0.0673 - reconstruction_loss: 0.0673\n",
      "Epoch 27/40\n",
      "\n",
      "Epoch 27: loss did not improve from 0.06728\n",
      "469/469 - 2s - 4ms/step - kl_loss: 1.9445e-06 - loss: 0.0673 - reconstruction_loss: 0.0673\n",
      "Epoch 28/40\n",
      "\n",
      "Epoch 28: loss did not improve from 0.06728\n",
      "469/469 - 2s - 4ms/step - kl_loss: 1.7257e-06 - loss: 0.0673 - reconstruction_loss: 0.0673\n",
      "Epoch 29/40\n",
      "\n",
      "Epoch 29: loss improved from 0.06728 to 0.06727, saving model to ../output_dir/training_pipeline_mnist_mlp_vae_2024-01-11_20-58-41/model.weights.h5\n",
      "469/469 - 2s - 4ms/step - kl_loss: 1.7900e-06 - loss: 0.0673 - reconstruction_loss: 0.0673\n",
      "Epoch 30/40\n",
      "\n",
      "Epoch 30: loss did not improve from 0.06727\n",
      "469/469 - 2s - 4ms/step - kl_loss: 1.7934e-06 - loss: 0.0673 - reconstruction_loss: 0.0673\n",
      "Epoch 31/40\n",
      "\n",
      "Epoch 31: loss improved from 0.06727 to 0.06727, saving model to ../output_dir/training_pipeline_mnist_mlp_vae_2024-01-11_20-58-41/model.weights.h5\n",
      "469/469 - 2s - 4ms/step - kl_loss: 1.9172e-06 - loss: 0.0673 - reconstruction_loss: 0.0673\n",
      "Epoch 32/40\n",
      "\n",
      "Epoch 32: loss improved from 0.06727 to 0.06727, saving model to ../output_dir/training_pipeline_mnist_mlp_vae_2024-01-11_20-58-41/model.weights.h5\n",
      "469/469 - 2s - 4ms/step - kl_loss: 1.7746e-06 - loss: 0.0673 - reconstruction_loss: 0.0673\n",
      "Epoch 33/40\n",
      "\n",
      "Epoch 33: loss did not improve from 0.06727\n",
      "469/469 - 2s - 4ms/step - kl_loss: 1.9124e-06 - loss: 0.0673 - reconstruction_loss: 0.0673\n",
      "Epoch 34/40\n",
      "\n",
      "Epoch 34: loss did not improve from 0.06727\n",
      "469/469 - 2s - 4ms/step - kl_loss: 1.8251e-06 - loss: 0.0673 - reconstruction_loss: 0.0673\n",
      "Epoch 35/40\n",
      "\n",
      "Epoch 35: loss did not improve from 0.06727\n",
      "469/469 - 2s - 4ms/step - kl_loss: 2.1063e-06 - loss: 0.0673 - reconstruction_loss: 0.0673\n",
      "Epoch 36/40\n",
      "\n",
      "Epoch 36: loss did not improve from 0.06727\n",
      "469/469 - 2s - 4ms/step - kl_loss: 1.5436e-06 - loss: 0.0673 - reconstruction_loss: 0.0673\n",
      "Epoch 37/40\n",
      "\n",
      "Epoch 37: loss improved from 0.06727 to 0.06727, saving model to ../output_dir/training_pipeline_mnist_mlp_vae_2024-01-11_20-58-41/model.weights.h5\n",
      "469/469 - 2s - 4ms/step - kl_loss: 1.8005e-06 - loss: 0.0673 - reconstruction_loss: 0.0673\n",
      "Epoch 38/40\n",
      "\n",
      "Epoch 38: loss improved from 0.06727 to 0.06727, saving model to ../output_dir/training_pipeline_mnist_mlp_vae_2024-01-11_20-58-41/model.weights.h5\n",
      "469/469 - 2s - 4ms/step - kl_loss: 1.8572e-06 - loss: 0.0673 - reconstruction_loss: 0.0673\n",
      "Epoch 39/40\n",
      "\n",
      "Epoch 39: loss did not improve from 0.06727\n",
      "469/469 - 2s - 4ms/step - kl_loss: 1.8882e-06 - loss: 0.0673 - reconstruction_loss: 0.0673\n",
      "Epoch 40/40\n",
      "\n",
      "Epoch 40: loss did not improve from 0.06727\n",
      "469/469 - 2s - 4ms/step - kl_loss: 1.7370e-06 - loss: 0.0673 - reconstruction_loss: 0.0673\n"
     ]
    }
   ],
   "source": [
    "pipe = TrainingPipeline(name='training_pipeline_mnist_mlp_vae', learning_rate=0.01,\n",
    "                        model=model, num_epochs=40, batch_size=128)\n",
    "\n",
    "trained_model = pipe(x=x_train, y=x_train)"
   ]
  },
  {
   "cell_type": "markdown",
   "metadata": {},
   "source": [
    "### Evaluation step"
   ]
  },
  {
   "cell_type": "code",
   "execution_count": 7,
   "metadata": {},
   "outputs": [
    {
     "name": "stdout",
     "output_type": "stream",
     "text": [
      "\u001b[1m313/313\u001b[0m \u001b[32m━━━━━━━━━━━━━━━━━━━━\u001b[0m\u001b[37m\u001b[0m \u001b[1m0s\u001b[0m 1ms/step\n"
     ]
    },
    {
     "data": {
      "image/png": "[encoded data removed]",
      "text/plain": [
       "<Figure size 2000x400 with 20 Axes>"
      ]
     },
     "metadata": {},
     "output_type": "display_data"
    }
   ],
   "source": [
    "y_hat = trained_model.predict(x_test)\n",
    "\n",
    "display_diff(x_test, y_hat['recon'])"
   ]
  }
 ],
 "metadata": {
  "kernelspec": {
   "display_name": "keras_core",
   "language": "python",
   "name": "python3"
  },
  "language_info": {
   "codemirror_mode": {
    "name": "ipython",
    "version": 3
   },
   "file_extension": ".py",
   "mimetype": "text/x-python",
   "name": "python",
   "nbconvert_exporter": "python",
   "pygments_lexer": "ipython3",
   "version": "3.11.2"
  }
 },
 "nbformat": 4,
 "nbformat_minor": 2
}
