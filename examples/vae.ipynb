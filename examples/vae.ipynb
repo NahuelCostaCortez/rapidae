{
    "cells": [
        {
            "cell_type": "markdown",
            "metadata": {},
            "source": [
                "<a href=\"https://colab.research.google.com/github/NahuelCostaCortez/rapidae/blob/main/examples/vae.ipynb\" target=\"_parent\"><img src=\"https://colab.research.google.com/assets/colab-badge.svg\" alt=\"Open In Colab\"/></a>"
            ]
        },
        {
            "cell_type": "markdown",
            "metadata": {},
            "source": [
                "# VAE "
            ]
        },
        {
            "cell_type": "markdown",
            "metadata": {},
            "source": [
                "A Variational Autoencoder (VAE) is a type of generative model that combines the principles of autoencoders and probabilistic modeling. VAEs are designed to learn a probabilistic mapping between high-dimensional input data and a lower-dimensional latent space, capturing meaningful representations of the input data. In a VAE, the encoder network maps input data to a distribution in the latent space, typically modeled as a Gaussian distribution. The decoder network then samples from this distribution to reconstruct the input data. Importantly, VAEs introduce a probabilistic element by enforcing that the latent space follows a specific probability distribution, usually a multivariate Gaussian. During training, VAEs maximize a variational lower bound on the log-likelihood of the data. This involves minimizing the reconstruction error, ensuring that the generated samples resemble the input data, and regularizing the distribution of the latent space to follow the desired probability distribution.\n",
                "\n",
                "VAEs have applications in generative tasks, such as image and text generation, and are valued for their ability to generate diverse and realistic samples while providing a structured latent space that allows for interpolation and manipulation of data representations."
            ]
        },
        {
            "cell_type": "code",
            "execution_count": null,
            "metadata": {},
            "outputs": [],
            "source": [
                "# Install the library\n",
                "\n",
                "!pip install rapidae"
            ]
        },
        {
            "cell_type": "code",
            "execution_count": 2,
            "metadata": {},
            "outputs": [
                {
                    "name": "stderr",
                    "output_type": "stream",
                    "text": [
                        "2024-01-29 01:01:22.949683: E external/local_xla/xla/stream_executor/cuda/cuda_dnn.cc:9261] Unable to register cuDNN factory: Attempting to register factory for plugin cuDNN when one has already been registered\n",
                        "2024-01-29 01:01:22.949713: E external/local_xla/xla/stream_executor/cuda/cuda_fft.cc:607] Unable to register cuFFT factory: Attempting to register factory for plugin cuFFT when one has already been registered\n",
                        "2024-01-29 01:01:22.950439: E external/local_xla/xla/stream_executor/cuda/cuda_blas.cc:1515] Unable to register cuBLAS factory: Attempting to register factory for plugin cuBLAS when one has already been registered\n",
                        "2024-01-29 01:01:22.955362: I tensorflow/core/platform/cpu_feature_guard.cc:182] This TensorFlow binary is optimized to use available CPU instructions in performance-critical operations.\n",
                        "To enable the following instructions: AVX2 FMA, in other operations, rebuild TensorFlow with the appropriate compiler flags.\n",
                        "2024-01-29 01:01:23.478821: W tensorflow/compiler/tf2tensorrt/utils/py_utils.cc:38] TF-TRT Warning: Could not find TensorRT\n"
                    ]
                }
            ],
            "source": [
                "from keras import utils\n",
                "from rapidae.data import load_MNIST\n",
                "from rapidae.models import VAE\n",
                "from rapidae.models.base import Encoder_MLP, Decoder_MLP\n",
                "from rapidae.pipelines import TrainingPipeline\n",
                "from rapidae.evaluate import plot_reconstructions"
            ]
        },
        {
            "cell_type": "markdown",
            "metadata": {},
            "source": [
                "# Data"
            ]
        },
        {
            "cell_type": "markdown",
            "metadata": {},
            "source": [
                "Download and preprocess the dataset. In this example, the selected dataset is the well-known MNIST composed of handwritten digit images.\n",
                "\n",
                "Train and test data are normalized and flatten (since Dense layers are going to be used)\n",
                "We also need to convert the labels into one-hot encoding."
            ]
        },
        {
            "cell_type": "code",
            "execution_count": 3,
            "metadata": {},
            "outputs": [
                {
                    "name": "stderr",
                    "output_type": "stream",
                    "text": [
                        "2024-01-29 01:01:24 \u001b[32m[INFO]\u001b[0m: Downloading train-images-idx3-ubyte.gz...\u001b[0m\n",
                        "2024-01-29 01:01:25 \u001b[32m[INFO]\u001b[0m: Downloading train-labels-idx1-ubyte.gz...\u001b[0m\n",
                        "2024-01-29 01:01:25 \u001b[32m[INFO]\u001b[0m: Downloading t10k-images-idx3-ubyte.gz...\u001b[0m\n",
                        "2024-01-29 01:01:25 \u001b[32m[INFO]\u001b[0m: Downloading t10k-labels-idx1-ubyte.gz...\u001b[0m\n",
                        "2024-01-29 01:01:25 \u001b[32m[INFO]\u001b[0m: Deleting MNIST data...\u001b[0m\n"
                    ]
                }
            ],
            "source": [
                "# Load MNIST dataset\n",
                "data = load_MNIST()\n",
                "\n",
                "x_train = data[\"x_train\"].reshape(data[\"x_train\"].shape[0], -1) / 255\n",
                "x_test = data[\"x_test\"].reshape(data[\"x_test\"].shape[0], -1) / 255\n",
                "\n",
                "# Obtain number of clasess\n",
                "n_classes = len(set(data[\"y_train\"]))\n",
                "\n",
                "# Convert labels to categorical\n",
                "y_train = utils.to_categorical(data[\"y_train\"], n_classes)\n",
                "y_test = utils.to_categorical(data[\"y_test\"], n_classes)"
            ]
        },
        {
            "cell_type": "markdown",
            "metadata": {},
            "source": [
                "### Model\n",
                "\n",
                "In this example we are using a vanilla MLP variational autoencoder. "
            ]
        },
        {
            "cell_type": "code",
            "execution_count": null,
            "metadata": {},
            "outputs": [],
            "source": [
                "# Model creation\n",
                "model = VAE(input_dim=x_train.shape[1], \n",
                "            latent_dim=2,\n",
                "            encoder=Encoder_MLP, \n",
                "            decoder=Decoder_MLP, \n",
                "            layers_conf=[64])"
            ]
        },
        {
            "cell_type": "markdown",
            "metadata": {},
            "source": [
                "### Training"
            ]
        },
        {
            "cell_type": "markdown",
            "metadata": {},
            "source": [
                "Define the training pipeline. You can fix some hyperparameters related to training (learning rate, batch size, numer of epochs, etc.). You can also pass a list of model callbacks."
            ]
        },
        {
            "cell_type": "code",
            "execution_count": 5,
            "metadata": {},
            "outputs": [
                {
                    "name": "stderr",
                    "output_type": "stream",
                    "text": [
                        "2024-01-29 01:01:25 \u001b[32m[INFO]\u001b[0m: +++ training_pipeline_mnist_mlp_vae +++\u001b[0m\n",
                        "2024-01-29 01:01:25 \u001b[32m[INFO]\u001b[0m: Creating folder in ./output_dir/training_pipeline_mnist_mlp_vae_2024-01-29_01-01-25\u001b[0m\n"
                    ]
                },
                {
                    "name": "stdout",
                    "output_type": "stream",
                    "text": [
                        "Epoch 1/30\n"
                    ]
                },
                {
                    "name": "stderr",
                    "output_type": "stream",
                    "text": [
                        "2024-01-29 01:01:27.217477: I external/local_xla/xla/service/service.cc:168] XLA service 0x7efb500029d0 initialized for platform CUDA (this does not guarantee that XLA will be used). Devices:\n",
                        "2024-01-29 01:01:27.217552: I external/local_xla/xla/service/service.cc:176]   StreamExecutor device (0): NVIDIA GeForce RTX 3060 Ti, Compute Capability 8.6\n",
                        "2024-01-29 01:01:27.250963: I tensorflow/compiler/mlir/tensorflow/utils/dump_mlir_util.cc:269] disabling MLIR crash reproducer, set env var `MLIR_CRASH_REPRODUCER_DIRECTORY` to enable.\n",
                        "2024-01-29 01:01:27.433416: I external/local_xla/xla/stream_executor/cuda/cuda_dnn.cc:454] Loaded cuDNN version 8902\n",
                        "2024-01-29 01:01:28.931086: I external/local_xla/xla/stream_executor/gpu/asm_compiler.cc:326] ptxas warning : Registers are spilled to local memory in function 'triton_gemm_dot_1038', 192 bytes spill stores, 196 bytes spill loads\n",
                        "\n",
                        "WARNING: All log messages before absl::InitializeLog() is called are written to STDERR\n",
                        "I0000 00:00:1706486490.308323   41686 device_compiler.h:186] Compiled cluster using XLA!  This line is logged at most once for the lifetime of the process.\n",
                        "2024-01-29 01:01:32.519981: I external/local_xla/xla/stream_executor/gpu/asm_compiler.cc:326] ptxas warning : Registers are spilled to local memory in function 'triton_gemm_dot_1038', 240 bytes spill stores, 244 bytes spill loads\n",
                        "\n",
                        "2024-01-29 01:01:32.541401: I external/local_xla/xla/stream_executor/gpu/asm_compiler.cc:326] ptxas warning : Registers are spilled to local memory in function 'triton_gemm_dot_1038', 4 bytes spill stores, 4 bytes spill loads\n",
                        "\n",
                        "2024-01-29 01:01:32.599527: I external/local_xla/xla/stream_executor/gpu/asm_compiler.cc:326] ptxas warning : Registers are spilled to local memory in function 'triton_gemm_dot_1038', 116 bytes spill stores, 124 bytes spill loads\n",
                        "\n",
                        "2024-01-29 01:01:32.799795: I external/local_xla/xla/stream_executor/gpu/asm_compiler.cc:326] ptxas warning : Registers are spilled to local memory in function 'triton_gemm_dot_1038', 48 bytes spill stores, 48 bytes spill loads\n",
                        "\n"
                    ]
                },
                {
                    "name": "stdout",
                    "output_type": "stream",
                    "text": [
                        "\n",
                        "Epoch 1: loss improved from inf to 11.45996, saving model to ./output_dir/training_pipeline_mnist_mlp_vae_2024-01-29_01-01-25/model.weights.h5\n",
                        "469/469 - 8s - 17ms/step - kl_loss: 0.9421 - loss: 11.4600 - reconstruction_loss: 10.5179\n",
                        "Epoch 2/30\n",
                        "\n",
                        "Epoch 2: loss improved from 11.45996 to 8.55011, saving model to ./output_dir/training_pipeline_mnist_mlp_vae_2024-01-29_01-01-25/model.weights.h5\n",
                        "469/469 - 1s - 1ms/step - kl_loss: 0.2648 - loss: 8.5501 - reconstruction_loss: 8.2853\n",
                        "Epoch 3/30\n",
                        "\n",
                        "Epoch 3: loss improved from 8.55011 to 8.50634, saving model to ./output_dir/training_pipeline_mnist_mlp_vae_2024-01-29_01-01-25/model.weights.h5\n",
                        "469/469 - 1s - 1ms/step - kl_loss: 0.3510 - loss: 8.5063 - reconstruction_loss: 8.1554\n",
                        "Epoch 4/30\n",
                        "\n",
                        "Epoch 4: loss improved from 8.50634 to 8.47719, saving model to ./output_dir/training_pipeline_mnist_mlp_vae_2024-01-29_01-01-25/model.weights.h5\n",
                        "469/469 - 1s - 2ms/step - kl_loss: 0.4333 - loss: 8.4772 - reconstruction_loss: 8.0439\n",
                        "Epoch 5/30\n",
                        "\n",
                        "Epoch 5: loss improved from 8.47719 to 8.45695, saving model to ./output_dir/training_pipeline_mnist_mlp_vae_2024-01-29_01-01-25/model.weights.h5\n",
                        "469/469 - 1s - 1ms/step - kl_loss: 0.4916 - loss: 8.4569 - reconstruction_loss: 7.9653\n",
                        "Epoch 6/30\n",
                        "\n",
                        "Epoch 6: loss improved from 8.45695 to 8.45165, saving model to ./output_dir/training_pipeline_mnist_mlp_vae_2024-01-29_01-01-25/model.weights.h5\n",
                        "469/469 - 1s - 1ms/step - kl_loss: 0.5234 - loss: 8.4517 - reconstruction_loss: 7.9283\n",
                        "Epoch 7/30\n",
                        "\n",
                        "Epoch 7: loss improved from 8.45165 to 8.44413, saving model to ./output_dir/training_pipeline_mnist_mlp_vae_2024-01-29_01-01-25/model.weights.h5\n",
                        "469/469 - 1s - 2ms/step - kl_loss: 0.5478 - loss: 8.4441 - reconstruction_loss: 7.8964\n",
                        "Epoch 8/30\n",
                        "\n",
                        "Epoch 8: loss improved from 8.44413 to 8.43745, saving model to ./output_dir/training_pipeline_mnist_mlp_vae_2024-01-29_01-01-25/model.weights.h5\n",
                        "469/469 - 1s - 1ms/step - kl_loss: 0.5605 - loss: 8.4375 - reconstruction_loss: 7.8770\n",
                        "Epoch 9/30\n",
                        "\n",
                        "Epoch 9: loss did not improve from 8.43745\n",
                        "469/469 - 1s - 1ms/step - kl_loss: 0.5794 - loss: 8.4392 - reconstruction_loss: 7.8598\n",
                        "Epoch 10/30\n",
                        "\n",
                        "Epoch 10: loss did not improve from 8.43745\n",
                        "469/469 - 1s - 1ms/step - kl_loss: 0.5918 - loss: 8.4392 - reconstruction_loss: 7.8474\n",
                        "Epoch 11/30\n",
                        "\n",
                        "Epoch 11: loss improved from 8.43745 to 8.43068, saving model to ./output_dir/training_pipeline_mnist_mlp_vae_2024-01-29_01-01-25/model.weights.h5\n",
                        "469/469 - 1s - 1ms/step - kl_loss: 0.5952 - loss: 8.4307 - reconstruction_loss: 7.8355\n",
                        "Epoch 12/30\n",
                        "\n",
                        "Epoch 12: loss improved from 8.43068 to 8.42200, saving model to ./output_dir/training_pipeline_mnist_mlp_vae_2024-01-29_01-01-25/model.weights.h5\n",
                        "469/469 - 1s - 1ms/step - kl_loss: 0.6113 - loss: 8.4220 - reconstruction_loss: 7.8107\n",
                        "Epoch 13/30\n",
                        "\n",
                        "Epoch 13: loss did not improve from 8.42200\n",
                        "469/469 - 1s - 1ms/step - kl_loss: 0.6224 - loss: 8.4276 - reconstruction_loss: 7.8052\n",
                        "Epoch 14/30\n",
                        "\n",
                        "Epoch 14: loss did not improve from 8.42200\n",
                        "469/469 - 1s - 1ms/step - kl_loss: 0.6316 - loss: 8.4257 - reconstruction_loss: 7.7941\n",
                        "Epoch 15/30\n",
                        "\n",
                        "Epoch 15: loss improved from 8.42200 to 8.41462, saving model to ./output_dir/training_pipeline_mnist_mlp_vae_2024-01-29_01-01-25/model.weights.h5\n",
                        "469/469 - 1s - 1ms/step - kl_loss: 0.6394 - loss: 8.4146 - reconstruction_loss: 7.7752\n",
                        "Epoch 16/30\n",
                        "\n",
                        "Epoch 16: loss did not improve from 8.41462\n",
                        "469/469 - 1s - 1ms/step - kl_loss: 0.6430 - loss: 8.4204 - reconstruction_loss: 7.7774\n",
                        "Epoch 17/30\n",
                        "\n",
                        "Epoch 17: loss improved from 8.41462 to 8.41050, saving model to ./output_dir/training_pipeline_mnist_mlp_vae_2024-01-29_01-01-25/model.weights.h5\n",
                        "469/469 - 1s - 1ms/step - kl_loss: 0.6470 - loss: 8.4105 - reconstruction_loss: 7.7635\n",
                        "Epoch 18/30\n",
                        "\n",
                        "Epoch 18: loss did not improve from 8.41050\n",
                        "469/469 - 1s - 1ms/step - kl_loss: 0.6608 - loss: 8.4112 - reconstruction_loss: 7.7504\n",
                        "Epoch 19/30\n",
                        "\n",
                        "Epoch 19: loss did not improve from 8.41050\n",
                        "469/469 - 1s - 1ms/step - kl_loss: 0.6600 - loss: 8.4112 - reconstruction_loss: 7.7512\n",
                        "Epoch 20/30\n",
                        "\n",
                        "Epoch 20: loss improved from 8.41050 to 8.41033, saving model to ./output_dir/training_pipeline_mnist_mlp_vae_2024-01-29_01-01-25/model.weights.h5\n",
                        "469/469 - 1s - 1ms/step - kl_loss: 0.6713 - loss: 8.4103 - reconstruction_loss: 7.7390\n",
                        "Epoch 21/30\n",
                        "\n",
                        "Epoch 21: loss improved from 8.41033 to 8.40803, saving model to ./output_dir/training_pipeline_mnist_mlp_vae_2024-01-29_01-01-25/model.weights.h5\n",
                        "469/469 - 1s - 1ms/step - kl_loss: 0.6733 - loss: 8.4080 - reconstruction_loss: 7.7347\n",
                        "Epoch 22/30\n",
                        "\n",
                        "Epoch 22: loss did not improve from 8.40803\n",
                        "469/469 - 1s - 1ms/step - kl_loss: 0.6882 - loss: 8.4082 - reconstruction_loss: 7.7200\n",
                        "Epoch 23/30\n",
                        "\n",
                        "Epoch 23: loss improved from 8.40803 to 8.40617, saving model to ./output_dir/training_pipeline_mnist_mlp_vae_2024-01-29_01-01-25/model.weights.h5\n",
                        "469/469 - 1s - 1ms/step - kl_loss: 0.6835 - loss: 8.4062 - reconstruction_loss: 7.7226\n",
                        "Epoch 24/30\n",
                        "\n",
                        "Epoch 24: loss improved from 8.40617 to 8.39755, saving model to ./output_dir/training_pipeline_mnist_mlp_vae_2024-01-29_01-01-25/model.weights.h5\n",
                        "469/469 - 1s - 1ms/step - kl_loss: 0.6891 - loss: 8.3976 - reconstruction_loss: 7.7084\n",
                        "Epoch 25/30\n",
                        "\n",
                        "Epoch 25: loss did not improve from 8.39755\n",
                        "469/469 - 1s - 1ms/step - kl_loss: 0.6919 - loss: 8.4064 - reconstruction_loss: 7.7144\n",
                        "Epoch 26/30\n",
                        "\n",
                        "Epoch 26: loss did not improve from 8.39755\n",
                        "469/469 - 1s - 1ms/step - kl_loss: 0.6956 - loss: 8.4043 - reconstruction_loss: 7.7088\n",
                        "Epoch 27/30\n",
                        "\n",
                        "Epoch 27: loss did not improve from 8.39755\n",
                        "469/469 - 1s - 1ms/step - kl_loss: 0.6962 - loss: 8.4013 - reconstruction_loss: 7.7050\n",
                        "Epoch 28/30\n",
                        "\n",
                        "Epoch 28: loss did not improve from 8.39755\n",
                        "469/469 - 1s - 1ms/step - kl_loss: 0.6989 - loss: 8.4037 - reconstruction_loss: 7.7047\n",
                        "Epoch 29/30\n",
                        "\n",
                        "Epoch 29: loss did not improve from 8.39755\n",
                        "469/469 - 1s - 1ms/step - kl_loss: 0.7028 - loss: 8.3976 - reconstruction_loss: 7.6948\n",
                        "Epoch 30/30\n",
                        "\n",
                        "Epoch 30: loss improved from 8.39755 to 8.39727, saving model to ./output_dir/training_pipeline_mnist_mlp_vae_2024-01-29_01-01-25/model.weights.h5\n",
                        "469/469 - 1s - 1ms/step - kl_loss: 0.7020 - loss: 8.3973 - reconstruction_loss: 7.6952\n"
                    ]
                },
                {
                    "name": "stderr",
                    "output_type": "stream",
                    "text": [
                        "2024-01-29 01:01:53 \u001b[32m[INFO]\u001b[0m: Best model restored\u001b[0m\n"
                    ]
                }
            ],
            "source": [
                "pipe = TrainingPipeline(name='training_pipeline_mnist_mlp_vae', \n",
                "                        learning_rate=0.001,\n",
                "                        model=model, \n",
                "                        num_epochs=30, \n",
                "                        batch_size=128)\n",
                "\n",
                "trained_model = pipe(x=x_train, y=x_train)"
            ]
        },
        {
            "cell_type": "markdown",
            "metadata": {},
            "source": [
                "### Evaluation"
            ]
        },
        {
            "cell_type": "code",
            "execution_count": 6,
            "metadata": {},
            "outputs": [
                {
                    "name": "stdout",
                    "output_type": "stream",
                    "text": [
                        "\u001b[1m313/313\u001b[0m \u001b[32m━━━━━━━━━━━━━━━━━━━━\u001b[0m\u001b[37m\u001b[0m \u001b[1m2s\u001b[0m 4ms/step\n"
                    ]
                },
                {
                    "data": {
                        "image/png": "[encoded data removed]",
                        "text/plain": [
                            "<Figure size 2000x400 with 20 Axes>"
                        ]
                    },
                    "metadata": {},
                    "output_type": "display_data"
                }
            ],
            "source": [
                "outputs = trained_model.predict(x_test)\n",
                "\n",
                "plot_reconstructions(x_test, outputs['recon'])"
            ]
        }
    ],
    "metadata": {
        "kernelspec": {
            "display_name": "keras_core",
            "language": "python",
            "name": "python3"
        },
        "language_info": {
            "codemirror_mode": {
                "name": "ipython",
                "version": 3
            },
            "file_extension": ".py",
            "mimetype": "text/x-python",
            "name": "python",
            "nbconvert_exporter": "python",
            "pygments_lexer": "ipython3",
            "version": "3.10.13"
        }
    },
    "nbformat": 4,
    "nbformat_minor": 2
}
