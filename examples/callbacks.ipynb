{
 "cells": [
  {
   "cell_type": "code",
   "execution_count": 14,
   "metadata": {},
   "outputs": [],
   "source": [
    "import os\n",
    "import sys\n",
    "\n",
    "notebook_dir = os.path.abspath('') # get the current notebook directory\n",
    "sys.path.append(os.path.join(notebook_dir, '..', 'src')) # add src folder to path to import modules\n",
    "                                                        # '..', 'src' if you are in the 'examples' folder"
   ]
  },
  {
   "cell_type": "code",
   "execution_count": 15,
   "metadata": {},
   "outputs": [],
   "source": [
    "%load_ext autoreload\n",
    "%autoreload 2"
   ]
  },
  {
   "cell_type": "markdown",
   "metadata": {},
   "source": [
    "## Training Time"
   ]
  },
  {
   "cell_type": "markdown",
   "metadata": {},
   "source": [
    "It simply monitors the model's training time."
   ]
  },
  {
   "cell_type": "code",
   "execution_count": 3,
   "metadata": {},
   "outputs": [],
   "source": [
    "from rapidae.data import load_dataset\n",
    "from rapidae.models import AE\n",
    "from rapidae.models.callbacks import TrainingTime\n",
    "from rapidae.pipelines import TrainingPipeline"
   ]
  },
  {
   "cell_type": "code",
   "execution_count": 4,
   "metadata": {},
   "outputs": [
    {
     "name": "stderr",
     "output_type": "stream",
     "text": [
      "2024-04-05 12:11:51 \u001b[32m[INFO]\u001b[0m: Downloading train-images-idx3-ubyte.gz...\u001b[0m\n",
      "2024-04-05 12:11:52 \u001b[32m[INFO]\u001b[0m: Downloading train-labels-idx1-ubyte.gz...\u001b[0m\n",
      "2024-04-05 12:11:52 \u001b[32m[INFO]\u001b[0m: Downloading t10k-images-idx3-ubyte.gz...\u001b[0m\n",
      "2024-04-05 12:11:52 \u001b[32m[INFO]\u001b[0m: Downloading t10k-labels-idx1-ubyte.gz...\u001b[0m\n",
      "2024-04-05 12:11:52 \u001b[32m[INFO]\u001b[0m: Deleting MNIST data...\u001b[0m\n"
     ]
    }
   ],
   "source": [
    "data = load_dataset('MNIST')\n",
    "\n",
    "# Normalize data and flatten images\n",
    "x_train = data['x_train'].reshape(data['x_train'].shape[0], -1).astype(\"float32\") / 255\n",
    "x_test = data['x_test'].reshape(data['x_test'].shape[0], -1).astype(\"float32\") / 255\n",
    "\n",
    "input_dim = x_train.shape[1]"
   ]
  },
  {
   "cell_type": "code",
   "execution_count": 5,
   "metadata": {},
   "outputs": [
    {
     "name": "stderr",
     "output_type": "stream",
     "text": [
      "2024-04-05 12:11:53 \u001b[32m[INFO]\u001b[0m: Trying to set encoder and decoder from child class...\u001b[0m\n",
      "2024-04-05 12:11:53 \u001b[33m[WARNING]\u001b[0m: No encoder found in ae, using default encoder with layers_conf=[512]...\u001b[0m\n",
      "2024-04-05 12:11:53 \u001b[33m[WARNING]\u001b[0m: No decoder found in ae, using default decoder with layers_conf=[512]...\u001b[0m\n"
     ]
    }
   ],
   "source": [
    "model = AE(input_dim=input_dim)"
   ]
  },
  {
   "cell_type": "code",
   "execution_count": 6,
   "metadata": {},
   "outputs": [
    {
     "name": "stderr",
     "output_type": "stream",
     "text": [
      "2024-04-05 12:11:54 \u001b[32m[INFO]\u001b[0m: +++ vanilla_autoencoder +++\u001b[0m\n",
      "2024-04-05 12:11:54 \u001b[32m[INFO]\u001b[0m: Creating folder in ./output_dir/vanilla_autoencoder_2024-04-05_12-11-54\u001b[0m\n",
      "2024-04-05 12:11:54 \u001b[32m[INFO]\u001b[0m: \n",
      "TRAINING STARTED\n",
      "\tBackend: tensorflow\n",
      "\tEager mode: False\n",
      "\tValidation data available: False\n",
      "\tCallbacks set: ['TrainingTime', 'EarlyStopping', 'ModelCheckpoint'] \n",
      "\u001b[0m\n"
     ]
    },
    {
     "name": "stdout",
     "output_type": "stream",
     "text": [
      "Epoch 1/20\n",
      "\n",
      "Epoch 1: loss improved from inf to 0.08596, saving model to ./output_dir/vanilla_autoencoder_2024-04-05_12-11-54/model.weights.h5\n",
      "469/469 - 4s - 8ms/step - loss: 0.0860\n",
      "Epoch 2/20\n",
      "\n",
      "Epoch 2: loss improved from 0.08596 to 0.06738, saving model to ./output_dir/vanilla_autoencoder_2024-04-05_12-11-54/model.weights.h5\n",
      "469/469 - 3s - 5ms/step - loss: 0.0674\n",
      "Epoch 3/20\n",
      "\n",
      "Epoch 3: loss improved from 0.06738 to 0.06732, saving model to ./output_dir/vanilla_autoencoder_2024-04-05_12-11-54/model.weights.h5\n",
      "469/469 - 2s - 5ms/step - loss: 0.0673\n",
      "Epoch 4/20\n",
      "\n",
      "Epoch 4: loss improved from 0.06732 to 0.06731, saving model to ./output_dir/vanilla_autoencoder_2024-04-05_12-11-54/model.weights.h5\n",
      "469/469 - 2s - 5ms/step - loss: 0.0673\n",
      "Epoch 5/20\n",
      "\n",
      "Epoch 5: loss improved from 0.06731 to 0.06730, saving model to ./output_dir/vanilla_autoencoder_2024-04-05_12-11-54/model.weights.h5\n",
      "469/469 - 3s - 5ms/step - loss: 0.0673\n",
      "Epoch 6/20\n",
      "\n",
      "Epoch 6: loss improved from 0.06730 to 0.06730, saving model to ./output_dir/vanilla_autoencoder_2024-04-05_12-11-54/model.weights.h5\n",
      "469/469 - 3s - 5ms/step - loss: 0.0673\n",
      "Epoch 7/20\n",
      "\n",
      "Epoch 7: loss improved from 0.06730 to 0.06730, saving model to ./output_dir/vanilla_autoencoder_2024-04-05_12-11-54/model.weights.h5\n",
      "469/469 - 3s - 5ms/step - loss: 0.0673\n",
      "Epoch 8/20\n",
      "\n",
      "Epoch 8: loss improved from 0.06730 to 0.06730, saving model to ./output_dir/vanilla_autoencoder_2024-04-05_12-11-54/model.weights.h5\n",
      "469/469 - 2s - 5ms/step - loss: 0.0673\n",
      "Epoch 9/20\n",
      "\n",
      "Epoch 9: loss did not improve from 0.06730\n",
      "469/469 - 2s - 5ms/step - loss: 0.0673\n",
      "Epoch 10/20\n",
      "\n",
      "Epoch 10: loss did not improve from 0.06730\n",
      "469/469 - 3s - 5ms/step - loss: 0.0673\n",
      "Epoch 11/20\n",
      "\n",
      "Epoch 11: loss improved from 0.06730 to 0.06730, saving model to ./output_dir/vanilla_autoencoder_2024-04-05_12-11-54/model.weights.h5\n",
      "469/469 - 2s - 5ms/step - loss: 0.0673\n",
      "Epoch 12/20\n",
      "\n",
      "Epoch 12: loss improved from 0.06730 to 0.06729, saving model to ./output_dir/vanilla_autoencoder_2024-04-05_12-11-54/model.weights.h5\n",
      "469/469 - 2s - 5ms/step - loss: 0.0673\n",
      "Epoch 13/20\n",
      "\n",
      "Epoch 13: loss improved from 0.06729 to 0.06729, saving model to ./output_dir/vanilla_autoencoder_2024-04-05_12-11-54/model.weights.h5\n",
      "469/469 - 2s - 5ms/step - loss: 0.0673\n",
      "Epoch 14/20\n",
      "\n",
      "Epoch 14: loss did not improve from 0.06729\n",
      "469/469 - 2s - 5ms/step - loss: 0.0673\n",
      "Epoch 15/20\n",
      "\n",
      "Epoch 15: loss did not improve from 0.06729\n",
      "469/469 - 2s - 5ms/step - loss: 0.0673\n",
      "Epoch 16/20\n",
      "\n",
      "Epoch 16: loss did not improve from 0.06729\n",
      "469/469 - 2s - 5ms/step - loss: 0.0673\n",
      "Epoch 17/20\n",
      "\n",
      "Epoch 17: loss improved from 0.06729 to 0.06729, saving model to ./output_dir/vanilla_autoencoder_2024-04-05_12-11-54/model.weights.h5\n",
      "469/469 - 3s - 5ms/step - loss: 0.0673\n",
      "Epoch 18/20\n",
      "\n",
      "Epoch 18: loss did not improve from 0.06729\n",
      "469/469 - 2s - 5ms/step - loss: 0.0673\n",
      "Epoch 19/20\n",
      "\n",
      "Epoch 19: loss improved from 0.06729 to 0.06729, saving model to ./output_dir/vanilla_autoencoder_2024-04-05_12-11-54/model.weights.h5\n",
      "469/469 - 2s - 5ms/step - loss: 0.0673\n",
      "Epoch 20/20\n",
      "\n",
      "Epoch 20: loss improved from 0.06729 to 0.06728, saving model to ./output_dir/vanilla_autoencoder_2024-04-05_12-11-54/model.weights.h5\n",
      "469/469 - 2s - 5ms/step - loss: 0.0673\n"
     ]
    },
    {
     "name": "stderr",
     "output_type": "stream",
     "text": [
      "2024-04-05 12:12:45 \u001b[32m[INFO]\u001b[0m: Training time: 00:00:50\u001b[0m\n",
      "2024-04-05 12:12:45 \u001b[32m[INFO]\u001b[0m: Restoring best model\u001b[0m\n",
      "2024-04-05 12:12:45 \u001b[32m[INFO]\u001b[0m: Best model restored\u001b[0m\n"
     ]
    }
   ],
   "source": [
    "pipe = TrainingPipeline(name='vanilla_autoencoder', learning_rate=0.001,\n",
    "                        model=model, num_epochs=20, batch_size=128,\n",
    "                        callbacks=[TrainingTime()])\n",
    "\n",
    "trained_model = pipe(x=x_train)"
   ]
  },
  {
   "cell_type": "markdown",
   "metadata": {},
   "source": [
    "## Save visualizations"
   ]
  },
  {
   "cell_type": "markdown",
   "metadata": {},
   "source": [
    "Sometimes you may want to save the latent space or reconstructions of your model when training, so this callback gets you covered."
   ]
  },
  {
   "cell_type": "code",
   "execution_count": 16,
   "metadata": {},
   "outputs": [],
   "source": [
    "from rapidae.data import load_dataset\n",
    "from rapidae.models import AE\n",
    "from rapidae.models.callbacks import save_visualizations\n",
    "from rapidae.pipelines import TrainingPipeline"
   ]
  },
  {
   "cell_type": "code",
   "execution_count": 17,
   "metadata": {},
   "outputs": [
    {
     "name": "stderr",
     "output_type": "stream",
     "text": [
      "2024-04-05 12:29:31 \u001b[32m[INFO]\u001b[0m: Downloading train-images-idx3-ubyte.gz...\u001b[0m\n",
      "2024-04-05 12:29:31 \u001b[32m[INFO]\u001b[0m: Downloading train-labels-idx1-ubyte.gz...\u001b[0m\n",
      "2024-04-05 12:29:31 \u001b[32m[INFO]\u001b[0m: Downloading t10k-images-idx3-ubyte.gz...\u001b[0m\n",
      "2024-04-05 12:29:31 \u001b[32m[INFO]\u001b[0m: Downloading t10k-labels-idx1-ubyte.gz...\u001b[0m\n",
      "2024-04-05 12:29:31 \u001b[32m[INFO]\u001b[0m: Deleting MNIST data...\u001b[0m\n"
     ]
    }
   ],
   "source": [
    "data = load_dataset('MNIST')\n",
    "\n",
    "# Normalize data and flatten images\n",
    "x_train = data['x_train'].reshape(data['x_train'].shape[0], -1).astype(\"float32\") / 255\n",
    "x_test = data['x_test'].reshape(data['x_test'].shape[0], -1).astype(\"float32\") / 255\n",
    "y_train = data['y_train']\n",
    "\n",
    "input_dim = x_train.shape[1]"
   ]
  },
  {
   "cell_type": "code",
   "execution_count": 18,
   "metadata": {},
   "outputs": [
    {
     "name": "stderr",
     "output_type": "stream",
     "text": [
      "2024-04-05 12:29:33 \u001b[32m[INFO]\u001b[0m: Trying to set encoder and decoder from child class...\u001b[0m\n",
      "2024-04-05 12:29:33 \u001b[33m[WARNING]\u001b[0m: No encoder found in ae, using default encoder with layers_conf=[512]...\u001b[0m\n",
      "2024-04-05 12:29:33 \u001b[33m[WARNING]\u001b[0m: No decoder found in ae, using default decoder with layers_conf=[512]...\u001b[0m\n"
     ]
    }
   ],
   "source": [
    "model = AE(input_dim=input_dim)"
   ]
  },
  {
   "cell_type": "code",
   "execution_count": 24,
   "metadata": {},
   "outputs": [
    {
     "name": "stderr",
     "output_type": "stream",
     "text": [
      "2024-04-05 12:36:11 \u001b[32m[INFO]\u001b[0m: +++ vanilla_autoencoder +++\u001b[0m\n",
      "2024-04-05 12:36:11 \u001b[32m[INFO]\u001b[0m: Creating folder in ./output_dir/vanilla_autoencoder_2024-04-05_12-36-11\u001b[0m\n",
      "2024-04-05 12:36:11 \u001b[32m[INFO]\u001b[0m: Setting path to output_dir\u001b[0m\n"
     ]
    },
    {
     "name": "stderr",
     "output_type": "stream",
     "text": [
      "2024-04-05 12:36:11 \u001b[32m[INFO]\u001b[0m: \n",
      "TRAINING STARTED\n",
      "\tBackend: tensorflow\n",
      "\tEager mode: False\n",
      "\tValidation data available: False\n",
      "\tCallbacks set: ['save_visualizations', 'EarlyStopping', 'ModelCheckpoint'] \n",
      "\u001b[0m\n"
     ]
    },
    {
     "name": "stdout",
     "output_type": "stream",
     "text": [
      "Epoch 1/20\n",
      "\u001b[1m1875/1875\u001b[0m \u001b[32m━━━━━━━━━━━━━━━━━━━━\u001b[0m\u001b[37m\u001b[0m \u001b[1m4s\u001b[0m 2ms/step\n"
     ]
    },
    {
     "name": "stderr",
     "output_type": "stream",
     "text": [
      "2024-04-05 12:36:21 \u001b[32m[INFO]\u001b[0m: Saving latent space plot...\u001b[0m\n",
      "2024-04-05 12:36:24 \u001b[32m[INFO]\u001b[0m: Saving reconstructions plot...\u001b[0m\n"
     ]
    },
    {
     "name": "stdout",
     "output_type": "stream",
     "text": [
      "\n",
      "Epoch 1: loss improved from inf to 0.04586, saving model to ./output_dir/vanilla_autoencoder_2024-04-05_12-36-11/model.weights.h5\n",
      "469/469 - 13s - 28ms/step - loss: 0.0459\n",
      "Epoch 2/20\n",
      "\u001b[1m1875/1875\u001b[0m \u001b[32m━━━━━━━━━━━━━━━━━━━━\u001b[0m\u001b[37m\u001b[0m \u001b[1m4s\u001b[0m 2ms/step\n"
     ]
    },
    {
     "name": "stderr",
     "output_type": "stream",
     "text": [
      "2024-04-05 12:36:33 \u001b[32m[INFO]\u001b[0m: Saving latent space plot...\u001b[0m\n",
      "2024-04-05 12:36:36 \u001b[32m[INFO]\u001b[0m: Saving reconstructions plot...\u001b[0m\n"
     ]
    },
    {
     "name": "stdout",
     "output_type": "stream",
     "text": [
      "\n",
      "Epoch 2: loss improved from 0.04586 to 0.04512, saving model to ./output_dir/vanilla_autoencoder_2024-04-05_12-36-11/model.weights.h5\n",
      "469/469 - 12s - 25ms/step - loss: 0.0451\n",
      "Epoch 3/20\n",
      "\u001b[1m1875/1875\u001b[0m \u001b[32m━━━━━━━━━━━━━━━━━━━━\u001b[0m\u001b[37m\u001b[0m \u001b[1m4s\u001b[0m 2ms/step\n"
     ]
    },
    {
     "name": "stderr",
     "output_type": "stream",
     "text": [
      "2024-04-05 12:36:45 \u001b[32m[INFO]\u001b[0m: Saving latent space plot...\u001b[0m\n",
      "2024-04-05 12:36:48 \u001b[32m[INFO]\u001b[0m: Saving reconstructions plot...\u001b[0m\n"
     ]
    },
    {
     "name": "stdout",
     "output_type": "stream",
     "text": [
      "\n",
      "Epoch 3: loss improved from 0.04512 to 0.04445, saving model to ./output_dir/vanilla_autoencoder_2024-04-05_12-36-11/model.weights.h5\n",
      "469/469 - 12s - 25ms/step - loss: 0.0444\n",
      "Epoch 4/20\n",
      "\u001b[1m1875/1875\u001b[0m \u001b[32m━━━━━━━━━━━━━━━━━━━━\u001b[0m\u001b[37m\u001b[0m \u001b[1m4s\u001b[0m 2ms/step\n"
     ]
    },
    {
     "name": "stderr",
     "output_type": "stream",
     "text": [
      "2024-04-05 12:36:57 \u001b[32m[INFO]\u001b[0m: Saving latent space plot...\u001b[0m\n",
      "2024-04-05 12:37:00 \u001b[32m[INFO]\u001b[0m: Saving reconstructions plot...\u001b[0m\n"
     ]
    },
    {
     "name": "stdout",
     "output_type": "stream",
     "text": [
      "\n",
      "Epoch 4: loss improved from 0.04445 to 0.04390, saving model to ./output_dir/vanilla_autoencoder_2024-04-05_12-36-11/model.weights.h5\n",
      "469/469 - 13s - 27ms/step - loss: 0.0439\n",
      "Epoch 5/20\n",
      "\u001b[1m1875/1875\u001b[0m \u001b[32m━━━━━━━━━━━━━━━━━━━━\u001b[0m\u001b[37m\u001b[0m \u001b[1m4s\u001b[0m 2ms/step\n"
     ]
    },
    {
     "name": "stderr",
     "output_type": "stream",
     "text": [
      "2024-04-05 12:37:09 \u001b[32m[INFO]\u001b[0m: Saving latent space plot...\u001b[0m\n",
      "2024-04-05 12:37:12 \u001b[32m[INFO]\u001b[0m: Saving reconstructions plot...\u001b[0m\n"
     ]
    },
    {
     "name": "stdout",
     "output_type": "stream",
     "text": [
      "\n",
      "Epoch 5: loss improved from 0.04390 to 0.04342, saving model to ./output_dir/vanilla_autoencoder_2024-04-05_12-36-11/model.weights.h5\n",
      "469/469 - 12s - 25ms/step - loss: 0.0434\n",
      "Epoch 6/20\n",
      "\u001b[1m1875/1875\u001b[0m \u001b[32m━━━━━━━━━━━━━━━━━━━━\u001b[0m\u001b[37m\u001b[0m \u001b[1m4s\u001b[0m 2ms/step\n"
     ]
    },
    {
     "name": "stderr",
     "output_type": "stream",
     "text": [
      "2024-04-05 12:37:21 \u001b[32m[INFO]\u001b[0m: Saving latent space plot...\u001b[0m\n",
      "2024-04-05 12:37:24 \u001b[32m[INFO]\u001b[0m: Saving reconstructions plot...\u001b[0m\n"
     ]
    },
    {
     "name": "stdout",
     "output_type": "stream",
     "text": [
      "\n",
      "Epoch 6: loss improved from 0.04342 to 0.04305, saving model to ./output_dir/vanilla_autoencoder_2024-04-05_12-36-11/model.weights.h5\n",
      "469/469 - 12s - 25ms/step - loss: 0.0431\n",
      "Epoch 7/20\n",
      "\u001b[1m1875/1875\u001b[0m \u001b[32m━━━━━━━━━━━━━━━━━━━━\u001b[0m\u001b[37m\u001b[0m \u001b[1m4s\u001b[0m 2ms/step\n"
     ]
    },
    {
     "name": "stderr",
     "output_type": "stream",
     "text": [
      "2024-04-05 12:37:32 \u001b[32m[INFO]\u001b[0m: Saving latent space plot...\u001b[0m\n",
      "2024-04-05 12:37:36 \u001b[32m[INFO]\u001b[0m: Saving reconstructions plot...\u001b[0m\n"
     ]
    },
    {
     "name": "stdout",
     "output_type": "stream",
     "text": [
      "\n",
      "Epoch 7: loss improved from 0.04305 to 0.04271, saving model to ./output_dir/vanilla_autoencoder_2024-04-05_12-36-11/model.weights.h5\n",
      "469/469 - 12s - 25ms/step - loss: 0.0427\n",
      "Epoch 8/20\n",
      "\u001b[1m1875/1875\u001b[0m \u001b[32m━━━━━━━━━━━━━━━━━━━━\u001b[0m\u001b[37m\u001b[0m \u001b[1m4s\u001b[0m 2ms/step\n"
     ]
    },
    {
     "name": "stderr",
     "output_type": "stream",
     "text": [
      "2024-04-05 12:37:44 \u001b[32m[INFO]\u001b[0m: Saving latent space plot...\u001b[0m\n",
      "2024-04-05 12:37:47 \u001b[32m[INFO]\u001b[0m: Saving reconstructions plot...\u001b[0m\n"
     ]
    },
    {
     "name": "stdout",
     "output_type": "stream",
     "text": [
      "\n",
      "Epoch 8: loss improved from 0.04271 to 0.04242, saving model to ./output_dir/vanilla_autoencoder_2024-04-05_12-36-11/model.weights.h5\n",
      "469/469 - 12s - 25ms/step - loss: 0.0424\n",
      "Epoch 9/20\n",
      "\u001b[1m1875/1875\u001b[0m \u001b[32m━━━━━━━━━━━━━━━━━━━━\u001b[0m\u001b[37m\u001b[0m \u001b[1m4s\u001b[0m 2ms/step\n"
     ]
    },
    {
     "name": "stderr",
     "output_type": "stream",
     "text": [
      "2024-04-05 12:37:56 \u001b[32m[INFO]\u001b[0m: Saving latent space plot...\u001b[0m\n",
      "2024-04-05 12:38:00 \u001b[32m[INFO]\u001b[0m: Saving reconstructions plot...\u001b[0m\n"
     ]
    },
    {
     "name": "stdout",
     "output_type": "stream",
     "text": [
      "\n",
      "Epoch 9: loss improved from 0.04242 to 0.04215, saving model to ./output_dir/vanilla_autoencoder_2024-04-05_12-36-11/model.weights.h5\n",
      "469/469 - 12s - 27ms/step - loss: 0.0421\n",
      "Epoch 10/20\n",
      "\u001b[1m1875/1875\u001b[0m \u001b[32m━━━━━━━━━━━━━━━━━━━━\u001b[0m\u001b[37m\u001b[0m \u001b[1m4s\u001b[0m 2ms/step\n"
     ]
    },
    {
     "name": "stderr",
     "output_type": "stream",
     "text": [
      "2024-04-05 12:38:09 \u001b[32m[INFO]\u001b[0m: Saving latent space plot...\u001b[0m\n",
      "2024-04-05 12:38:12 \u001b[32m[INFO]\u001b[0m: Saving reconstructions plot...\u001b[0m\n"
     ]
    },
    {
     "name": "stdout",
     "output_type": "stream",
     "text": [
      "\n",
      "Epoch 10: loss improved from 0.04215 to 0.04189, saving model to ./output_dir/vanilla_autoencoder_2024-04-05_12-36-11/model.weights.h5\n",
      "469/469 - 12s - 25ms/step - loss: 0.0419\n",
      "Epoch 11/20\n",
      "\u001b[1m1875/1875\u001b[0m \u001b[32m━━━━━━━━━━━━━━━━━━━━\u001b[0m\u001b[37m\u001b[0m \u001b[1m4s\u001b[0m 2ms/step\n"
     ]
    },
    {
     "name": "stderr",
     "output_type": "stream",
     "text": [
      "2024-04-05 12:38:20 \u001b[32m[INFO]\u001b[0m: Saving latent space plot...\u001b[0m\n",
      "2024-04-05 12:38:23 \u001b[32m[INFO]\u001b[0m: Saving reconstructions plot...\u001b[0m\n"
     ]
    },
    {
     "name": "stdout",
     "output_type": "stream",
     "text": [
      "\n",
      "Epoch 11: loss improved from 0.04189 to 0.04166, saving model to ./output_dir/vanilla_autoencoder_2024-04-05_12-36-11/model.weights.h5\n",
      "469/469 - 12s - 25ms/step - loss: 0.0417\n",
      "Epoch 12/20\n",
      "\u001b[1m1875/1875\u001b[0m \u001b[32m━━━━━━━━━━━━━━━━━━━━\u001b[0m\u001b[37m\u001b[0m \u001b[1m4s\u001b[0m 2ms/step\n"
     ]
    },
    {
     "name": "stderr",
     "output_type": "stream",
     "text": [
      "2024-04-05 12:38:33 \u001b[32m[INFO]\u001b[0m: Saving latent space plot...\u001b[0m\n",
      "2024-04-05 12:38:36 \u001b[32m[INFO]\u001b[0m: Saving reconstructions plot...\u001b[0m\n"
     ]
    },
    {
     "name": "stdout",
     "output_type": "stream",
     "text": [
      "\n",
      "Epoch 12: loss improved from 0.04166 to 0.04145, saving model to ./output_dir/vanilla_autoencoder_2024-04-05_12-36-11/model.weights.h5\n",
      "469/469 - 12s - 26ms/step - loss: 0.0414\n",
      "Epoch 13/20\n",
      "\u001b[1m1875/1875\u001b[0m \u001b[32m━━━━━━━━━━━━━━━━━━━━\u001b[0m\u001b[37m\u001b[0m \u001b[1m4s\u001b[0m 2ms/step\n"
     ]
    },
    {
     "name": "stderr",
     "output_type": "stream",
     "text": [
      "2024-04-05 12:38:44 \u001b[32m[INFO]\u001b[0m: Saving latent space plot...\u001b[0m\n",
      "2024-04-05 12:38:47 \u001b[32m[INFO]\u001b[0m: Saving reconstructions plot...\u001b[0m\n"
     ]
    },
    {
     "name": "stdout",
     "output_type": "stream",
     "text": [
      "\n",
      "Epoch 13: loss improved from 0.04145 to 0.04122, saving model to ./output_dir/vanilla_autoencoder_2024-04-05_12-36-11/model.weights.h5\n",
      "469/469 - 12s - 25ms/step - loss: 0.0412\n",
      "Epoch 14/20\n",
      "\u001b[1m1875/1875\u001b[0m \u001b[32m━━━━━━━━━━━━━━━━━━━━\u001b[0m\u001b[37m\u001b[0m \u001b[1m4s\u001b[0m 2ms/step\n"
     ]
    },
    {
     "name": "stderr",
     "output_type": "stream",
     "text": [
      "2024-04-05 12:38:56 \u001b[32m[INFO]\u001b[0m: Saving latent space plot...\u001b[0m\n",
      "2024-04-05 12:38:59 \u001b[32m[INFO]\u001b[0m: Saving reconstructions plot...\u001b[0m\n"
     ]
    },
    {
     "name": "stdout",
     "output_type": "stream",
     "text": [
      "\n",
      "Epoch 14: loss improved from 0.04122 to 0.04102, saving model to ./output_dir/vanilla_autoencoder_2024-04-05_12-36-11/model.weights.h5\n",
      "469/469 - 12s - 25ms/step - loss: 0.0410\n",
      "Epoch 15/20\n",
      "\u001b[1m1875/1875\u001b[0m \u001b[32m━━━━━━━━━━━━━━━━━━━━\u001b[0m\u001b[37m\u001b[0m \u001b[1m4s\u001b[0m 2ms/step\n"
     ]
    },
    {
     "name": "stderr",
     "output_type": "stream",
     "text": [
      "2024-04-05 12:39:08 \u001b[32m[INFO]\u001b[0m: Saving latent space plot...\u001b[0m\n",
      "2024-04-05 12:39:11 \u001b[32m[INFO]\u001b[0m: Saving reconstructions plot...\u001b[0m\n"
     ]
    },
    {
     "name": "stdout",
     "output_type": "stream",
     "text": [
      "\n",
      "Epoch 15: loss improved from 0.04102 to 0.04084, saving model to ./output_dir/vanilla_autoencoder_2024-04-05_12-36-11/model.weights.h5\n",
      "469/469 - 12s - 25ms/step - loss: 0.0408\n",
      "Epoch 16/20\n",
      "\u001b[1m1875/1875\u001b[0m \u001b[32m━━━━━━━━━━━━━━━━━━━━\u001b[0m\u001b[37m\u001b[0m \u001b[1m4s\u001b[0m 2ms/step\n"
     ]
    },
    {
     "name": "stderr",
     "output_type": "stream",
     "text": [
      "2024-04-05 12:39:20 \u001b[32m[INFO]\u001b[0m: Saving latent space plot...\u001b[0m\n",
      "2024-04-05 12:39:23 \u001b[32m[INFO]\u001b[0m: Saving reconstructions plot...\u001b[0m\n"
     ]
    },
    {
     "name": "stdout",
     "output_type": "stream",
     "text": [
      "\n",
      "Epoch 16: loss improved from 0.04084 to 0.04067, saving model to ./output_dir/vanilla_autoencoder_2024-04-05_12-36-11/model.weights.h5\n",
      "469/469 - 12s - 26ms/step - loss: 0.0407\n",
      "Epoch 17/20\n",
      "\u001b[1m1875/1875\u001b[0m \u001b[32m━━━━━━━━━━━━━━━━━━━━\u001b[0m\u001b[37m\u001b[0m \u001b[1m4s\u001b[0m 2ms/step\n"
     ]
    },
    {
     "name": "stderr",
     "output_type": "stream",
     "text": [
      "2024-04-05 12:39:32 \u001b[32m[INFO]\u001b[0m: Saving latent space plot...\u001b[0m\n",
      "2024-04-05 12:39:35 \u001b[32m[INFO]\u001b[0m: Saving reconstructions plot...\u001b[0m\n"
     ]
    },
    {
     "name": "stdout",
     "output_type": "stream",
     "text": [
      "\n",
      "Epoch 17: loss improved from 0.04067 to 0.04052, saving model to ./output_dir/vanilla_autoencoder_2024-04-05_12-36-11/model.weights.h5\n",
      "469/469 - 12s - 25ms/step - loss: 0.0405\n",
      "Epoch 18/20\n",
      "\u001b[1m1875/1875\u001b[0m \u001b[32m━━━━━━━━━━━━━━━━━━━━\u001b[0m\u001b[37m\u001b[0m \u001b[1m4s\u001b[0m 2ms/step\n"
     ]
    },
    {
     "name": "stderr",
     "output_type": "stream",
     "text": [
      "2024-04-05 12:39:44 \u001b[32m[INFO]\u001b[0m: Saving latent space plot...\u001b[0m\n",
      "2024-04-05 12:39:47 \u001b[32m[INFO]\u001b[0m: Saving reconstructions plot...\u001b[0m\n"
     ]
    },
    {
     "name": "stdout",
     "output_type": "stream",
     "text": [
      "\n",
      "Epoch 18: loss improved from 0.04052 to 0.04037, saving model to ./output_dir/vanilla_autoencoder_2024-04-05_12-36-11/model.weights.h5\n",
      "469/469 - 12s - 25ms/step - loss: 0.0404\n",
      "Epoch 19/20\n",
      "\u001b[1m1875/1875\u001b[0m \u001b[32m━━━━━━━━━━━━━━━━━━━━\u001b[0m\u001b[37m\u001b[0m \u001b[1m4s\u001b[0m 2ms/step\n"
     ]
    },
    {
     "name": "stderr",
     "output_type": "stream",
     "text": [
      "2024-04-05 12:39:56 \u001b[32m[INFO]\u001b[0m: Saving latent space plot...\u001b[0m\n",
      "2024-04-05 12:39:59 \u001b[32m[INFO]\u001b[0m: Saving reconstructions plot...\u001b[0m\n"
     ]
    },
    {
     "name": "stdout",
     "output_type": "stream",
     "text": [
      "\n",
      "Epoch 19: loss improved from 0.04037 to 0.04024, saving model to ./output_dir/vanilla_autoencoder_2024-04-05_12-36-11/model.weights.h5\n",
      "469/469 - 12s - 25ms/step - loss: 0.0402\n",
      "Epoch 20/20\n",
      "\u001b[1m1875/1875\u001b[0m \u001b[32m━━━━━━━━━━━━━━━━━━━━\u001b[0m\u001b[37m\u001b[0m \u001b[1m4s\u001b[0m 2ms/step\n"
     ]
    },
    {
     "name": "stderr",
     "output_type": "stream",
     "text": [
      "2024-04-05 12:40:08 \u001b[32m[INFO]\u001b[0m: Saving latent space plot...\u001b[0m\n",
      "2024-04-05 12:40:11 \u001b[32m[INFO]\u001b[0m: Saving reconstructions plot...\u001b[0m\n"
     ]
    },
    {
     "name": "stdout",
     "output_type": "stream",
     "text": [
      "\n",
      "Epoch 20: loss improved from 0.04024 to 0.04010, saving model to ./output_dir/vanilla_autoencoder_2024-04-05_12-36-11/model.weights.h5\n",
      "469/469 - 12s - 25ms/step - loss: 0.0401\n"
     ]
    },
    {
     "name": "stderr",
     "output_type": "stream",
     "text": [
      "2024-04-05 12:40:11 \u001b[32m[INFO]\u001b[0m: Restoring best model\u001b[0m\n",
      "2024-04-05 12:40:11 \u001b[32m[INFO]\u001b[0m: Best model restored\u001b[0m\n"
     ]
    }
   ],
   "source": [
    "pipe = TrainingPipeline(name='vanilla_autoencoder', learning_rate=0.001,\n",
    "                        model=model, num_epochs=20, batch_size=128,\n",
    "                        callbacks=[save_visualizations(model, x_train, y_train, type='image')])\n",
    "\n",
    "trained_model = pipe(x=x_train)"
   ]
  },
  {
   "cell_type": "markdown",
   "metadata": {},
   "source": [
    "## Learning Rate Finder"
   ]
  },
  {
   "cell_type": "markdown",
   "metadata": {},
   "source": [
    "Cyclical learning rate finder. The idea is to reduce the amount of guesswork on picking a good starting learning rate.\n",
    "\n",
    "Inspired by fastai lr_finder."
   ]
  },
  {
   "cell_type": "code",
   "execution_count": 29,
   "metadata": {},
   "outputs": [],
   "source": [
    "from rapidae.data import load_dataset\n",
    "from rapidae.models import AE\n",
    "from rapidae.models.callbacks import LRFinder\n",
    "from matplotlib import pyplot as plt"
   ]
  },
  {
   "cell_type": "code",
   "execution_count": 26,
   "metadata": {},
   "outputs": [
    {
     "name": "stderr",
     "output_type": "stream",
     "text": [
      "2024-04-05 12:43:32 \u001b[32m[INFO]\u001b[0m: Downloading train-images-idx3-ubyte.gz...\u001b[0m\n",
      "2024-04-05 12:43:32 \u001b[32m[INFO]\u001b[0m: Downloading train-labels-idx1-ubyte.gz...\u001b[0m\n",
      "2024-04-05 12:43:33 \u001b[32m[INFO]\u001b[0m: Downloading t10k-images-idx3-ubyte.gz...\u001b[0m\n",
      "2024-04-05 12:43:33 \u001b[32m[INFO]\u001b[0m: Downloading t10k-labels-idx1-ubyte.gz...\u001b[0m\n",
      "2024-04-05 12:43:33 \u001b[32m[INFO]\u001b[0m: Deleting MNIST data...\u001b[0m\n"
     ]
    }
   ],
   "source": [
    "data = load_dataset('MNIST')\n",
    "\n",
    "# Normalize data and flatten images\n",
    "x_train = data['x_train'].reshape(data['x_train'].shape[0], -1).astype(\"float32\") / 255\n",
    "x_test = data['x_test'].reshape(data['x_test'].shape[0], -1).astype(\"float32\") / 255\n",
    "y_train = data['y_train']\n",
    "\n",
    "input_dim = x_train.shape[1]"
   ]
  },
  {
   "cell_type": "code",
   "execution_count": 49,
   "metadata": {},
   "outputs": [
    {
     "name": "stderr",
     "output_type": "stream",
     "text": [
      "2024-04-05 13:00:42 \u001b[32m[INFO]\u001b[0m: Trying to set encoder and decoder from child class...\u001b[0m\n",
      "2024-04-05 13:00:42 \u001b[33m[WARNING]\u001b[0m: No encoder found in ae, using default encoder with layers_conf=[512]...\u001b[0m\n",
      "2024-04-05 13:00:42 \u001b[33m[WARNING]\u001b[0m: No decoder found in ae, using default decoder with layers_conf=[512]...\u001b[0m\n"
     ]
    }
   ],
   "source": [
    "model = AE(input_dim=input_dim)"
   ]
  },
  {
   "cell_type": "code",
   "execution_count": 51,
   "metadata": {},
   "outputs": [
    {
     "name": "stdout",
     "output_type": "stream",
     "text": [
      "Epoch 1/5\n",
      "\u001b[1m118/118\u001b[0m \u001b[32m━━━━━━━━━━━━━━━━━━━━\u001b[0m\u001b[37m\u001b[0m \u001b[1m2s\u001b[0m 9ms/step - loss: 0.2315\n",
      "Epoch 2/5\n",
      "\u001b[1m118/118\u001b[0m \u001b[32m━━━━━━━━━━━━━━━━━━━━\u001b[0m\u001b[37m\u001b[0m \u001b[1m1s\u001b[0m 8ms/step - loss: 0.2143\n",
      "Epoch 3/5\n",
      "\u001b[1m118/118\u001b[0m \u001b[32m━━━━━━━━━━━━━━━━━━━━\u001b[0m\u001b[37m\u001b[0m \u001b[1m1s\u001b[0m 8ms/step - loss: 0.0702\n",
      "Epoch 4/5\n",
      "\u001b[1m118/118\u001b[0m \u001b[32m━━━━━━━━━━━━━━━━━━━━\u001b[0m\u001b[37m\u001b[0m \u001b[1m1s\u001b[0m 8ms/step - loss: 0.0627\n",
      "Epoch 5/5\n",
      "\u001b[1m118/118\u001b[0m \u001b[32m━━━━━━━━━━━━━━━━━━━━\u001b[0m\u001b[37m\u001b[0m \u001b[1m1s\u001b[0m 8ms/step - loss: 0.1370\n"
     ]
    },
    {
     "data": {
      "image/png": "[encoded data removed]",
      "text/plain": [
       "<Figure size 640x480 with 1 Axes>"
      ]
     },
     "metadata": {},
     "output_type": "display_data"
    }
   ],
   "source": [
    "lr_finder = LRFinder(model)\n",
    "lr_finder.find(x_train, x_train, start_lr=0.0000001, end_lr=100, batch_size=512, epochs=5)\n",
    "lr_finder.plot_loss(n_skip_beginning=20, n_skip_end=5)\n",
    "plt.show()"
   ]
  },
  {
   "cell_type": "markdown",
   "metadata": {},
   "source": [
    "The plot tells us how loss changes with different learning rates. From this, we can infer that a good value for the starting learnig rate is a value that is approximately in the middle of the sharpest downward slope."
   ]
  }
 ],
 "metadata": {
  "kernelspec": {
   "display_name": "rapidae",
   "language": "python",
   "name": "python3"
  },
  "language_info": {
   "codemirror_mode": {
    "name": "ipython",
    "version": 3
   },
   "file_extension": ".py",
   "mimetype": "text/x-python",
   "name": "python",
   "nbconvert_exporter": "python",
   "pygments_lexer": "ipython3",
   "version": "3.10.13"
  }
 },
 "nbformat": 4,
 "nbformat_minor": 2
}
