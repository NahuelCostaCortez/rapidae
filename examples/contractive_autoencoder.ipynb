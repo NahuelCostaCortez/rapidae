{
 "cells": [
  {
   "cell_type": "markdown",
   "metadata": {},
   "source": [
    "# Example of Contractive Autoencoder with MNIST dataset"
   ]
  },
  {
   "cell_type": "code",
   "execution_count": 1,
   "metadata": {},
   "outputs": [],
   "source": [
    "# First install the library\n",
    "\n",
    "# %pip install aepy"
   ]
  },
  {
   "cell_type": "markdown",
   "metadata": {},
   "source": [
    "Since Rapidae uses the new version of Keras 3, this allows the use of different backends. \n",
    "We can select among the 3 available backends (Tensorflow, Pytorch and Jax) by modifying the environment variable \"KERAS_BACKEND\".\n",
    "In the next cell we can define it."
   ]
  },
  {
   "cell_type": "code",
   "execution_count": 2,
   "metadata": {},
   "outputs": [],
   "source": [
    "import os\n",
    "\n",
    "os.environ[\"KERAS_BACKEND\"] = \"tensorflow\""
   ]
  },
  {
   "cell_type": "code",
   "execution_count": 3,
   "metadata": {},
   "outputs": [
    {
     "name": "stderr",
     "output_type": "stream",
     "text": [
      "2023-12-28 12:35:35.278332: E external/local_xla/xla/stream_executor/cuda/cuda_dnn.cc:9261] Unable to register cuDNN factory: Attempting to register factory for plugin cuDNN when one has already been registered\n",
      "2023-12-28 12:35:35.278364: E external/local_xla/xla/stream_executor/cuda/cuda_fft.cc:607] Unable to register cuFFT factory: Attempting to register factory for plugin cuFFT when one has already been registered\n",
      "2023-12-28 12:35:35.279132: E external/local_xla/xla/stream_executor/cuda/cuda_blas.cc:1515] Unable to register cuBLAS factory: Attempting to register factory for plugin cuBLAS when one has already been registered\n",
      "2023-12-28 12:35:35.283706: I tensorflow/core/platform/cpu_feature_guard.cc:182] This TensorFlow binary is optimized to use available CPU instructions in performance-critical operations.\n",
      "To enable the following instructions: AVX2 FMA, in other operations, rebuild TensorFlow with the appropriate compiler flags.\n",
      "2023-12-28 12:35:35.790269: W tensorflow/compiler/tf2tensorrt/utils/py_utils.cc:38] TF-TRT Warning: Could not find TensorRT\n"
     ]
    }
   ],
   "source": [
    "import sys\n",
    "\n",
    "#notebook_dir = os.path.abspath('')\n",
    "#sys.path.append(os.path.join(notebook_dir, '..', 'src'))\n",
    "\n",
    "from keras import utils\n",
    "from rapidae.pipelines.training import TrainingPipeline\n",
    "from rapidae.models.cae.cae_model import CAE\n",
    "from rapidae.models.base.default_architectures import VanillaEncoder, VanillaDecoder\n",
    "from rapidae.data.utils import display_diff\n",
    "from rapidae.data.datasets import load_MNIST\n",
    "\n",
    "# For reproducibility in Keras 3. This will set:\n",
    "# 1) `numpy` seed\n",
    "# 2) backend random seed\n",
    "# 3) `python` random seed\n",
    "utils.set_random_seed(1)"
   ]
  },
  {
   "cell_type": "markdown",
   "metadata": {},
   "source": [
    "### Download and preprocess the dataset\n",
    "\n",
    "In this example, the selected dataset is the well-known MNIST composed of handwritten number images.\n",
    "\n",
    "The \"persistant\" parameter of the load_MNIST() serves as a flag to determine if we want the dataset to be cached in the datasets folder.\n",
    "\n",
    "Train and test data are normalized and flatten since we are going to use a non convolutional autoencoder.\n",
    " \n",
    "Train and test labels are converted into one-hot encoding."
   ]
  },
  {
   "cell_type": "code",
   "execution_count": 4,
   "metadata": {},
   "outputs": [
    {
     "name": "stderr",
     "output_type": "stream",
     "text": [
      "2023-12-28 12:35:36 \u001b[32m[INFO]\u001b[0m: train-images-idx3-ubyte.gz already exists.\u001b[0m\n",
      "2023-12-28 12:35:36 \u001b[32m[INFO]\u001b[0m: train-labels-idx1-ubyte.gz already exists.\u001b[0m\n",
      "2023-12-28 12:35:36 \u001b[32m[INFO]\u001b[0m: t10k-images-idx3-ubyte.gz already exists.\u001b[0m\n",
      "2023-12-28 12:35:36 \u001b[32m[INFO]\u001b[0m: t10k-labels-idx1-ubyte.gz already exists.\u001b[0m\n"
     ]
    }
   ],
   "source": [
    "# Load MNIST dataset\n",
    "x_train, y_train, x_test, y_test = load_MNIST(persistant=True)\n",
    "\n",
    "x_train = x_train.reshape(x_train.shape[0], -1) / 255\n",
    "x_test = x_test.reshape(x_test.shape[0], -1) / 255\n",
    "\n",
    "# Obtaint number of clasess\n",
    "n_classes = len(set(y_train))\n",
    "\n",
    "# Convert labels to categorical\n",
    "y_train = utils.to_categorical(y_train, n_classes)\n",
    "y_test = utils.to_categorical(y_test, n_classes)"
   ]
  },
  {
   "cell_type": "markdown",
   "metadata": {},
   "source": [
    "### Model creation\n",
    "\n",
    "In this step the model is created. Here we can define some parameters of the network as the dimensionality of the latent space, the type of encoder/decoder and the number of layers and neurons on them.\n",
    "The model used in this example is a Contractive Autoencoder with vanilla MLP encoder and decoder. The encoder is composed of two MLP layers with 128 and 64 neurons on each one anf the decoder the same the other way around."
   ]
  },
  {
   "cell_type": "markdown",
   "metadata": {},
   "source": [
    "### Model creation\n",
    "\n",
    "In this step the model is created. Here we can define some parameters of the network as the dimensionality of the latent space, the type of encoder/decoder and the number of layers and neurons on them.\n",
    "The model used in this example is a Contractive Autoencoder with vanilla MLP encoder and decoder. The encoder is composed of two MLP layers with 128 and 64 neurons on each one anf the decoder the same the other way around."
   ]
  },
  {
   "cell_type": "code",
   "execution_count": 5,
   "metadata": {},
   "outputs": [
    {
     "name": "stderr",
     "output_type": "stream",
     "text": [
      "2023-12-28 12:35:37.163180: I external/local_xla/xla/stream_executor/cuda/cuda_executor.cc:901] successful NUMA node read from SysFS had negative value (-1), but there must be at least one NUMA node, so returning NUMA node zero. See more at https://github.com/torvalds/linux/blob/v6.0/Documentation/ABI/testing/sysfs-bus-pci#L344-L355\n",
      "2023-12-28 12:35:37.178357: I external/local_xla/xla/stream_executor/cuda/cuda_executor.cc:901] successful NUMA node read from SysFS had negative value (-1), but there must be at least one NUMA node, so returning NUMA node zero. See more at https://github.com/torvalds/linux/blob/v6.0/Documentation/ABI/testing/sysfs-bus-pci#L344-L355\n",
      "2023-12-28 12:35:37.178544: I external/local_xla/xla/stream_executor/cuda/cuda_executor.cc:901] successful NUMA node read from SysFS had negative value (-1), but there must be at least one NUMA node, so returning NUMA node zero. See more at https://github.com/torvalds/linux/blob/v6.0/Documentation/ABI/testing/sysfs-bus-pci#L344-L355\n",
      "2023-12-28 12:35:37.180203: I external/local_xla/xla/stream_executor/cuda/cuda_executor.cc:901] successful NUMA node read from SysFS had negative value (-1), but there must be at least one NUMA node, so returning NUMA node zero. See more at https://github.com/torvalds/linux/blob/v6.0/Documentation/ABI/testing/sysfs-bus-pci#L344-L355\n",
      "2023-12-28 12:35:37.180344: I external/local_xla/xla/stream_executor/cuda/cuda_executor.cc:901] successful NUMA node read from SysFS had negative value (-1), but there must be at least one NUMA node, so returning NUMA node zero. See more at https://github.com/torvalds/linux/blob/v6.0/Documentation/ABI/testing/sysfs-bus-pci#L344-L355\n",
      "2023-12-28 12:35:37.180465: I external/local_xla/xla/stream_executor/cuda/cuda_executor.cc:901] successful NUMA node read from SysFS had negative value (-1), but there must be at least one NUMA node, so returning NUMA node zero. See more at https://github.com/torvalds/linux/blob/v6.0/Documentation/ABI/testing/sysfs-bus-pci#L344-L355\n",
      "2023-12-28 12:35:37.238467: I external/local_xla/xla/stream_executor/cuda/cuda_executor.cc:901] successful NUMA node read from SysFS had negative value (-1), but there must be at least one NUMA node, so returning NUMA node zero. See more at https://github.com/torvalds/linux/blob/v6.0/Documentation/ABI/testing/sysfs-bus-pci#L344-L355\n",
      "2023-12-28 12:35:37.238622: I external/local_xla/xla/stream_executor/cuda/cuda_executor.cc:901] successful NUMA node read from SysFS had negative value (-1), but there must be at least one NUMA node, so returning NUMA node zero. See more at https://github.com/torvalds/linux/blob/v6.0/Documentation/ABI/testing/sysfs-bus-pci#L344-L355\n",
      "2023-12-28 12:35:37.238753: I external/local_xla/xla/stream_executor/cuda/cuda_executor.cc:901] successful NUMA node read from SysFS had negative value (-1), but there must be at least one NUMA node, so returning NUMA node zero. See more at https://github.com/torvalds/linux/blob/v6.0/Documentation/ABI/testing/sysfs-bus-pci#L344-L355\n",
      "2023-12-28 12:35:37.238845: I tensorflow/core/common_runtime/gpu/gpu_device.cc:1929] Created device /job:localhost/replica:0/task:0/device:GPU:0 with 5536 MB memory:  -> device: 0, name: NVIDIA GeForce RTX 3060 Ti, pci bus id: 0000:27:00.0, compute capability: 8.6\n"
     ]
    }
   ],
   "source": [
    "# Model creation\n",
    "model = CAE(input_dim=x_train.shape[1], latent_dim=10,\n",
    "            encoder=VanillaEncoder, decoder=VanillaDecoder, layers_conf=[128, 64])"
   ]
  },
  {
   "cell_type": "markdown",
   "metadata": {},
   "source": [
    "### Training pipeline\n",
    "\n",
    "In the next cell a TrainingPipeline is created. This pipeline is in responsible for setting the training hyperparameters for the autoencoder such as the number of epochs, the batch size, the learning rate...\n",
    "\n",
    "We can also train the model by calling the pipeline and passing it the training set and the labels."
   ]
  },
  {
   "cell_type": "code",
   "execution_count": 6,
   "metadata": {},
   "outputs": [
    {
     "name": "stderr",
     "output_type": "stream",
     "text": [
      "2023-12-28 12:35:37 \u001b[32m[INFO]\u001b[0m: +++ training_pipeline +++\u001b[0m\n",
      "2023-12-28 12:35:37 \u001b[32m[INFO]\u001b[0m: Creating folder in ../output_dir/training_pipeline_2023-12-28_12-35-37\u001b[0m\n"
     ]
    },
    {
     "name": "stdout",
     "output_type": "stream",
     "text": [
      "Epoch 1/20\n"
     ]
    },
    {
     "name": "stderr",
     "output_type": "stream",
     "text": [
      "2023-12-28 12:35:38.366573: I external/local_xla/xla/service/service.cc:168] XLA service 0xb25b740 initialized for platform CUDA (this does not guarantee that XLA will be used). Devices:\n",
      "2023-12-28 12:35:38.366599: I external/local_xla/xla/service/service.cc:176]   StreamExecutor device (0): NVIDIA GeForce RTX 3060 Ti, Compute Capability 8.6\n",
      "2023-12-28 12:35:38.397643: I tensorflow/compiler/mlir/tensorflow/utils/dump_mlir_util.cc:269] disabling MLIR crash reproducer, set env var `MLIR_CRASH_REPRODUCER_DIRECTORY` to enable.\n",
      "2023-12-28 12:35:38.530989: I external/local_xla/xla/stream_executor/cuda/cuda_dnn.cc:454] Loaded cuDNN version 8902\n",
      "WARNING: All log messages before absl::InitializeLog() is called are written to STDERR\n",
      "I0000 00:00:1703763339.152354   29763 device_compiler.h:186] Compiled cluster using XLA!  This line is logged at most once for the lifetime of the process.\n"
     ]
    },
    {
     "name": "stdout",
     "output_type": "stream",
     "text": [
      "\n",
      "Epoch 1: loss improved from inf to 0.05127, saving model to ../output_dir/training_pipeline_2023-12-28_12-35-37/model.weights.h5\n",
      "469/469 - 3s - 7ms/step - contractive_loss: 6.6056e-04 - loss: 0.0513 - reconstruction_loss: 0.0506\n",
      "Epoch 2/20\n",
      "\n",
      "Epoch 2: loss improved from 0.05127 to 0.02689, saving model to ../output_dir/training_pipeline_2023-12-28_12-35-37/model.weights.h5\n",
      "469/469 - 1s - 1ms/step - contractive_loss: 3.8881e-04 - loss: 0.0269 - reconstruction_loss: 0.0265\n",
      "Epoch 3/20\n",
      "\n",
      "Epoch 3: loss improved from 0.02689 to 0.02248, saving model to ../output_dir/training_pipeline_2023-12-28_12-35-37/model.weights.h5\n",
      "469/469 - 1s - 1ms/step - contractive_loss: 3.2457e-04 - loss: 0.0225 - reconstruction_loss: 0.0222\n",
      "Epoch 4/20\n",
      "\n",
      "Epoch 4: loss improved from 0.02248 to 0.01952, saving model to ../output_dir/training_pipeline_2023-12-28_12-35-37/model.weights.h5\n",
      "469/469 - 1s - 1ms/step - contractive_loss: 3.1023e-04 - loss: 0.0195 - reconstruction_loss: 0.0192\n",
      "Epoch 5/20\n",
      "\n",
      "Epoch 5: loss improved from 0.01952 to 0.01771, saving model to ../output_dir/training_pipeline_2023-12-28_12-35-37/model.weights.h5\n",
      "469/469 - 1s - 2ms/step - contractive_loss: 2.6939e-04 - loss: 0.0177 - reconstruction_loss: 0.0174\n",
      "Epoch 6/20\n",
      "\n",
      "Epoch 6: loss improved from 0.01771 to 0.01681, saving model to ../output_dir/training_pipeline_2023-12-28_12-35-37/model.weights.h5\n",
      "469/469 - 1s - 2ms/step - contractive_loss: 2.3041e-04 - loss: 0.0168 - reconstruction_loss: 0.0166\n",
      "Epoch 7/20\n",
      "\n",
      "Epoch 7: loss improved from 0.01681 to 0.01620, saving model to ../output_dir/training_pipeline_2023-12-28_12-35-37/model.weights.h5\n",
      "469/469 - 1s - 2ms/step - contractive_loss: 2.1062e-04 - loss: 0.0162 - reconstruction_loss: 0.0160\n",
      "Epoch 8/20\n",
      "\n",
      "Epoch 8: loss improved from 0.01620 to 0.01536, saving model to ../output_dir/training_pipeline_2023-12-28_12-35-37/model.weights.h5\n",
      "469/469 - 1s - 2ms/step - contractive_loss: 2.0827e-04 - loss: 0.0154 - reconstruction_loss: 0.0151\n",
      "Epoch 9/20\n",
      "\n",
      "Epoch 9: loss improved from 0.01536 to 0.01473, saving model to ../output_dir/training_pipeline_2023-12-28_12-35-37/model.weights.h5\n",
      "469/469 - 1s - 2ms/step - contractive_loss: 1.9354e-04 - loss: 0.0147 - reconstruction_loss: 0.0145\n",
      "Epoch 10/20\n",
      "\n",
      "Epoch 10: loss improved from 0.01473 to 0.01432, saving model to ../output_dir/training_pipeline_2023-12-28_12-35-37/model.weights.h5\n",
      "469/469 - 1s - 2ms/step - contractive_loss: 1.7854e-04 - loss: 0.0143 - reconstruction_loss: 0.0141\n",
      "Epoch 11/20\n",
      "\n",
      "Epoch 11: loss improved from 0.01432 to 0.01391, saving model to ../output_dir/training_pipeline_2023-12-28_12-35-37/model.weights.h5\n",
      "469/469 - 1s - 2ms/step - contractive_loss: 1.6933e-04 - loss: 0.0139 - reconstruction_loss: 0.0137\n",
      "Epoch 12/20\n",
      "\n",
      "Epoch 12: loss improved from 0.01391 to 0.01355, saving model to ../output_dir/training_pipeline_2023-12-28_12-35-37/model.weights.h5\n",
      "469/469 - 1s - 2ms/step - contractive_loss: 1.6085e-04 - loss: 0.0135 - reconstruction_loss: 0.0134\n",
      "Epoch 13/20\n",
      "\n",
      "Epoch 13: loss improved from 0.01355 to 0.01317, saving model to ../output_dir/training_pipeline_2023-12-28_12-35-37/model.weights.h5\n",
      "469/469 - 1s - 1ms/step - contractive_loss: 1.5539e-04 - loss: 0.0132 - reconstruction_loss: 0.0130\n",
      "Epoch 14/20\n",
      "\n",
      "Epoch 14: loss improved from 0.01317 to 0.01277, saving model to ../output_dir/training_pipeline_2023-12-28_12-35-37/model.weights.h5\n",
      "469/469 - 1s - 2ms/step - contractive_loss: 1.5155e-04 - loss: 0.0128 - reconstruction_loss: 0.0126\n",
      "Epoch 15/20\n",
      "\n",
      "Epoch 15: loss improved from 0.01277 to 0.01245, saving model to ../output_dir/training_pipeline_2023-12-28_12-35-37/model.weights.h5\n",
      "469/469 - 1s - 1ms/step - contractive_loss: 1.4617e-04 - loss: 0.0124 - reconstruction_loss: 0.0123\n",
      "Epoch 16/20\n",
      "\n",
      "Epoch 16: loss improved from 0.01245 to 0.01217, saving model to ../output_dir/training_pipeline_2023-12-28_12-35-37/model.weights.h5\n",
      "469/469 - 1s - 1ms/step - contractive_loss: 1.4133e-04 - loss: 0.0122 - reconstruction_loss: 0.0120\n",
      "Epoch 17/20\n",
      "\n",
      "Epoch 17: loss improved from 0.01217 to 0.01189, saving model to ../output_dir/training_pipeline_2023-12-28_12-35-37/model.weights.h5\n",
      "469/469 - 1s - 2ms/step - contractive_loss: 1.3875e-04 - loss: 0.0119 - reconstruction_loss: 0.0117\n",
      "Epoch 18/20\n",
      "\n",
      "Epoch 18: loss improved from 0.01189 to 0.01162, saving model to ../output_dir/training_pipeline_2023-12-28_12-35-37/model.weights.h5\n",
      "469/469 - 1s - 2ms/step - contractive_loss: 1.3675e-04 - loss: 0.0116 - reconstruction_loss: 0.0115\n",
      "Epoch 19/20\n",
      "\n",
      "Epoch 19: loss improved from 0.01162 to 0.01136, saving model to ../output_dir/training_pipeline_2023-12-28_12-35-37/model.weights.h5\n",
      "469/469 - 1s - 1ms/step - contractive_loss: 1.3264e-04 - loss: 0.0114 - reconstruction_loss: 0.0112\n",
      "Epoch 20/20\n",
      "\n",
      "Epoch 20: loss improved from 0.01136 to 0.01116, saving model to ../output_dir/training_pipeline_2023-12-28_12-35-37/model.weights.h5\n",
      "469/469 - 1s - 1ms/step - contractive_loss: 1.2843e-04 - loss: 0.0112 - reconstruction_loss: 0.0110\n"
     ]
    }
   ],
   "source": [
    "pipe = TrainingPipeline(name='training_pipeline_contractive_ae',\n",
    "                        model=model, num_epochs=20)\n",
    "\n",
    "trained_model = pipe(x=x_train, y=y_train)"
   ]
  },
  {
   "cell_type": "markdown",
   "metadata": {},
   "source": [
    "### Evaluation step\n",
    "\n",
    "Once the model is trained we can evaluate the model with the test set and compare the reconstructed images to see the model performance."
   ]
  },
  {
   "cell_type": "code",
   "execution_count": 7,
   "metadata": {},
   "outputs": [
    {
     "name": "stdout",
     "output_type": "stream",
     "text": [
      "\u001b[1m313/313\u001b[0m \u001b[32m━━━━━━━━━━━━━━━━━━━━\u001b[0m\u001b[37m\u001b[0m \u001b[1m1s\u001b[0m 1ms/step\n"
     ]
    },
    {
     "data": {
      "image/png": "[encoded data removed]",
      "text/plain": [
       "<Figure size 2000x400 with 20 Axes>"
      ]
     },
     "metadata": {},
     "output_type": "display_data"
    }
   ],
   "source": [
    "y_hat = trained_model.predict(x_test)\n",
    "\n",
    "display_diff(x_test, y_hat['recon'])"
   ]
  }
 ],
 "metadata": {
  "kernelspec": {
   "display_name": "aepy-test",
   "language": "python",
   "name": "python3"
  },
  "language_info": {
   "codemirror_mode": {
    "name": "ipython",
    "version": 3
   },
   "file_extension": ".py",
   "mimetype": "text/x-python",
   "name": "python",
   "nbconvert_exporter": "python",
   "pygments_lexer": "ipython3",
   "version": "3.10.12"
  }
 },
 "nbformat": 4,
 "nbformat_minor": 2
}
