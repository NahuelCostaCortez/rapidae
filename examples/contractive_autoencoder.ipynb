{
 "cells": [
  {
   "cell_type": "code",
   "execution_count": 1,
   "metadata": {},
   "outputs": [
    {
     "name": "stderr",
     "output_type": "stream",
     "text": [
      "2023-12-22 12:36:13.791035: I tensorflow/core/platform/cpu_feature_guard.cc:182] This TensorFlow binary is optimized to use available CPU instructions in performance-critical operations.\n",
      "To enable the following instructions: AVX2 FMA, in other operations, rebuild TensorFlow with the appropriate compiler flags.\n"
     ]
    }
   ],
   "source": [
    "import os\n",
    "import sys\n",
    "\n",
    "notebook_dir = os.path.abspath('')\n",
    "sys.path.append(os.path.join(notebook_dir, '..'))\n",
    "\n",
    "import numpy as np\n",
    "import matplotlib.pyplot as plt\n",
    "\n",
    "from sklearn.metrics import accuracy_score\n",
    "from keras import utils\n",
    "from rapidae.data.datasets import load_MNIST\n",
    "from rapidae.data.utils import evaluate, display_diff\n",
    "from rapidae.models.base.default_architectures import (VanillaEncoder, VanillaDecoder)\n",
    "from rapidae.models.cae.cae_model import CAE\n",
    "from rapidae.pipelines.training import TrainingPipeline"
   ]
  },
  {
   "cell_type": "code",
   "execution_count": 2,
   "metadata": {},
   "outputs": [
    {
     "name": "stderr",
     "output_type": "stream",
     "text": [
      "2023-12-22 12:36:17 \u001b[32m[INFO]\u001b[0m: train-images-idx3-ubyte.gz already exists.\u001b[0m\n",
      "2023-12-22 12:36:17 \u001b[32m[INFO]\u001b[0m: train-labels-idx1-ubyte.gz already exists.\u001b[0m\n",
      "2023-12-22 12:36:17 \u001b[32m[INFO]\u001b[0m: t10k-images-idx3-ubyte.gz already exists.\u001b[0m\n",
      "2023-12-22 12:36:17 \u001b[32m[INFO]\u001b[0m: t10k-labels-idx1-ubyte.gz already exists.\u001b[0m\n"
     ]
    }
   ],
   "source": [
    "# Load MNIST dataset\n",
    "x_train, y_train, x_test, y_test = load_MNIST(persistant=True)\n",
    "\n",
    "#x_train = np.expand_dims(x_train, -1).astype(\"float32\") / 255\n",
    "#x_test = np.expand_dims(x_test, -1).astype(\"float32\") / 255\n",
    "x_train = x_train.reshape(x_train.shape[0], -1)\n",
    "x_test = x_test.reshape(x_test.shape[0], -1)\n",
    "\n",
    "# Obtaint number of clasess\n",
    "n_classes = len(set(y_train))\n",
    "\n",
    "# Convert labels to categorical\n",
    "y_train = utils.to_categorical(y_train, n_classes)\n",
    "y_test = utils.to_categorical(y_test, n_classes)"
   ]
  },
  {
   "cell_type": "code",
   "execution_count": 3,
   "metadata": {},
   "outputs": [],
   "source": [
    "train_data = dict(data=x_train.astype(float), labels=y_train)\n",
    "test_data = dict(data=x_test.astype(float), labels=y_test)"
   ]
  },
  {
   "cell_type": "code",
   "execution_count": 4,
   "metadata": {},
   "outputs": [],
   "source": [
    "# Model creation\n",
    "model = CAE(input_dim=x_train.shape[1], latent_dim=2,\n",
    "            encoder=VanillaEncoder, decoder=VanillaDecoder, layers_conf=[32, 64])"
   ]
  },
  {
   "cell_type": "code",
   "execution_count": 5,
   "metadata": {},
   "outputs": [
    {
     "data": {
      "text/plain": [
       "(60000, 784)"
      ]
     },
     "execution_count": 5,
     "metadata": {},
     "output_type": "execute_result"
    }
   ],
   "source": [
    "x_train.shape"
   ]
  },
  {
   "cell_type": "code",
   "execution_count": 6,
   "metadata": {},
   "outputs": [
    {
     "name": "stderr",
     "output_type": "stream",
     "text": [
      "2023-12-22 12:36:18 \u001b[32m[INFO]\u001b[0m: +++ training_pipeline +++\u001b[0m\n",
      "2023-12-22 12:36:18 \u001b[32m[INFO]\u001b[0m: Creating folder in ../output_dir/training_pipeline_2023-12-22_12-36-18\u001b[0m\n"
     ]
    },
    {
     "name": "stdout",
     "output_type": "stream",
     "text": [
      "Epoch 1/10\n",
      "\n",
      "Epoch 1: loss improved from inf to 7853.70312, saving model to ../output_dir/training_pipeline_2023-12-22_12-36-18/model.weights.h5\n",
      "469/469 - 52s - 110ms/step - contractive_loss: 629.2682 - loss: 7853.7031 - reconstruction_loss: 7224.5161\n",
      "Epoch 2/10\n",
      "\n",
      "Epoch 2: loss improved from 7853.70312 to 7217.08643, saving model to ../output_dir/training_pipeline_2023-12-22_12-36-18/model.weights.h5\n",
      "469/469 - 56s - 120ms/step - contractive_loss: 0.0130 - loss: 7217.0864 - reconstruction_loss: 7217.0864\n",
      "Epoch 3/10\n",
      "\n",
      "Epoch 3: loss improved from 7217.08643 to 7217.06689, saving model to ../output_dir/training_pipeline_2023-12-22_12-36-18/model.weights.h5\n",
      "469/469 - 54s - 116ms/step - contractive_loss: 0.0099 - loss: 7217.0669 - reconstruction_loss: 7216.9575\n",
      "Epoch 4/10\n",
      "\n",
      "Epoch 4: loss improved from 7217.06689 to 7217.05908, saving model to ../output_dir/training_pipeline_2023-12-22_12-36-18/model.weights.h5\n",
      "469/469 - 56s - 120ms/step - contractive_loss: 0.0074 - loss: 7217.0591 - reconstruction_loss: 7217.1646\n",
      "Epoch 5/10\n",
      "\n",
      "Epoch 5: loss improved from 7217.05908 to 7217.05273, saving model to ../output_dir/training_pipeline_2023-12-22_12-36-18/model.weights.h5\n",
      "469/469 - 53s - 113ms/step - contractive_loss: 0.0054 - loss: 7217.0527 - reconstruction_loss: 7217.2207\n",
      "Epoch 6/10\n",
      "\n",
      "Epoch 6: loss did not improve from 7217.05273\n",
      "469/469 - 50s - 106ms/step - contractive_loss: 0.0039 - loss: 7217.0557 - reconstruction_loss: 7216.9702\n",
      "Epoch 7/10\n",
      "\n",
      "Epoch 7: loss improved from 7217.05273 to 7217.05176, saving model to ../output_dir/training_pipeline_2023-12-22_12-36-18/model.weights.h5\n",
      "469/469 - 50s - 106ms/step - contractive_loss: 0.0028 - loss: 7217.0518 - reconstruction_loss: 7217.0625\n",
      "Epoch 8/10\n",
      "\n",
      "Epoch 8: loss improved from 7217.05176 to 7217.04785, saving model to ../output_dir/training_pipeline_2023-12-22_12-36-18/model.weights.h5\n",
      "469/469 - 50s - 107ms/step - contractive_loss: 0.0020 - loss: 7217.0479 - reconstruction_loss: 7217.0933\n",
      "Epoch 9/10\n",
      "\n",
      "Epoch 9: loss improved from 7217.04785 to 7217.04492, saving model to ../output_dir/training_pipeline_2023-12-22_12-36-18/model.weights.h5\n",
      "469/469 - 50s - 106ms/step - contractive_loss: 0.0014 - loss: 7217.0449 - reconstruction_loss: 7217.1670\n",
      "Epoch 10/10\n",
      "\n",
      "Epoch 10: loss did not improve from 7217.04492\n",
      "469/469 - 50s - 106ms/step - contractive_loss: 0.0010 - loss: 7217.0488 - reconstruction_loss: 7217.1274\n"
     ]
    }
   ],
   "source": [
    "pipe = TrainingPipeline(name='training_pipeline',\n",
    "                        model=model, num_epochs=10)\n",
    "\n",
    "trained_model = pipe(x=x_train, y=y_train)"
   ]
  },
  {
   "cell_type": "code",
   "execution_count": 7,
   "metadata": {},
   "outputs": [
    {
     "name": "stdout",
     "output_type": "stream",
     "text": [
      "\u001b[1m313/313\u001b[0m \u001b[32m━━━━━━━━━━━━━━━━━━━━\u001b[0m\u001b[37m\u001b[0m \u001b[1m3s\u001b[0m 10ms/step\n"
     ]
    }
   ],
   "source": [
    "y_hat = trained_model.predict(x_test)"
   ]
  },
  {
   "cell_type": "code",
   "execution_count": 8,
   "metadata": {},
   "outputs": [
    {
     "name": "stdout",
     "output_type": "stream",
     "text": [
      "(10000, 784)\n",
      "(10000, 784)\n"
     ]
    },
    {
     "data": {
      "image/png": "[encoded data removed]",
      "text/plain": [
       "<Figure size 2000x400 with 20 Axes>"
      ]
     },
     "metadata": {},
     "output_type": "display_data"
    }
   ],
   "source": [
    "print(x_test.shape)\n",
    "print(y_hat['recon'].shape)\n",
    "display_diff(x_test, y_hat['recon'])"
   ]
  }
 ],
 "metadata": {
  "kernelspec": {
   "display_name": "aepy-test",
   "language": "python",
   "name": "python3"
  },
  "language_info": {
   "codemirror_mode": {
    "name": "ipython",
    "version": 3
   },
   "file_extension": ".py",
   "mimetype": "text/x-python",
   "name": "python",
   "nbconvert_exporter": "python",
   "pygments_lexer": "ipython3",
   "version": "3.10.12"
  }
 },
 "nbformat": 4,
 "nbformat_minor": 2
}
