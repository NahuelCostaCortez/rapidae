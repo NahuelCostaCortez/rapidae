{
    "cells": [
        {
            "cell_type": "markdown",
            "metadata": {},
            "source": [
                "<a href=\"https://colab.research.google.com/github/NahuelCostaCortez/rapidae/blob/main/examples/contractive_autoencoder.ipynb\" target=\"_parent\"><img src=\"https://colab.research.google.com/assets/colab-badge.svg\" alt=\"Open In Colab\"/></a>"
            ]
        },
        {
            "cell_type": "markdown",
            "metadata": {},
            "source": [
                "# Contractive Autoencoder"
            ]
        },
        {
            "cell_type": "markdown",
            "metadata": {},
            "source": [
                "Contractive autoencoders incorporate a regularization term during training that penalizes changes in the hidden layer activations concerning the input data. This regularization encourages the autoencoder to learn robust and stable features by limiting the sensitivity of the hidden layer to small changes in the input. The contractive autoencoder is particularly useful for capturing essential patterns and reducing the impact of irrelevant variations in the input data. This makes it suitable for applications where extracting meaningful and stable representations is crucial, such as in denoising or dimensionality reduction tasks."
            ]
        },
        {
            "cell_type": "code",
            "execution_count": 1,
            "metadata": {},
            "outputs": [],
            "source": [
                "# Install the library\n",
                "\n",
                "!pip install rapidae"
            ]
        },
        {
            "cell_type": "code",
            "execution_count": 3,
            "metadata": {},
            "outputs": [],
            "source": [
                "from keras import utils\n",
                "from rapidae.data import load_MNIST\n",
                "from rapidae.models import CAE\n",
                "from rapidae.models.base import VanillaEncoder, VanillaDecoder\n",
                "from rapidae.pipelines import TrainingPipeline\n",
                "from rapidae.evaluate import plot_reconstructions"
            ]
        },
        {
            "cell_type": "markdown",
            "metadata": {},
            "source": [
                "### Data"
            ]
        },
        {
            "cell_type": "markdown",
            "metadata": {},
            "source": [
                "In this example, the selected dataset is the well-known MNIST composed of handwritten digit images.\n",
                "\n",
                "Train and test data are flattened since the first layer of the encoder we are going to use is a Dense layer."
            ]
        },
        {
            "cell_type": "code",
            "execution_count": 4,
            "metadata": {},
            "outputs": [
                {
                    "name": "stderr",
                    "output_type": "stream",
                    "text": [
                        "2024-04-16 08:55:55 \u001b[32m[INFO]\u001b[0m: Downloading train-images-idx3-ubyte.gz...\u001b[0m\n",
                        "2024-04-16 08:55:55 \u001b[32m[INFO]\u001b[0m: Downloading train-labels-idx1-ubyte.gz...\u001b[0m\n",
                        "2024-04-16 08:55:55 \u001b[32m[INFO]\u001b[0m: Downloading t10k-images-idx3-ubyte.gz...\u001b[0m\n",
                        "2024-04-16 08:55:55 \u001b[32m[INFO]\u001b[0m: Downloading t10k-labels-idx1-ubyte.gz...\u001b[0m\n",
                        "2024-04-16 08:55:55 \u001b[32m[INFO]\u001b[0m: Deleting MNIST data...\u001b[0m\n"
                    ]
                }
            ],
            "source": [
                "# Load dataset\n",
                "data = load_MNIST()\n",
                "\n",
                "# Flatten and normalize data\n",
                "x_train = data[\"x_train\"].reshape(data[\"x_train\"].shape[0], -1) / 255\n",
                "x_test = data[\"x_test\"].reshape(data[\"x_test\"].shape[0], -1) / 255\n",
                "\n",
                "# Obtain number of clasess\n",
                "n_classes = len(set(data[\"y_train\"]))"
            ]
        },
        {
            "cell_type": "markdown",
            "metadata": {},
            "source": [
                "### Model"
            ]
        },
        {
            "cell_type": "markdown",
            "metadata": {},
            "source": [
                "In this step the model is created. Here we can define some parameters of the network as the dimensionality of the latent space, the type of encoder/decoder and the number of layers and neurons.\n",
                "The model used in this example is a Contractive Autoencoder with vanilla MLP encoder and decoder."
            ]
        },
        {
            "cell_type": "code",
            "execution_count": 5,
            "metadata": {},
            "outputs": [
                {
                    "name": "stderr",
                    "output_type": "stream",
                    "text": [
                        "2024-04-16 08:56:33 \u001b[32m[INFO]\u001b[0m: Trying to set encoder and decoder from child class...\u001b[0m\n",
                        "2024-04-16 08:56:33 \u001b[33m[WARNING]\u001b[0m: No encoder found in cae, using default encoder with layers_conf=[512]...\u001b[0m\n",
                        "2024-04-16 08:56:33 \u001b[33m[WARNING]\u001b[0m: No decoder found in cae, using default decoder with layers_conf=[512]...\u001b[0m\n"
                    ]
                }
            ],
            "source": [
                "# Model creation\n",
                "model = CAE(input_dim=x_train.shape[1], \n",
                "            latent_dim=10)"
            ]
        },
        {
            "cell_type": "markdown",
            "metadata": {},
            "source": [
                "### Training"
            ]
        },
        {
            "cell_type": "code",
            "execution_count": 7,
            "metadata": {},
            "outputs": [
                {
                    "name": "stderr",
                    "output_type": "stream",
                    "text": [
                        "2024-04-16 08:57:18 \u001b[32m[INFO]\u001b[0m: +++ contractive_ae_MNIST +++\u001b[0m\n",
                        "2024-04-16 08:57:18 \u001b[32m[INFO]\u001b[0m: Creating folder in ./output_dir/contractive_ae_MNIST_2024-04-16_08-57\u001b[0m\n",
                        "2024-04-16 08:57:18 \u001b[32m[INFO]\u001b[0m: \n",
                        "TRAINING STARTED\n",
                        "\tBackend: tensorflow\n",
                        "\tEager mode: False\n",
                        "\tValidation data available: False\n",
                        "\tCallbacks set: ['EarlyStopping', 'ModelCheckpoint'] \n",
                        "\u001b[0m\n"
                    ]
                },
                {
                    "name": "stdout",
                    "output_type": "stream",
                    "text": [
                        "Epoch 1/20\n"
                    ]
                },
                {
                    "name": "stderr",
                    "output_type": "stream",
                    "text": [
                        "2024-04-16 08:57:19.169555: W external/local_tsl/tsl/framework/cpu_allocator_impl.cc:83] Allocation of 188160000 exceeds 10% of free system memory.\n"
                    ]
                },
                {
                    "name": "stdout",
                    "output_type": "stream",
                    "text": [
                        "\n",
                        "Epoch 1: loss improved from inf to 0.03061, saving model to ./output_dir/contractive_ae_MNIST_2024-04-16_08-57/model.weights.h5\n",
                        "469/469 - 5s - 11ms/step - contractive_loss: 4.5774e-04 - loss: 0.0306 - reconstruction_loss: 0.0302\n",
                        "Epoch 2/20\n",
                        "\n",
                        "Epoch 2: loss improved from 0.03061 to 0.02632, saving model to ./output_dir/contractive_ae_MNIST_2024-04-16_08-57/model.weights.h5\n",
                        "469/469 - 6s - 12ms/step - contractive_loss: 3.2631e-04 - loss: 0.0263 - reconstruction_loss: 0.0260\n",
                        "Epoch 3/20\n",
                        "\n",
                        "Epoch 3: loss improved from 0.02632 to 0.02368, saving model to ./output_dir/contractive_ae_MNIST_2024-04-16_08-57/model.weights.h5\n",
                        "469/469 - 5s - 11ms/step - contractive_loss: 2.9626e-04 - loss: 0.0237 - reconstruction_loss: 0.0234\n",
                        "Epoch 4/20\n",
                        "\n",
                        "Epoch 4: loss improved from 0.02368 to 0.02189, saving model to ./output_dir/contractive_ae_MNIST_2024-04-16_08-57/model.weights.h5\n",
                        "469/469 - 5s - 11ms/step - contractive_loss: 2.7379e-04 - loss: 0.0219 - reconstruction_loss: 0.0216\n",
                        "Epoch 5/20\n",
                        "\n",
                        "Epoch 5: loss improved from 0.02189 to 0.02069, saving model to ./output_dir/contractive_ae_MNIST_2024-04-16_08-57/model.weights.h5\n",
                        "469/469 - 5s - 11ms/step - contractive_loss: 2.4909e-04 - loss: 0.0207 - reconstruction_loss: 0.0204\n",
                        "Epoch 6/20\n",
                        "\n",
                        "Epoch 6: loss improved from 0.02069 to 0.01980, saving model to ./output_dir/contractive_ae_MNIST_2024-04-16_08-57/model.weights.h5\n",
                        "469/469 - 5s - 11ms/step - contractive_loss: 2.3031e-04 - loss: 0.0198 - reconstruction_loss: 0.0196\n",
                        "Epoch 7/20\n",
                        "\n",
                        "Epoch 7: loss improved from 0.01980 to 0.01910, saving model to ./output_dir/contractive_ae_MNIST_2024-04-16_08-57/model.weights.h5\n",
                        "469/469 - 5s - 11ms/step - contractive_loss: 2.1507e-04 - loss: 0.0191 - reconstruction_loss: 0.0189\n",
                        "Epoch 8/20\n",
                        "\n",
                        "Epoch 8: loss improved from 0.01910 to 0.01855, saving model to ./output_dir/contractive_ae_MNIST_2024-04-16_08-57/model.weights.h5\n",
                        "469/469 - 5s - 11ms/step - contractive_loss: 2.0294e-04 - loss: 0.0185 - reconstruction_loss: 0.0183\n",
                        "Epoch 9/20\n",
                        "\n",
                        "Epoch 9: loss improved from 0.01855 to 0.01808, saving model to ./output_dir/contractive_ae_MNIST_2024-04-16_08-57/model.weights.h5\n",
                        "469/469 - 5s - 11ms/step - contractive_loss: 1.9203e-04 - loss: 0.0181 - reconstruction_loss: 0.0179\n",
                        "Epoch 10/20\n",
                        "\n",
                        "Epoch 10: loss improved from 0.01808 to 0.01770, saving model to ./output_dir/contractive_ae_MNIST_2024-04-16_08-57/model.weights.h5\n",
                        "469/469 - 5s - 12ms/step - contractive_loss: 1.8385e-04 - loss: 0.0177 - reconstruction_loss: 0.0175\n",
                        "Epoch 11/20\n",
                        "\n",
                        "Epoch 11: loss improved from 0.01770 to 0.01736, saving model to ./output_dir/contractive_ae_MNIST_2024-04-16_08-57/model.weights.h5\n",
                        "469/469 - 5s - 10ms/step - contractive_loss: 1.7659e-04 - loss: 0.0174 - reconstruction_loss: 0.0172\n",
                        "Epoch 12/20\n",
                        "\n",
                        "Epoch 12: loss improved from 0.01736 to 0.01707, saving model to ./output_dir/contractive_ae_MNIST_2024-04-16_08-57/model.weights.h5\n",
                        "469/469 - 5s - 11ms/step - contractive_loss: 1.7043e-04 - loss: 0.0171 - reconstruction_loss: 0.0169\n",
                        "Epoch 13/20\n",
                        "\n",
                        "Epoch 13: loss improved from 0.01707 to 0.01682, saving model to ./output_dir/contractive_ae_MNIST_2024-04-16_08-57/model.weights.h5\n",
                        "469/469 - 5s - 11ms/step - contractive_loss: 1.6383e-04 - loss: 0.0168 - reconstruction_loss: 0.0167\n",
                        "Epoch 14/20\n",
                        "\n",
                        "Epoch 14: loss improved from 0.01682 to 0.01659, saving model to ./output_dir/contractive_ae_MNIST_2024-04-16_08-57/model.weights.h5\n",
                        "469/469 - 5s - 11ms/step - contractive_loss: 1.6117e-04 - loss: 0.0166 - reconstruction_loss: 0.0164\n",
                        "Epoch 15/20\n",
                        "\n",
                        "Epoch 15: loss improved from 0.01659 to 0.01638, saving model to ./output_dir/contractive_ae_MNIST_2024-04-16_08-57/model.weights.h5\n",
                        "469/469 - 5s - 11ms/step - contractive_loss: 1.5563e-04 - loss: 0.0164 - reconstruction_loss: 0.0162\n",
                        "Epoch 16/20\n",
                        "\n",
                        "Epoch 16: loss improved from 0.01638 to 0.01620, saving model to ./output_dir/contractive_ae_MNIST_2024-04-16_08-57/model.weights.h5\n",
                        "469/469 - 5s - 11ms/step - contractive_loss: 1.5202e-04 - loss: 0.0162 - reconstruction_loss: 0.0160\n",
                        "Epoch 17/20\n",
                        "\n",
                        "Epoch 17: loss improved from 0.01620 to 0.01603, saving model to ./output_dir/contractive_ae_MNIST_2024-04-16_08-57/model.weights.h5\n",
                        "469/469 - 10s - 21ms/step - contractive_loss: 1.4923e-04 - loss: 0.0160 - reconstruction_loss: 0.0159\n",
                        "Epoch 18/20\n",
                        "\n",
                        "Epoch 18: loss improved from 0.01603 to 0.01586, saving model to ./output_dir/contractive_ae_MNIST_2024-04-16_08-57/model.weights.h5\n",
                        "469/469 - 4s - 8ms/step - contractive_loss: 1.4580e-04 - loss: 0.0159 - reconstruction_loss: 0.0157\n",
                        "Epoch 19/20\n",
                        "\n",
                        "Epoch 19: loss improved from 0.01586 to 0.01572, saving model to ./output_dir/contractive_ae_MNIST_2024-04-16_08-57/model.weights.h5\n",
                        "469/469 - 5s - 10ms/step - contractive_loss: 1.4405e-04 - loss: 0.0157 - reconstruction_loss: 0.0156\n",
                        "Epoch 20/20\n",
                        "\n",
                        "Epoch 20: loss improved from 0.01572 to 0.01558, saving model to ./output_dir/contractive_ae_MNIST_2024-04-16_08-57/model.weights.h5\n",
                        "469/469 - 5s - 12ms/step - contractive_loss: 1.4157e-04 - loss: 0.0156 - reconstruction_loss: 0.0154\n"
                    ]
                },
                {
                    "name": "stderr",
                    "output_type": "stream",
                    "text": [
                        "2024-04-16 08:59:07 \u001b[32m[INFO]\u001b[0m: Restoring best model\u001b[0m\n",
                        "2024-04-16 08:59:07 \u001b[32m[INFO]\u001b[0m: Best model restored\u001b[0m\n"
                    ]
                }
            ],
            "source": [
                "pipe = TrainingPipeline(name='contractive_ae_MNIST',\n",
                "                        model=model, \n",
                "                        num_epochs=20)\n",
                "\n",
                "trained_model = pipe(x=x_train)"
            ]
        },
        {
            "cell_type": "markdown",
            "metadata": {},
            "source": [
                "### Evaluation"
            ]
        },
        {
            "cell_type": "markdown",
            "metadata": {},
            "source": [
                "Once the model is trained, we can call it on the test set and compare the reconstructed images to check its performance."
            ]
        },
        {
            "cell_type": "code",
            "execution_count": 9,
            "metadata": {},
            "outputs": [
                {
                    "name": "stdout",
                    "output_type": "stream",
                    "text": [
                        "\u001b[1m  1/313\u001b[0m \u001b[37m━━━━━━━━━━━━━━━━━━━━\u001b[0m \u001b[1m4s\u001b[0m 15ms/step"
                    ]
                },
                {
                    "name": "stdout",
                    "output_type": "stream",
                    "text": [
                        "\u001b[1m313/313\u001b[0m \u001b[32m━━━━━━━━━━━━━━━━━━━━\u001b[0m\u001b[37m\u001b[0m \u001b[1m1s\u001b[0m 2ms/step\n"
                    ]
                },
                {
                    "data": {
                        "image/png": "[encoded data removed]",
                        "text/plain": [
                            "<Figure size 2000x400 with 20 Axes>"
                        ]
                    },
                    "metadata": {},
                    "output_type": "display_data"
                }
            ],
            "source": [
                "outputs = trained_model.predict(x_test)\n",
                "\n",
                "plot_reconstructions(x_test, outputs['x_recon'])"
            ]
        }
    ],
    "metadata": {
        "kernelspec": {
            "display_name": "aepy-test",
            "language": "python",
            "name": "python3"
        },
        "language_info": {
            "codemirror_mode": {
                "name": "ipython",
                "version": 3
            },
            "file_extension": ".py",
            "mimetype": "text/x-python",
            "name": "python",
            "nbconvert_exporter": "python",
            "pygments_lexer": "ipython3",
            "version": "3.10.10"
        }
    },
    "nbformat": 4,
    "nbformat_minor": 2
}
