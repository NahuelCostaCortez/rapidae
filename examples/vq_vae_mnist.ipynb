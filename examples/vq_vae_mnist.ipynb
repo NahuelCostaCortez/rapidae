{
 "cells": [
  {
   "cell_type": "code",
   "execution_count": 7,
   "metadata": {},
   "outputs": [],
   "source": [
    "# Fist install the library\n",
    "\n",
    "#%pip install aepy"
   ]
  },
  {
   "cell_type": "code",
   "execution_count": 8,
   "metadata": {},
   "outputs": [],
   "source": [
    "import os\n",
    "import sys\n",
    "\n",
    "notebook_dir = os.path.abspath('')\n",
    "sys.path.append(os.path.join(notebook_dir, '..'))\n",
    "\n",
    "import numpy as np\n",
    "\n",
    "from sklearn.metrics import accuracy_score\n",
    "from keras import utils\n",
    "\n",
    "from rapidae.data.datasets import load_MNIST\n",
    "from rapidae.data.utils import evaluate, display_diff, add_noise\n",
    "from rapidae.models.vq_vae.vq_vae_model import VQ_VAE\n",
    "from rapidae.models.base.default_architectures import Encoder_Conv_VQ_MNIST, Decoder_Conv_VQ_MNIST\n",
    "from rapidae.pipelines.training import TrainingPipeline"
   ]
  },
  {
   "cell_type": "code",
   "execution_count": 9,
   "metadata": {},
   "outputs": [
    {
     "name": "stderr",
     "output_type": "stream",
     "text": [
      "2023-12-20 20:06:32 \u001b[32m[INFO]\u001b[0m: train-images-idx3-ubyte.gz already exists.\u001b[0m\n",
      "2023-12-20 20:06:32 \u001b[32m[INFO]\u001b[0m: train-labels-idx1-ubyte.gz already exists.\u001b[0m\n",
      "2023-12-20 20:06:32 \u001b[32m[INFO]\u001b[0m: t10k-images-idx3-ubyte.gz already exists.\u001b[0m\n",
      "2023-12-20 20:06:32 \u001b[32m[INFO]\u001b[0m: t10k-labels-idx1-ubyte.gz already exists.\u001b[0m\n"
     ]
    }
   ],
   "source": [
    "# Load MNIST dataset\n",
    "x_train, y_train, x_test, y_test = load_MNIST(persistant=True)\n",
    "\n",
    "# Obtaint number of clasess\n",
    "n_classes = len(set(y_train))\n",
    "\n",
    "# Convert labels to categorical\n",
    "y_train = utils.to_categorical(y_train, n_classes)\n",
    "y_test = utils.to_categorical(y_test, n_classes)"
   ]
  },
  {
   "cell_type": "code",
   "execution_count": 10,
   "metadata": {},
   "outputs": [],
   "source": [
    "train_data = dict(data=x_train.astype(float), labels=x_train)\n",
    "test_data = dict(data=x_test.astype(float), labels=y_test)"
   ]
  },
  {
   "cell_type": "code",
   "execution_count": 11,
   "metadata": {},
   "outputs": [],
   "source": [
    "# Model creation\n",
    "model = VQ_VAE(input_dim=(x_train.shape[1], x_train.shape[2]), \n",
    "            latent_dim=2, encoder=Encoder_Conv_VQ_MNIST, decoder=Decoder_Conv_VQ_MNIST, layers_conf=[32, 64])\n",
    "\n",
    "model.jit_compile = False"
   ]
  },
  {
   "cell_type": "code",
   "execution_count": 12,
   "metadata": {},
   "outputs": [
    {
     "name": "stderr",
     "output_type": "stream",
     "text": [
      "2023-12-20 20:06:32 \u001b[32m[INFO]\u001b[0m: +++ training_pipeline +++\u001b[0m\n",
      "2023-12-20 20:06:32 \u001b[32m[INFO]\u001b[0m: Creating folder in ../output_dir/training_pipeline_2023-12-20_20-06-32\u001b[0m\n"
     ]
    },
    {
     "name": "stdout",
     "output_type": "stream",
     "text": [
      "Epoch 1/10\n",
      "(128, 7, 7, 2)\n",
      "(128, 7, 7, 2)\n"
     ]
    },
    {
     "name": "stderr",
     "output_type": "stream",
     "text": [
      "/home/lucaspc/venvs/keras_core/lib/python3.11/site-packages/keras/src/layers/layer.py:358: UserWarning: `build()` was called on layer 'encoder', however the layer does not have a `build()` method implemented and it looks like it has unbuilt state. This will cause the layer to be marked as built, despite not being actually built, which may cause failures down the line. Make sure to implement a proper `build()` method.\n",
      "  warnings.warn(\n"
     ]
    },
    {
     "name": "stdout",
     "output_type": "stream",
     "text": [
      "(128, 7, 7, 2)\n"
     ]
    },
    {
     "name": "stderr",
     "output_type": "stream",
     "text": [
      "2023-12-20 20:06:33.863221: I external/local_xla/xla/stream_executor/cuda/cuda_dnn.cc:454] Loaded cuDNN version 8902\n"
     ]
    },
    {
     "name": "stdout",
     "output_type": "stream",
     "text": [
      "(96, 7, 7, 2)\n",
      "\n",
      "Epoch 1: loss improved from inf to 1617.39478, saving model to ../output_dir/training_pipeline_2023-12-20_20-06-32/model.weights.h5\n",
      "469/469 - 7s - 15ms/step - loss: 1617.3948 - reconstruction_loss: 1056.1034 - vq_loss: 561.2921\n",
      "Epoch 2/10\n",
      "\n",
      "Epoch 2: loss improved from 1617.39478 to 616.94519, saving model to ../output_dir/training_pipeline_2023-12-20_20-06-32/model.weights.h5\n",
      "469/469 - 2s - 4ms/step - loss: 616.9452 - reconstruction_loss: 442.5461 - vq_loss: 174.3988\n",
      "Epoch 3/10\n",
      "\n",
      "Epoch 3: loss improved from 616.94519 to 504.73260, saving model to ../output_dir/training_pipeline_2023-12-20_20-06-32/model.weights.h5\n",
      "469/469 - 2s - 5ms/step - loss: 504.7326 - reconstruction_loss: 384.9259 - vq_loss: 119.8069\n",
      "Epoch 4/10\n",
      "\n",
      "Epoch 4: loss improved from 504.73260 to 445.18887, saving model to ../output_dir/training_pipeline_2023-12-20_20-06-32/model.weights.h5\n",
      "469/469 - 2s - 5ms/step - loss: 445.1889 - reconstruction_loss: 350.1984 - vq_loss: 94.9909\n",
      "Epoch 5/10\n",
      "\n",
      "Epoch 5: loss improved from 445.18887 to 406.20645, saving model to ../output_dir/training_pipeline_2023-12-20_20-06-32/model.weights.h5\n",
      "469/469 - 2s - 5ms/step - loss: 406.2065 - reconstruction_loss: 325.7651 - vq_loss: 80.4413\n",
      "Epoch 6/10\n",
      "\n",
      "Epoch 6: loss improved from 406.20645 to 378.33322, saving model to ../output_dir/training_pipeline_2023-12-20_20-06-32/model.weights.h5\n",
      "469/469 - 2s - 5ms/step - loss: 378.3332 - reconstruction_loss: 309.3878 - vq_loss: 68.9456\n",
      "Epoch 7/10\n",
      "\n",
      "Epoch 7: loss improved from 378.33322 to 358.10162, saving model to ../output_dir/training_pipeline_2023-12-20_20-06-32/model.weights.h5\n",
      "469/469 - 2s - 5ms/step - loss: 358.1016 - reconstruction_loss: 298.9401 - vq_loss: 59.1615\n",
      "Epoch 8/10\n",
      "\n",
      "Epoch 8: loss improved from 358.10162 to 343.21649, saving model to ../output_dir/training_pipeline_2023-12-20_20-06-32/model.weights.h5\n",
      "469/469 - 2s - 5ms/step - loss: 343.2165 - reconstruction_loss: 291.5732 - vq_loss: 51.6435\n",
      "Epoch 9/10\n",
      "\n",
      "Epoch 9: loss improved from 343.21649 to 331.79178, saving model to ../output_dir/training_pipeline_2023-12-20_20-06-32/model.weights.h5\n",
      "469/469 - 2s - 5ms/step - loss: 331.7918 - reconstruction_loss: 285.8138 - vq_loss: 45.9780\n",
      "Epoch 10/10\n",
      "\n",
      "Epoch 10: loss improved from 331.79178 to 321.93851, saving model to ../output_dir/training_pipeline_2023-12-20_20-06-32/model.weights.h5\n",
      "469/469 - 2s - 5ms/step - loss: 321.9385 - reconstruction_loss: 280.5655 - vq_loss: 41.3733\n"
     ]
    }
   ],
   "source": [
    "pipe = TrainingPipeline(name='training_pipeline',\n",
    "                        model=model, num_epochs=10)\n",
    "\n",
    "trained_model = pipe(train_data)"
   ]
  },
  {
   "cell_type": "code",
   "execution_count": 13,
   "metadata": {},
   "outputs": [],
   "source": [
    "import matplotlib.pyplot as plt\n",
    "\n",
    "def show_subplot(original, reconstructed):\n",
    "    plt.subplot(1, 2, 1)\n",
    "    plt.imshow(original.squeeze() + 0.5)\n",
    "    plt.title(\"Original\")\n",
    "    plt.axis(\"off\")\n",
    "\n",
    "    plt.subplot(1, 2, 2)\n",
    "    plt.imshow(reconstructed.squeeze() + 0.5)\n",
    "    plt.title(\"Reconstructed\")\n",
    "    plt.axis(\"off\")\n",
    "\n",
    "    plt.show()"
   ]
  },
  {
   "cell_type": "code",
   "execution_count": 14,
   "metadata": {},
   "outputs": [
    {
     "name": "stdout",
     "output_type": "stream",
     "text": [
      "(9, 7, 7, 2)\n",
      "\u001b[1m1/1\u001b[0m \u001b[32m━━━━━━━━━━━━━━━━━━━━\u001b[0m\u001b[37m\u001b[0m \u001b[1m0s\u001b[0m 253ms/step\n",
      "[[[[ 4.84437048e-01]\n",
      "   [-1.25137115e+00]\n",
      "   [-1.03264280e-01]\n",
      "   ...\n",
      "   [-1.47486389e-01]\n",
      "   [-2.90052354e-01]\n",
      "   [-8.04783762e-01]]\n",
      "\n",
      "  [[ 1.68314993e-01]\n",
      "   [-3.95368040e-01]\n",
      "   [ 7.75640070e-01]\n",
      "   ...\n",
      "   [-3.21930349e-01]\n",
      "   [ 6.29520476e-01]\n",
      "   [ 1.26188576e-01]]\n",
      "\n",
      "  [[ 6.36542365e-02]\n",
      "   [-9.30625856e-01]\n",
      "   [ 7.27646887e-01]\n",
      "   ...\n",
      "   [-5.98874509e-01]\n",
      "   [ 4.07842696e-01]\n",
      "   [-1.34191370e+00]]\n",
      "\n",
      "  ...\n",
      "\n",
      "  [[-5.31510293e-01]\n",
      "   [ 4.52391684e-01]\n",
      "   [ 2.20281184e-01]\n",
      "   ...\n",
      "   [-1.28369272e-01]\n",
      "   [ 7.27701247e-01]\n",
      "   [-1.80186212e-01]]\n",
      "\n",
      "  [[ 5.47785819e-01]\n",
      "   [-9.89751294e-02]\n",
      "   [ 2.07703173e-01]\n",
      "   ...\n",
      "   [-3.37069452e-01]\n",
      "   [ 7.50005305e-01]\n",
      "   [-2.99127996e-01]]\n",
      "\n",
      "  [[ 3.47894728e-01]\n",
      "   [ 2.46913493e-01]\n",
      "   [ 2.02919066e-01]\n",
      "   ...\n",
      "   [-1.42131066e+00]\n",
      "   [-9.97704446e-01]\n",
      "   [ 3.97321653e+00]]]\n",
      "\n",
      "\n",
      " [[[ 4.84437048e-01]\n",
      "   [-1.25137115e+00]\n",
      "   [-1.03264280e-01]\n",
      "   ...\n",
      "   [-1.47486389e-01]\n",
      "   [-2.90053308e-01]\n",
      "   [-8.04783762e-01]]\n",
      "\n",
      "  [[ 1.68314993e-01]\n",
      "   [-3.95369947e-01]\n",
      "   [ 7.75640070e-01]\n",
      "   ...\n",
      "   [-3.21930349e-01]\n",
      "   [ 6.29519999e-01]\n",
      "   [ 1.26188576e-01]]\n",
      "\n",
      "  [[ 6.36542365e-02]\n",
      "   [-9.30625856e-01]\n",
      "   [ 7.27646887e-01]\n",
      "   ...\n",
      "   [-5.98874509e-01]\n",
      "   [ 4.07844603e-01]\n",
      "   [-1.34191370e+00]]\n",
      "\n",
      "  ...\n",
      "\n",
      "  [[-5.31510293e-01]\n",
      "   [ 4.52391684e-01]\n",
      "   [ 2.20281184e-01]\n",
      "   ...\n",
      "   [-1.28369272e-01]\n",
      "   [ 7.27701247e-01]\n",
      "   [-1.80186212e-01]]\n",
      "\n",
      "  [[ 5.47785819e-01]\n",
      "   [-9.89751294e-02]\n",
      "   [ 2.07703173e-01]\n",
      "   ...\n",
      "   [-3.37069452e-01]\n",
      "   [ 7.50005305e-01]\n",
      "   [-2.99127996e-01]]\n",
      "\n",
      "  [[ 3.47894728e-01]\n",
      "   [ 2.46913493e-01]\n",
      "   [ 2.02919066e-01]\n",
      "   ...\n",
      "   [-1.42131090e+00]\n",
      "   [-9.97704446e-01]\n",
      "   [ 3.97321653e+00]]]\n",
      "\n",
      "\n",
      " [[[ 4.84437048e-01]\n",
      "   [-1.25137115e+00]\n",
      "   [-1.03264280e-01]\n",
      "   ...\n",
      "   [-1.47486389e-01]\n",
      "   [-2.90053308e-01]\n",
      "   [-8.04783762e-01]]\n",
      "\n",
      "  [[ 1.68314993e-01]\n",
      "   [-3.95369947e-01]\n",
      "   [ 7.75640070e-01]\n",
      "   ...\n",
      "   [-3.21930349e-01]\n",
      "   [ 6.29520476e-01]\n",
      "   [ 1.26188576e-01]]\n",
      "\n",
      "  [[ 6.36542365e-02]\n",
      "   [-9.30625856e-01]\n",
      "   [ 7.27646887e-01]\n",
      "   ...\n",
      "   [-5.98874509e-01]\n",
      "   [ 4.07844603e-01]\n",
      "   [-1.34191370e+00]]\n",
      "\n",
      "  ...\n",
      "\n",
      "  [[-5.31512201e-01]\n",
      "   [ 4.52390969e-01]\n",
      "   [ 2.20282137e-01]\n",
      "   ...\n",
      "   [-1.28367364e-01]\n",
      "   [ 7.27705061e-01]\n",
      "   [-1.80185735e-01]]\n",
      "\n",
      "  [[ 5.47785819e-01]\n",
      "   [-9.89732221e-02]\n",
      "   [ 2.07703173e-01]\n",
      "   ...\n",
      "   [-3.37073267e-01]\n",
      "   [ 7.50006974e-01]\n",
      "   [-2.99129903e-01]]\n",
      "\n",
      "  [[ 3.47894728e-01]\n",
      "   [ 2.46913016e-01]\n",
      "   [ 2.02919185e-01]\n",
      "   ...\n",
      "   [-1.42131066e+00]\n",
      "   [-9.97703493e-01]\n",
      "   [ 3.97321653e+00]]]\n",
      "\n",
      "\n",
      " ...\n",
      "\n",
      "\n",
      " [[[ 4.84437048e-01]\n",
      "   [-1.25137115e+00]\n",
      "   [-1.03264280e-01]\n",
      "   ...\n",
      "   [-1.47486389e-01]\n",
      "   [-2.90053308e-01]\n",
      "   [-8.04783762e-01]]\n",
      "\n",
      "  [[ 1.68314993e-01]\n",
      "   [-3.95368040e-01]\n",
      "   [ 7.75640070e-01]\n",
      "   ...\n",
      "   [-3.21930826e-01]\n",
      "   [ 6.29522383e-01]\n",
      "   [ 1.26189291e-01]]\n",
      "\n",
      "  [[ 6.36551902e-02]\n",
      "   [-9.30624902e-01]\n",
      "   [ 7.27644980e-01]\n",
      "   ...\n",
      "   [-5.98877370e-01]\n",
      "   [ 4.07844603e-01]\n",
      "   [-1.34191608e+00]]\n",
      "\n",
      "  ...\n",
      "\n",
      "  [[-5.31510293e-01]\n",
      "   [ 4.52391684e-01]\n",
      "   [ 2.20281184e-01]\n",
      "   ...\n",
      "   [-2.66278219e+00]\n",
      "   [-3.72767115e+00]\n",
      "   [-4.83741093e+00]]\n",
      "\n",
      "  [[ 5.47785819e-01]\n",
      "   [-9.89751294e-02]\n",
      "   [ 2.07703173e-01]\n",
      "   ...\n",
      "   [ 4.13328111e-01]\n",
      "   [ 1.41404200e+00]\n",
      "   [ 2.05136728e+00]]\n",
      "\n",
      "  [[ 3.47894728e-01]\n",
      "   [ 2.46913493e-01]\n",
      "   [ 2.02919066e-01]\n",
      "   ...\n",
      "   [-2.38448310e+00]\n",
      "   [-3.38616943e+00]\n",
      "   [ 3.47111034e+00]]]\n",
      "\n",
      "\n",
      " [[[ 4.84437048e-01]\n",
      "   [-1.25137115e+00]\n",
      "   [-1.03264280e-01]\n",
      "   ...\n",
      "   [ 7.66746581e-01]\n",
      "   [ 7.87701666e-01]\n",
      "   [-2.25430584e+00]]\n",
      "\n",
      "  [[ 1.68314993e-01]\n",
      "   [-3.95368040e-01]\n",
      "   [ 7.75640070e-01]\n",
      "   ...\n",
      "   [-9.77726877e-01]\n",
      "   [ 1.46373177e+00]\n",
      "   [-1.56763649e+00]]\n",
      "\n",
      "  [[ 6.36542365e-02]\n",
      "   [-9.30625856e-01]\n",
      "   [ 7.27646887e-01]\n",
      "   ...\n",
      "   [-2.86948144e-01]\n",
      "   [ 9.27271903e-01]\n",
      "   [-1.99731350e+00]]\n",
      "\n",
      "  ...\n",
      "\n",
      "  [[-8.48198831e-01]\n",
      "   [-6.84620798e-01]\n",
      "   [ 2.07305491e-01]\n",
      "   ...\n",
      "   [ 4.67025816e-01]\n",
      "   [ 1.18233256e-01]\n",
      "   [-4.99745309e-01]]\n",
      "\n",
      "  [[ 8.63349020e-01]\n",
      "   [-2.75532663e-01]\n",
      "   [ 4.35895026e-01]\n",
      "   ...\n",
      "   [ 6.06164992e-01]\n",
      "   [ 6.60595953e-01]\n",
      "   [-3.95447195e-01]]\n",
      "\n",
      "  [[ 8.07266757e-02]\n",
      "   [ 6.02522418e-02]\n",
      "   [-4.08167318e-02]\n",
      "   ...\n",
      "   [-1.69306779e+00]\n",
      "   [-1.43215322e+00]\n",
      "   [ 4.26399183e+00]]]\n",
      "\n",
      "\n",
      " [[[ 4.84437048e-01]\n",
      "   [-1.25137115e+00]\n",
      "   [-1.03264280e-01]\n",
      "   ...\n",
      "   [ 4.57647771e-01]\n",
      "   [-5.99876344e-01]\n",
      "   [-8.30683649e-01]]\n",
      "\n",
      "  [[ 1.68314993e-01]\n",
      "   [-3.95368040e-01]\n",
      "   [ 7.75640070e-01]\n",
      "   ...\n",
      "   [-7.26454675e-01]\n",
      "   [-2.24182069e-01]\n",
      "   [ 2.97109663e-01]]\n",
      "\n",
      "  [[ 6.36542365e-02]\n",
      "   [-9.30623949e-01]\n",
      "   [ 7.27644980e-01]\n",
      "   ...\n",
      "   [-8.54122102e-01]\n",
      "   [ 9.42030489e-01]\n",
      "   [-6.00332677e-01]]\n",
      "\n",
      "  ...\n",
      "\n",
      "  [[-7.03204095e-01]\n",
      "   [-3.01243722e-01]\n",
      "   [ 1.15753226e-01]\n",
      "   ...\n",
      "   [ 1.33866215e+00]\n",
      "   [-9.90453437e-02]\n",
      "   [-9.52562764e-02]]\n",
      "\n",
      "  [[ 6.51376545e-01]\n",
      "   [-1.70742929e-01]\n",
      "   [ 4.42372382e-01]\n",
      "   ...\n",
      "   [ 7.75218531e-02]\n",
      "   [ 6.04381144e-01]\n",
      "   [ 1.22270159e-01]]\n",
      "\n",
      "  [[ 1.23219542e-01]\n",
      "   [ 1.46829188e-01]\n",
      "   [-3.04693729e-03]\n",
      "   ...\n",
      "   [-4.00044173e-01]\n",
      "   [-6.64252713e-02]\n",
      "   [ 5.44805670e+00]]]]\n"
     ]
    },
    {
     "data": {
      "image/png": "[encoded data removed]",
      "text/plain": [
       "<Figure size 640x480 with 2 Axes>"
      ]
     },
     "metadata": {},
     "output_type": "display_data"
    },
    {
     "data": {
      "image/png": "[encoded data removed]",
      "text/plain": [
       "<Figure size 640x480 with 2 Axes>"
      ]
     },
     "metadata": {},
     "output_type": "display_data"
    },
    {
     "data": {
      "image/png": "[encoded data removed]",
      "text/plain": [
       "<Figure size 640x480 with 2 Axes>"
      ]
     },
     "metadata": {},
     "output_type": "display_data"
    },
    {
     "data": {
      "image/png": "[encoded data removed]",
      "text/plain": [
       "<Figure size 640x480 with 2 Axes>"
      ]
     },
     "metadata": {},
     "output_type": "display_data"
    },
    {
     "data": {
      "image/png": "[encoded data removed]",
      "text/plain": [
       "<Figure size 640x480 with 2 Axes>"
      ]
     },
     "metadata": {},
     "output_type": "display_data"
    },
    {
     "data": {
      "image/png": "[encoded data removed]",
      "text/plain": [
       "<Figure size 640x480 with 2 Axes>"
      ]
     },
     "metadata": {},
     "output_type": "display_data"
    },
    {
     "data": {
      "image/png": "[encoded data removed]",
      "text/plain": [
       "<Figure size 640x480 with 2 Axes>"
      ]
     },
     "metadata": {},
     "output_type": "display_data"
    },
    {
     "data": {
      "image/png": "[encoded data removed]",
      "text/plain": [
       "<Figure size 640x480 with 2 Axes>"
      ]
     },
     "metadata": {},
     "output_type": "display_data"
    },
    {
     "data": {
      "image/png": "[encoded data removed]",
      "text/plain": [
       "<Figure size 640x480 with 2 Axes>"
      ]
     },
     "metadata": {},
     "output_type": "display_data"
    }
   ],
   "source": [
    "idx = np.random.choice(len(x_test), 9)\n",
    "\n",
    "test_images = x_test[idx]\n",
    "test_labels = y_test[idx]\n",
    "\n",
    "#print(test_images.shape)\n",
    "#print(test_labels.shape)\n",
    "\n",
    "test_data = dict(data=test_images.astype(float), labels=test_labels)\n",
    "\n",
    "reconstructions_test = trained_model.predict(test_data)\n",
    "\n",
    "print(reconstructions_test['recon'])\n",
    "\n",
    "for test_image, reconstructed_image in zip(test_images, reconstructions_test['recon']):\n",
    "    show_subplot(test_image, reconstructed_image)"
   ]
  }
 ],
 "metadata": {
  "kernelspec": {
   "display_name": "aepy-test",
   "language": "python",
   "name": "python3"
  },
  "language_info": {
   "codemirror_mode": {
    "name": "ipython",
    "version": 3
   },
   "file_extension": ".py",
   "mimetype": "text/x-python",
   "name": "python",
   "nbconvert_exporter": "python",
   "pygments_lexer": "ipython3",
   "version": "3.11.2"
  }
 },
 "nbformat": 4,
 "nbformat_minor": 2
}
