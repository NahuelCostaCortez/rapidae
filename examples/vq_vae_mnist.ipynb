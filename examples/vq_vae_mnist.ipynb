{
 "cells": [
  {
   "cell_type": "code",
   "execution_count": 1,
   "metadata": {},
   "outputs": [],
   "source": [
    "# Fist install the library\n",
    "\n",
    "#%pip install aepy"
   ]
  },
  {
   "cell_type": "code",
   "execution_count": 2,
   "metadata": {},
   "outputs": [
    {
     "name": "stdout",
     "output_type": "stream",
     "text": [
      "Using TensorFlow backend\n"
     ]
    },
    {
     "name": "stderr",
     "output_type": "stream",
     "text": [
      "2023-12-07 22:44:02.426847: E external/local_xla/xla/stream_executor/cuda/cuda_dnn.cc:9261] Unable to register cuDNN factory: Attempting to register factory for plugin cuDNN when one has already been registered\n",
      "2023-12-07 22:44:02.426897: E external/local_xla/xla/stream_executor/cuda/cuda_fft.cc:607] Unable to register cuFFT factory: Attempting to register factory for plugin cuFFT when one has already been registered\n",
      "2023-12-07 22:44:02.448071: E external/local_xla/xla/stream_executor/cuda/cuda_blas.cc:1515] Unable to register cuBLAS factory: Attempting to register factory for plugin cuBLAS when one has already been registered\n",
      "2023-12-07 22:44:02.497294: I tensorflow/core/platform/cpu_feature_guard.cc:182] This TensorFlow binary is optimized to use available CPU instructions in performance-critical operations.\n",
      "To enable the following instructions: AVX2 FMA, in other operations, rebuild TensorFlow with the appropriate compiler flags.\n",
      "2023-12-07 22:44:03.278064: W tensorflow/compiler/tf2tensorrt/utils/py_utils.cc:38] TF-TRT Warning: Could not find TensorRT\n"
     ]
    }
   ],
   "source": [
    "import os\n",
    "import sys\n",
    "\n",
    "notebook_dir = os.path.abspath('')\n",
    "sys.path.append(os.path.join(notebook_dir, '..'))\n",
    "\n",
    "import numpy as np\n",
    "\n",
    "from sklearn.metrics import accuracy_score\n",
    "from keras import utils\n",
    "\n",
    "from aepy.data.datasets import load_MNIST\n",
    "from aepy.data.utils import evaluate, display_diff, add_noise\n",
    "from aepy.models.vq_vae.vq_vae_model import VQ_VAE\n",
    "from aepy.models.base.default_architectures import Encoder_Conv_VQ_MNIST, Decoder_Conv_VQ_MNIST\n",
    "from aepy.pipelines.training import TrainingPipeline"
   ]
  },
  {
   "cell_type": "code",
   "execution_count": 3,
   "metadata": {},
   "outputs": [
    {
     "name": "stderr",
     "output_type": "stream",
     "text": [
      "2023-12-07 22:44:04 \u001b[32m[INFO]\u001b[0m: train-images-idx3-ubyte.gz already exists.\u001b[0m\n",
      "2023-12-07 22:44:04 \u001b[32m[INFO]\u001b[0m: train-labels-idx1-ubyte.gz already exists.\u001b[0m\n",
      "2023-12-07 22:44:04 \u001b[32m[INFO]\u001b[0m: t10k-images-idx3-ubyte.gz already exists.\u001b[0m\n",
      "2023-12-07 22:44:04 \u001b[32m[INFO]\u001b[0m: t10k-labels-idx1-ubyte.gz already exists.\u001b[0m\n"
     ]
    }
   ],
   "source": [
    "# Load MNIST dataset\n",
    "x_train, y_train, x_test, y_test = load_MNIST(persistant=True)\n",
    "\n",
    "# Obtaint number of clasess\n",
    "n_classes = len(set(y_train))\n",
    "\n",
    "# Convert labels to categorical\n",
    "y_train = utils.to_categorical(y_train, n_classes)\n",
    "y_test = utils.to_categorical(y_test, n_classes)"
   ]
  },
  {
   "cell_type": "code",
   "execution_count": 4,
   "metadata": {},
   "outputs": [],
   "source": [
    "train_data = dict(data=x_train.astype(float), labels=x_train)\n",
    "test_data = dict(data=x_test.astype(float), labels=y_test)"
   ]
  },
  {
   "cell_type": "code",
   "execution_count": 6,
   "metadata": {},
   "outputs": [
    {
     "name": "stdout",
     "output_type": "stream",
     "text": [
      "128\n",
      "2\n",
      "(28, 28)\n"
     ]
    },
    {
     "name": "stderr",
     "output_type": "stream",
     "text": [
      "2023-12-07 22:44:04.937883: I external/local_xla/xla/stream_executor/cuda/cuda_executor.cc:901] successful NUMA node read from SysFS had negative value (-1), but there must be at least one NUMA node, so returning NUMA node zero. See more at https://github.com/torvalds/linux/blob/v6.0/Documentation/ABI/testing/sysfs-bus-pci#L344-L355\n",
      "2023-12-07 22:44:05.024587: I external/local_xla/xla/stream_executor/cuda/cuda_executor.cc:901] successful NUMA node read from SysFS had negative value (-1), but there must be at least one NUMA node, so returning NUMA node zero. See more at https://github.com/torvalds/linux/blob/v6.0/Documentation/ABI/testing/sysfs-bus-pci#L344-L355\n",
      "2023-12-07 22:44:05.024760: I external/local_xla/xla/stream_executor/cuda/cuda_executor.cc:901] successful NUMA node read from SysFS had negative value (-1), but there must be at least one NUMA node, so returning NUMA node zero. See more at https://github.com/torvalds/linux/blob/v6.0/Documentation/ABI/testing/sysfs-bus-pci#L344-L355\n",
      "2023-12-07 22:44:05.026389: I external/local_xla/xla/stream_executor/cuda/cuda_executor.cc:901] successful NUMA node read from SysFS had negative value (-1), but there must be at least one NUMA node, so returning NUMA node zero. See more at https://github.com/torvalds/linux/blob/v6.0/Documentation/ABI/testing/sysfs-bus-pci#L344-L355\n",
      "2023-12-07 22:44:05.026539: I external/local_xla/xla/stream_executor/cuda/cuda_executor.cc:901] successful NUMA node read from SysFS had negative value (-1), but there must be at least one NUMA node, so returning NUMA node zero. See more at https://github.com/torvalds/linux/blob/v6.0/Documentation/ABI/testing/sysfs-bus-pci#L344-L355\n",
      "2023-12-07 22:44:05.026668: I external/local_xla/xla/stream_executor/cuda/cuda_executor.cc:901] successful NUMA node read from SysFS had negative value (-1), but there must be at least one NUMA node, so returning NUMA node zero. See more at https://github.com/torvalds/linux/blob/v6.0/Documentation/ABI/testing/sysfs-bus-pci#L344-L355\n",
      "2023-12-07 22:44:05.092153: I external/local_xla/xla/stream_executor/cuda/cuda_executor.cc:901] successful NUMA node read from SysFS had negative value (-1), but there must be at least one NUMA node, so returning NUMA node zero. See more at https://github.com/torvalds/linux/blob/v6.0/Documentation/ABI/testing/sysfs-bus-pci#L344-L355\n",
      "2023-12-07 22:44:05.092316: I external/local_xla/xla/stream_executor/cuda/cuda_executor.cc:901] successful NUMA node read from SysFS had negative value (-1), but there must be at least one NUMA node, so returning NUMA node zero. See more at https://github.com/torvalds/linux/blob/v6.0/Documentation/ABI/testing/sysfs-bus-pci#L344-L355\n",
      "2023-12-07 22:44:05.092456: I external/local_xla/xla/stream_executor/cuda/cuda_executor.cc:901] successful NUMA node read from SysFS had negative value (-1), but there must be at least one NUMA node, so returning NUMA node zero. See more at https://github.com/torvalds/linux/blob/v6.0/Documentation/ABI/testing/sysfs-bus-pci#L344-L355\n",
      "2023-12-07 22:44:05.092553: I tensorflow/core/common_runtime/gpu/gpu_device.cc:1929] Created device /job:localhost/replica:0/task:0/device:GPU:0 with 5461 MB memory:  -> device: 0, name: NVIDIA GeForce RTX 3060 Ti, pci bus id: 0000:27:00.0, compute capability: 8.6\n"
     ]
    }
   ],
   "source": [
    "# Model creation\n",
    "model = VQ_VAE(input_dim=(x_train.shape[1], x_train.shape[2]), \n",
    "            latent_dim=2, encoder=Encoder_Conv_VQ_MNIST, decoder=Decoder_Conv_VQ_MNIST, layers_conf=[32, 64])\n",
    "\n",
    "model.jit_compile = False"
   ]
  },
  {
   "cell_type": "code",
   "execution_count": 7,
   "metadata": {},
   "outputs": [
    {
     "name": "stderr",
     "output_type": "stream",
     "text": [
      "2023-12-07 22:44:05 \u001b[32m[INFO]\u001b[0m: +++ training_pipeline +++\u001b[0m\n",
      "2023-12-07 22:44:05 \u001b[32m[INFO]\u001b[0m: Creating folder in ../output_dir/training_pipeline_2023-12-07_22-44-05\u001b[0m\n"
     ]
    },
    {
     "name": "stdout",
     "output_type": "stream",
     "text": [
      "Epoch 1/10\n"
     ]
    },
    {
     "name": "stderr",
     "output_type": "stream",
     "text": [
      "/home/lucaspc/venvs/keras_core/lib/python3.11/site-packages/tensorflow/python/autograph/impl/api.py:371: UserWarning: `build()` was called on layer 'encoder', however the layer does not have a `build()` method implemented and it looks like it has unbuilt state. This will cause the layer to be marked as built, despite not being actually built, which may cause failures down the line. Make sure to implement a proper `build()` method.\n",
      "  return py_builtins.overload_of(f)(*args)\n"
     ]
    },
    {
     "name": "stdout",
     "output_type": "stream",
     "text": [
      "(128, 7, 7, 2)\n",
      "(128, 7, 7, 2)\n",
      "(128, 7, 7, 2)\n"
     ]
    },
    {
     "name": "stderr",
     "output_type": "stream",
     "text": [
      "2023-12-07 22:44:15.695886: I external/local_xla/xla/stream_executor/cuda/cuda_dnn.cc:454] Loaded cuDNN version 8904\n"
     ]
    },
    {
     "name": "stdout",
     "output_type": "stream",
     "text": [
      "(96, 7, 7, 2)\n",
      "\n",
      "Epoch 1: total_loss improved from inf to 1501.91687, saving model to ../output_dir/training_pipeline_2023-12-07_22-44-05/model.weights.h5\n",
      "469/469 - 17s - 36ms/step - reconstruction_loss: 986.0414 - total_loss: 1501.9169 - vq_loss: 515.8762\n",
      "Epoch 2/10\n",
      "\n",
      "Epoch 2: total_loss improved from 1501.91687 to 608.01959, saving model to ../output_dir/training_pipeline_2023-12-07_22-44-05/model.weights.h5\n",
      "469/469 - 2s - 5ms/step - reconstruction_loss: 435.1331 - total_loss: 608.0196 - vq_loss: 172.8863\n",
      "Epoch 3/10\n",
      "\n",
      "Epoch 3: total_loss improved from 608.01959 to 502.05264, saving model to ../output_dir/training_pipeline_2023-12-07_22-44-05/model.weights.h5\n",
      "469/469 - 2s - 5ms/step - reconstruction_loss: 383.3222 - total_loss: 502.0526 - vq_loss: 118.7301\n",
      "Epoch 4/10\n",
      "\n",
      "Epoch 4: total_loss improved from 502.05264 to 450.95755, saving model to ../output_dir/training_pipeline_2023-12-07_22-44-05/model.weights.h5\n",
      "469/469 - 3s - 5ms/step - reconstruction_loss: 356.7947 - total_loss: 450.9576 - vq_loss: 94.1628\n",
      "Epoch 5/10\n",
      "\n",
      "Epoch 5: total_loss improved from 450.95755 to 418.86685, saving model to ../output_dir/training_pipeline_2023-12-07_22-44-05/model.weights.h5\n",
      "469/469 - 2s - 5ms/step - reconstruction_loss: 338.7917 - total_loss: 418.8669 - vq_loss: 80.0754\n",
      "Epoch 6/10\n",
      "\n",
      "Epoch 6: total_loss improved from 418.86685 to 395.92435, saving model to ../output_dir/training_pipeline_2023-12-07_22-44-05/model.weights.h5\n",
      "469/469 - 3s - 5ms/step - reconstruction_loss: 325.3355 - total_loss: 395.9243 - vq_loss: 70.5886\n",
      "Epoch 7/10\n",
      "\n",
      "Epoch 7: total_loss improved from 395.92435 to 378.39047, saving model to ../output_dir/training_pipeline_2023-12-07_22-44-05/model.weights.h5\n",
      "469/469 - 2s - 5ms/step - reconstruction_loss: 314.4034 - total_loss: 378.3905 - vq_loss: 63.9870\n",
      "Epoch 8/10\n",
      "\n",
      "Epoch 8: total_loss improved from 378.39047 to 363.80289, saving model to ../output_dir/training_pipeline_2023-12-07_22-44-05/model.weights.h5\n",
      "469/469 - 2s - 5ms/step - reconstruction_loss: 305.7613 - total_loss: 363.8029 - vq_loss: 58.0415\n",
      "Epoch 9/10\n",
      "\n",
      "Epoch 9: total_loss improved from 363.80289 to 352.10440, saving model to ../output_dir/training_pipeline_2023-12-07_22-44-05/model.weights.h5\n",
      "469/469 - 2s - 5ms/step - reconstruction_loss: 298.7220 - total_loss: 352.1044 - vq_loss: 53.3825\n",
      "Epoch 10/10\n",
      "\n",
      "Epoch 10: total_loss improved from 352.10440 to 342.02368, saving model to ../output_dir/training_pipeline_2023-12-07_22-44-05/model.weights.h5\n",
      "469/469 - 2s - 5ms/step - reconstruction_loss: 292.1760 - total_loss: 342.0237 - vq_loss: 49.8479\n"
     ]
    }
   ],
   "source": [
    "pipe = TrainingPipeline(name='training_pipeline',\n",
    "                        model=model, num_epochs=10)\n",
    "\n",
    "trained_model = pipe(train_data=train_data)"
   ]
  },
  {
   "cell_type": "code",
   "execution_count": 8,
   "metadata": {},
   "outputs": [],
   "source": [
    "import matplotlib.pyplot as plt\n",
    "\n",
    "def show_subplot(original, reconstructed):\n",
    "    plt.subplot(1, 2, 1)\n",
    "    plt.imshow(original.squeeze() + 0.5)\n",
    "    plt.title(\"Original\")\n",
    "    plt.axis(\"off\")\n",
    "\n",
    "    plt.subplot(1, 2, 2)\n",
    "    plt.imshow(reconstructed.squeeze() + 0.5)\n",
    "    plt.title(\"Reconstructed\")\n",
    "    plt.axis(\"off\")\n",
    "\n",
    "    plt.show()"
   ]
  },
  {
   "cell_type": "code",
   "execution_count": 26,
   "metadata": {},
   "outputs": [
    {
     "name": "stdout",
     "output_type": "stream",
     "text": [
      "(9, 7, 7, 2)\n",
      "\u001b[1m1/1\u001b[0m \u001b[32m━━━━━━━━━━━━━━━━━━━━\u001b[0m\u001b[37m\u001b[0m \u001b[1m0s\u001b[0m 72ms/step\n",
      "[[[[ 0.14976053]\n",
      "   [-0.01216669]\n",
      "   [-0.6969697 ]\n",
      "   ...\n",
      "   [ 0.8905464 ]\n",
      "   [-0.45159167]\n",
      "   [-1.8876092 ]]\n",
      "\n",
      "  [[ 0.1708601 ]\n",
      "   [-0.0540802 ]\n",
      "   [ 0.07301502]\n",
      "   ...\n",
      "   [-0.26675814]\n",
      "   [ 0.70715696]\n",
      "   [-1.7228501 ]]\n",
      "\n",
      "  [[-0.48372763]\n",
      "   [ 0.41660672]\n",
      "   [ 0.5616587 ]\n",
      "   ...\n",
      "   [-0.770659  ]\n",
      "   [ 1.4872367 ]\n",
      "   [-0.38278407]]\n",
      "\n",
      "  ...\n",
      "\n",
      "  [[-0.4399807 ]\n",
      "   [-0.322962  ]\n",
      "   [ 0.4527815 ]\n",
      "   ...\n",
      "   [-0.4559967 ]\n",
      "   [ 1.1262863 ]\n",
      "   [ 1.2830017 ]]\n",
      "\n",
      "  [[-1.0293734 ]\n",
      "   [-0.44137734]\n",
      "   [-0.15023346]\n",
      "   ...\n",
      "   [ 1.032337  ]\n",
      "   [ 0.22198658]\n",
      "   [ 0.44013005]]\n",
      "\n",
      "  [[ 1.1018932 ]\n",
      "   [ 1.2733066 ]\n",
      "   [ 1.0060108 ]\n",
      "   ...\n",
      "   [-0.13072224]\n",
      "   [-0.8649313 ]\n",
      "   [ 2.718016  ]]]\n",
      "\n",
      "\n",
      " [[[ 0.14976053]\n",
      "   [-0.01216669]\n",
      "   [-0.6969697 ]\n",
      "   ...\n",
      "   [-0.279776  ]\n",
      "   [-0.20407744]\n",
      "   [-0.2897851 ]]\n",
      "\n",
      "  [[ 0.1708601 ]\n",
      "   [-0.0540802 ]\n",
      "   [ 0.07301502]\n",
      "   ...\n",
      "   [ 0.5928858 ]\n",
      "   [ 0.5604432 ]\n",
      "   [-1.9477143 ]]\n",
      "\n",
      "  [[-0.4837286 ]\n",
      "   [ 0.41660672]\n",
      "   [ 0.5616587 ]\n",
      "   ...\n",
      "   [-0.01212902]\n",
      "   [-1.0192902 ]\n",
      "   [-0.08360596]]\n",
      "\n",
      "  ...\n",
      "\n",
      "  [[-0.4399807 ]\n",
      "   [-0.322962  ]\n",
      "   [ 0.4527815 ]\n",
      "   ...\n",
      "   [ 2.9348428 ]\n",
      "   [ 0.82423097]\n",
      "   [ 1.6299446 ]]\n",
      "\n",
      "  [[-1.0293734 ]\n",
      "   [-0.44137734]\n",
      "   [-0.15022965]\n",
      "   ...\n",
      "   [ 0.25288373]\n",
      "   [-0.25075358]\n",
      "   [ 0.6357668 ]]\n",
      "\n",
      "  [[ 1.1018932 ]\n",
      "   [ 1.2733066 ]\n",
      "   [ 1.0060108 ]\n",
      "   ...\n",
      "   [ 1.9988849 ]\n",
      "   [-0.26610965]\n",
      "   [ 1.1710284 ]]]\n",
      "\n",
      "\n",
      " [[[ 0.14976053]\n",
      "   [-0.01216669]\n",
      "   [-0.6969697 ]\n",
      "   ...\n",
      "   [-0.279776  ]\n",
      "   [-0.20407744]\n",
      "   [-0.2897851 ]]\n",
      "\n",
      "  [[ 0.1708601 ]\n",
      "   [-0.0540802 ]\n",
      "   [ 0.07301502]\n",
      "   ...\n",
      "   [ 0.5928858 ]\n",
      "   [ 0.5604432 ]\n",
      "   [-1.9477143 ]]\n",
      "\n",
      "  [[-0.4837286 ]\n",
      "   [ 0.41660672]\n",
      "   [ 0.5616587 ]\n",
      "   ...\n",
      "   [-0.01212711]\n",
      "   [-1.0192902 ]\n",
      "   [-0.08360596]]\n",
      "\n",
      "  ...\n",
      "\n",
      "  [[-0.43998164]\n",
      "   [-0.3229639 ]\n",
      "   [ 0.45278198]\n",
      "   ...\n",
      "   [ 0.15327625]\n",
      "   [ 0.5763939 ]\n",
      "   [ 1.3958662 ]]\n",
      "\n",
      "  [[-1.0293696 ]\n",
      "   [-0.44138497]\n",
      "   [-0.15023346]\n",
      "   ...\n",
      "   [ 0.7680319 ]\n",
      "   [-0.2909128 ]\n",
      "   [ 0.7819727 ]]\n",
      "\n",
      "  [[ 1.1018932 ]\n",
      "   [ 1.2733076 ]\n",
      "   [ 1.0060117 ]\n",
      "   ...\n",
      "   [ 0.20432405]\n",
      "   [-0.4794256 ]\n",
      "   [ 2.6161559 ]]]\n",
      "\n",
      "\n",
      " ...\n",
      "\n",
      "\n",
      " [[[ 0.14976053]\n",
      "   [-0.01216669]\n",
      "   [-0.6969697 ]\n",
      "   ...\n",
      "   [ 0.39789587]\n",
      "   [-0.2085311 ]\n",
      "   [-0.2467434 ]]\n",
      "\n",
      "  [[ 0.1708601 ]\n",
      "   [-0.0540802 ]\n",
      "   [ 0.07301502]\n",
      "   ...\n",
      "   [-1.5957413 ]\n",
      "   [-0.39583033]\n",
      "   [-1.9306762 ]]\n",
      "\n",
      "  [[-0.48372763]\n",
      "   [ 0.41660863]\n",
      "   [ 0.5616639 ]\n",
      "   ...\n",
      "   [ 0.3901375 ]\n",
      "   [-0.30282038]\n",
      "   [-0.02698918]]\n",
      "\n",
      "  ...\n",
      "\n",
      "  [[-0.57667273]\n",
      "   [-0.401869  ]\n",
      "   [ 0.47820836]\n",
      "   ...\n",
      "   [ 0.15327387]\n",
      "   [ 0.5763853 ]\n",
      "   [ 1.39587   ]]\n",
      "\n",
      "  [[-1.0455554 ]\n",
      "   [-0.2925989 ]\n",
      "   [-0.1652834 ]\n",
      "   ...\n",
      "   [ 0.7680281 ]\n",
      "   [-0.2909147 ]\n",
      "   [ 0.7819689 ]]\n",
      "\n",
      "  [[ 1.0384834 ]\n",
      "   [ 1.1334894 ]\n",
      "   [ 0.7892445 ]\n",
      "   ...\n",
      "   [ 0.20432405]\n",
      "   [-0.4794256 ]\n",
      "   [ 2.6161559 ]]]\n",
      "\n",
      "\n",
      " [[[ 0.14976053]\n",
      "   [-0.01216669]\n",
      "   [-0.6969697 ]\n",
      "   ...\n",
      "   [-0.27977648]\n",
      "   [-0.20407839]\n",
      "   [-0.28978604]]\n",
      "\n",
      "  [[ 0.1708601 ]\n",
      "   [-0.0540802 ]\n",
      "   [ 0.07301502]\n",
      "   ...\n",
      "   [ 0.5928858 ]\n",
      "   [ 0.5604437 ]\n",
      "   [-1.9477143 ]]\n",
      "\n",
      "  [[-0.48372763]\n",
      "   [ 0.4166029 ]\n",
      "   [ 0.5616587 ]\n",
      "   ...\n",
      "   [-0.01212902]\n",
      "   [-1.0192893 ]\n",
      "   [-0.08360596]]\n",
      "\n",
      "  ...\n",
      "\n",
      "  [[-0.4399807 ]\n",
      "   [-0.322962  ]\n",
      "   [ 0.4527815 ]\n",
      "   ...\n",
      "   [-1.1044476 ]\n",
      "   [ 0.16342907]\n",
      "   [ 4.816662  ]]\n",
      "\n",
      "  [[-1.0293734 ]\n",
      "   [-0.44137734]\n",
      "   [-0.15022965]\n",
      "   ...\n",
      "   [-1.5924876 ]\n",
      "   [ 0.50869113]\n",
      "   [ 2.4055898 ]]\n",
      "\n",
      "  [[ 1.1018932 ]\n",
      "   [ 1.2733066 ]\n",
      "   [ 1.0060108 ]\n",
      "   ...\n",
      "   [ 1.3534482 ]\n",
      "   [ 0.42771703]\n",
      "   [ 0.27396852]]]\n",
      "\n",
      "\n",
      " [[[ 0.14976053]\n",
      "   [-0.01216669]\n",
      "   [-0.6969697 ]\n",
      "   ...\n",
      "   [-0.27977648]\n",
      "   [-0.20407839]\n",
      "   [-0.28978604]]\n",
      "\n",
      "  [[ 0.1708601 ]\n",
      "   [-0.0540802 ]\n",
      "   [ 0.07301502]\n",
      "   ...\n",
      "   [ 0.5928858 ]\n",
      "   [ 0.5604437 ]\n",
      "   [-1.9477143 ]]\n",
      "\n",
      "  [[-0.48372763]\n",
      "   [ 0.41660672]\n",
      "   [ 0.5616587 ]\n",
      "   ...\n",
      "   [-0.01212902]\n",
      "   [-1.0192902 ]\n",
      "   [-0.08360596]]\n",
      "\n",
      "  ...\n",
      "\n",
      "  [[-0.4399807 ]\n",
      "   [-0.322962  ]\n",
      "   [ 0.4527815 ]\n",
      "   ...\n",
      "   [ 0.15327434]\n",
      "   [ 0.5763863 ]\n",
      "   [ 1.39587   ]]\n",
      "\n",
      "  [[-1.0293734 ]\n",
      "   [-0.44137734]\n",
      "   [-0.15022965]\n",
      "   ...\n",
      "   [ 0.7680281 ]\n",
      "   [-0.2909109 ]\n",
      "   [ 0.7819651 ]]\n",
      "\n",
      "  [[ 1.1018932 ]\n",
      "   [ 1.2733066 ]\n",
      "   [ 1.0060108 ]\n",
      "   ...\n",
      "   [ 0.20432405]\n",
      "   [-0.4794256 ]\n",
      "   [ 2.6161559 ]]]]\n"
     ]
    },
    {
     "data": {
      "image/png": "[encoded data removed]",
      "text/plain": [
       "<Figure size 640x480 with 2 Axes>"
      ]
     },
     "metadata": {},
     "output_type": "display_data"
    },
    {
     "data": {
      "image/png": "[encoded data removed]",
      "text/plain": [
       "<Figure size 640x480 with 2 Axes>"
      ]
     },
     "metadata": {},
     "output_type": "display_data"
    },
    {
     "data": {
      "image/png": "[encoded data removed]",
      "text/plain": [
       "<Figure size 640x480 with 2 Axes>"
      ]
     },
     "metadata": {},
     "output_type": "display_data"
    },
    {
     "data": {
      "image/png": "[encoded data removed]",
      "text/plain": [
       "<Figure size 640x480 with 2 Axes>"
      ]
     },
     "metadata": {},
     "output_type": "display_data"
    },
    {
     "data": {
      "image/png": "[encoded data removed]",
      "text/plain": [
       "<Figure size 640x480 with 2 Axes>"
      ]
     },
     "metadata": {},
     "output_type": "display_data"
    },
    {
     "data": {
      "image/png": "[encoded data removed]",
      "text/plain": [
       "<Figure size 640x480 with 2 Axes>"
      ]
     },
     "metadata": {},
     "output_type": "display_data"
    },
    {
     "data": {
      "image/png": "[encoded data removed]",
      "text/plain": [
       "<Figure size 640x480 with 2 Axes>"
      ]
     },
     "metadata": {},
     "output_type": "display_data"
    },
    {
     "data": {
      "image/png": "[encoded data removed]",
      "text/plain": [
       "<Figure size 640x480 with 2 Axes>"
      ]
     },
     "metadata": {},
     "output_type": "display_data"
    },
    {
     "data": {
      "image/png": "[encoded data removed]",
      "text/plain": [
       "<Figure size 640x480 with 2 Axes>"
      ]
     },
     "metadata": {},
     "output_type": "display_data"
    }
   ],
   "source": [
    "idx = np.random.choice(len(x_test), 9)\n",
    "\n",
    "test_images = x_test[idx]\n",
    "test_labels = y_test[idx]\n",
    "\n",
    "#print(test_images.shape)\n",
    "#print(test_labels.shape)\n",
    "\n",
    "test_data = dict(data=test_images.astype(float), labels=test_labels)\n",
    "\n",
    "reconstructions_test = trained_model.predict(test_data)\n",
    "\n",
    "print(reconstructions_test['recon'])\n",
    "\n",
    "for test_image, reconstructed_image in zip(test_images, reconstructions_test['recon']):\n",
    "    show_subplot(test_image, reconstructed_image)"
   ]
  }
 ],
 "metadata": {
  "kernelspec": {
   "display_name": "aepy-test",
   "language": "python",
   "name": "python3"
  },
  "language_info": {
   "codemirror_mode": {
    "name": "ipython",
    "version": 3
   },
   "file_extension": ".py",
   "mimetype": "text/x-python",
   "name": "python",
   "nbconvert_exporter": "python",
   "pygments_lexer": "ipython3",
   "version": "3.11.2"
  }
 },
 "nbformat": 4,
 "nbformat_minor": 2
}
