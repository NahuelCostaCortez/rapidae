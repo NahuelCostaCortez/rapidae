{
 "cells": [
  {
   "cell_type": "code",
   "execution_count": 1,
   "metadata": {},
   "outputs": [
    {
     "name": "stderr",
     "output_type": "stream",
     "text": [
      "2023-12-07 00:12:18.585937: E external/local_xla/xla/stream_executor/cuda/cuda_dnn.cc:9261] Unable to register cuDNN factory: Attempting to register factory for plugin cuDNN when one has already been registered\n",
      "2023-12-07 00:12:18.585965: E external/local_xla/xla/stream_executor/cuda/cuda_fft.cc:607] Unable to register cuFFT factory: Attempting to register factory for plugin cuFFT when one has already been registered\n",
      "2023-12-07 00:12:18.586661: E external/local_xla/xla/stream_executor/cuda/cuda_blas.cc:1515] Unable to register cuBLAS factory: Attempting to register factory for plugin cuBLAS when one has already been registered\n",
      "2023-12-07 00:12:18.591566: I tensorflow/core/platform/cpu_feature_guard.cc:182] This TensorFlow binary is optimized to use available CPU instructions in performance-critical operations.\n",
      "To enable the following instructions: AVX2 FMA, in other operations, rebuild TensorFlow with the appropriate compiler flags.\n",
      "2023-12-07 00:12:19.138231: W tensorflow/compiler/tf2tensorrt/utils/py_utils.cc:38] TF-TRT Warning: Could not find TensorRT\n"
     ]
    },
    {
     "name": "stdout",
     "output_type": "stream",
     "text": [
      "Using TensorFlow backend\n"
     ]
    }
   ],
   "source": [
    "import os\n",
    "import sys\n",
    "#os.environ['CUDA_VISIBLE_DEVICES'] = '0'\n",
    "notebook_dir = os.path.abspath('')\n",
    "sys.path.append(os.path.join(notebook_dir, '..'))\n",
    "\n",
    "import numpy as np\n",
    "import tensorflow as tf\n",
    "import matplotlib.pyplot as plt\n",
    "\n",
    "from sklearn.metrics import accuracy_score\n",
    "from keras_core import utils\n",
    "from aepy.data.datasets import load_MNIST\n",
    "from aepy.data.utils import evaluate\n",
    "from aepy.models.base.default_architectures import (Decoder_Conv_MNIST, Decoder_MLP,\n",
    "                                               Encoder_Conv_MNIST, Encoder_MLP)\n",
    "from aepy.models.vae.vae_model import VAE\n",
    "from aepy.pipelines.training import TrainingPipeline"
   ]
  },
  {
   "cell_type": "code",
   "execution_count": 2,
   "metadata": {},
   "outputs": [
    {
     "name": "stdout",
     "output_type": "stream",
     "text": [
      "GPU found\n",
      "2.15.0\n"
     ]
    },
    {
     "name": "stderr",
     "output_type": "stream",
     "text": [
      "2023-12-07 00:12:20.065366: I external/local_xla/xla/stream_executor/cuda/cuda_executor.cc:901] successful NUMA node read from SysFS had negative value (-1), but there must be at least one NUMA node, so returning NUMA node zero. See more at https://github.com/torvalds/linux/blob/v6.0/Documentation/ABI/testing/sysfs-bus-pci#L344-L355\n",
      "2023-12-07 00:12:20.082299: I external/local_xla/xla/stream_executor/cuda/cuda_executor.cc:901] successful NUMA node read from SysFS had negative value (-1), but there must be at least one NUMA node, so returning NUMA node zero. See more at https://github.com/torvalds/linux/blob/v6.0/Documentation/ABI/testing/sysfs-bus-pci#L344-L355\n",
      "2023-12-07 00:12:20.082491: I external/local_xla/xla/stream_executor/cuda/cuda_executor.cc:901] successful NUMA node read from SysFS had negative value (-1), but there must be at least one NUMA node, so returning NUMA node zero. See more at https://github.com/torvalds/linux/blob/v6.0/Documentation/ABI/testing/sysfs-bus-pci#L344-L355\n",
      "2023-12-07 00:12:20.137192: I external/local_xla/xla/stream_executor/cuda/cuda_executor.cc:901] successful NUMA node read from SysFS had negative value (-1), but there must be at least one NUMA node, so returning NUMA node zero. See more at https://github.com/torvalds/linux/blob/v6.0/Documentation/ABI/testing/sysfs-bus-pci#L344-L355\n",
      "2023-12-07 00:12:20.137351: I external/local_xla/xla/stream_executor/cuda/cuda_executor.cc:901] successful NUMA node read from SysFS had negative value (-1), but there must be at least one NUMA node, so returning NUMA node zero. See more at https://github.com/torvalds/linux/blob/v6.0/Documentation/ABI/testing/sysfs-bus-pci#L344-L355\n",
      "2023-12-07 00:12:20.137489: I external/local_xla/xla/stream_executor/cuda/cuda_executor.cc:901] successful NUMA node read from SysFS had negative value (-1), but there must be at least one NUMA node, so returning NUMA node zero. See more at https://github.com/torvalds/linux/blob/v6.0/Documentation/ABI/testing/sysfs-bus-pci#L344-L355\n",
      "2023-12-07 00:12:20.137587: I tensorflow/core/common_runtime/gpu/gpu_device.cc:1929] Created device /device:GPU:0 with 1216 MB memory:  -> device: 0, name: NVIDIA GeForce RTX 3060 Ti, pci bus id: 0000:27:00.0, compute capability: 8.6\n"
     ]
    }
   ],
   "source": [
    "if tf.test.gpu_device_name():\n",
    "    print('GPU found')\n",
    "else:\n",
    "    print(\"No GPU found\")\n",
    "\n",
    "print(tf.__version__)"
   ]
  },
  {
   "cell_type": "code",
   "execution_count": 3,
   "metadata": {},
   "outputs": [
    {
     "name": "stderr",
     "output_type": "stream",
     "text": [
      "2023-12-07 00:12:20 \u001b[32m[INFO]\u001b[0m: train-images-idx3-ubyte.gz already exists.\u001b[0m\n",
      "2023-12-07 00:12:20 \u001b[32m[INFO]\u001b[0m: train-labels-idx1-ubyte.gz already exists.\u001b[0m\n",
      "2023-12-07 00:12:20 \u001b[32m[INFO]\u001b[0m: t10k-images-idx3-ubyte.gz already exists.\u001b[0m\n",
      "2023-12-07 00:12:20 \u001b[32m[INFO]\u001b[0m: t10k-labels-idx1-ubyte.gz already exists.\u001b[0m\n"
     ]
    }
   ],
   "source": [
    "# Load MNIST dataset\n",
    "x_train, y_train, x_test, y_test = load_MNIST(persistant=True)\n",
    "\n",
    "#x_train = np.expand_dims(x_train, -1).astype(\"float32\") / 255\n",
    "#x_test = np.expand_dims(x_test, -1).astype(\"float32\") / 255\n",
    "\n",
    "# Obtaint number of clasess\n",
    "n_classes = len(set(y_train))\n",
    "\n",
    "# Convert labels to categorical\n",
    "y_train = utils.to_categorical(y_train, n_classes)\n",
    "y_test = utils.to_categorical(y_test, n_classes)"
   ]
  },
  {
   "cell_type": "code",
   "execution_count": 4,
   "metadata": {},
   "outputs": [],
   "source": [
    "train_data = dict(data=x_train.astype(float), labels=y_train)\n",
    "test_data = dict(data=x_test.astype(float), labels=y_test)\n",
    "print(y_test.shape)\n",
    "print(x_test.shape)"
   ]
  },
  {
   "cell_type": "code",
   "execution_count": 5,
   "metadata": {},
   "outputs": [
    {
     "name": "stderr",
     "output_type": "stream",
     "text": [
      "2023-12-07 00:12:20 \u001b[32m[INFO]\u001b[0m: Classificator available for the latent space of the autoencoder\u001b[0m\n",
      "2023-12-07 00:12:20.396993: I external/local_xla/xla/stream_executor/cuda/cuda_executor.cc:901] successful NUMA node read from SysFS had negative value (-1), but there must be at least one NUMA node, so returning NUMA node zero. See more at https://github.com/torvalds/linux/blob/v6.0/Documentation/ABI/testing/sysfs-bus-pci#L344-L355\n",
      "2023-12-07 00:12:20.397218: I external/local_xla/xla/stream_executor/cuda/cuda_executor.cc:901] successful NUMA node read from SysFS had negative value (-1), but there must be at least one NUMA node, so returning NUMA node zero. See more at https://github.com/torvalds/linux/blob/v6.0/Documentation/ABI/testing/sysfs-bus-pci#L344-L355\n",
      "2023-12-07 00:12:20.397352: I external/local_xla/xla/stream_executor/cuda/cuda_executor.cc:901] successful NUMA node read from SysFS had negative value (-1), but there must be at least one NUMA node, so returning NUMA node zero. See more at https://github.com/torvalds/linux/blob/v6.0/Documentation/ABI/testing/sysfs-bus-pci#L344-L355\n",
      "2023-12-07 00:12:20.397610: I external/local_xla/xla/stream_executor/cuda/cuda_executor.cc:901] successful NUMA node read from SysFS had negative value (-1), but there must be at least one NUMA node, so returning NUMA node zero. See more at https://github.com/torvalds/linux/blob/v6.0/Documentation/ABI/testing/sysfs-bus-pci#L344-L355\n",
      "2023-12-07 00:12:20.397868: I external/local_xla/xla/stream_executor/cuda/cuda_executor.cc:901] successful NUMA node read from SysFS had negative value (-1), but there must be at least one NUMA node, so returning NUMA node zero. See more at https://github.com/torvalds/linux/blob/v6.0/Documentation/ABI/testing/sysfs-bus-pci#L344-L355\n",
      "2023-12-07 00:12:20.398061: I external/local_xla/xla/stream_executor/cuda/cuda_executor.cc:901] successful NUMA node read from SysFS had negative value (-1), but there must be at least one NUMA node, so returning NUMA node zero. See more at https://github.com/torvalds/linux/blob/v6.0/Documentation/ABI/testing/sysfs-bus-pci#L344-L355\n",
      "2023-12-07 00:12:20.398236: I external/local_xla/xla/stream_executor/cuda/cuda_executor.cc:901] successful NUMA node read from SysFS had negative value (-1), but there must be at least one NUMA node, so returning NUMA node zero. See more at https://github.com/torvalds/linux/blob/v6.0/Documentation/ABI/testing/sysfs-bus-pci#L344-L355\n",
      "2023-12-07 00:12:20.398367: I external/local_xla/xla/stream_executor/cuda/cuda_executor.cc:901] successful NUMA node read from SysFS had negative value (-1), but there must be at least one NUMA node, so returning NUMA node zero. See more at https://github.com/torvalds/linux/blob/v6.0/Documentation/ABI/testing/sysfs-bus-pci#L344-L355\n",
      "2023-12-07 00:12:20.398458: I tensorflow/core/common_runtime/gpu/gpu_device.cc:1929] Created device /job:localhost/replica:0/task:0/device:GPU:0 with 1216 MB memory:  -> device: 0, name: NVIDIA GeForce RTX 3060 Ti, pci bus id: 0000:27:00.0, compute capability: 8.6\n"
     ]
    }
   ],
   "source": [
    "# Model creation\n",
    "model = VAE(input_dim=(x_train.shape[1], x_train.shape[2]), latent_dim=10, downstream_task='classification',\n",
    "            encoder=Encoder_Conv_MNIST, decoder=Decoder_Conv_MNIST, layers_conf=[32, 64], n_classes=n_classes,\n",
    "            weight_vae=0.25, weight_clf=20)"
   ]
  },
  {
   "cell_type": "code",
   "execution_count": 6,
   "metadata": {},
   "outputs": [
    {
     "name": "stderr",
     "output_type": "stream",
     "text": [
      "2023-12-07 00:12:20 \u001b[32m[INFO]\u001b[0m: +++ training_pipeline +++\u001b[0m\n",
      "2023-12-07 00:12:20 \u001b[32m[INFO]\u001b[0m: Creating folder in ../output_dir/training_pipeline_2023-12-07_00-12-20\u001b[0m\n"
     ]
    },
    {
     "name": "stdout",
     "output_type": "stream",
     "text": [
      "Epoch 1/20\n"
     ]
    },
    {
     "name": "stderr",
     "output_type": "stream",
     "text": [
      "2023-12-07 00:12:34.761982: I external/local_xla/xla/stream_executor/cuda/cuda_dnn.cc:454] Loaded cuDNN version 8904\n"
     ]
    },
    {
     "name": "stdout",
     "output_type": "stream",
     "text": [
      "\n",
      "Epoch 1: total_loss improved from inf to 489305.15625, saving model to ../output_dir/training_pipeline_2023-12-07_00-12-20/model.weights.h5\n",
      "469/469 - 22s - 46ms/step - clf_loss: 6.9770 - kl_loss: 1949444.3750 - reconstruction_loss: 7217.4473 - total_loss: 489305.1562\n",
      "Epoch 2/20\n",
      "\n",
      "Epoch 2: total_loss improved from 489305.15625 to 2271.93921, saving model to ../output_dir/training_pipeline_2023-12-07_00-12-20/model.weights.h5\n",
      "469/469 - 4s - 8ms/step - clf_loss: 2.2408 - kl_loss: 1691.2861 - reconstruction_loss: 7217.2075 - total_loss: 2271.9392\n",
      "Epoch 3/20\n",
      "\n",
      "Epoch 3: total_loss improved from 2271.93921 to 2143.78833, saving model to ../output_dir/training_pipeline_2023-12-07_00-12-20/model.weights.h5\n",
      "469/469 - 4s - 8ms/step - clf_loss: 2.1835 - kl_loss: 1183.4087 - reconstruction_loss: 7217.0698 - total_loss: 2143.7883\n",
      "Epoch 4/20\n",
      "\n",
      "Epoch 4: total_loss improved from 2143.78833 to 2076.71436, saving model to ../output_dir/training_pipeline_2023-12-07_00-12-20/model.weights.h5\n",
      "469/469 - 3s - 7ms/step - clf_loss: 2.1548 - kl_loss: 917.6470 - reconstruction_loss: 7216.8242 - total_loss: 2076.7144\n",
      "Epoch 5/20\n",
      "\n",
      "Epoch 5: total_loss improved from 2076.71436 to 2028.68140, saving model to ../output_dir/training_pipeline_2023-12-07_00-12-20/model.weights.h5\n",
      "469/469 - 3s - 7ms/step - clf_loss: 2.1368 - kl_loss: 726.8649 - reconstruction_loss: 7216.9126 - total_loss: 2028.6814\n",
      "Epoch 6/20\n",
      "\n",
      "Epoch 6: total_loss improved from 2028.68140 to 1993.97815, saving model to ../output_dir/training_pipeline_2023-12-07_00-12-20/model.weights.h5\n",
      "469/469 - 3s - 7ms/step - clf_loss: 2.1239 - kl_loss: 589.0095 - reconstruction_loss: 7217.0005 - total_loss: 1993.9781\n",
      "Epoch 7/20\n",
      "\n",
      "Epoch 7: total_loss improved from 1993.97815 to 1966.21411, saving model to ../output_dir/training_pipeline_2023-12-07_00-12-20/model.weights.h5\n",
      "469/469 - 3s - 7ms/step - clf_loss: 2.1102 - kl_loss: 479.0363 - reconstruction_loss: 7217.0044 - total_loss: 1966.2141\n",
      "Epoch 8/20\n",
      "\n",
      "Epoch 8: total_loss improved from 1966.21411 to 1944.68799, saving model to ../output_dir/training_pipeline_2023-12-07_00-12-20/model.weights.h5\n",
      "469/469 - 3s - 7ms/step - clf_loss: 2.0939 - kl_loss: 394.3326 - reconstruction_loss: 7216.9126 - total_loss: 1944.6880\n",
      "Epoch 9/20\n",
      "\n",
      "Epoch 9: total_loss improved from 1944.68799 to 1927.72815, saving model to ../output_dir/training_pipeline_2023-12-07_00-12-20/model.weights.h5\n",
      "469/469 - 3s - 7ms/step - clf_loss: 2.0827 - kl_loss: 327.1755 - reconstruction_loss: 7217.1245 - total_loss: 1927.7281\n",
      "Epoch 10/20\n",
      "\n",
      "Epoch 10: total_loss improved from 1927.72815 to 1913.89624, saving model to ../output_dir/training_pipeline_2023-12-07_00-12-20/model.weights.h5\n",
      "469/469 - 3s - 7ms/step - clf_loss: 2.0730 - kl_loss: 272.4147 - reconstruction_loss: 7217.3257 - total_loss: 1913.8962\n",
      "Epoch 11/20\n",
      "\n",
      "Epoch 11: total_loss improved from 1913.89624 to 1902.42310, saving model to ../output_dir/training_pipeline_2023-12-07_00-12-20/model.weights.h5\n",
      "469/469 - 3s - 7ms/step - clf_loss: 2.0646 - kl_loss: 227.4350 - reconstruction_loss: 7217.0884 - total_loss: 1902.4231\n",
      "Epoch 12/20\n",
      "\n",
      "Epoch 12: total_loss improved from 1902.42310 to 1892.96362, saving model to ../output_dir/training_pipeline_2023-12-07_00-12-20/model.weights.h5\n",
      "469/469 - 3s - 7ms/step - clf_loss: 2.0592 - kl_loss: 189.8893 - reconstruction_loss: 7217.2363 - total_loss: 1892.9636\n",
      "Epoch 13/20\n",
      "\n",
      "Epoch 13: total_loss improved from 1892.96362 to 1884.97107, saving model to ../output_dir/training_pipeline_2023-12-07_00-12-20/model.weights.h5\n",
      "469/469 - 3s - 7ms/step - clf_loss: 2.0495 - kl_loss: 158.9274 - reconstruction_loss: 7216.9941 - total_loss: 1884.9711\n",
      "Epoch 14/20\n",
      "\n",
      "Epoch 14: total_loss improved from 1884.97107 to 1877.97583, saving model to ../output_dir/training_pipeline_2023-12-07_00-12-20/model.weights.h5\n",
      "469/469 - 3s - 7ms/step - clf_loss: 2.0388 - kl_loss: 131.6647 - reconstruction_loss: 7217.1377 - total_loss: 1877.9758\n",
      "Epoch 15/20\n",
      "\n",
      "Epoch 15: total_loss improved from 1877.97583 to 1870.26196, saving model to ../output_dir/training_pipeline_2023-12-07_00-12-20/model.weights.h5\n",
      "469/469 - 3s - 7ms/step - clf_loss: 2.0275 - kl_loss: 101.6784 - reconstruction_loss: 7217.1680 - total_loss: 1870.2620\n",
      "Epoch 16/20\n",
      "\n",
      "Epoch 16: total_loss improved from 1870.26196 to 1851.24768, saving model to ../output_dir/training_pipeline_2023-12-07_00-12-20/model.weights.h5\n",
      "469/469 - 3s - 7ms/step - clf_loss: 2.0832 - kl_loss: 21.4597 - reconstruction_loss: 7216.8701 - total_loss: 1851.2477\n",
      "Epoch 17/20\n",
      "\n",
      "Epoch 17: total_loss improved from 1851.24768 to 1844.74023, saving model to ../output_dir/training_pipeline_2023-12-07_00-12-20/model.weights.h5\n",
      "469/469 - 3s - 7ms/step - clf_loss: 1.8959 - kl_loss: 10.4601 - reconstruction_loss: 7216.8330 - total_loss: 1844.7402\n",
      "Epoch 18/20\n",
      "\n",
      "Epoch 18: total_loss improved from 1844.74023 to 1841.63049, saving model to ../output_dir/training_pipeline_2023-12-07_00-12-20/model.weights.h5\n",
      "469/469 - 4s - 7ms/step - clf_loss: 1.7317 - kl_loss: 11.0979 - reconstruction_loss: 7216.8901 - total_loss: 1841.6305\n",
      "Epoch 19/20\n",
      "\n",
      "Epoch 19: total_loss improved from 1841.63049 to 1839.20117, saving model to ../output_dir/training_pipeline_2023-12-07_00-12-20/model.weights.h5\n",
      "469/469 - 3s - 7ms/step - clf_loss: 1.6108 - kl_loss: 11.0443 - reconstruction_loss: 7216.8945 - total_loss: 1839.2012\n",
      "Epoch 20/20\n",
      "\n",
      "Epoch 20: total_loss improved from 1839.20117 to 1837.83057, saving model to ../output_dir/training_pipeline_2023-12-07_00-12-20/model.weights.h5\n",
      "469/469 - 3s - 7ms/step - clf_loss: 1.5492 - kl_loss: 10.4533 - reconstruction_loss: 7216.9351 - total_loss: 1837.8306\n"
     ]
    }
   ],
   "source": [
    "pipe = TrainingPipeline(name='training_pipeline',\n",
    "                        model=model, num_epochs=20, batch_size=128)\n",
    "\n",
    "trained_model = pipe(train_data=train_data)"
   ]
  },
  {
   "cell_type": "code",
   "execution_count": 7,
   "metadata": {},
   "outputs": [],
   "source": [
    "model.load_weights(filepath='../output_dir/training_pipeline_2023-11-25_00-50-30/model.weights.h5')"
   ]
  },
  {
   "cell_type": "code",
   "execution_count": 8,
   "metadata": {},
   "outputs": [
    {
     "ename": "SyntaxError",
     "evalue": "invalid syntax (87367603.py, line 1)",
     "output_type": "error",
     "traceback": [
      "\u001b[0;36m  Cell \u001b[0;32mIn[8], line 1\u001b[0;36m\u001b[0m\n\u001b[0;31m    def plot_label_clusters(vae,  must be equal, but ar\u001b[0m\n\u001b[0m                                       ^\u001b[0m\n\u001b[0;31mSyntaxError\u001b[0m\u001b[0;31m:\u001b[0m invalid syntax\n"
     ]
    }
   ],
   "source": [
    "def plot_label_clusters(vae,  must be equal, but ar\n",
    "    # Display a 2D plot of the digit classes in the latent space\n",
    "    _, _, z = vae.predict(data)\n",
    "    plt.figure(figsize=(12, 10))\n",
    "    plt.scatter(z[:, 0], z[:, 1], c=labels)\n",
    "    plt.colorbar()\n",
    "    plt.xlabel(\"z[0]\")\n",
    "    plt.ylabel(\"z[1]\")\n",
    "    plt.show()\n",
    "    if include_flow:\n",
    "      z = vae.flow.inverse(z)\n",
    "      plt.figure(figsize=(12, 10))\n",
    "      plt.scatter(z[:, 0], z[:, 1], c=labels)\n",
    "      plt.colorbar()\n",
    "      plt.xlabel(\"z[0]\")\n",
    "      plt.ylabel(\"z[1]\")\n",
    "      plt.show()"
   ]
  },
  {
   "cell_type": "code",
   "execution_count": 9,
   "metadata": {},
   "outputs": [
    {
     "ename": "NameError",
     "evalue": "name 'plot_label_clusters' is not defined",
     "output_type": "error",
     "traceback": [
      "\u001b[0;31m---------------------------------------------------------------------------\u001b[0m",
      "\u001b[0;31mNameError\u001b[0m                                 Traceback (most recent call last)",
      "\u001b[1;32m/home/lucaspc/aepy-project/aepy/examples/mnist_conv_vae.ipynb Cell 9\u001b[0m line \u001b[0;36m1\n\u001b[0;32m----> <a href='vscode-notebook-cell:/home/lucaspc/aepy-project/aepy/examples/mnist_conv_vae.ipynb#X11sZmlsZQ%3D%3D?line=0'>1</a>\u001b[0m plot_label_clusters(model, train_data, y_train)\n\u001b[1;32m      <a href='vscode-notebook-cell:/home/lucaspc/aepy-project/aepy/examples/mnist_conv_vae.ipynb#X11sZmlsZQ%3D%3D?line=1'>2</a>\u001b[0m plot_label_clusters(model, test_data, y_test)\n",
      "\u001b[0;31mNameError\u001b[0m: name 'plot_label_clusters' is not defined"
     ]
    }
   ],
   "source": [
    "plot_label_clusters(model, train_data, y_train)\n",
    "plot_label_clusters(model, test_data, y_test)"
   ]
  },
  {
   "cell_type": "code",
   "execution_count": 10,
   "metadata": {},
   "outputs": [
    {
     "name": "stdout",
     "output_type": "stream",
     "text": [
      "\u001b[1m313/313\u001b[0m \u001b[32m━━━━━━━━━━━━━━━━━━━━\u001b[0m\u001b[37m\u001b[0m \u001b[1m3s\u001b[0m 9ms/step\n",
      "[7 2 1 ... 4 5 6]\n",
      "[7 2 1 ... 4 5 6]\n",
      "              precision    recall  f1-score   support\n",
      "\n",
      "    number 0       0.98      0.98      0.98       980\n",
      "    number 1       0.96      0.99      0.97      1135\n",
      "    number 2       0.98      0.97      0.97      1032\n",
      "    number 3       0.97      0.98      0.97      1010\n",
      "    number 4       0.98      0.96      0.97       982\n",
      "    number 5       0.98      0.95      0.97       892\n",
      "    number 6       0.97      0.99      0.98       958\n",
      "    number 7       0.96      0.97      0.97      1028\n",
      "    number 8       0.97      0.95      0.96       974\n",
      "    number 9       0.97      0.97      0.97      1009\n",
      "\n",
      "    accuracy                           0.97     10000\n",
      "   macro avg       0.97      0.97      0.97     10000\n",
      "weighted avg       0.97      0.97      0.97     10000\n",
      "\n"
     ]
    }
   ],
   "source": [
    "from sklearn.metrics import classification_report\n",
    "\n",
    "#y_train_predict = model.predict(train_data)\n",
    "y_test_predict =  model.predict(test_data)\n",
    "\n",
    "print(np.argmax(y_test_predict['clf'], axis=1))\n",
    "print(np.argmax(y_test, axis=1))\n",
    "\n",
    "target_names = ['number 0', 'number 1', 'number 2', 'number 3', 'number 4', 'number 5', 'number 6', 'number 7', 'number 8', 'number 9']\n",
    "\n",
    "#classification_report(y_train, np.argmax(y_train_predict['clf'], axis=1), target_names=target_names)\n",
    "print(classification_report(np.argmax(y_test, axis=1), np.argmax(y_test_predict['clf'], axis=1), target_names=target_names))"
   ]
  },
  {
   "cell_type": "code",
   "execution_count": 11,
   "metadata": {},
   "outputs": [
    {
     "name": "stdout",
     "output_type": "stream",
     "text": [
      "\u001b[1m313/313\u001b[0m \u001b[32m━━━━━━━━━━━━━━━━━━━━\u001b[0m\u001b[37m\u001b[0m \u001b[1m3s\u001b[0m 8ms/step\n",
      "test set results: [\n",
      "\t accuracy_score: 0.97 \n",
      "]\n"
     ]
    },
    {
     "data": {
      "text/plain": [
       "0.97"
      ]
     },
     "execution_count": 11,
     "metadata": {},
     "output_type": "execute_result"
    }
   ],
   "source": [
    "y_hat = trained_model.predict(test_data)\n",
    "\n",
    "evaluate(y_true=np.argmax(test_data['labels'], axis=1), \n",
    "         y_hat=np.argmax(y_hat['clf'], axis=1),\n",
    "         sel_metric=accuracy_score)"
   ]
  }
 ],
 "metadata": {
  "kernelspec": {
   "display_name": "aepy-test",
   "language": "python",
   "name": "python3"
  },
  "language_info": {
   "codemirror_mode": {
    "name": "ipython",
    "version": 3
   },
   "file_extension": ".py",
   "mimetype": "text/x-python",
   "name": "python",
   "nbconvert_exporter": "python",
   "pygments_lexer": "ipython3",
   "version": "3.11.2"
  }
 },
 "nbformat": 4,
 "nbformat_minor": 2
}
