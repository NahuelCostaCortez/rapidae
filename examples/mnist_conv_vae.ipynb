{
 "cells": [
  {
   "cell_type": "code",
   "execution_count": 1,
   "metadata": {},
   "outputs": [
    {
     "name": "stderr",
     "output_type": "stream",
     "text": [
      "2023-12-19 14:42:25.797597: I tensorflow/core/platform/cpu_feature_guard.cc:182] This TensorFlow binary is optimized to use available CPU instructions in performance-critical operations.\n",
      "To enable the following instructions: AVX2 FMA, in other operations, rebuild TensorFlow with the appropriate compiler flags.\n"
     ]
    },
    {
     "name": "stdout",
     "output_type": "stream",
     "text": [
      "Using TensorFlow backend\n"
     ]
    }
   ],
   "source": [
    "import os\n",
    "import sys\n",
    "#os.environ['CUDA_VISIBLE_DEVICES'] = '0'\n",
    "notebook_dir = os.path.abspath('')\n",
    "sys.path.append(os.path.join(notebook_dir, '..'))\n",
    "\n",
    "import numpy as np\n",
    "import tensorflow as tf\n",
    "import matplotlib.pyplot as plt\n",
    "\n",
    "from sklearn.metrics import accuracy_score\n",
    "from keras_core import utils\n",
    "from aepy.data.datasets import load_MNIST\n",
    "from aepy.data.utils import evaluate\n",
    "from aepy.models.base.default_architectures import (Decoder_Conv_MNIST, Decoder_MLP,\n",
    "                                               Encoder_Conv_MNIST, Encoder_MLP)\n",
    "from aepy.models.vae.vae_model import VAE\n",
    "from aepy.pipelines.training import TrainingPipeline"
   ]
  },
  {
   "cell_type": "code",
   "execution_count": 2,
   "metadata": {},
   "outputs": [
    {
     "name": "stdout",
     "output_type": "stream",
     "text": [
      "No GPU found\n",
      "2.16.0-dev20231103\n"
     ]
    }
   ],
   "source": [
    "if tf.test.gpu_device_name():\n",
    "    print('GPU found')\n",
    "else:\n",
    "    print(\"No GPU found\")\n",
    "\n",
    "print(tf.__version__)"
   ]
  },
  {
   "cell_type": "code",
   "execution_count": 3,
   "metadata": {},
   "outputs": [
    {
     "name": "stderr",
     "output_type": "stream",
     "text": [
      "2023-12-19 14:42:34 \u001b[32m[INFO]\u001b[0m: train-images-idx3-ubyte.gz already exists.\u001b[0m\n",
      "2023-12-19 14:42:34 \u001b[32m[INFO]\u001b[0m: train-labels-idx1-ubyte.gz already exists.\u001b[0m\n",
      "2023-12-19 14:42:34 \u001b[32m[INFO]\u001b[0m: t10k-images-idx3-ubyte.gz already exists.\u001b[0m\n",
      "2023-12-19 14:42:34 \u001b[32m[INFO]\u001b[0m: t10k-labels-idx1-ubyte.gz already exists.\u001b[0m\n"
     ]
    }
   ],
   "source": [
    "# Load MNIST dataset\n",
    "x_train, y_train, x_test, y_test = load_MNIST(persistant=True)\n",
    "\n",
    "#x_train = np.expand_dims(x_train, -1).astype(\"float32\") / 255\n",
    "#x_test = np.expand_dims(x_test, -1).astype(\"float32\") / 255\n",
    "\n",
    "# Obtaint number of clasess\n",
    "n_classes = len(set(y_train))\n",
    "\n",
    "# Convert labels to categorical\n",
    "y_train = utils.to_categorical(y_train, n_classes)\n",
    "y_test = utils.to_categorical(y_test, n_classes)"
   ]
  },
  {
   "cell_type": "code",
   "execution_count": 4,
   "metadata": {},
   "outputs": [
    {
     "name": "stdout",
     "output_type": "stream",
     "text": [
      "(10000, 10)\n",
      "(10000, 28, 28, 1)\n"
     ]
    }
   ],
   "source": [
    "train_data = dict(data=x_train.astype(float), labels=y_train)\n",
    "test_data = dict(data=x_test.astype(float), labels=y_test)\n",
    "print(y_test.shape)\n",
    "print(x_test.shape)"
   ]
  },
  {
   "cell_type": "code",
   "execution_count": 5,
   "metadata": {},
   "outputs": [
    {
     "name": "stderr",
     "output_type": "stream",
     "text": [
      "2023-12-19 14:42:38 \u001b[32m[INFO]\u001b[0m: Classificator available for the latent space of the autoencoder\u001b[0m\n"
     ]
    }
   ],
   "source": [
    "# Model creation\n",
    "model = VAE(input_dim=(x_train.shape[1], x_train.shape[2]), latent_dim=10, downstream_task='classification',\n",
    "            encoder=Encoder_Conv_MNIST, decoder=Decoder_Conv_MNIST, layers_conf=[32, 64], n_classes=n_classes,\n",
    "            weight_vae=0.25, weight_clf=20)"
   ]
  },
  {
   "cell_type": "code",
   "execution_count": 6,
   "metadata": {},
   "outputs": [
    {
     "name": "stderr",
     "output_type": "stream",
     "text": [
      "2023-12-19 14:42:40 \u001b[32m[INFO]\u001b[0m: +++ training_pipeline +++\u001b[0m\n",
      "2023-12-19 14:42:40 \u001b[32m[INFO]\u001b[0m: Creating folder in ../output_dir/training_pipeline_2023-12-19_14-42-40\u001b[0m\n"
     ]
    },
    {
     "name": "stdout",
     "output_type": "stream",
     "text": [
      "Epoch 1/6\n"
     ]
    },
    {
     "ename": "ValueError",
     "evalue": "For a model with multiple outputs, when providing the `metrics` argument as a list, it should have as many entries as the model has outputs. Received:\nmetrics=[<bound method VAE.kl_loss of <VAE name=vae, built=True>>, <bound method VAE.reconstruction_loss of <VAE name=vae, built=True>>, <bound method VAE.clf_loss of <VAE name=vae, built=True>>]\nof length 3 whereas the model has 5 outputs.",
     "output_type": "error",
     "traceback": [
      "\u001b[0;31m---------------------------------------------------------------------------\u001b[0m",
      "\u001b[0;31mValueError\u001b[0m                                Traceback (most recent call last)",
      "\u001b[1;32m/home/lucas/experiment/aepy/examples/mnist_conv_vae.ipynb Cell 6\u001b[0m line \u001b[0;36m4\n\u001b[1;32m      <a href='vscode-notebook-cell:/home/lucas/experiment/aepy/examples/mnist_conv_vae.ipynb#W5sZmlsZQ%3D%3D?line=0'>1</a>\u001b[0m pipe \u001b[39m=\u001b[39m TrainingPipeline(name\u001b[39m=\u001b[39m\u001b[39m'\u001b[39m\u001b[39mtraining_pipeline\u001b[39m\u001b[39m'\u001b[39m,\n\u001b[1;32m      <a href='vscode-notebook-cell:/home/lucas/experiment/aepy/examples/mnist_conv_vae.ipynb#W5sZmlsZQ%3D%3D?line=1'>2</a>\u001b[0m                         model\u001b[39m=\u001b[39mmodel, num_epochs\u001b[39m=\u001b[39m\u001b[39m6\u001b[39m, batch_size\u001b[39m=\u001b[39m\u001b[39m128\u001b[39m, metrics\u001b[39m=\u001b[39m[model\u001b[39m.\u001b[39mkl_loss, model\u001b[39m.\u001b[39mreconstruction_loss, model\u001b[39m.\u001b[39mclf_loss])\n\u001b[0;32m----> <a href='vscode-notebook-cell:/home/lucas/experiment/aepy/examples/mnist_conv_vae.ipynb#W5sZmlsZQ%3D%3D?line=3'>4</a>\u001b[0m trained_model \u001b[39m=\u001b[39m pipe(x\u001b[39m=\u001b[39;49mx_train\u001b[39m.\u001b[39;49mastype(\u001b[39mfloat\u001b[39;49m), y\u001b[39m=\u001b[39;49my_train)\n",
      "File \u001b[0;32m~/experiment/aepy/examples/../aepy/pipelines/training.py:97\u001b[0m, in \u001b[0;36mTrainingPipeline.__call__\u001b[0;34m(self, x, y, x_eval, y_eval, callbacks, save_model)\u001b[0m\n\u001b[1;32m     94\u001b[0m     \u001b[39mself\u001b[39m\u001b[39m.\u001b[39mmodel\u001b[39m.\u001b[39mcompile(optimizer\u001b[39m=\u001b[39moptimizer, run_eagerly\u001b[39m=\u001b[39m\u001b[39mTrue\u001b[39;00m, metrics\u001b[39m=\u001b[39m\u001b[39mself\u001b[39m\u001b[39m.\u001b[39mmetrics)\n\u001b[1;32m     96\u001b[0m \u001b[39mif\u001b[39;00m x_eval \u001b[39mis\u001b[39;00m \u001b[39mNone\u001b[39;00m:\n\u001b[0;32m---> 97\u001b[0m     \u001b[39mself\u001b[39;49m\u001b[39m.\u001b[39;49mmodel\u001b[39m.\u001b[39;49mfit(\n\u001b[1;32m     98\u001b[0m                 x\u001b[39m=\u001b[39;49mx,\n\u001b[1;32m     99\u001b[0m                 y\u001b[39m=\u001b[39;49my,\n\u001b[1;32m    100\u001b[0m                 shuffle\u001b[39m=\u001b[39;49m\u001b[39mTrue\u001b[39;49;00m,\n\u001b[1;32m    101\u001b[0m                 epochs\u001b[39m=\u001b[39;49m\u001b[39mself\u001b[39;49m\u001b[39m.\u001b[39;49mnum_epochs,\n\u001b[1;32m    102\u001b[0m                 batch_size\u001b[39m=\u001b[39;49m\u001b[39mself\u001b[39;49m\u001b[39m.\u001b[39;49mbatch_size,\n\u001b[1;32m    103\u001b[0m                 callbacks\u001b[39m=\u001b[39;49mcallbacks,\n\u001b[1;32m    104\u001b[0m                 verbose\u001b[39m=\u001b[39;49m\u001b[39m2\u001b[39;49m)\n\u001b[1;32m    105\u001b[0m \u001b[39melse\u001b[39;00m:\n\u001b[1;32m    106\u001b[0m     \u001b[39mself\u001b[39m\u001b[39m.\u001b[39mmodel\u001b[39m.\u001b[39mfit(\n\u001b[1;32m    107\u001b[0m                 x\u001b[39m=\u001b[39mx,\n\u001b[1;32m    108\u001b[0m                 y\u001b[39m=\u001b[39my,\n\u001b[0;32m   (...)\u001b[0m\n\u001b[1;32m    113\u001b[0m                 callbacks\u001b[39m=\u001b[39mcallbacks,\n\u001b[1;32m    114\u001b[0m                 verbose\u001b[39m=\u001b[39m\u001b[39m2\u001b[39m)\n",
      "File \u001b[0;32m~/python_envs/aepy-test/lib/python3.10/site-packages/keras_core/src/utils/traceback_utils.py:123\u001b[0m, in \u001b[0;36mfilter_traceback.<locals>.error_handler\u001b[0;34m(*args, **kwargs)\u001b[0m\n\u001b[1;32m    120\u001b[0m     filtered_tb \u001b[39m=\u001b[39m _process_traceback_frames(e\u001b[39m.\u001b[39m__traceback__)\n\u001b[1;32m    121\u001b[0m     \u001b[39m# To get the full stack trace, call:\u001b[39;00m\n\u001b[1;32m    122\u001b[0m     \u001b[39m# `keras_core.config.disable_traceback_filtering()`\u001b[39;00m\n\u001b[0;32m--> 123\u001b[0m     \u001b[39mraise\u001b[39;00m e\u001b[39m.\u001b[39mwith_traceback(filtered_tb) \u001b[39mfrom\u001b[39;00m \u001b[39mNone\u001b[39;00m\n\u001b[1;32m    124\u001b[0m \u001b[39mfinally\u001b[39;00m:\n\u001b[1;32m    125\u001b[0m     \u001b[39mdel\u001b[39;00m filtered_tb\n",
      "File \u001b[0;32m~/python_envs/aepy-test/lib/python3.10/site-packages/keras_core/src/trainers/compile_utils.py:239\u001b[0m, in \u001b[0;36mCompileMetrics._build_metrics_set\u001b[0;34m(self, metrics, num_outputs, output_names, y_true, y_pred, argument_name)\u001b[0m\n\u001b[1;32m    237\u001b[0m \u001b[39mif\u001b[39;00m \u001b[39misinstance\u001b[39m(metrics, (\u001b[39mlist\u001b[39m, \u001b[39mtuple\u001b[39m)):\n\u001b[1;32m    238\u001b[0m     \u001b[39mif\u001b[39;00m \u001b[39mlen\u001b[39m(metrics) \u001b[39m!=\u001b[39m \u001b[39mlen\u001b[39m(y_pred):\n\u001b[0;32m--> 239\u001b[0m         \u001b[39mraise\u001b[39;00m \u001b[39mValueError\u001b[39;00m(\n\u001b[1;32m    240\u001b[0m             \u001b[39m\"\u001b[39m\u001b[39mFor a model with multiple outputs, \u001b[39m\u001b[39m\"\u001b[39m\n\u001b[1;32m    241\u001b[0m             \u001b[39mf\u001b[39m\u001b[39m\"\u001b[39m\u001b[39mwhen providing the `\u001b[39m\u001b[39m{\u001b[39;00margument_name\u001b[39m}\u001b[39;00m\u001b[39m` argument as a \u001b[39m\u001b[39m\"\u001b[39m\n\u001b[1;32m    242\u001b[0m             \u001b[39m\"\u001b[39m\u001b[39mlist, it should have as many entries as the model has \u001b[39m\u001b[39m\"\u001b[39m\n\u001b[1;32m    243\u001b[0m             \u001b[39mf\u001b[39m\u001b[39m\"\u001b[39m\u001b[39moutputs. Received:\u001b[39m\u001b[39m\\n\u001b[39;00m\u001b[39m{\u001b[39;00margument_name\u001b[39m}\u001b[39;00m\u001b[39m=\u001b[39m\u001b[39m{\u001b[39;00mmetrics\u001b[39m}\u001b[39;00m\u001b[39m\\n\u001b[39;00m\u001b[39mof \u001b[39m\u001b[39m\"\u001b[39m\n\u001b[1;32m    244\u001b[0m             \u001b[39mf\u001b[39m\u001b[39m\"\u001b[39m\u001b[39mlength \u001b[39m\u001b[39m{\u001b[39;00m\u001b[39mlen\u001b[39m(metrics)\u001b[39m}\u001b[39;00m\u001b[39m whereas the model has \u001b[39m\u001b[39m\"\u001b[39m\n\u001b[1;32m    245\u001b[0m             \u001b[39mf\u001b[39m\u001b[39m\"\u001b[39m\u001b[39m{\u001b[39;00m\u001b[39mlen\u001b[39m(y_pred)\u001b[39m}\u001b[39;00m\u001b[39m outputs.\u001b[39m\u001b[39m\"\u001b[39m\n\u001b[1;32m    246\u001b[0m         )\n\u001b[1;32m    247\u001b[0m     \u001b[39mfor\u001b[39;00m idx, (mls, yt, yp) \u001b[39min\u001b[39;00m \u001b[39menumerate\u001b[39m(\n\u001b[1;32m    248\u001b[0m         \u001b[39mzip\u001b[39m(metrics, y_true, y_pred)\n\u001b[1;32m    249\u001b[0m     ):\n\u001b[1;32m    250\u001b[0m         \u001b[39mif\u001b[39;00m \u001b[39mnot\u001b[39;00m \u001b[39misinstance\u001b[39m(mls, \u001b[39mlist\u001b[39m):\n",
      "\u001b[0;31mValueError\u001b[0m: For a model with multiple outputs, when providing the `metrics` argument as a list, it should have as many entries as the model has outputs. Received:\nmetrics=[<bound method VAE.kl_loss of <VAE name=vae, built=True>>, <bound method VAE.reconstruction_loss of <VAE name=vae, built=True>>, <bound method VAE.clf_loss of <VAE name=vae, built=True>>]\nof length 3 whereas the model has 5 outputs."
     ]
    }
   ],
   "source": [
    "pipe = TrainingPipeline(name='training_pipeline',\n",
    "                        model=model, num_epochs=6, batch_size=128, metrics=[model.kl_loss, model.reconstruction_loss, model.clf_loss])\n",
    "\n",
    "trained_model = pipe(x=x_train.astype(float), y=y_train)"
   ]
  },
  {
   "cell_type": "code",
   "execution_count": null,
   "metadata": {},
   "outputs": [],
   "source": [
    "model.load_weights(filepath='../output_dir/training_pipeline_2023-11-25_00-50-30/model.weights.h5')"
   ]
  },
  {
   "cell_type": "code",
   "execution_count": null,
   "metadata": {},
   "outputs": [],
   "source": [
    "def plot_label_clusters(vae,  must be equal, but ar\n",
    "    # Display a 2D plot of the digit classes in the latent space\n",
    "    _, _, z = vae.predict(data)\n",
    "    plt.figure(figsize=(12, 10))\n",
    "    plt.scatter(z[:, 0], z[:, 1], c=labels)\n",
    "    plt.colorbar()\n",
    "    plt.xlabel(\"z[0]\")\n",
    "    plt.ylabel(\"z[1]\")\n",
    "    plt.show()\n",
    "    if include_flow:\n",
    "      z = vae.flow.inverse(z)\n",
    "      plt.figure(figsize=(12, 10))\n",
    "      plt.scatter(z[:, 0], z[:, 1], c=labels)\n",
    "      plt.colorbar()\n",
    "      plt.xlabel(\"z[0]\")\n",
    "      plt.ylabel(\"z[1]\")\n",
    "      plt.show()"
   ]
  },
  {
   "cell_type": "code",
   "execution_count": null,
   "metadata": {},
   "outputs": [],
   "source": [
    "plot_label_clusters(model, train_data, y_train)\n",
    "plot_label_clusters(model, test_data, y_test)"
   ]
  },
  {
   "cell_type": "code",
   "execution_count": null,
   "metadata": {},
   "outputs": [],
   "source": [
    "from sklearn.metrics import classification_report\n",
    "\n",
    "#y_train_predict = model.predict(train_data)\n",
    "y_test_predict =  model.predict(test_data)\n",
    "\n",
    "print(np.argmax(y_test_predict['clf'], axis=1))\n",
    "print(np.argmax(y_test, axis=1))\n",
    "\n",
    "target_names = ['number 0', 'number 1', 'number 2', 'number 3', 'number 4', 'number 5', 'number 6', 'number 7', 'number 8', 'number 9']\n",
    "\n",
    "#classification_report(y_train, np.argmax(y_train_predict['clf'], axis=1), target_names=target_names)\n",
    "print(classification_report(np.argmax(y_test, axis=1), np.argmax(y_test_predict['clf'], axis=1), target_names=target_names))"
   ]
  },
  {
   "cell_type": "code",
   "execution_count": null,
   "metadata": {},
   "outputs": [],
   "source": [
    "y_hat = trained_model.predict(test_data)\n",
    "\n",
    "evaluate(y_true=np.argmax(test_data['labels'], axis=1), \n",
    "         y_hat=np.argmax(y_hat['clf'], axis=1),\n",
    "         sel_metric=accuracy_score)"
   ]
  }
 ],
 "metadata": {
  "kernelspec": {
   "display_name": "aepy-test",
   "language": "python",
   "name": "python3"
  },
  "language_info": {
   "codemirror_mode": {
    "name": "ipython",
    "version": 3
   },
   "file_extension": ".py",
   "mimetype": "text/x-python",
   "name": "python",
   "nbconvert_exporter": "python",
   "pygments_lexer": "ipython3",
   "version": "3.10.12"
  }
 },
 "nbformat": 4,
 "nbformat_minor": 2
}
