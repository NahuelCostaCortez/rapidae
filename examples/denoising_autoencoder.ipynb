{
 "cells": [
  {
   "cell_type": "markdown",
   "metadata": {},
   "source": [
    "# Example of Denoising Autoencoder with MNIST dataset"
   ]
  },
  {
   "cell_type": "code",
   "execution_count": 1,
   "metadata": {},
   "outputs": [],
   "source": [
    "# First install the library\n",
    "\n",
    "# %pip install rapidae"
   ]
  },
  {
   "cell_type": "markdown",
   "metadata": {},
   "source": [
    "Since Rapidae uses the new version of Keras 3, this allows the use of different backends. \n",
    "We can select among the 3 available backends (Tensorflow, Pytorch and Jax) by modifying the environment variable \"KERAS_BACKEND\".\n",
    "In the next cell we can define it."
   ]
  },
  {
   "cell_type": "code",
   "execution_count": 2,
   "metadata": {},
   "outputs": [],
   "source": [
    "import os\n",
    "\n",
    "os.environ[\"KERAS_BACKEND\"] = \"torch\""
   ]
  },
  {
   "cell_type": "code",
   "execution_count": 3,
   "metadata": {},
   "outputs": [
    {
     "name": "stderr",
     "output_type": "stream",
     "text": [
      "2023-12-29 11:57:53.049412: I tensorflow/core/platform/cpu_feature_guard.cc:182] This TensorFlow binary is optimized to use available CPU instructions in performance-critical operations.\n",
      "To enable the following instructions: AVX2 FMA, in other operations, rebuild TensorFlow with the appropriate compiler flags.\n"
     ]
    }
   ],
   "source": [
    "import sys\n",
    "\n",
    "notebook_dir = os.path.abspath('')\n",
    "sys.path.append(os.path.join(notebook_dir, '..'))\n",
    "\n",
    "import keras\n",
    "\n",
    "from rapidae.data.datasets import load_MNIST\n",
    "from rapidae.data.utils import display_diff, add_noise\n",
    "from rapidae.models.ae.ae_model import AE\n",
    "from rapidae.models.base.default_architectures import VanillaEncoder, VanillaDecoder\n",
    "from rapidae.pipelines.training import TrainingPipeline\n",
    "\n",
    "# For reproducibility in Keras 3. This will set:\n",
    "# 1) `numpy` seed\n",
    "# 2) backend random seed\n",
    "# 3) `python` random seed\n",
    "keras.utils.set_random_seed(1)"
   ]
  },
  {
   "cell_type": "markdown",
   "metadata": {},
   "source": [
    "### Download and preprocess the dataset\n",
    "\n",
    "Download and preprocess the dataset. In this example, the selected dataset is the well-known MNIST composed of handwritten number images.\n",
    "\n",
    "The \"persistant\" parameter of the load_MNIST() serves as a flag to determine if we want the dataset to be cached in the datasets folder.\n",
    "\n",
    "Train and test data are normalized and flatten since we are going to use a non convolutional autoencoder.\n",
    "\n",
    "Since we want to train a denoising autoencoder, we also need to add some noise to the images.\n",
    "The noise factor should be a float between 0 and 1 depending the intensity of the noise.\n",
    "\n",
    "The used autoencoder to denoise the images is vanilla without convolutional layers so we need to flatten the images before we use it as inputs."
   ]
  },
  {
   "cell_type": "code",
   "execution_count": 4,
   "metadata": {},
   "outputs": [
    {
     "name": "stderr",
     "output_type": "stream",
     "text": [
      "2023-12-29 11:57:55 \u001b[32m[INFO]\u001b[0m: train-images-idx3-ubyte.gz already exists.\u001b[0m\n",
      "2023-12-29 11:57:55 \u001b[32m[INFO]\u001b[0m: train-labels-idx1-ubyte.gz already exists.\u001b[0m\n",
      "2023-12-29 11:57:55 \u001b[32m[INFO]\u001b[0m: t10k-images-idx3-ubyte.gz already exists.\u001b[0m\n",
      "2023-12-29 11:57:55 \u001b[32m[INFO]\u001b[0m: t10k-labels-idx1-ubyte.gz already exists.\u001b[0m\n"
     ]
    }
   ],
   "source": [
    "# Load MNIST dataset\n",
    "x_train, y_train, x_test, y_test = load_MNIST(persistant=True)\n",
    "\n",
    "# Add noise to the train and test data\n",
    "x_train_noisy = add_noise(x_train, noise_factor=0.3)\n",
    "x_test_noisy = add_noise(x_test, noise_factor=0.3)\n",
    "\n",
    "# Flatten data\n",
    "x_train = x_train.reshape(x_train.shape[0], -1).astype('float32') / 255\n",
    "x_train_noisy = x_train_noisy.reshape(x_train_noisy.shape[0], -1)\n",
    "x_test = x_test.reshape(x_test.shape[0], -1).astype('float32') / 255\n",
    "x_test_noisy = x_test_noisy.reshape(x_test_noisy.shape[0], -1)"
   ]
  },
  {
   "cell_type": "markdown",
   "metadata": {},
   "source": [
    "### Model creation\n",
    "\n",
    "Since the denoising autoencoder in structure is a vanilla autoencoder (only its functionality varies), the encoder and decoder are the vanilla ones, depth of the network and number of neurons per layer can be defined by using the layers_conf parameter.\n",
    "The latent_dim determinates the dimensionality of the latent space."
   ]
  },
  {
   "cell_type": "code",
   "execution_count": 5,
   "metadata": {},
   "outputs": [],
   "source": [
    "# Model creation\n",
    "model = AE(input_dim=x_train_noisy.shape[1], latent_dim=10,\n",
    "           encoder=VanillaEncoder, decoder=VanillaDecoder, layers_conf=[64, 32])"
   ]
  },
  {
   "cell_type": "markdown",
   "metadata": {},
   "source": [
    "### Training pipeline\n",
    "\n",
    "Define the training pipeline. There you can fix some hyperparameters related to the training phase of the autoencoder, like learning rate, bath size, numer of epochs, etc.\n",
    "Here you can define callbacks to the model.\n",
    "Also the pipeline's name can be customized to facilitate the identification of the corresponding folder with the saved models inside output_dir folder."
   ]
  },
  {
   "cell_type": "code",
   "execution_count": 6,
   "metadata": {},
   "outputs": [
    {
     "name": "stderr",
     "output_type": "stream",
     "text": [
      "2023-12-29 11:57:59 \u001b[32m[INFO]\u001b[0m: +++ training_pipeline_denoising_ae +++\u001b[0m\n",
      "2023-12-29 11:57:59 \u001b[32m[INFO]\u001b[0m: Creating folder in ../output_dir/training_pipeline_denoising_ae_2023-12-29_11-57-59\u001b[0m\n"
     ]
    },
    {
     "name": "stdout",
     "output_type": "stream",
     "text": [
      "Epoch 1/50\n",
      "\n",
      "Epoch 1: loss improved from inf to 0.08471, saving model to ../output_dir/training_pipeline_denoising_ae_2023-12-29_11-57-59/model.weights.h5\n",
      "469/469 - 5s - 11ms/step - loss: 0.0847\n",
      "Epoch 2/50\n",
      "\n",
      "Epoch 2: loss improved from 0.08471 to 0.06708, saving model to ../output_dir/training_pipeline_denoising_ae_2023-12-29_11-57-59/model.weights.h5\n",
      "469/469 - 6s - 12ms/step - loss: 0.0671\n",
      "Epoch 3/50\n",
      "\n",
      "Epoch 3: loss improved from 0.06708 to 0.06366, saving model to ../output_dir/training_pipeline_denoising_ae_2023-12-29_11-57-59/model.weights.h5\n",
      "469/469 - 5s - 10ms/step - loss: 0.0637\n",
      "Epoch 4/50\n",
      "\n",
      "Epoch 4: loss improved from 0.06366 to 0.06184, saving model to ../output_dir/training_pipeline_denoising_ae_2023-12-29_11-57-59/model.weights.h5\n",
      "469/469 - 5s - 10ms/step - loss: 0.0618\n",
      "Epoch 5/50\n",
      "\n",
      "Epoch 5: loss improved from 0.06184 to 0.06080, saving model to ../output_dir/training_pipeline_denoising_ae_2023-12-29_11-57-59/model.weights.h5\n",
      "469/469 - 4s - 10ms/step - loss: 0.0608\n",
      "Epoch 6/50\n",
      "\n",
      "Epoch 6: loss improved from 0.06080 to 0.05998, saving model to ../output_dir/training_pipeline_denoising_ae_2023-12-29_11-57-59/model.weights.h5\n",
      "469/469 - 5s - 10ms/step - loss: 0.0600\n",
      "Epoch 7/50\n",
      "\n",
      "Epoch 7: loss improved from 0.05998 to 0.05920, saving model to ../output_dir/training_pipeline_denoising_ae_2023-12-29_11-57-59/model.weights.h5\n",
      "469/469 - 4s - 9ms/step - loss: 0.0592\n",
      "Epoch 8/50\n",
      "\n",
      "Epoch 8: loss improved from 0.05920 to 0.05860, saving model to ../output_dir/training_pipeline_denoising_ae_2023-12-29_11-57-59/model.weights.h5\n",
      "469/469 - 5s - 10ms/step - loss: 0.0586\n",
      "Epoch 9/50\n",
      "\n",
      "Epoch 9: loss improved from 0.05860 to 0.05809, saving model to ../output_dir/training_pipeline_denoising_ae_2023-12-29_11-57-59/model.weights.h5\n",
      "469/469 - 4s - 9ms/step - loss: 0.0581\n",
      "Epoch 10/50\n",
      "\n",
      "Epoch 10: loss improved from 0.05809 to 0.05766, saving model to ../output_dir/training_pipeline_denoising_ae_2023-12-29_11-57-59/model.weights.h5\n",
      "469/469 - 4s - 10ms/step - loss: 0.0577\n",
      "Epoch 11/50\n",
      "\n",
      "Epoch 11: loss improved from 0.05766 to 0.05730, saving model to ../output_dir/training_pipeline_denoising_ae_2023-12-29_11-57-59/model.weights.h5\n",
      "469/469 - 4s - 10ms/step - loss: 0.0573\n",
      "Epoch 12/50\n",
      "\n",
      "Epoch 12: loss improved from 0.05730 to 0.05697, saving model to ../output_dir/training_pipeline_denoising_ae_2023-12-29_11-57-59/model.weights.h5\n",
      "469/469 - 4s - 9ms/step - loss: 0.0570\n",
      "Epoch 13/50\n",
      "\n",
      "Epoch 13: loss improved from 0.05697 to 0.05668, saving model to ../output_dir/training_pipeline_denoising_ae_2023-12-29_11-57-59/model.weights.h5\n",
      "469/469 - 4s - 10ms/step - loss: 0.0567\n",
      "Epoch 14/50\n",
      "\n",
      "Epoch 14: loss improved from 0.05668 to 0.05643, saving model to ../output_dir/training_pipeline_denoising_ae_2023-12-29_11-57-59/model.weights.h5\n",
      "469/469 - 4s - 9ms/step - loss: 0.0564\n",
      "Epoch 15/50\n",
      "\n",
      "Epoch 15: loss improved from 0.05643 to 0.05621, saving model to ../output_dir/training_pipeline_denoising_ae_2023-12-29_11-57-59/model.weights.h5\n",
      "469/469 - 4s - 9ms/step - loss: 0.0562\n",
      "Epoch 16/50\n",
      "\n",
      "Epoch 16: loss improved from 0.05621 to 0.05599, saving model to ../output_dir/training_pipeline_denoising_ae_2023-12-29_11-57-59/model.weights.h5\n",
      "469/469 - 4s - 9ms/step - loss: 0.0560\n",
      "Epoch 17/50\n",
      "\n",
      "Epoch 17: loss improved from 0.05599 to 0.05580, saving model to ../output_dir/training_pipeline_denoising_ae_2023-12-29_11-57-59/model.weights.h5\n",
      "469/469 - 4s - 9ms/step - loss: 0.0558\n",
      "Epoch 18/50\n",
      "\n",
      "Epoch 18: loss improved from 0.05580 to 0.05564, saving model to ../output_dir/training_pipeline_denoising_ae_2023-12-29_11-57-59/model.weights.h5\n",
      "469/469 - 4s - 9ms/step - loss: 0.0556\n",
      "Epoch 19/50\n",
      "\n",
      "Epoch 19: loss improved from 0.05564 to 0.05548, saving model to ../output_dir/training_pipeline_denoising_ae_2023-12-29_11-57-59/model.weights.h5\n",
      "469/469 - 4s - 9ms/step - loss: 0.0555\n",
      "Epoch 20/50\n",
      "\n",
      "Epoch 20: loss improved from 0.05548 to 0.05533, saving model to ../output_dir/training_pipeline_denoising_ae_2023-12-29_11-57-59/model.weights.h5\n",
      "469/469 - 4s - 9ms/step - loss: 0.0553\n",
      "Epoch 21/50\n",
      "\n",
      "Epoch 21: loss improved from 0.05533 to 0.05523, saving model to ../output_dir/training_pipeline_denoising_ae_2023-12-29_11-57-59/model.weights.h5\n",
      "469/469 - 4s - 9ms/step - loss: 0.0552\n",
      "Epoch 22/50\n",
      "\n",
      "Epoch 22: loss improved from 0.05523 to 0.05511, saving model to ../output_dir/training_pipeline_denoising_ae_2023-12-29_11-57-59/model.weights.h5\n",
      "469/469 - 4s - 9ms/step - loss: 0.0551\n",
      "Epoch 23/50\n",
      "\n",
      "Epoch 23: loss improved from 0.05511 to 0.05502, saving model to ../output_dir/training_pipeline_denoising_ae_2023-12-29_11-57-59/model.weights.h5\n",
      "469/469 - 4s - 9ms/step - loss: 0.0550\n",
      "Epoch 24/50\n",
      "\n",
      "Epoch 24: loss improved from 0.05502 to 0.05494, saving model to ../output_dir/training_pipeline_denoising_ae_2023-12-29_11-57-59/model.weights.h5\n",
      "469/469 - 4s - 9ms/step - loss: 0.0549\n",
      "Epoch 25/50\n",
      "\n",
      "Epoch 25: loss improved from 0.05494 to 0.05483, saving model to ../output_dir/training_pipeline_denoising_ae_2023-12-29_11-57-59/model.weights.h5\n",
      "469/469 - 4s - 9ms/step - loss: 0.0548\n",
      "Epoch 26/50\n",
      "\n",
      "Epoch 26: loss improved from 0.05483 to 0.05476, saving model to ../output_dir/training_pipeline_denoising_ae_2023-12-29_11-57-59/model.weights.h5\n",
      "469/469 - 4s - 9ms/step - loss: 0.0548\n",
      "Epoch 27/50\n",
      "\n",
      "Epoch 27: loss improved from 0.05476 to 0.05468, saving model to ../output_dir/training_pipeline_denoising_ae_2023-12-29_11-57-59/model.weights.h5\n",
      "469/469 - 4s - 10ms/step - loss: 0.0547\n",
      "Epoch 28/50\n",
      "\n",
      "Epoch 28: loss improved from 0.05468 to 0.05461, saving model to ../output_dir/training_pipeline_denoising_ae_2023-12-29_11-57-59/model.weights.h5\n",
      "469/469 - 4s - 9ms/step - loss: 0.0546\n",
      "Epoch 29/50\n",
      "\n",
      "Epoch 29: loss improved from 0.05461 to 0.05455, saving model to ../output_dir/training_pipeline_denoising_ae_2023-12-29_11-57-59/model.weights.h5\n",
      "469/469 - 4s - 9ms/step - loss: 0.0546\n",
      "Epoch 30/50\n",
      "\n",
      "Epoch 30: loss improved from 0.05455 to 0.05450, saving model to ../output_dir/training_pipeline_denoising_ae_2023-12-29_11-57-59/model.weights.h5\n",
      "469/469 - 4s - 9ms/step - loss: 0.0545\n",
      "Epoch 31/50\n",
      "\n",
      "Epoch 31: loss improved from 0.05450 to 0.05443, saving model to ../output_dir/training_pipeline_denoising_ae_2023-12-29_11-57-59/model.weights.h5\n",
      "469/469 - 5s - 10ms/step - loss: 0.0544\n",
      "Epoch 32/50\n",
      "\n",
      "Epoch 32: loss improved from 0.05443 to 0.05436, saving model to ../output_dir/training_pipeline_denoising_ae_2023-12-29_11-57-59/model.weights.h5\n",
      "469/469 - 4s - 9ms/step - loss: 0.0544\n",
      "Epoch 33/50\n",
      "\n",
      "Epoch 33: loss improved from 0.05436 to 0.05433, saving model to ../output_dir/training_pipeline_denoising_ae_2023-12-29_11-57-59/model.weights.h5\n",
      "469/469 - 4s - 9ms/step - loss: 0.0543\n",
      "Epoch 34/50\n",
      "\n",
      "Epoch 34: loss improved from 0.05433 to 0.05425, saving model to ../output_dir/training_pipeline_denoising_ae_2023-12-29_11-57-59/model.weights.h5\n",
      "469/469 - 4s - 9ms/step - loss: 0.0542\n",
      "Epoch 35/50\n",
      "\n",
      "Epoch 35: loss improved from 0.05425 to 0.05421, saving model to ../output_dir/training_pipeline_denoising_ae_2023-12-29_11-57-59/model.weights.h5\n",
      "469/469 - 4s - 10ms/step - loss: 0.0542\n",
      "Epoch 36/50\n",
      "\n",
      "Epoch 36: loss improved from 0.05421 to 0.05416, saving model to ../output_dir/training_pipeline_denoising_ae_2023-12-29_11-57-59/model.weights.h5\n",
      "469/469 - 4s - 9ms/step - loss: 0.0542\n",
      "Epoch 37/50\n",
      "\n",
      "Epoch 37: loss improved from 0.05416 to 0.05413, saving model to ../output_dir/training_pipeline_denoising_ae_2023-12-29_11-57-59/model.weights.h5\n",
      "469/469 - 4s - 9ms/step - loss: 0.0541\n",
      "Epoch 38/50\n",
      "\n",
      "Epoch 38: loss improved from 0.05413 to 0.05409, saving model to ../output_dir/training_pipeline_denoising_ae_2023-12-29_11-57-59/model.weights.h5\n",
      "469/469 - 5s - 10ms/step - loss: 0.0541\n",
      "Epoch 39/50\n",
      "\n",
      "Epoch 39: loss improved from 0.05409 to 0.05405, saving model to ../output_dir/training_pipeline_denoising_ae_2023-12-29_11-57-59/model.weights.h5\n",
      "469/469 - 4s - 9ms/step - loss: 0.0541\n",
      "Epoch 40/50\n",
      "\n",
      "Epoch 40: loss improved from 0.05405 to 0.05400, saving model to ../output_dir/training_pipeline_denoising_ae_2023-12-29_11-57-59/model.weights.h5\n",
      "469/469 - 4s - 9ms/step - loss: 0.0540\n",
      "Epoch 41/50\n",
      "\n",
      "Epoch 41: loss improved from 0.05400 to 0.05397, saving model to ../output_dir/training_pipeline_denoising_ae_2023-12-29_11-57-59/model.weights.h5\n",
      "469/469 - 4s - 9ms/step - loss: 0.0540\n",
      "Epoch 42/50\n",
      "\n",
      "Epoch 42: loss improved from 0.05397 to 0.05394, saving model to ../output_dir/training_pipeline_denoising_ae_2023-12-29_11-57-59/model.weights.h5\n",
      "469/469 - 4s - 9ms/step - loss: 0.0539\n",
      "Epoch 43/50\n",
      "\n",
      "Epoch 43: loss improved from 0.05394 to 0.05392, saving model to ../output_dir/training_pipeline_denoising_ae_2023-12-29_11-57-59/model.weights.h5\n",
      "469/469 - 4s - 10ms/step - loss: 0.0539\n",
      "Epoch 44/50\n",
      "\n",
      "Epoch 44: loss improved from 0.05392 to 0.05388, saving model to ../output_dir/training_pipeline_denoising_ae_2023-12-29_11-57-59/model.weights.h5\n",
      "469/469 - 4s - 9ms/step - loss: 0.0539\n",
      "Epoch 45/50\n",
      "\n",
      "Epoch 45: loss improved from 0.05388 to 0.05386, saving model to ../output_dir/training_pipeline_denoising_ae_2023-12-29_11-57-59/model.weights.h5\n",
      "469/469 - 5s - 10ms/step - loss: 0.0539\n",
      "Epoch 46/50\n",
      "\n",
      "Epoch 46: loss improved from 0.05386 to 0.05381, saving model to ../output_dir/training_pipeline_denoising_ae_2023-12-29_11-57-59/model.weights.h5\n",
      "469/469 - 5s - 10ms/step - loss: 0.0538\n",
      "Epoch 47/50\n",
      "\n",
      "Epoch 47: loss improved from 0.05381 to 0.05378, saving model to ../output_dir/training_pipeline_denoising_ae_2023-12-29_11-57-59/model.weights.h5\n",
      "469/469 - 4s - 9ms/step - loss: 0.0538\n",
      "Epoch 48/50\n",
      "\n",
      "Epoch 48: loss improved from 0.05378 to 0.05374, saving model to ../output_dir/training_pipeline_denoising_ae_2023-12-29_11-57-59/model.weights.h5\n",
      "469/469 - 4s - 9ms/step - loss: 0.0537\n",
      "Epoch 49/50\n",
      "\n",
      "Epoch 49: loss improved from 0.05374 to 0.05372, saving model to ../output_dir/training_pipeline_denoising_ae_2023-12-29_11-57-59/model.weights.h5\n",
      "469/469 - 4s - 9ms/step - loss: 0.0537\n",
      "Epoch 50/50\n",
      "\n",
      "Epoch 50: loss improved from 0.05372 to 0.05370, saving model to ../output_dir/training_pipeline_denoising_ae_2023-12-29_11-57-59/model.weights.h5\n",
      "469/469 - 4s - 9ms/step - loss: 0.0537\n"
     ]
    }
   ],
   "source": [
    "pipe = TrainingPipeline(name='training_pipeline_denoising_ae',\n",
    "                        model=model, num_epochs=50)\n",
    "\n",
    "trained_model = pipe(x=x_train_noisy, y=x_train)"
   ]
  },
  {
   "cell_type": "markdown",
   "metadata": {},
   "source": [
    "### Evaluation step \n",
    "\n",
    "Finally the original images with noise can be graphically compared with the output images of the autoencoder.\n",
    "As you can see, the added noise of the input images has largely disappeared."
   ]
  },
  {
   "cell_type": "code",
   "execution_count": 7,
   "metadata": {},
   "outputs": [
    {
     "name": "stdout",
     "output_type": "stream",
     "text": [
      "\u001b[1m313/313\u001b[0m \u001b[32m━━━━━━━━━━━━━━━━━━━━\u001b[0m\u001b[37m\u001b[0m \u001b[1m1s\u001b[0m 4ms/step\n"
     ]
    },
    {
     "data": {
      "image/png": "[encoded data removed]",
      "text/plain": [
       "<Figure size 2000x400 with 20 Axes>"
      ]
     },
     "metadata": {},
     "output_type": "display_data"
    }
   ],
   "source": [
    "y_hat = trained_model.predict(x_test_noisy)\n",
    "display_diff(x_test_noisy, y_hat['recon'])"
   ]
  }
 ],
 "metadata": {
  "kernelspec": {
   "display_name": "aepy-test",
   "language": "python",
   "name": "python3"
  },
  "language_info": {
   "codemirror_mode": {
    "name": "ipython",
    "version": 3
   },
   "file_extension": ".py",
   "mimetype": "text/x-python",
   "name": "python",
   "nbconvert_exporter": "python",
   "pygments_lexer": "ipython3",
   "version": "3.10.12"
  }
 },
 "nbformat": 4,
 "nbformat_minor": 2
}
