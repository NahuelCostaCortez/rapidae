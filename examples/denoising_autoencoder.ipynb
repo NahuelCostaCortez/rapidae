{
 "cells": [
  {
   "cell_type": "code",
   "execution_count": null,
   "metadata": {},
   "outputs": [],
   "source": [
    "# Fist install the library\n",
    "\n",
    "#%pip install rapidae"
   ]
  },
  {
   "cell_type": "markdown",
   "metadata": {},
   "source": [
    "Since Rapidae uses the new version of Keras 3, this allows the use of different backends. \n",
    "We can select among the 3 available backends (Tensorflow, Pytorch and Jax) by modifying the environment variable \"KERAS_BACKEND\".\n",
    "In the next cell we can define it."
   ]
  },
  {
   "cell_type": "code",
   "execution_count": 1,
   "metadata": {},
   "outputs": [],
   "source": [
    "import os\n",
    "\n",
    "os.environ[\"KERAS_BACKEND\"] = \"torch\""
   ]
  },
  {
   "cell_type": "code",
   "execution_count": 2,
   "metadata": {},
   "outputs": [
    {
     "name": "stderr",
     "output_type": "stream",
     "text": [
      "2023-12-22 01:00:55.989994: E external/local_xla/xla/stream_executor/cuda/cuda_dnn.cc:9261] Unable to register cuDNN factory: Attempting to register factory for plugin cuDNN when one has already been registered\n",
      "2023-12-22 01:00:55.990023: E external/local_xla/xla/stream_executor/cuda/cuda_fft.cc:607] Unable to register cuFFT factory: Attempting to register factory for plugin cuFFT when one has already been registered\n",
      "2023-12-22 01:00:55.990887: E external/local_xla/xla/stream_executor/cuda/cuda_blas.cc:1515] Unable to register cuBLAS factory: Attempting to register factory for plugin cuBLAS when one has already been registered\n",
      "2023-12-22 01:00:55.996696: I tensorflow/core/platform/cpu_feature_guard.cc:182] This TensorFlow binary is optimized to use available CPU instructions in performance-critical operations.\n",
      "To enable the following instructions: AVX2 FMA, in other operations, rebuild TensorFlow with the appropriate compiler flags.\n",
      "2023-12-22 01:00:56.827528: W tensorflow/compiler/tf2tensorrt/utils/py_utils.cc:38] TF-TRT Warning: Could not find TensorRT\n"
     ]
    }
   ],
   "source": [
    "import numpy as np\n",
    "\n",
    "from sklearn.metrics import accuracy_score\n",
    "from keras import utils\n",
    "\n",
    "from rapidae.data.datasets import load_MNIST\n",
    "from rapidae.data.utils import display_diff, add_noise\n",
    "from rapidae.models.ae.ae_model import AE\n",
    "from rapidae.models.base.default_architectures import VanillaEncoder, VanillaDecoder\n",
    "from rapidae.pipelines.training import TrainingPipeline"
   ]
  },
  {
   "cell_type": "markdown",
   "metadata": {},
   "source": [
    "Download and preprocess the dataset. In this example, the selected dataset is the well-known MNIST composed of handwritten number images.\n",
    "\n",
    "The \"persistant\" parameter of the load_MNIST() serves as a flag to determine if we want the dataset to be cached in the datasets folder."
   ]
  },
  {
   "cell_type": "code",
   "execution_count": 3,
   "metadata": {},
   "outputs": [
    {
     "name": "stderr",
     "output_type": "stream",
     "text": [
      "2023-12-22 01:01:00 \u001b[32m[INFO]\u001b[0m: train-images-idx3-ubyte.gz already exists.\u001b[0m\n",
      "2023-12-22 01:01:00 \u001b[32m[INFO]\u001b[0m: train-labels-idx1-ubyte.gz already exists.\u001b[0m\n",
      "2023-12-22 01:01:00 \u001b[32m[INFO]\u001b[0m: t10k-images-idx3-ubyte.gz already exists.\u001b[0m\n",
      "2023-12-22 01:01:00 \u001b[32m[INFO]\u001b[0m: t10k-labels-idx1-ubyte.gz already exists.\u001b[0m\n"
     ]
    }
   ],
   "source": [
    "# Load MNIST dataset\n",
    "x_train, y_train, x_test, y_test = load_MNIST(persistant=True)\n",
    "\n",
    "# Obtain the number number of clasess\n",
    "n_classes = len(set(y_train))\n",
    "\n",
    "# Convert labels to categorical\n",
    "y_train = utils.to_categorical(y_train, n_classes)\n",
    "y_test = utils.to_categorical(y_test, n_classes)"
   ]
  },
  {
   "cell_type": "markdown",
   "metadata": {},
   "source": [
    "Since we want to train a denoising autoencoder, we also need to add some noise to the images.\n",
    "The noise factor should be a float between 0 and 1 depending the intensity of the noise.\n",
    "\n",
    "The used autoencoder to denoise the images is vanilla without convolutional layers so we need to flatten the images before we use it as inputs."
   ]
  },
  {
   "cell_type": "code",
   "execution_count": 8,
   "metadata": {},
   "outputs": [
    {
     "name": "stdout",
     "output_type": "stream",
     "text": [
      "(60000, 784)\n",
      "(60000, 784)\n"
     ]
    }
   ],
   "source": [
    "# Add noise to the train and test data\n",
    "x_train_noisy = add_noise(x_train, noise_factor=0.4)\n",
    "x_test_noisy = add_noise(x_test, noise_factor=0.4)\n",
    "\n",
    "# Flatten data\n",
    "x_train = x_train.reshape(x_train.shape[0], -1)\n",
    "x_train_noisy = x_train_noisy.reshape(x_train_noisy.shape[0], -1)\n",
    "x_test = x_test.reshape(x_test.shape[0], -1)\n",
    "x_test_noisy = x_test_noisy.reshape(x_test_noisy.shape[0], -1)\n",
    "\n",
    "print(x_train.shape)\n",
    "print(x_train_noisy.shape)"
   ]
  },
  {
   "cell_type": "markdown",
   "metadata": {},
   "source": [
    "Since the denoising autoencoder in structure is a vanilla autoencoder (only its functionality varies), the encoder and decoder are the vanilla ones, depth of the network and number of neurons per layer can be defined by using the layers_conf parameter.\n",
    "The latent_dim determinates the dimensionality of the latent space."
   ]
  },
  {
   "cell_type": "code",
   "execution_count": 5,
   "metadata": {},
   "outputs": [],
   "source": [
    "# Model creation\n",
    "model = AE(input_dim=x_train_noisy.shape[1], latent_dim=10,\n",
    "           encoder=VanillaEncoder, decoder=VanillaDecoder, layers_conf=[64, 32])"
   ]
  },
  {
   "cell_type": "markdown",
   "metadata": {},
   "source": [
    "Define the training pipeline. There you can fix some hyperparameters related to the training phase of the autoencoder, like learning rate, bath size, numer of epochs, etc.\n",
    "Here you can define callbacks to the model.\n",
    "Also the pipeline's name can be customized to facilitate the identification of the corresponding folder with the saved models inside output_dir folder."
   ]
  },
  {
   "cell_type": "code",
   "execution_count": 9,
   "metadata": {},
   "outputs": [
    {
     "name": "stderr",
     "output_type": "stream",
     "text": [
      "2023-12-22 01:05:28 \u001b[32m[INFO]\u001b[0m: +++ training_pipeline +++\u001b[0m\n",
      "2023-12-22 01:05:28 \u001b[32m[INFO]\u001b[0m: Creating folder in ../output_dir/training_pipeline_2023-12-22_01-05-28\u001b[0m\n"
     ]
    },
    {
     "name": "stdout",
     "output_type": "stream",
     "text": [
      "Epoch 1/50\n",
      "\n",
      "Epoch 1: loss improved from inf to 0.09938, saving model to ../output_dir/training_pipeline_2023-12-22_01-05-28/model.weights.h5\n",
      "469/469 - 2s - 3ms/step - loss: 0.0994\n",
      "Epoch 2/50\n",
      "\n",
      "Epoch 2: loss improved from 0.09938 to 0.08147, saving model to ../output_dir/training_pipeline_2023-12-22_01-05-28/model.weights.h5\n",
      "469/469 - 1s - 3ms/step - loss: 0.0815\n",
      "Epoch 3/50\n",
      "\n",
      "Epoch 3: loss improved from 0.08147 to 0.07930, saving model to ../output_dir/training_pipeline_2023-12-22_01-05-28/model.weights.h5\n",
      "469/469 - 1s - 3ms/step - loss: 0.0793\n",
      "Epoch 4/50\n",
      "\n",
      "Epoch 4: loss improved from 0.07930 to 0.07800, saving model to ../output_dir/training_pipeline_2023-12-22_01-05-28/model.weights.h5\n",
      "469/469 - 2s - 3ms/step - loss: 0.0780\n",
      "Epoch 5/50\n",
      "\n",
      "Epoch 5: loss improved from 0.07800 to 0.07705, saving model to ../output_dir/training_pipeline_2023-12-22_01-05-28/model.weights.h5\n",
      "469/469 - 2s - 4ms/step - loss: 0.0770\n",
      "Epoch 6/50\n",
      "\n",
      "Epoch 6: loss improved from 0.07705 to 0.07631, saving model to ../output_dir/training_pipeline_2023-12-22_01-05-28/model.weights.h5\n",
      "469/469 - 2s - 4ms/step - loss: 0.0763\n",
      "Epoch 7/50\n",
      "\n",
      "Epoch 7: loss improved from 0.07631 to 0.07567, saving model to ../output_dir/training_pipeline_2023-12-22_01-05-28/model.weights.h5\n",
      "469/469 - 2s - 4ms/step - loss: 0.0757\n",
      "Epoch 8/50\n",
      "\n",
      "Epoch 8: loss improved from 0.07567 to 0.07518, saving model to ../output_dir/training_pipeline_2023-12-22_01-05-28/model.weights.h5\n",
      "469/469 - 2s - 4ms/step - loss: 0.0752\n",
      "Epoch 9/50\n",
      "\n",
      "Epoch 9: loss improved from 0.07518 to 0.07480, saving model to ../output_dir/training_pipeline_2023-12-22_01-05-28/model.weights.h5\n",
      "469/469 - 2s - 4ms/step - loss: 0.0748\n",
      "Epoch 10/50\n",
      "\n",
      "Epoch 10: loss improved from 0.07480 to 0.07449, saving model to ../output_dir/training_pipeline_2023-12-22_01-05-28/model.weights.h5\n",
      "469/469 - 2s - 4ms/step - loss: 0.0745\n",
      "Epoch 11/50\n",
      "\n",
      "Epoch 11: loss improved from 0.07449 to 0.07423, saving model to ../output_dir/training_pipeline_2023-12-22_01-05-28/model.weights.h5\n",
      "469/469 - 2s - 4ms/step - loss: 0.0742\n",
      "Epoch 12/50\n",
      "\n",
      "Epoch 12: loss improved from 0.07423 to 0.07401, saving model to ../output_dir/training_pipeline_2023-12-22_01-05-28/model.weights.h5\n",
      "469/469 - 2s - 4ms/step - loss: 0.0740\n",
      "Epoch 13/50\n",
      "\n",
      "Epoch 13: loss improved from 0.07401 to 0.07379, saving model to ../output_dir/training_pipeline_2023-12-22_01-05-28/model.weights.h5\n",
      "469/469 - 2s - 3ms/step - loss: 0.0738\n",
      "Epoch 14/50\n",
      "\n",
      "Epoch 14: loss improved from 0.07379 to 0.07361, saving model to ../output_dir/training_pipeline_2023-12-22_01-05-28/model.weights.h5\n",
      "469/469 - 2s - 4ms/step - loss: 0.0736\n",
      "Epoch 15/50\n",
      "\n",
      "Epoch 15: loss improved from 0.07361 to 0.07343, saving model to ../output_dir/training_pipeline_2023-12-22_01-05-28/model.weights.h5\n",
      "469/469 - 2s - 4ms/step - loss: 0.0734\n",
      "Epoch 16/50\n",
      "\n",
      "Epoch 16: loss improved from 0.07343 to 0.07328, saving model to ../output_dir/training_pipeline_2023-12-22_01-05-28/model.weights.h5\n",
      "469/469 - 2s - 4ms/step - loss: 0.0733\n",
      "Epoch 17/50\n",
      "\n",
      "Epoch 17: loss improved from 0.07328 to 0.07313, saving model to ../output_dir/training_pipeline_2023-12-22_01-05-28/model.weights.h5\n",
      "469/469 - 2s - 4ms/step - loss: 0.0731\n",
      "Epoch 18/50\n",
      "\n",
      "Epoch 18: loss improved from 0.07313 to 0.07301, saving model to ../output_dir/training_pipeline_2023-12-22_01-05-28/model.weights.h5\n",
      "469/469 - 2s - 3ms/step - loss: 0.0730\n",
      "Epoch 19/50\n",
      "\n",
      "Epoch 19: loss improved from 0.07301 to 0.07289, saving model to ../output_dir/training_pipeline_2023-12-22_01-05-28/model.weights.h5\n",
      "469/469 - 2s - 4ms/step - loss: 0.0729\n",
      "Epoch 20/50\n",
      "\n",
      "Epoch 20: loss improved from 0.07289 to 0.07278, saving model to ../output_dir/training_pipeline_2023-12-22_01-05-28/model.weights.h5\n",
      "469/469 - 2s - 4ms/step - loss: 0.0728\n",
      "Epoch 21/50\n",
      "\n",
      "Epoch 21: loss improved from 0.07278 to 0.07268, saving model to ../output_dir/training_pipeline_2023-12-22_01-05-28/model.weights.h5\n",
      "469/469 - 2s - 4ms/step - loss: 0.0727\n",
      "Epoch 22/50\n",
      "\n",
      "Epoch 22: loss improved from 0.07268 to 0.07254, saving model to ../output_dir/training_pipeline_2023-12-22_01-05-28/model.weights.h5\n",
      "469/469 - 2s - 4ms/step - loss: 0.0725\n",
      "Epoch 23/50\n",
      "\n",
      "Epoch 23: loss improved from 0.07254 to 0.07243, saving model to ../output_dir/training_pipeline_2023-12-22_01-05-28/model.weights.h5\n",
      "469/469 - 2s - 4ms/step - loss: 0.0724\n",
      "Epoch 24/50\n",
      "\n",
      "Epoch 24: loss improved from 0.07243 to 0.07235, saving model to ../output_dir/training_pipeline_2023-12-22_01-05-28/model.weights.h5\n",
      "469/469 - 2s - 4ms/step - loss: 0.0723\n",
      "Epoch 25/50\n",
      "\n",
      "Epoch 25: loss improved from 0.07235 to 0.07226, saving model to ../output_dir/training_pipeline_2023-12-22_01-05-28/model.weights.h5\n",
      "469/469 - 2s - 4ms/step - loss: 0.0723\n",
      "Epoch 26/50\n",
      "\n",
      "Epoch 26: loss improved from 0.07226 to 0.07219, saving model to ../output_dir/training_pipeline_2023-12-22_01-05-28/model.weights.h5\n",
      "469/469 - 2s - 4ms/step - loss: 0.0722\n",
      "Epoch 27/50\n",
      "\n",
      "Epoch 27: loss improved from 0.07219 to 0.07212, saving model to ../output_dir/training_pipeline_2023-12-22_01-05-28/model.weights.h5\n",
      "469/469 - 2s - 4ms/step - loss: 0.0721\n",
      "Epoch 28/50\n",
      "\n",
      "Epoch 28: loss improved from 0.07212 to 0.07204, saving model to ../output_dir/training_pipeline_2023-12-22_01-05-28/model.weights.h5\n",
      "469/469 - 2s - 4ms/step - loss: 0.0720\n",
      "Epoch 29/50\n",
      "\n",
      "Epoch 29: loss improved from 0.07204 to 0.07196, saving model to ../output_dir/training_pipeline_2023-12-22_01-05-28/model.weights.h5\n",
      "469/469 - 2s - 4ms/step - loss: 0.0720\n",
      "Epoch 30/50\n",
      "\n",
      "Epoch 30: loss improved from 0.07196 to 0.07189, saving model to ../output_dir/training_pipeline_2023-12-22_01-05-28/model.weights.h5\n",
      "469/469 - 2s - 4ms/step - loss: 0.0719\n",
      "Epoch 31/50\n",
      "\n",
      "Epoch 31: loss improved from 0.07189 to 0.07184, saving model to ../output_dir/training_pipeline_2023-12-22_01-05-28/model.weights.h5\n",
      "469/469 - 2s - 4ms/step - loss: 0.0718\n",
      "Epoch 32/50\n",
      "\n",
      "Epoch 32: loss improved from 0.07184 to 0.07179, saving model to ../output_dir/training_pipeline_2023-12-22_01-05-28/model.weights.h5\n",
      "469/469 - 2s - 4ms/step - loss: 0.0718\n",
      "Epoch 33/50\n",
      "\n",
      "Epoch 33: loss improved from 0.07179 to 0.07173, saving model to ../output_dir/training_pipeline_2023-12-22_01-05-28/model.weights.h5\n",
      "469/469 - 2s - 4ms/step - loss: 0.0717\n",
      "Epoch 34/50\n",
      "\n",
      "Epoch 34: loss improved from 0.07173 to 0.07169, saving model to ../output_dir/training_pipeline_2023-12-22_01-05-28/model.weights.h5\n",
      "469/469 - 2s - 4ms/step - loss: 0.0717\n",
      "Epoch 35/50\n",
      "\n",
      "Epoch 35: loss improved from 0.07169 to 0.07164, saving model to ../output_dir/training_pipeline_2023-12-22_01-05-28/model.weights.h5\n",
      "469/469 - 2s - 4ms/step - loss: 0.0716\n",
      "Epoch 36/50\n",
      "\n",
      "Epoch 36: loss improved from 0.07164 to 0.07160, saving model to ../output_dir/training_pipeline_2023-12-22_01-05-28/model.weights.h5\n",
      "469/469 - 2s - 4ms/step - loss: 0.0716\n",
      "Epoch 37/50\n",
      "\n",
      "Epoch 37: loss improved from 0.07160 to 0.07156, saving model to ../output_dir/training_pipeline_2023-12-22_01-05-28/model.weights.h5\n",
      "469/469 - 2s - 4ms/step - loss: 0.0716\n",
      "Epoch 38/50\n",
      "\n",
      "Epoch 38: loss improved from 0.07156 to 0.07151, saving model to ../output_dir/training_pipeline_2023-12-22_01-05-28/model.weights.h5\n",
      "469/469 - 2s - 4ms/step - loss: 0.0715\n",
      "Epoch 39/50\n",
      "\n",
      "Epoch 39: loss improved from 0.07151 to 0.07146, saving model to ../output_dir/training_pipeline_2023-12-22_01-05-28/model.weights.h5\n",
      "469/469 - 2s - 4ms/step - loss: 0.0715\n",
      "Epoch 40/50\n",
      "\n",
      "Epoch 40: loss improved from 0.07146 to 0.07144, saving model to ../output_dir/training_pipeline_2023-12-22_01-05-28/model.weights.h5\n",
      "469/469 - 2s - 4ms/step - loss: 0.0714\n",
      "Epoch 41/50\n",
      "\n",
      "Epoch 41: loss improved from 0.07144 to 0.07139, saving model to ../output_dir/training_pipeline_2023-12-22_01-05-28/model.weights.h5\n",
      "469/469 - 2s - 4ms/step - loss: 0.0714\n",
      "Epoch 42/50\n",
      "\n",
      "Epoch 42: loss improved from 0.07139 to 0.07137, saving model to ../output_dir/training_pipeline_2023-12-22_01-05-28/model.weights.h5\n",
      "469/469 - 2s - 4ms/step - loss: 0.0714\n",
      "Epoch 43/50\n",
      "\n",
      "Epoch 43: loss improved from 0.07137 to 0.07132, saving model to ../output_dir/training_pipeline_2023-12-22_01-05-28/model.weights.h5\n",
      "469/469 - 2s - 4ms/step - loss: 0.0713\n",
      "Epoch 44/50\n",
      "\n",
      "Epoch 44: loss improved from 0.07132 to 0.07128, saving model to ../output_dir/training_pipeline_2023-12-22_01-05-28/model.weights.h5\n",
      "469/469 - 2s - 3ms/step - loss: 0.0713\n",
      "Epoch 45/50\n",
      "\n",
      "Epoch 45: loss improved from 0.07128 to 0.07128, saving model to ../output_dir/training_pipeline_2023-12-22_01-05-28/model.weights.h5\n",
      "469/469 - 2s - 4ms/step - loss: 0.0713\n",
      "Epoch 46/50\n",
      "\n",
      "Epoch 46: loss improved from 0.07128 to 0.07122, saving model to ../output_dir/training_pipeline_2023-12-22_01-05-28/model.weights.h5\n",
      "469/469 - 2s - 4ms/step - loss: 0.0712\n",
      "Epoch 47/50\n",
      "\n",
      "Epoch 47: loss improved from 0.07122 to 0.07120, saving model to ../output_dir/training_pipeline_2023-12-22_01-05-28/model.weights.h5\n",
      "469/469 - 1s - 3ms/step - loss: 0.0712\n",
      "Epoch 48/50\n",
      "\n",
      "Epoch 48: loss improved from 0.07120 to 0.07117, saving model to ../output_dir/training_pipeline_2023-12-22_01-05-28/model.weights.h5\n",
      "469/469 - 2s - 3ms/step - loss: 0.0712\n",
      "Epoch 49/50\n",
      "\n",
      "Epoch 49: loss improved from 0.07117 to 0.07116, saving model to ../output_dir/training_pipeline_2023-12-22_01-05-28/model.weights.h5\n",
      "469/469 - 2s - 3ms/step - loss: 0.0712\n",
      "Epoch 50/50\n",
      "\n",
      "Epoch 50: loss improved from 0.07116 to 0.07113, saving model to ../output_dir/training_pipeline_2023-12-22_01-05-28/model.weights.h5\n",
      "469/469 - 2s - 3ms/step - loss: 0.0711\n"
     ]
    }
   ],
   "source": [
    "pipe = TrainingPipeline(name='training_pipeline',\n",
    "                        model=model, num_epochs=50)\n",
    "\n",
    "trained_model = pipe(x=x_train_noisy, y=x_train)"
   ]
  },
  {
   "cell_type": "markdown",
   "metadata": {},
   "source": [
    "Evaluation phase using test data"
   ]
  },
  {
   "cell_type": "code",
   "execution_count": 10,
   "metadata": {},
   "outputs": [
    {
     "name": "stdout",
     "output_type": "stream",
     "text": [
      "\u001b[1m313/313\u001b[0m \u001b[32m━━━━━━━━━━━━━━━━━━━━\u001b[0m\u001b[37m\u001b[0m \u001b[1m0s\u001b[0m 1ms/step\n"
     ]
    }
   ],
   "source": [
    "y_hat = trained_model.predict(x_test_noisy)"
   ]
  },
  {
   "cell_type": "markdown",
   "metadata": {},
   "source": [
    "Finally the original images with noise can be graphically compared with the output images of the autoencoder.\n",
    "As you can see, the added noise of the input images has largely disappeared."
   ]
  },
  {
   "cell_type": "code",
   "execution_count": 11,
   "metadata": {},
   "outputs": [
    {
     "data": {
      "image/png": "[encoded data removed]",
      "text/plain": [
       "<Figure size 2000x400 with 20 Axes>"
      ]
     },
     "metadata": {},
     "output_type": "display_data"
    }
   ],
   "source": [
    "display_diff(x_test_noisy, y_hat['recon'])"
   ]
  }
 ],
 "metadata": {
  "kernelspec": {
   "display_name": "aepy-test",
   "language": "python",
   "name": "python3"
  },
  "language_info": {
   "codemirror_mode": {
    "name": "ipython",
    "version": 3
   },
   "file_extension": ".py",
   "mimetype": "text/x-python",
   "name": "python",
   "nbconvert_exporter": "python",
   "pygments_lexer": "ipython3",
   "version": "3.11.2"
  }
 },
 "nbformat": 4,
 "nbformat_minor": 2
}
