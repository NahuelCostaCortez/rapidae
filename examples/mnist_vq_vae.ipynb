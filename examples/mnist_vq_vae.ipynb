{
 "cells": [
  {
   "cell_type": "markdown",
   "metadata": {},
   "source": [
    "# Example of VQ VAE with MNIST dataset"
   ]
  },
  {
   "cell_type": "code",
   "execution_count": 1,
   "metadata": {},
   "outputs": [],
   "source": [
    "# First install the library\n",
    "\n",
    "# %pip install aepy"
   ]
  },
  {
   "cell_type": "markdown",
   "metadata": {},
   "source": [
    "Since Rapidae uses the new version of Keras 3, this allows the use of different backends. \n",
    "We can select among the 3 available backends (Tensorflow, Pytorch and Jax) by modifying the environment variable \"KERAS_BACKEND\".\n",
    "In the next cell we can define it."
   ]
  },
  {
   "cell_type": "code",
   "execution_count": 2,
   "metadata": {},
   "outputs": [],
   "source": [
    "import os\n",
    "\n",
    "os.environ[\"KERAS_BACKEND\"] = \"torch\""
   ]
  },
  {
   "cell_type": "code",
   "execution_count": 3,
   "metadata": {},
   "outputs": [
    {
     "name": "stderr",
     "output_type": "stream",
     "text": [
      "2024-01-11 20:17:52.748857: E external/local_xla/xla/stream_executor/cuda/cuda_dnn.cc:9261] Unable to register cuDNN factory: Attempting to register factory for plugin cuDNN when one has already been registered\n",
      "2024-01-11 20:17:52.748879: E external/local_xla/xla/stream_executor/cuda/cuda_fft.cc:607] Unable to register cuFFT factory: Attempting to register factory for plugin cuFFT when one has already been registered\n",
      "2024-01-11 20:17:52.749545: E external/local_xla/xla/stream_executor/cuda/cuda_blas.cc:1515] Unable to register cuBLAS factory: Attempting to register factory for plugin cuBLAS when one has already been registered\n",
      "2024-01-11 20:17:52.754569: I tensorflow/core/platform/cpu_feature_guard.cc:182] This TensorFlow binary is optimized to use available CPU instructions in performance-critical operations.\n",
      "To enable the following instructions: AVX2 FMA, in other operations, rebuild TensorFlow with the appropriate compiler flags.\n",
      "2024-01-11 20:17:53.410016: W tensorflow/compiler/tf2tensorrt/utils/py_utils.cc:38] TF-TRT Warning: Could not find TensorRT\n"
     ]
    }
   ],
   "source": [
    "import sys\n",
    "\n",
    "#notebook_dir = os.path.abspath('')\n",
    "#sys.path.append(os.path.join(notebook_dir, '..', 'src'))\n",
    "\n",
    "from keras import utils\n",
    "from rapidae.pipelines.training import TrainingPipeline\n",
    "from rapidae.models.base.default_architectures import Encoder_Conv_VQ_MNIST, Decoder_Conv_VQ_MNIST\n",
    "from rapidae.models.vq_vae.vq_vae_model import VQ_VAE\n",
    "from rapidae.data.utils import display_diff\n",
    "from rapidae.data.datasets import load_MNIST\n",
    "\n",
    "# For reproducibility in Keras 3. This will set:\n",
    "# 1) `numpy` seed\n",
    "# 2) backend random seed\n",
    "# 3) `python` random seed\n",
    "utils.set_random_seed(1)"
   ]
  },
  {
   "cell_type": "markdown",
   "metadata": {},
   "source": [
    "### Download and preprocess the dataset\n",
    "\n",
    "Download and preprocess the dataset. In this example, the selected dataset is the well-known MNIST composed of handwritten number images.\n",
    "\n",
    "The \"persistant\" parameter of the load_MNIST() serves as a flag to determine if we want the dataset to be cached in the datasets folder.\n",
    "\n",
    "In this case since we are using convolutional layers we don't need to flatten the data.\n",
    "\n",
    "Train and test labels are converted into one-hot encoding."
   ]
  },
  {
   "cell_type": "code",
   "execution_count": 4,
   "metadata": {},
   "outputs": [
    {
     "name": "stderr",
     "output_type": "stream",
     "text": [
      "2024-01-11 20:17:53 \u001b[32m[INFO]\u001b[0m: train-images-idx3-ubyte.gz already exists.\u001b[0m\n",
      "2024-01-11 20:17:53 \u001b[32m[INFO]\u001b[0m: train-labels-idx1-ubyte.gz already exists.\u001b[0m\n",
      "2024-01-11 20:17:53 \u001b[32m[INFO]\u001b[0m: t10k-images-idx3-ubyte.gz already exists.\u001b[0m\n",
      "2024-01-11 20:17:53 \u001b[32m[INFO]\u001b[0m: t10k-labels-idx1-ubyte.gz already exists.\u001b[0m\n"
     ]
    }
   ],
   "source": [
    "# Load MNIST dataset\n",
    "x_train, y_train, x_test, y_test = load_MNIST(persistant=True)\n",
    "\n",
    "x_train = x_train.astype('float32') / 255\n",
    "x_test = x_test.astype('float32') / 255\n",
    "\n",
    "# Obtaint number of clasess\n",
    "n_classes = len(set(y_train))\n",
    "\n",
    "# Convert labels to categorical\n",
    "y_train = utils.to_categorical(y_train, n_classes)\n",
    "y_test = utils.to_categorical(y_test, n_classes)"
   ]
  },
  {
   "cell_type": "markdown",
   "metadata": {},
   "source": [
    "### Model creation\n",
    "\n",
    "\n",
    "Model's creation step. The selected encoder and decoder are extracted for the Keras tutorial. They are almost similar with the ones used in the vanilla vae example for MNIST, but with a few changes related to latent space, since in VQ-vae we don't have available 'z_mean' and 'z_log_var' arrays."
   ]
  },
  {
   "cell_type": "code",
   "execution_count": 5,
   "metadata": {},
   "outputs": [],
   "source": [
    "# Model creation\n",
    "model = VQ_VAE(input_dim=(x_train.shape[1], x_train.shape[2]),\n",
    "               latent_dim=2, encoder=Encoder_Conv_VQ_MNIST, decoder=Decoder_Conv_VQ_MNIST, layers_conf=[32, 64])"
   ]
  },
  {
   "cell_type": "markdown",
   "metadata": {},
   "source": [
    "### Training pipeline \n",
    "\n",
    "Define the training pipeline. Here you can fix some hyperparameters related to the training phase of the autoencoder, like learning rate, bath size, numer of epochs, etc. \n",
    "Also you can define callbacks to the model."
   ]
  },
  {
   "cell_type": "code",
   "execution_count": 6,
   "metadata": {},
   "outputs": [
    {
     "name": "stderr",
     "output_type": "stream",
     "text": [
      "2024-01-11 20:17:54 \u001b[32m[INFO]\u001b[0m: +++ training_pipeline_mnist_vq_vae +++\u001b[0m\n",
      "2024-01-11 20:17:54 \u001b[32m[INFO]\u001b[0m: Creating folder in ../output_dir/training_pipeline_mnist_vq_vae_2024-01-11_20-17-54\u001b[0m\n"
     ]
    },
    {
     "name": "stdout",
     "output_type": "stream",
     "text": [
      "Epoch 1/20\n"
     ]
    },
    {
     "name": "stderr",
     "output_type": "stream",
     "text": [
      "/home/lucaspc/venvs/keras_core/lib/python3.11/site-packages/keras/src/backend/common/backend_utils.py:88: UserWarning: You might experience inconsistencies accross backends when calling conv transpose with kernel_size=3, stride=2, dilation_rate=1, padding=same, output_padding=1.\n",
      "  warnings.warn(\n"
     ]
    },
    {
     "name": "stdout",
     "output_type": "stream",
     "text": [
      "\n",
      "Epoch 1: loss improved from inf to 0.01782, saving model to ../output_dir/training_pipeline_mnist_vq_vae_2024-01-11_20-17-54/model.weights.h5\n",
      "469/469 - 3s - 7ms/step - loss: 0.0178 - reconstruction_loss: 0.0150 - vq_loss: 0.0028\n",
      "Epoch 2/20\n",
      "\n",
      "Epoch 2: loss improved from 0.01782 to 0.00729, saving model to ../output_dir/training_pipeline_mnist_vq_vae_2024-01-11_20-17-54/model.weights.h5\n",
      "469/469 - 3s - 7ms/step - loss: 0.0073 - reconstruction_loss: 0.0070 - vq_loss: 3.1104e-04\n",
      "Epoch 3/20\n",
      "\n",
      "Epoch 3: loss improved from 0.00729 to 0.00635, saving model to ../output_dir/training_pipeline_mnist_vq_vae_2024-01-11_20-17-54/model.weights.h5\n",
      "469/469 - 3s - 7ms/step - loss: 0.0063 - reconstruction_loss: 0.0060 - vq_loss: 3.5204e-04\n",
      "Epoch 4/20\n",
      "\n",
      "Epoch 4: loss improved from 0.00635 to 0.00591, saving model to ../output_dir/training_pipeline_mnist_vq_vae_2024-01-11_20-17-54/model.weights.h5\n",
      "469/469 - 3s - 7ms/step - loss: 0.0059 - reconstruction_loss: 0.0056 - vq_loss: 3.5495e-04\n",
      "Epoch 5/20\n",
      "\n",
      "Epoch 5: loss improved from 0.00591 to 0.00565, saving model to ../output_dir/training_pipeline_mnist_vq_vae_2024-01-11_20-17-54/model.weights.h5\n",
      "469/469 - 3s - 7ms/step - loss: 0.0057 - reconstruction_loss: 0.0053 - vq_loss: 3.5502e-04\n",
      "Epoch 6/20\n",
      "\n",
      "Epoch 6: loss improved from 0.00565 to 0.00547, saving model to ../output_dir/training_pipeline_mnist_vq_vae_2024-01-11_20-17-54/model.weights.h5\n",
      "469/469 - 3s - 7ms/step - loss: 0.0055 - reconstruction_loss: 0.0051 - vq_loss: 3.5371e-04\n",
      "Epoch 7/20\n",
      "\n",
      "Epoch 7: loss improved from 0.00547 to 0.00531, saving model to ../output_dir/training_pipeline_mnist_vq_vae_2024-01-11_20-17-54/model.weights.h5\n",
      "469/469 - 3s - 7ms/step - loss: 0.0053 - reconstruction_loss: 0.0050 - vq_loss: 3.5510e-04\n",
      "Epoch 8/20\n",
      "\n",
      "Epoch 8: loss improved from 0.00531 to 0.00517, saving model to ../output_dir/training_pipeline_mnist_vq_vae_2024-01-11_20-17-54/model.weights.h5\n",
      "469/469 - 3s - 7ms/step - loss: 0.0052 - reconstruction_loss: 0.0048 - vq_loss: 3.5708e-04\n",
      "Epoch 9/20\n",
      "\n",
      "Epoch 9: loss improved from 0.00517 to 0.00505, saving model to ../output_dir/training_pipeline_mnist_vq_vae_2024-01-11_20-17-54/model.weights.h5\n",
      "469/469 - 3s - 7ms/step - loss: 0.0051 - reconstruction_loss: 0.0047 - vq_loss: 3.6272e-04\n",
      "Epoch 10/20\n",
      "\n",
      "Epoch 10: loss improved from 0.00505 to 0.00493, saving model to ../output_dir/training_pipeline_mnist_vq_vae_2024-01-11_20-17-54/model.weights.h5\n",
      "469/469 - 3s - 7ms/step - loss: 0.0049 - reconstruction_loss: 0.0046 - vq_loss: 3.6187e-04\n",
      "Epoch 11/20\n",
      "\n",
      "Epoch 11: loss improved from 0.00493 to 0.00483, saving model to ../output_dir/training_pipeline_mnist_vq_vae_2024-01-11_20-17-54/model.weights.h5\n",
      "469/469 - 3s - 7ms/step - loss: 0.0048 - reconstruction_loss: 0.0045 - vq_loss: 3.5992e-04\n",
      "Epoch 12/20\n",
      "\n",
      "Epoch 12: loss improved from 0.00483 to 0.00474, saving model to ../output_dir/training_pipeline_mnist_vq_vae_2024-01-11_20-17-54/model.weights.h5\n",
      "469/469 - 3s - 7ms/step - loss: 0.0047 - reconstruction_loss: 0.0044 - vq_loss: 3.5555e-04\n",
      "Epoch 13/20\n",
      "\n",
      "Epoch 13: loss improved from 0.00474 to 0.00466, saving model to ../output_dir/training_pipeline_mnist_vq_vae_2024-01-11_20-17-54/model.weights.h5\n",
      "469/469 - 3s - 7ms/step - loss: 0.0047 - reconstruction_loss: 0.0043 - vq_loss: 3.5222e-04\n",
      "Epoch 14/20\n",
      "\n",
      "Epoch 14: loss improved from 0.00466 to 0.00458, saving model to ../output_dir/training_pipeline_mnist_vq_vae_2024-01-11_20-17-54/model.weights.h5\n",
      "469/469 - 4s - 8ms/step - loss: 0.0046 - reconstruction_loss: 0.0042 - vq_loss: 3.4376e-04\n",
      "Epoch 15/20\n",
      "\n",
      "Epoch 15: loss improved from 0.00458 to 0.00453, saving model to ../output_dir/training_pipeline_mnist_vq_vae_2024-01-11_20-17-54/model.weights.h5\n",
      "469/469 - 3s - 7ms/step - loss: 0.0045 - reconstruction_loss: 0.0042 - vq_loss: 3.3890e-04\n",
      "Epoch 16/20\n",
      "\n",
      "Epoch 16: loss improved from 0.00453 to 0.00445, saving model to ../output_dir/training_pipeline_mnist_vq_vae_2024-01-11_20-17-54/model.weights.h5\n",
      "469/469 - 3s - 7ms/step - loss: 0.0045 - reconstruction_loss: 0.0041 - vq_loss: 3.3062e-04\n",
      "Epoch 17/20\n",
      "\n",
      "Epoch 17: loss improved from 0.00445 to 0.00441, saving model to ../output_dir/training_pipeline_mnist_vq_vae_2024-01-11_20-17-54/model.weights.h5\n",
      "469/469 - 3s - 7ms/step - loss: 0.0044 - reconstruction_loss: 0.0041 - vq_loss: 3.2411e-04\n",
      "Epoch 18/20\n",
      "\n",
      "Epoch 18: loss improved from 0.00441 to 0.00436, saving model to ../output_dir/training_pipeline_mnist_vq_vae_2024-01-11_20-17-54/model.weights.h5\n",
      "469/469 - 3s - 7ms/step - loss: 0.0044 - reconstruction_loss: 0.0040 - vq_loss: 3.1694e-04\n",
      "Epoch 19/20\n",
      "\n",
      "Epoch 19: loss improved from 0.00436 to 0.00432, saving model to ../output_dir/training_pipeline_mnist_vq_vae_2024-01-11_20-17-54/model.weights.h5\n",
      "469/469 - 3s - 7ms/step - loss: 0.0043 - reconstruction_loss: 0.0040 - vq_loss: 3.1086e-04\n",
      "Epoch 20/20\n",
      "\n",
      "Epoch 20: loss improved from 0.00432 to 0.00427, saving model to ../output_dir/training_pipeline_mnist_vq_vae_2024-01-11_20-17-54/model.weights.h5\n",
      "469/469 - 3s - 7ms/step - loss: 0.0043 - reconstruction_loss: 0.0040 - vq_loss: 3.0447e-04\n"
     ]
    }
   ],
   "source": [
    "pipe = TrainingPipeline(name='training_pipeline_mnist_vq_vae',\n",
    "                        model=model, num_epochs=20)\n",
    "\n",
    "trained_model = pipe(x=x_train, y=y_train)"
   ]
  },
  {
   "cell_type": "markdown",
   "metadata": {},
   "source": [
    "### Evaluation step\n",
    "\n",
    "Let's now check the performance of this model. The original images are listed in the first row and the reconstructions in the second. These results look decent but you can play with some specific hyperparameters like the number and dimensionality of the embedding to improve this."
   ]
  },
  {
   "cell_type": "code",
   "execution_count": 7,
   "metadata": {},
   "outputs": [
    {
     "name": "stdout",
     "output_type": "stream",
     "text": [
      "\u001b[1m313/313\u001b[0m \u001b[32m━━━━━━━━━━━━━━━━━━━━\u001b[0m\u001b[37m\u001b[0m \u001b[1m1s\u001b[0m 2ms/step\n"
     ]
    },
    {
     "data": {
      "image/png": "[encoded data removed]",
      "text/plain": [
       "<Figure size 2000x400 with 20 Axes>"
      ]
     },
     "metadata": {},
     "output_type": "display_data"
    }
   ],
   "source": [
    "reconstructions_test = trained_model.predict(x_test)\n",
    "\n",
    "display_diff(x_test, reconstructions_test['recon'])"
   ]
  }
 ],
 "metadata": {
  "kernelspec": {
   "display_name": "aepy-test",
   "language": "python",
   "name": "python3"
  },
  "language_info": {
   "codemirror_mode": {
    "name": "ipython",
    "version": 3
   },
   "file_extension": ".py",
   "mimetype": "text/x-python",
   "name": "python",
   "nbconvert_exporter": "python",
   "pygments_lexer": "ipython3",
   "version": "3.11.2"
  }
 },
 "nbformat": 4,
 "nbformat_minor": 2
}
