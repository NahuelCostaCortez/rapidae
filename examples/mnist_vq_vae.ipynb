{
 "cells": [
  {
   "cell_type": "markdown",
   "metadata": {},
   "source": [
    "# Example of VQ VAE with MNIST dataset"
   ]
  },
  {
   "cell_type": "code",
   "execution_count": 1,
   "metadata": {},
   "outputs": [],
   "source": [
    "# First install the library\n",
    "\n",
    "# %pip install aepy"
   ]
  },
  {
   "cell_type": "markdown",
   "metadata": {},
   "source": [
    "Since Rapidae uses the new version of Keras 3, this allows the use of different backends. \n",
    "We can select among the 3 available backends (Tensorflow, Pytorch and Jax) by modifying the environment variable \"KERAS_BACKEND\".\n",
    "In the next cell we can define it."
   ]
  },
  {
   "cell_type": "code",
   "execution_count": 2,
   "metadata": {},
   "outputs": [],
   "source": [
    "import os\n",
    "\n",
    "os.environ[\"KERAS_BACKEND\"] = \"torch\""
   ]
  },
  {
   "cell_type": "code",
   "execution_count": 3,
   "metadata": {},
   "outputs": [],
   "source": [
    "import sys\n",
    "\n",
    "notebook_dir = os.path.abspath('')\n",
    "sys.path.append(os.path.join(notebook_dir, '..'))\n",
    "\n",
    "from keras import utils\n",
    "from rapidae.pipelines.training import TrainingPipeline\n",
    "from rapidae.models.base.default_architectures import Encoder_Conv_VQ_MNIST, Decoder_Conv_VQ_MNIST\n",
    "from rapidae.models.vq_vae.vq_vae_model import VQ_VAE\n",
    "from rapidae.data.utils import display_diff\n",
    "from rapidae.data.datasets import load_MNIST\n",
    "\n",
    "# For reproducibility in Keras 3. This will set:\n",
    "# 1) `numpy` seed\n",
    "# 2) backend random seed\n",
    "# 3) `python` random seed\n",
    "utils.set_random_seed(1)"
   ]
  },
  {
   "cell_type": "markdown",
   "metadata": {},
   "source": [
    "### Download and preprocess the dataset\n",
    "\n",
    "Download and preprocess the dataset. In this example, the selected dataset is the well-known MNIST composed of handwritten number images.\n",
    "\n",
    "The \"persistant\" parameter of the load_MNIST() serves as a flag to determine if we want the dataset to be cached in the datasets folder.\n",
    "\n",
    "In this case since we are using convolutional layers we don't need to flatten the data.\n",
    "\n",
    "Train and test labels are converted into one-hot encoding."
   ]
  },
  {
   "cell_type": "code",
   "execution_count": 4,
   "metadata": {},
   "outputs": [
    {
     "name": "stderr",
     "output_type": "stream",
     "text": [
      "2023-12-28 14:41:29 \u001b[32m[INFO]\u001b[0m: train-images-idx3-ubyte.gz already exists.\u001b[0m\n",
      "2023-12-28 14:41:29 \u001b[32m[INFO]\u001b[0m: train-labels-idx1-ubyte.gz already exists.\u001b[0m\n",
      "2023-12-28 14:41:29 \u001b[32m[INFO]\u001b[0m: t10k-images-idx3-ubyte.gz already exists.\u001b[0m\n",
      "2023-12-28 14:41:29 \u001b[32m[INFO]\u001b[0m: t10k-labels-idx1-ubyte.gz already exists.\u001b[0m\n"
     ]
    }
   ],
   "source": [
    "# Load MNIST dataset\n",
    "x_train, y_train, x_test, y_test = load_MNIST(persistant=True)\n",
    "\n",
    "x_train = x_train.astype('float32') / 255\n",
    "x_test = x_test.astype('float32') / 255\n",
    "\n",
    "# Obtaint number of clasess\n",
    "n_classes = len(set(y_train))\n",
    "\n",
    "# Convert labels to categorical\n",
    "y_train = utils.to_categorical(y_train, n_classes)\n",
    "y_test = utils.to_categorical(y_test, n_classes)"
   ]
  },
  {
   "cell_type": "markdown",
   "metadata": {},
   "source": [
    "### Model creation\n",
    "\n",
    "\n",
    "Model's creation step. The selected encoder and decoder are extracted for the Keras tutorial. They are almost similar with the ones used in the vanilla vae example for MNIST, but with a few changes related to latent space, since in VQ-vae we don't have available 'z_mean' and 'z_log_var' arrays."
   ]
  },
  {
   "cell_type": "code",
   "execution_count": 5,
   "metadata": {},
   "outputs": [],
   "source": [
    "# Model creation\n",
    "model = VQ_VAE(input_dim=(x_train.shape[1], x_train.shape[2]),\n",
    "               latent_dim=2, encoder=Encoder_Conv_VQ_MNIST, decoder=Decoder_Conv_VQ_MNIST, layers_conf=[32, 64])"
   ]
  },
  {
   "cell_type": "markdown",
   "metadata": {},
   "source": [
    "### Training pipeline \n",
    "\n",
    "Define the training pipeline. Here you can fix some hyperparameters related to the training phase of the autoencoder, like learning rate, bath size, numer of epochs, etc. \n",
    "Also you can define callbacks to the model."
   ]
  },
  {
   "cell_type": "code",
   "execution_count": 6,
   "metadata": {},
   "outputs": [
    {
     "name": "stderr",
     "output_type": "stream",
     "text": [
      "2023-12-28 14:41:30 \u001b[32m[INFO]\u001b[0m: +++ training_pipeline +++\u001b[0m\n",
      "2023-12-28 14:41:30 \u001b[32m[INFO]\u001b[0m: Creating folder in ../output_dir/training_pipeline_2023-12-28_14-41-30\u001b[0m\n",
      "/home/lucaspc/venvs/keras_core/lib/python3.11/site-packages/keras/src/layers/layer.py:358: UserWarning: `build()` was called on layer 'encoder', however the layer does not have a `build()` method implemented and it looks like it has unbuilt state. This will cause the layer to be marked as built, despite not being actually built, which may cause failures down the line. Make sure to implement a proper `build()` method.\n",
      "  warnings.warn(\n"
     ]
    },
    {
     "name": "stdout",
     "output_type": "stream",
     "text": [
      "Epoch 1/20\n"
     ]
    },
    {
     "name": "stderr",
     "output_type": "stream",
     "text": [
      "/home/lucaspc/venvs/keras_core/lib/python3.11/site-packages/keras/src/backend/common/backend_utils.py:88: UserWarning: You might experience inconsistencies accross backends when calling conv transpose with kernel_size=3, stride=2, dilation_rate=1, padding=same, output_padding=1.\n",
      "  warnings.warn(\n"
     ]
    },
    {
     "name": "stdout",
     "output_type": "stream",
     "text": [
      "\n",
      "Epoch 1: loss improved from inf to 0.01933, saving model to ../output_dir/training_pipeline_2023-12-28_14-41-30/model.weights.h5\n",
      "469/469 - 4s - 8ms/step - loss: 0.0193 - reconstruction_loss: 0.0164 - vq_loss: 0.0029\n",
      "Epoch 2/20\n",
      "\n",
      "Epoch 2: loss improved from 0.01933 to 0.00737, saving model to ../output_dir/training_pipeline_2023-12-28_14-41-30/model.weights.h5\n",
      "469/469 - 4s - 8ms/step - loss: 0.0074 - reconstruction_loss: 0.0070 - vq_loss: 3.5438e-04\n",
      "Epoch 3/20\n",
      "\n",
      "Epoch 3: loss improved from 0.00737 to 0.00650, saving model to ../output_dir/training_pipeline_2023-12-28_14-41-30/model.weights.h5\n",
      "469/469 - 3s - 7ms/step - loss: 0.0065 - reconstruction_loss: 0.0061 - vq_loss: 3.8951e-04\n",
      "Epoch 4/20\n",
      "\n",
      "Epoch 4: loss improved from 0.00650 to 0.00608, saving model to ../output_dir/training_pipeline_2023-12-28_14-41-30/model.weights.h5\n",
      "469/469 - 3s - 7ms/step - loss: 0.0061 - reconstruction_loss: 0.0057 - vq_loss: 4.0252e-04\n",
      "Epoch 5/20\n",
      "\n",
      "Epoch 5: loss improved from 0.00608 to 0.00581, saving model to ../output_dir/training_pipeline_2023-12-28_14-41-30/model.weights.h5\n",
      "469/469 - 3s - 7ms/step - loss: 0.0058 - reconstruction_loss: 0.0054 - vq_loss: 4.1765e-04\n",
      "Epoch 6/20\n",
      "\n",
      "Epoch 6: loss improved from 0.00581 to 0.00560, saving model to ../output_dir/training_pipeline_2023-12-28_14-41-30/model.weights.h5\n",
      "469/469 - 3s - 7ms/step - loss: 0.0056 - reconstruction_loss: 0.0052 - vq_loss: 4.2052e-04\n",
      "Epoch 7/20\n",
      "\n",
      "Epoch 7: loss improved from 0.00560 to 0.00546, saving model to ../output_dir/training_pipeline_2023-12-28_14-41-30/model.weights.h5\n",
      "469/469 - 3s - 7ms/step - loss: 0.0055 - reconstruction_loss: 0.0050 - vq_loss: 4.2338e-04\n",
      "Epoch 8/20\n",
      "\n",
      "Epoch 8: loss improved from 0.00546 to 0.00533, saving model to ../output_dir/training_pipeline_2023-12-28_14-41-30/model.weights.h5\n",
      "469/469 - 3s - 7ms/step - loss: 0.0053 - reconstruction_loss: 0.0049 - vq_loss: 4.2221e-04\n",
      "Epoch 9/20\n",
      "\n",
      "Epoch 9: loss improved from 0.00533 to 0.00522, saving model to ../output_dir/training_pipeline_2023-12-28_14-41-30/model.weights.h5\n",
      "469/469 - 3s - 7ms/step - loss: 0.0052 - reconstruction_loss: 0.0048 - vq_loss: 4.1657e-04\n",
      "Epoch 10/20\n",
      "\n",
      "Epoch 10: loss improved from 0.00522 to 0.00513, saving model to ../output_dir/training_pipeline_2023-12-28_14-41-30/model.weights.h5\n",
      "469/469 - 3s - 7ms/step - loss: 0.0051 - reconstruction_loss: 0.0047 - vq_loss: 4.1290e-04\n",
      "Epoch 11/20\n",
      "\n",
      "Epoch 11: loss improved from 0.00513 to 0.00503, saving model to ../output_dir/training_pipeline_2023-12-28_14-41-30/model.weights.h5\n",
      "469/469 - 3s - 7ms/step - loss: 0.0050 - reconstruction_loss: 0.0046 - vq_loss: 4.0703e-04\n",
      "Epoch 12/20\n",
      "\n",
      "Epoch 12: loss improved from 0.00503 to 0.00495, saving model to ../output_dir/training_pipeline_2023-12-28_14-41-30/model.weights.h5\n",
      "469/469 - 3s - 7ms/step - loss: 0.0049 - reconstruction_loss: 0.0045 - vq_loss: 3.9995e-04\n",
      "Epoch 13/20\n",
      "\n",
      "Epoch 13: loss improved from 0.00495 to 0.00487, saving model to ../output_dir/training_pipeline_2023-12-28_14-41-30/model.weights.h5\n",
      "469/469 - 3s - 7ms/step - loss: 0.0049 - reconstruction_loss: 0.0045 - vq_loss: 3.9213e-04\n",
      "Epoch 14/20\n",
      "\n",
      "Epoch 14: loss improved from 0.00487 to 0.00480, saving model to ../output_dir/training_pipeline_2023-12-28_14-41-30/model.weights.h5\n",
      "469/469 - 3s - 7ms/step - loss: 0.0048 - reconstruction_loss: 0.0044 - vq_loss: 3.8313e-04\n",
      "Epoch 15/20\n",
      "\n",
      "Epoch 15: loss improved from 0.00480 to 0.00474, saving model to ../output_dir/training_pipeline_2023-12-28_14-41-30/model.weights.h5\n",
      "469/469 - 3s - 7ms/step - loss: 0.0047 - reconstruction_loss: 0.0044 - vq_loss: 3.7610e-04\n",
      "Epoch 16/20\n",
      "\n",
      "Epoch 16: loss improved from 0.00474 to 0.00467, saving model to ../output_dir/training_pipeline_2023-12-28_14-41-30/model.weights.h5\n",
      "469/469 - 3s - 7ms/step - loss: 0.0047 - reconstruction_loss: 0.0043 - vq_loss: 3.6878e-04\n",
      "Epoch 17/20\n",
      "\n",
      "Epoch 17: loss improved from 0.00467 to 0.00462, saving model to ../output_dir/training_pipeline_2023-12-28_14-41-30/model.weights.h5\n",
      "469/469 - 3s - 7ms/step - loss: 0.0046 - reconstruction_loss: 0.0043 - vq_loss: 3.6072e-04\n",
      "Epoch 18/20\n",
      "\n",
      "Epoch 18: loss improved from 0.00462 to 0.00457, saving model to ../output_dir/training_pipeline_2023-12-28_14-41-30/model.weights.h5\n",
      "469/469 - 3s - 7ms/step - loss: 0.0046 - reconstruction_loss: 0.0042 - vq_loss: 3.5258e-04\n",
      "Epoch 19/20\n",
      "\n",
      "Epoch 19: loss improved from 0.00457 to 0.00451, saving model to ../output_dir/training_pipeline_2023-12-28_14-41-30/model.weights.h5\n",
      "469/469 - 3s - 7ms/step - loss: 0.0045 - reconstruction_loss: 0.0042 - vq_loss: 3.4369e-04\n",
      "Epoch 20/20\n",
      "\n",
      "Epoch 20: loss improved from 0.00451 to 0.00446, saving model to ../output_dir/training_pipeline_2023-12-28_14-41-30/model.weights.h5\n",
      "469/469 - 3s - 7ms/step - loss: 0.0045 - reconstruction_loss: 0.0041 - vq_loss: 3.3567e-04\n"
     ]
    }
   ],
   "source": [
    "pipe = TrainingPipeline(name='training_pipeline_mnist_vq_vae',\n",
    "                        model=model, num_epochs=20)\n",
    "\n",
    "trained_model = pipe(x=x_train, y=y_train)"
   ]
  },
  {
   "cell_type": "markdown",
   "metadata": {},
   "source": [
    "### Evaluation step\n",
    "\n",
    "Let's now check the performance of this model. The original images are listed in the first row and the reconstructions in the second. These results look decent but you can play with some specific hyperparameters like the number and dimensionality of the embedding to improve this."
   ]
  },
  {
   "cell_type": "code",
   "execution_count": 7,
   "metadata": {},
   "outputs": [
    {
     "name": "stdout",
     "output_type": "stream",
     "text": [
      "\u001b[1m313/313\u001b[0m \u001b[32m━━━━━━━━━━━━━━━━━━━━\u001b[0m\u001b[37m\u001b[0m \u001b[1m1s\u001b[0m 2ms/step\n"
     ]
    },
    {
     "data": {
      "image/png": "[encoded data removed]",
      "text/plain": [
       "<Figure size 2000x400 with 20 Axes>"
      ]
     },
     "metadata": {},
     "output_type": "display_data"
    }
   ],
   "source": [
    "reconstructions_test = trained_model.predict(x_test)\n",
    "\n",
    "display_diff(x_test, reconstructions_test['recon'])"
   ]
  }
 ],
 "metadata": {
  "kernelspec": {
   "display_name": "aepy-test",
   "language": "python",
   "name": "python3"
  },
  "language_info": {
   "codemirror_mode": {
    "name": "ipython",
    "version": 3
   },
   "file_extension": ".py",
   "mimetype": "text/x-python",
   "name": "python",
   "nbconvert_exporter": "python",
   "pygments_lexer": "ipython3",
   "version": "3.10.12"
  }
 },
 "nbformat": 4,
 "nbformat_minor": 2
}
