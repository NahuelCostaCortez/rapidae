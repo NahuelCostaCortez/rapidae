{
 "cells": [
  {
   "cell_type": "markdown",
   "metadata": {},
   "source": [
    "<a href=\"https://colab.research.google.com/github/NahuelCostaCortez/rapidae/blob/main/examples/ic_former.ipynb\" target=\"_parent\"><img src=\"https://colab.research.google.com/assets/colab-badge.svg\" alt=\"Open In Colab\"/></a>"
   ]
  },
  {
   "cell_type": "markdown",
   "metadata": {},
   "source": [
    "# ICFormer"
   ]
  },
  {
   "cell_type": "markdown",
   "metadata": {},
   "source": [
    "ICFormer is a Deep Learning model based on a Transformer encoder that leverages self-attention on the evolution of incremental capacity (IC) curves to accurately identify relevant changes in LIB degradation trajectories. It does not only detects knees, but also anticipates them while also outperforming state-of-the-art approaches in diagnosing degradation modes, making it a powerful tool for predicting battery health. ICFormer can provide valuable knowledge on the factors contributing to capacity loss and offer advanced insights for battery management and predictive maintenance strategies."
   ]
  },
  {
   "cell_type": "code",
   "execution_count": null,
   "metadata": {},
   "outputs": [],
   "source": [
    "# Install the library\n",
    "\n",
    "!pip install rapidae"
   ]
  },
  {
   "cell_type": "code",
   "execution_count": 3,
   "metadata": {},
   "outputs": [],
   "source": [
    "from rapidae.models import ICFormer\n",
    "from rapidae.pipelines import TrainingPipeline"
   ]
  },
  {
   "cell_type": "markdown",
   "metadata": {},
   "source": [
    "### Data"
   ]
  },
  {
   "cell_type": "markdown",
   "metadata": {},
   "source": [
    "Check the following [repo](https://github.com/NahuelCostaCortez/ICFormer) if you want to explore data related to this problem."
   ]
  },
  {
   "cell_type": "code",
   "execution_count": 8,
   "metadata": {},
   "outputs": [],
   "source": [
    "import numpy as np\n",
    "x_train = np.random.rand(128, 12, 128)\n",
    "y_train = {'y_regression': np.random.rand(128, 1), 'y_classification': np.random.randint(0, 2, (128, 1))}"
   ]
  },
  {
   "cell_type": "markdown",
   "metadata": {},
   "source": [
    "### Model"
   ]
  },
  {
   "cell_type": "code",
   "execution_count": 6,
   "metadata": {},
   "outputs": [
    {
     "name": "stderr",
     "output_type": "stream",
     "text": [
      "2024-06-05 17:22:13 \u001b[32m[INFO]\u001b[0m: Trying to set encoder and decoder from child class...\u001b[0m\n",
      "2024-06-05 17:22:13 \u001b[33m[WARNING]\u001b[0m: ic_former does not have a decoder\u001b[0m\n",
      "2024-06-05 17:22:13 \u001b[32m[INFO]\u001b[0m: Encoder set from ic_former\u001b[0m\n"
     ]
    }
   ],
   "source": [
    "num_cycles = x_train.shape[1]\n",
    "\n",
    "model = ICFormer(input_dim=num_cycles)"
   ]
  },
  {
   "cell_type": "markdown",
   "metadata": {},
   "source": [
    "### Training"
   ]
  },
  {
   "cell_type": "code",
   "execution_count": 9,
   "metadata": {},
   "outputs": [
    {
     "name": "stderr",
     "output_type": "stream",
     "text": [
      "2024-06-05 17:24:02 \u001b[32m[INFO]\u001b[0m: +++ ICFormer_SyntheticLFP +++\u001b[0m\n",
      "2024-06-05 17:24:02 \u001b[32m[INFO]\u001b[0m: Creating folder in ./output_dir/ICFormer_SyntheticLFP_2024-06-05_17-24\u001b[0m\n",
      "2024-06-05 17:24:02 \u001b[32m[INFO]\u001b[0m: \n",
      "TRAINING STARTED\n",
      "\tBackend: tensorflow\n",
      "\tEager mode: True\n",
      "\tValidation data available: False\n",
      "\tCallbacks set: ['EarlyStopping', 'ModelCheckpoint'] \n",
      "\u001b[0m\n"
     ]
    },
    {
     "name": "stdout",
     "output_type": "stream",
     "text": [
      "\n",
      "Epoch 1: loss improved from inf to 8.90764, saving model to ./output_dir/ICFormer_SyntheticLFP_2024-06-05_17-24/model.weights.h5\n",
      "1/1 - 16s - 16s/step - clf_loss: 0.7086 - loss: 8.9076 - reg_loss: 1.8211\n"
     ]
    },
    {
     "name": "stderr",
     "output_type": "stream",
     "text": [
      "2024-06-05 17:24:19 \u001b[32m[INFO]\u001b[0m: Restoring best model\u001b[0m\n",
      "2024-06-05 17:24:27 \u001b[32m[INFO]\u001b[0m: Best model restored\u001b[0m\n"
     ]
    }
   ],
   "source": [
    "epochs = 1\n",
    "batch_size = 128\n",
    "\n",
    "pipe = TrainingPipeline(name='ICFormer_SyntheticLFP', \n",
    "                        learning_rate=0.001,\n",
    "                        model=model, \n",
    "                        num_epochs=epochs, \n",
    "                        batch_size=batch_size,\n",
    "                        graph_mode=False,) # does not work in graph mode\n",
    "\n",
    "trained_model = pipe(x=x_train, y=y_train)"
   ]
  }
 ],
 "metadata": {
  "kernelspec": {
   "display_name": "rapidae",
   "language": "python",
   "name": "python3"
  },
  "language_info": {
   "codemirror_mode": {
    "name": "ipython",
    "version": 3
   },
   "file_extension": ".py",
   "mimetype": "text/x-python",
   "name": "python",
   "nbconvert_exporter": "python",
   "pygments_lexer": "ipython3",
   "version": "3.10.13"
  }
 },
 "nbformat": 4,
 "nbformat_minor": 2
}
