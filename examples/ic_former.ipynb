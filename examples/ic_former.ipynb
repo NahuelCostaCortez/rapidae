{
 "cells": [
  {
   "cell_type": "markdown",
   "metadata": {},
   "source": [
    "# ICFormer"
   ]
  },
  {
   "cell_type": "markdown",
   "metadata": {},
   "source": [
    "ICFormer is a Deep Learning model based on a Transformer encoder that leverages self-attention on the evolution of incremental capacity (IC) curves to accurately identify relevant changes in LIB degradation trajectories. It does not only detects knees, but also anticipates them while also outperforming state-of-the-art approaches in diagnosing degradation modes, making it a powerful tool for predicting battery health. ICFormer can provide valuable knowledge on the factors contributing to capacity loss and offer advanced insights for battery management and predictive maintenance strategies."
   ]
  },
  {
   "cell_type": "code",
   "execution_count": null,
   "metadata": {},
   "outputs": [],
   "source": [
    "# Install the library\n",
    "\n",
    "!pip install rapidae"
   ]
  },
  {
   "cell_type": "code",
   "execution_count": 1,
   "metadata": {},
   "outputs": [],
   "source": [
    "%load_ext autoreload\n",
    "%autoreload 2\n",
    "\n",
    "import os\n",
    "import sys\n",
    "\n",
    "notebook_dir = os.path.abspath('') # get the current notebook directory\n",
    "sys.path.append(os.path.join(notebook_dir, '..', 'src')) # add src folder to path to import modules\n",
    "                                                        # '..', 'src' if you are in the 'examples' folder"
   ]
  },
  {
   "cell_type": "code",
   "execution_count": 8,
   "metadata": {},
   "outputs": [],
   "source": [
    "from rapidae.models import ICFormer\n",
    "from rapidae.pipelines import TrainingPipeline"
   ]
  },
  {
   "cell_type": "markdown",
   "metadata": {},
   "source": [
    "### Data"
   ]
  },
  {
   "cell_type": "code",
   "execution_count": 9,
   "metadata": {},
   "outputs": [],
   "source": [
    "import numpy as np\n",
    "x_train = np.random.rand(2, 12, 128)\n",
    "y_train = {'y_regression': np.random.rand(2, 1), 'y_classification': np.random.randint(0, 2, (2, 1))}"
   ]
  },
  {
   "cell_type": "markdown",
   "metadata": {},
   "source": [
    "### Model"
   ]
  },
  {
   "cell_type": "code",
   "execution_count": 11,
   "metadata": {},
   "outputs": [
    {
     "name": "stderr",
     "output_type": "stream",
     "text": [
      "2024-05-03 11:55:53 \u001b[32m[INFO]\u001b[0m: Trying to set encoder and decoder from child class...\u001b[0m\n",
      "2024-05-03 11:55:53 \u001b[33m[WARNING]\u001b[0m: ic_former does not have a decoder\u001b[0m\n",
      "2024-05-03 11:55:54 \u001b[32m[INFO]\u001b[0m: Encoder set from ic_former\u001b[0m\n"
     ]
    }
   ],
   "source": [
    "num_cycles = x_train.shape[1]\n",
    "\n",
    "model = ICFormer(input_dim=num_cycles)"
   ]
  },
  {
   "cell_type": "markdown",
   "metadata": {},
   "source": [
    "### Training"
   ]
  },
  {
   "cell_type": "code",
   "execution_count": 12,
   "metadata": {},
   "outputs": [
    {
     "name": "stderr",
     "output_type": "stream",
     "text": [
      "2024-05-03 11:55:55 \u001b[32m[INFO]\u001b[0m: +++ ICFormer_SyntheticLFP +++\u001b[0m\n",
      "2024-05-03 11:55:55 \u001b[32m[INFO]\u001b[0m: Creating folder in ./output_dir/ICFormer_SyntheticLFP_2024-05-03_11-55\u001b[0m\n",
      "2024-05-03 11:55:55 \u001b[32m[INFO]\u001b[0m: \n",
      "TRAINING STARTED\n",
      "\tBackend: tensorflow\n",
      "\tEager mode: False\n",
      "\tValidation data available: False\n",
      "\tCallbacks set: ['EarlyStopping', 'ModelCheckpoint'] \n",
      "\u001b[0m\n"
     ]
    },
    {
     "ename": "",
     "evalue": "",
     "output_type": "error",
     "traceback": [
      "\u001b[1;31mThe Kernel crashed while executing code in the current cell or a previous cell. \n",
      "\u001b[1;31mPlease review the code in the cell(s) to identify a possible cause of the failure. \n",
      "\u001b[1;31mClick <a href='https://aka.ms/vscodeJupyterKernelCrash'>here</a> for more info. \n",
      "\u001b[1;31mView Jupyter <a href='command:jupyter.viewOutput'>log</a> for further details."
     ]
    }
   ],
   "source": [
    "epochs = 1\n",
    "batch_size = 128\n",
    "\n",
    "pipe = TrainingPipeline(name='ICFormer_SyntheticLFP', \n",
    "                        learning_rate=0.001,\n",
    "                        model=model, \n",
    "                        num_epochs=epochs, \n",
    "                        batch_size=batch_size)\n",
    "\n",
    "trained_model = pipe(x=x_train, y=y_train)"
   ]
  }
 ],
 "metadata": {
  "kernelspec": {
   "display_name": "rapidae",
   "language": "python",
   "name": "python3"
  },
  "language_info": {
   "codemirror_mode": {
    "name": "ipython",
    "version": 3
   },
   "file_extension": ".py",
   "mimetype": "text/x-python",
   "name": "python",
   "nbconvert_exporter": "python",
   "pygments_lexer": "ipython3",
   "version": "3.10.10"
  }
 },
 "nbformat": 4,
 "nbformat_minor": 2
}
