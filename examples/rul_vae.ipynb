{
 "cells": [
  {
   "cell_type": "code",
   "execution_count": 1,
   "metadata": {},
   "outputs": [
    {
     "name": "stderr",
     "output_type": "stream",
     "text": [
      "2023-11-21 10:25:05.528494: I tensorflow/core/platform/cpu_feature_guard.cc:182] This TensorFlow binary is optimized to use available CPU instructions in performance-critical operations.\n",
      "To enable the following instructions: AVX2 FMA, in other operations, rebuild TensorFlow with the appropriate compiler flags.\n"
     ]
    },
    {
     "name": "stdout",
     "output_type": "stream",
     "text": [
      "Using TensorFlow backend\n"
     ]
    }
   ],
   "source": [
    "import os\n",
    "import sys\n",
    "\n",
    "notebook_dir = os.path.abspath('')\n",
    "sys.path.append(os.path.join(notebook_dir, '..'))\n",
    "\n",
    "import numpy as np\n",
    "import tensorflow as tf\n",
    "\n",
    "from sklearn.metrics import mean_squared_error\n",
    "\n",
    "from aepy.data import utils\n",
    "from aepy.data.datasets import load_CMAPSS\n",
    "from aepy.data.preprocessing import CMAPSS_preprocessor\n",
    "from aepy.data.utils import evaluate\n",
    "from aepy.metrics import cmapps_score\n",
    "from aepy.models.base import RecurrentDecoder, RecurrentEncoder\n",
    "from aepy.models.vae import VAE\n",
    "from aepy.pipelines import PreprocessPipeline, TrainingPipeline"
   ]
  },
  {
   "cell_type": "code",
   "execution_count": 2,
   "metadata": {},
   "outputs": [
    {
     "name": "stdout",
     "output_type": "stream",
     "text": [
      "No GPU found\n",
      "2.16.0-dev20231103\n"
     ]
    }
   ],
   "source": [
    "# Check GPU and Tensorflow version\n",
    "if tf.test.gpu_device_name():\n",
    "    print('GPU found')\n",
    "else:\n",
    "    print(\"No GPU found\")\n",
    "\n",
    "print(tf.__version__)"
   ]
  },
  {
   "cell_type": "code",
   "execution_count": 3,
   "metadata": {},
   "outputs": [
    {
     "name": "stderr",
     "output_type": "stream",
     "text": [
      "2023-11-21 10:25:17 \u001b[32m[INFO]\u001b[0m: +++ CMAPPS_preprocessing +++\u001b[0m\n",
      "2023-11-21 10:25:17 \u001b[32m[INFO]\u001b[0m: Creating folder in ../output_dir/CMAPPS_preprocessing_2023-11-21_10-25-17\u001b[0m\n",
      "2023-11-21 10:25:17 \u001b[32m[INFO]\u001b[0m: Selected preprocessor is a function.\u001b[0m\n"
     ]
    }
   ],
   "source": [
    "dataset = 'FD003'\n",
    "# sensors to work with: T30, T50, P30, PS30, phi\n",
    "sensors = ['s_3', 's_4', 's_7', 's_11', 's_12']\n",
    "# windows length\n",
    "sequence_length = 30\n",
    "# smoothing intensity\n",
    "alpha = 0.1\n",
    "# max RUL\n",
    "threshold = 125\n",
    "\n",
    "# NOT IMPLEMENTED\n",
    "# x_train, y_train, x_val, y_val, x_test, y_test = utils.get_data(dataset, sensors,\n",
    "# sequence_length, alpha, threshold)\n",
    "train, test, y_test = load_CMAPSS('FD001')\n",
    "# x_train, y_train, x_val, y_val, x_test, y_test = CMAPSS_preprocessor(train, test, y_test)\n",
    "preprocess_pipeline = PreprocessPipeline(\n",
    "    name='CMAPPS_preprocessing', preprocessor=CMAPSS_preprocessor)\n",
    "x_train, y_train, x_val, y_val, x_test, y_test = preprocess_pipeline(\n",
    "    train=train, test=test, y_test=y_test, threshold=100)"
   ]
  },
  {
   "cell_type": "code",
   "execution_count": 4,
   "metadata": {},
   "outputs": [],
   "source": [
    "timesteps = x_train.shape[1]\n",
    "input_dim = x_train.shape[2]\n",
    "intermediate_dim = 300\n",
    "batch_size = 128\n",
    "latent_dim = 2\n",
    "epochs = 2\n",
    "optimizer = 'adam'"
   ]
  },
  {
   "cell_type": "code",
   "execution_count": 5,
   "metadata": {},
   "outputs": [],
   "source": [
    "train_data = dict(data=x_train, labels=y_train)\n",
    "eval_data = dict(data=x_val, labels=y_val)"
   ]
  },
  {
   "cell_type": "code",
   "execution_count": 6,
   "metadata": {},
   "outputs": [
    {
     "name": "stderr",
     "output_type": "stream",
     "text": [
      "2023-11-21 10:25:40 \u001b[33m[WARNING]\u001b[0m: No specific layer configuration has been provided. Creating default configuration...\u001b[0m\n",
      "2023-11-21 10:25:40 \u001b[32m[INFO]\u001b[0m: Regressor available for the latent space of the autoencoder\u001b[0m\n"
     ]
    }
   ],
   "source": [
    "model = VAE(input_dim=(x_train.shape[1], x_train.shape[2]), latent_dim=2, \n",
    "            downstream_task='regression', encoder=RecurrentEncoder, decoder=RecurrentDecoder)\n",
    "# model_callbacks = utils.get_callbacks(\"p\", model, x_train, y_train)"
   ]
  },
  {
   "cell_type": "code",
   "execution_count": 7,
   "metadata": {},
   "outputs": [
    {
     "name": "stderr",
     "output_type": "stream",
     "text": [
      "2023-11-21 10:25:55 \u001b[32m[INFO]\u001b[0m: +++ TrainingPipeline +++\u001b[0m\n",
      "2023-11-21 10:25:55 \u001b[32m[INFO]\u001b[0m: Creating folder in ../output_dir/TrainingPipeline_2023-11-21_10-25-55\u001b[0m\n"
     ]
    },
    {
     "name": "stdout",
     "output_type": "stream",
     "text": [
      "WARNING:tensorflow:AutoGraph could not transform <function _gcd_import at 0x7f2970363400> and will run it as-is.\n",
      "Cause: Unable to locate the source code of <function _gcd_import at 0x7f2970363400>. Note that functions defined in certain environments, like the interactive Python shell, do not expose their source code. If that is the case, you should define them in a .py source file. If you are certain the code is graph-compatible, wrap the call using @tf.autograph.experimental.do_not_convert. Original error: could not get source code\n",
      "To silence this warning, decorate the function with @tf.autograph.experimental.do_not_convert\n",
      "WARNING: AutoGraph could not transform <function _gcd_import at 0x7f2970363400> and will run it as-is.\n",
      "Cause: Unable to locate the source code of <function _gcd_import at 0x7f2970363400>. Note that functions defined in certain environments, like the interactive Python shell, do not expose their source code. If that is the case, you should define them in a .py source file. If you are certain the code is graph-compatible, wrap the call using @tf.autograph.experimental.do_not_convert. Original error: could not get source code\n",
      "To silence this warning, decorate the function with @tf.autograph.experimental.do_not_convert\n"
     ]
    },
    {
     "name": "stderr",
     "output_type": "stream",
     "text": [
      "2023-11-21 10:27:10.497645: I external/local_xla/xla/service/service.cc:168] XLA service 0x7f28640164b0 initialized for platform Host (this does not guarantee that XLA will be used). Devices:\n",
      "2023-11-21 10:27:10.497700: I external/local_xla/xla/service/service.cc:176]   StreamExecutor device (0): Host, Default Version\n",
      "2023-11-21 10:27:11.024224: I tensorflow/compiler/mlir/tensorflow/utils/dump_mlir_util.cc:269] disabling MLIR crash reproducer, set env var `MLIR_CRASH_REPRODUCER_DIRECTORY` to enable.\n",
      "WARNING: All log messages before absl::InitializeLog() is called are written to STDERR\n",
      "I0000 00:00:1700558839.633657   11110 device_compiler.h:187] Compiled cluster using XLA!  This line is logged at most once for the lifetime of the process.\n",
      "2023-11-21 10:27:19.670815: E external/local_xla/xla/stream_executor/stream_executor_internal.h:181] SetPriority unimplemented for this stream.\n"
     ]
    },
    {
     "name": "stdout",
     "output_type": "stream",
     "text": [
      "\n",
      "Epoch 1: val_total_loss improved from inf to 0.00000, saving model to ../output_dir/TrainingPipeline_2023-11-21_10-25-55/model.weights.h5\n",
      "112/112 - 242s - 2s/step - kl_loss: 108.7285 - reconstruction_loss: 0.3492 - reg_loss: 4352.5679 - total_loss: 4461.6450 - val_kl_loss: 0.0000e+00 - val_reconstruction_loss: 0.0000e+00 - val_reg_loss: 0.0000e+00 - val_total_loss: 0.0000e+00\n"
     ]
    }
   ],
   "source": [
    "pipeline = TrainingPipeline(model=model, num_epochs=1)\n",
    "trained_model = pipeline(train_data, eval_data)  # , callbacks=model_callbacks)"
   ]
  },
  {
   "cell_type": "code",
   "execution_count": 8,
   "metadata": {},
   "outputs": [
    {
     "name": "stdout",
     "output_type": "stream",
     "text": [
      "WARNING:tensorflow:AutoGraph could not transform <bound method PercentStyle._format of <logging.PercentStyle object at 0x7f2968663a60>> and will run it as-is.\n",
      "Please report this to the TensorFlow team. When filing the bug, set the verbosity to 10 (on Linux, `export AUTOGRAPH_VERBOSITY=10`) and attach the full output.\n",
      "Cause: 'NoneType' object has no attribute '_fields'\n",
      "To silence this warning, decorate the function with @tf.autograph.experimental.do_not_convert\n",
      "WARNING: AutoGraph could not transform <bound method PercentStyle._format of <logging.PercentStyle object at 0x7f2968663a60>> and will run it as-is.\n",
      "Please report this to the TensorFlow team. When filing the bug, set the verbosity to 10 (on Linux, `export AUTOGRAPH_VERBOSITY=10`) and attach the full output.\n",
      "Cause: 'NoneType' object has no attribute '_fields'\n",
      "To silence this warning, decorate the function with @tf.autograph.experimental.do_not_convert\n",
      "WARNING:tensorflow:AutoGraph could not transform <bound method Socket.send of <zmq.Socket(zmq.PUSH) at 0x7f296cfd3400>> and will run it as-is.\n",
      "Please report this to the TensorFlow team. When filing the bug, set the verbosity to 10 (on Linux, `export AUTOGRAPH_VERBOSITY=10`) and attach the full output.\n",
      "Cause: module, class, method, function, traceback, frame, or code object was expected, got cython_function_or_method\n",
      "To silence this warning, decorate the function with @tf.autograph.experimental.do_not_convert\n"
     ]
    },
    {
     "name": "stderr",
     "output_type": "stream",
     "text": [
      "2023-11-21 10:52:57 \u001b[33m[WARNING]\u001b[0m: No specific layer configuration has been provided. Creating default configuration...\u001b[0m\n"
     ]
    },
    {
     "name": "stdout",
     "output_type": "stream",
     "text": [
      "WARNING: AutoGraph could not transform <bound method Socket.send of <zmq.Socket(zmq.PUSH) at 0x7f296cfd3400>> and will run it as-is.\n",
      "Please report this to the TensorFlow team. When filing the bug, set the verbosity to 10 (on Linux, `export AUTOGRAPH_VERBOSITY=10`) and attach the full output.\n",
      "Cause: module, class, method, function, traceback, frame, or code object was expected, got cython_function_or_method\n",
      "To silence this warning, decorate the function with @tf.autograph.experimental.do_not_convert\n"
     ]
    },
    {
     "name": "stderr",
     "output_type": "stream",
     "text": [
      "2023-11-21 10:53:00 \u001b[33m[WARNING]\u001b[0m: No encoder provided, using default MLP encoder\u001b[0m\n"
     ]
    },
    {
     "ename": "ValueError",
     "evalue": "Exception encountered when calling VAE.call().\n\n\u001b[1min user code:\n\n    File \"/home/lucas/experiment/aepy/examples/../aepy/models/vae/vae_model.py\", line 32, in __init__  *\n        BaseAE.__init__(self, input_dim, latent_dim,\n    File \"/home/lucas/experiment/aepy/examples/../aepy/models/base/base_model.py\", line 54, in __init__  *\n        self.encoder = Encoder_MLP(self.input_dim, self.latent_dim, self.layers_conf)\n    File \"/home/lucas/python_envs/aepy-test/lib/python3.10/site-packages/keras_core/src/layers/layer.py\", line 1250, in __setattr__\n        value = self._tracker.track(value)\n    File \"/home/lucas/python_envs/aepy-test/lib/python3.10/site-packages/keras_core/src/utils/tracking.py\", line 74, in track\n        self.add_to_store(name, attr)\n    File \"/home/lucas/python_envs/aepy-test/lib/python3.10/site-packages/keras_core/src/utils/tracking.py\", line 97, in add_to_store\n        raise ValueError(self._lock_violation_msg)\n\n    ValueError: You cannot add new elements of state (variables or sub-layers) to a layer that is already built. All state must be created in the `__init__()` method or in the `build()` method.\n\u001b[0m\n\nArguments received by VAE.call():\n  • inputs={'data': 'tf.Tensor(shape=(32, 30, 5), dtype=float32)', 'labels': 'tf.Tensor(shape=(32, 1), dtype=int64)'}",
     "output_type": "error",
     "traceback": [
      "\u001b[0;31m---------------------------------------------------------------------------\u001b[0m",
      "\u001b[0;31mValueError\u001b[0m                                Traceback (most recent call last)",
      "\u001b[1;32m/home/lucas/experiment/aepy/examples/rul_vae.ipynb Cell 8\u001b[0m line \u001b[0;36m2\n\u001b[1;32m      <a href='vscode-notebook-cell:/home/lucas/experiment/aepy/examples/rul_vae.ipynb#X10sZmlsZQ%3D%3D?line=0'>1</a>\u001b[0m test_data \u001b[39m=\u001b[39m \u001b[39mdict\u001b[39m(data\u001b[39m=\u001b[39mx_test, labels\u001b[39m=\u001b[39my_test)\n\u001b[0;32m----> <a href='vscode-notebook-cell:/home/lucas/experiment/aepy/examples/rul_vae.ipynb#X10sZmlsZQ%3D%3D?line=1'>2</a>\u001b[0m y_hat \u001b[39m=\u001b[39m trained_model\u001b[39m.\u001b[39;49mpredict(test_data)\n\u001b[1;32m      <a href='vscode-notebook-cell:/home/lucas/experiment/aepy/examples/rul_vae.ipynb#X10sZmlsZQ%3D%3D?line=3'>4</a>\u001b[0m evaluate(y_true\u001b[39m=\u001b[39mnp\u001b[39m.\u001b[39mexpand_dims(test_data[\u001b[39m'\u001b[39m\u001b[39mlabels\u001b[39m\u001b[39m'\u001b[39m], axis\u001b[39m=\u001b[39m\u001b[39m-\u001b[39m\u001b[39m1\u001b[39m),\n\u001b[1;32m      <a href='vscode-notebook-cell:/home/lucas/experiment/aepy/examples/rul_vae.ipynb#X10sZmlsZQ%3D%3D?line=4'>5</a>\u001b[0m          y_hat\u001b[39m=\u001b[39my_hat[\u001b[39m'\u001b[39m\u001b[39mreg\u001b[39m\u001b[39m'\u001b[39m], sel_metric\u001b[39m=\u001b[39mmean_squared_error)\n\u001b[1;32m      <a href='vscode-notebook-cell:/home/lucas/experiment/aepy/examples/rul_vae.ipynb#X10sZmlsZQ%3D%3D?line=5'>6</a>\u001b[0m evaluate(y_true\u001b[39m=\u001b[39mnp\u001b[39m.\u001b[39mexpand_dims(test_data[\u001b[39m'\u001b[39m\u001b[39mlabels\u001b[39m\u001b[39m'\u001b[39m], axis\u001b[39m=\u001b[39m\u001b[39m-\u001b[39m\u001b[39m1\u001b[39m),\n\u001b[1;32m      <a href='vscode-notebook-cell:/home/lucas/experiment/aepy/examples/rul_vae.ipynb#X10sZmlsZQ%3D%3D?line=6'>7</a>\u001b[0m          y_hat\u001b[39m=\u001b[39my_hat[\u001b[39m'\u001b[39m\u001b[39mreg\u001b[39m\u001b[39m'\u001b[39m], sel_metric\u001b[39m=\u001b[39mcmapps_score\u001b[39m.\u001b[39mCMAPSS_Score())\n",
      "File \u001b[0;32m~/python_envs/aepy-test/lib/python3.10/site-packages/keras_core/src/utils/traceback_utils.py:123\u001b[0m, in \u001b[0;36mfilter_traceback.<locals>.error_handler\u001b[0;34m(*args, **kwargs)\u001b[0m\n\u001b[1;32m    120\u001b[0m     filtered_tb \u001b[39m=\u001b[39m _process_traceback_frames(e\u001b[39m.\u001b[39m__traceback__)\n\u001b[1;32m    121\u001b[0m     \u001b[39m# To get the full stack trace, call:\u001b[39;00m\n\u001b[1;32m    122\u001b[0m     \u001b[39m# `keras_core.config.disable_traceback_filtering()`\u001b[39;00m\n\u001b[0;32m--> 123\u001b[0m     \u001b[39mraise\u001b[39;00m e\u001b[39m.\u001b[39mwith_traceback(filtered_tb) \u001b[39mfrom\u001b[39;00m \u001b[39mNone\u001b[39;00m\n\u001b[1;32m    124\u001b[0m \u001b[39mfinally\u001b[39;00m:\n\u001b[1;32m    125\u001b[0m     \u001b[39mdel\u001b[39;00m filtered_tb\n",
      "File \u001b[0;32m/tmp/__autograph_generated_filew19q9465.py:8\u001b[0m, in \u001b[0;36mouter_factory.<locals>.inner_factory.<locals>.tf____init__\u001b[0;34m(self, input_dim, latent_dim, masking_value, exclude_decoder, downstream_task, encoder, decoder, layers_conf, **kwargs)\u001b[0m\n\u001b[1;32m      6\u001b[0m \u001b[39mdef\u001b[39;00m \u001b[39mtf____init__\u001b[39m(\u001b[39mself\u001b[39m, input_dim: Union[Tuple[\u001b[39mint\u001b[39m, \u001b[39m.\u001b[39m\u001b[39m.\u001b[39m\u001b[39m.\u001b[39m], \u001b[39mNone\u001b[39;00m]\u001b[39m=\u001b[39m\u001b[39mNone\u001b[39;00m, latent_dim: \u001b[39mint\u001b[39m\u001b[39m=\u001b[39m\u001b[39mNone\u001b[39;00m, masking_value: \u001b[39mfloat\u001b[39m\u001b[39m=\u001b[39m\u001b[39mNone\u001b[39;00m, exclude_decoder: \u001b[39mbool\u001b[39m\u001b[39m=\u001b[39m\u001b[39mNone\u001b[39;00m, downstream_task: \u001b[39mstr\u001b[39m\u001b[39m=\u001b[39m\u001b[39mNone\u001b[39;00m, encoder: \u001b[39mcallable\u001b[39m\u001b[39m=\u001b[39m\u001b[39mNone\u001b[39;00m, decoder: \u001b[39mcallable\u001b[39m\u001b[39m=\u001b[39m\u001b[39mNone\u001b[39;00m, layers_conf: \u001b[39mlist\u001b[39m\u001b[39m=\u001b[39m\u001b[39mNone\u001b[39;00m, \u001b[39m*\u001b[39m\u001b[39m*\u001b[39mkwargs):\n\u001b[1;32m      7\u001b[0m     \u001b[39mwith\u001b[39;00m ag__\u001b[39m.\u001b[39mFunctionScope(\u001b[39m'\u001b[39m\u001b[39m__init__\u001b[39m\u001b[39m'\u001b[39m, \u001b[39m'\u001b[39m\u001b[39mfscope\u001b[39m\u001b[39m'\u001b[39m, ag__\u001b[39m.\u001b[39mConversionOptions(recursive\u001b[39m=\u001b[39m\u001b[39mTrue\u001b[39;00m, user_requested\u001b[39m=\u001b[39m\u001b[39mTrue\u001b[39;00m, optional_features\u001b[39m=\u001b[39m(), internal_convert_user_code\u001b[39m=\u001b[39m\u001b[39mTrue\u001b[39;00m)) \u001b[39mas\u001b[39;00m fscope:\n\u001b[0;32m----> 8\u001b[0m         ag__\u001b[39m.\u001b[39;49mconverted_call(ag__\u001b[39m.\u001b[39;49mld(BaseAE)\u001b[39m.\u001b[39;49m\u001b[39m__init__\u001b[39;49m, (ag__\u001b[39m.\u001b[39;49mld(\u001b[39mself\u001b[39;49m), ag__\u001b[39m.\u001b[39;49mld(input_dim), ag__\u001b[39m.\u001b[39;49mld(latent_dim)), \u001b[39mdict\u001b[39;49m(encoder\u001b[39m=\u001b[39;49mag__\u001b[39m.\u001b[39;49mld(encoder), decoder\u001b[39m=\u001b[39;49mag__\u001b[39m.\u001b[39;49mld(decoder), masking_value\u001b[39m=\u001b[39;49mag__\u001b[39m.\u001b[39;49mld(masking_value), layers_conf\u001b[39m=\u001b[39;49mag__\u001b[39m.\u001b[39;49mld(layers_conf)), fscope)\n\u001b[1;32m      9\u001b[0m         ag__\u001b[39m.\u001b[39mld(\u001b[39mself\u001b[39m)\u001b[39m.\u001b[39mdownstream_task \u001b[39m=\u001b[39m ag__\u001b[39m.\u001b[39mld(downstream_task)\n\u001b[1;32m     11\u001b[0m         \u001b[39mdef\u001b[39;00m \u001b[39mget_state_2\u001b[39m():\n",
      "File \u001b[0;32m/tmp/__autograph_generated_filepwe82w_w.py:52\u001b[0m, in \u001b[0;36mouter_factory.<locals>.inner_factory.<locals>.tf____init__\u001b[0;34m(self, input_dim, latent_dim, encoder, decoder, uses_default_encoder, uses_default_decoder, layers_conf, **kwargs)\u001b[0m\n\u001b[1;32m     50\u001b[0m \u001b[39mdef\u001b[39;00m \u001b[39melse_body_2\u001b[39m():\n\u001b[1;32m     51\u001b[0m     \u001b[39mpass\u001b[39;00m\n\u001b[0;32m---> 52\u001b[0m ag__\u001b[39m.\u001b[39;49mif_stmt(ag__\u001b[39m.\u001b[39;49mld(encoder) \u001b[39mis\u001b[39;49;00m \u001b[39mNone\u001b[39;49;00m, if_body_2, else_body_2, get_state_2, set_state_2, (\u001b[39m'\u001b[39;49m\u001b[39mself.encoder\u001b[39;49m\u001b[39m'\u001b[39;49m,), \u001b[39m1\u001b[39;49m)\n\u001b[1;32m     53\u001b[0m ag__\u001b[39m.\u001b[39mld(\u001b[39mself\u001b[39m)\u001b[39m.\u001b[39mencoder \u001b[39m=\u001b[39m ag__\u001b[39m.\u001b[39mconverted_call(ag__\u001b[39m.\u001b[39mld(encoder), (ag__\u001b[39m.\u001b[39mld(\u001b[39mself\u001b[39m)\u001b[39m.\u001b[39minput_dim, ag__\u001b[39m.\u001b[39mld(\u001b[39mself\u001b[39m)\u001b[39m.\u001b[39mlatent_dim, ag__\u001b[39m.\u001b[39mld(\u001b[39mself\u001b[39m)\u001b[39m.\u001b[39mlayers_conf), \u001b[39mdict\u001b[39m(\u001b[39m*\u001b[39m\u001b[39m*\u001b[39mag__\u001b[39m.\u001b[39mld(kwargs)), fscope)\n\u001b[1;32m     55\u001b[0m \u001b[39mdef\u001b[39;00m \u001b[39mget_state_4\u001b[39m():\n",
      "File \u001b[0;32m/tmp/__autograph_generated_filepwe82w_w.py:48\u001b[0m, in \u001b[0;36mouter_factory.<locals>.inner_factory.<locals>.tf____init__.<locals>.if_body_2\u001b[0;34m()\u001b[0m\n\u001b[1;32m     46\u001b[0m     \u001b[39mpass\u001b[39;00m\n\u001b[1;32m     47\u001b[0m ag__\u001b[39m.\u001b[39mif_stmt(ag__\u001b[39m.\u001b[39mld(\u001b[39mself\u001b[39m)\u001b[39m.\u001b[39minput_dim \u001b[39mis\u001b[39;00m \u001b[39mNone\u001b[39;00m, if_body_1, else_body_1, get_state_1, set_state_1, (), \u001b[39m0\u001b[39m)\n\u001b[0;32m---> 48\u001b[0m ag__\u001b[39m.\u001b[39;49mld(\u001b[39mself\u001b[39;49m)\u001b[39m.\u001b[39;49mencoder \u001b[39m=\u001b[39m ag__\u001b[39m.\u001b[39mconverted_call(ag__\u001b[39m.\u001b[39mld(Encoder_MLP), (ag__\u001b[39m.\u001b[39mld(\u001b[39mself\u001b[39m)\u001b[39m.\u001b[39minput_dim, ag__\u001b[39m.\u001b[39mld(\u001b[39mself\u001b[39m)\u001b[39m.\u001b[39mlatent_dim, ag__\u001b[39m.\u001b[39mld(\u001b[39mself\u001b[39m)\u001b[39m.\u001b[39mlayers_conf), \u001b[39mNone\u001b[39;00m, fscope)\n",
      "\u001b[0;31mValueError\u001b[0m: Exception encountered when calling VAE.call().\n\n\u001b[1min user code:\n\n    File \"/home/lucas/experiment/aepy/examples/../aepy/models/vae/vae_model.py\", line 32, in __init__  *\n        BaseAE.__init__(self, input_dim, latent_dim,\n    File \"/home/lucas/experiment/aepy/examples/../aepy/models/base/base_model.py\", line 54, in __init__  *\n        self.encoder = Encoder_MLP(self.input_dim, self.latent_dim, self.layers_conf)\n    File \"/home/lucas/python_envs/aepy-test/lib/python3.10/site-packages/keras_core/src/layers/layer.py\", line 1250, in __setattr__\n        value = self._tracker.track(value)\n    File \"/home/lucas/python_envs/aepy-test/lib/python3.10/site-packages/keras_core/src/utils/tracking.py\", line 74, in track\n        self.add_to_store(name, attr)\n    File \"/home/lucas/python_envs/aepy-test/lib/python3.10/site-packages/keras_core/src/utils/tracking.py\", line 97, in add_to_store\n        raise ValueError(self._lock_violation_msg)\n\n    ValueError: You cannot add new elements of state (variables or sub-layers) to a layer that is already built. All state must be created in the `__init__()` method or in the `build()` method.\n\u001b[0m\n\nArguments received by VAE.call():\n  • inputs={'data': 'tf.Tensor(shape=(32, 30, 5), dtype=float32)', 'labels': 'tf.Tensor(shape=(32, 1), dtype=int64)'}"
     ]
    }
   ],
   "source": [
    "test_data = dict(data=x_test, labels=y_test)\n",
    "y_hat = trained_model.predict(test_data)\n",
    "\n",
    "evaluate(y_true=np.expand_dims(test_data['labels'], axis=-1),\n",
    "         y_hat=y_hat['reg'], sel_metric=mean_squared_error)\n",
    "evaluate(y_true=np.expand_dims(test_data['labels'], axis=-1),\n",
    "         y_hat=y_hat['reg'], sel_metric=cmapps_score.CMAPSS_Score())"
   ]
  }
 ],
 "metadata": {
  "kernelspec": {
   "display_name": "aepy-test",
   "language": "python",
   "name": "python3"
  },
  "language_info": {
   "codemirror_mode": {
    "name": "ipython",
    "version": 3
   },
   "file_extension": ".py",
   "mimetype": "text/x-python",
   "name": "python",
   "nbconvert_exporter": "python",
   "pygments_lexer": "ipython3",
   "version": "3.10.12"
  }
 },
 "nbformat": 4,
 "nbformat_minor": 2
}
