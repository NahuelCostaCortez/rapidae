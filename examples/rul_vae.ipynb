{
 "cells": [
  {
   "cell_type": "code",
   "execution_count": 1,
   "metadata": {},
   "outputs": [
    {
     "name": "stderr",
     "output_type": "stream",
     "text": [
      "2023-11-23 11:18:54.237548: I tensorflow/core/platform/cpu_feature_guard.cc:182] This TensorFlow binary is optimized to use available CPU instructions in performance-critical operations.\n",
      "To enable the following instructions: AVX2 FMA, in other operations, rebuild TensorFlow with the appropriate compiler flags.\n"
     ]
    },
    {
     "name": "stdout",
     "output_type": "stream",
     "text": [
      "Using TensorFlow backend\n"
     ]
    }
   ],
   "source": [
    "import os\n",
    "import sys\n",
    "\n",
    "notebook_dir = os.path.abspath('')\n",
    "sys.path.append(os.path.join(notebook_dir, '..'))\n",
    "\n",
    "import numpy as np\n",
    "import tensorflow as tf\n",
    "\n",
    "from sklearn.metrics import mean_squared_error\n",
    "\n",
    "from aepy.data import utils\n",
    "from aepy.data.datasets import load_CMAPSS\n",
    "from aepy.data.preprocessing import CMAPSS_preprocessor\n",
    "from aepy.data.utils import evaluate\n",
    "from aepy.metrics import cmapps_score\n",
    "from aepy.models.base import RecurrentDecoder, RecurrentEncoder\n",
    "from aepy.models.vae import VAE\n",
    "from aepy.pipelines import PreprocessPipeline, TrainingPipeline"
   ]
  },
  {
   "cell_type": "code",
   "execution_count": 2,
   "metadata": {},
   "outputs": [
    {
     "name": "stdout",
     "output_type": "stream",
     "text": [
      "No GPU found\n",
      "2.16.0-dev20231103\n"
     ]
    }
   ],
   "source": [
    "# Check GPU and Tensorflow version\n",
    "if tf.test.gpu_device_name():\n",
    "    print('GPU found')\n",
    "else:\n",
    "    print(\"No GPU found\")\n",
    "\n",
    "print(tf.__version__)"
   ]
  },
  {
   "cell_type": "code",
   "execution_count": 3,
   "metadata": {},
   "outputs": [
    {
     "name": "stderr",
     "output_type": "stream",
     "text": [
      "2023-11-23 11:19:01 \u001b[32m[INFO]\u001b[0m: +++ CMAPPS_preprocessing +++\u001b[0m\n",
      "2023-11-23 11:19:01 \u001b[32m[INFO]\u001b[0m: Creating folder in ../output_dir/CMAPPS_preprocessing_2023-11-23_11-19-01\u001b[0m\n",
      "2023-11-23 11:19:01 \u001b[32m[INFO]\u001b[0m: Selected preprocessor is a function.\u001b[0m\n"
     ]
    }
   ],
   "source": [
    "dataset = 'FD003'\n",
    "# sensors to work with: T30, T50, P30, PS30, phi\n",
    "sensors = ['s_3', 's_4', 's_7', 's_11', 's_12']\n",
    "# windows length\n",
    "sequence_length = 30\n",
    "# smoothing intensity\n",
    "alpha = 0.1\n",
    "# max RUL\n",
    "threshold = 125\n",
    "\n",
    "# NOT IMPLEMENTED\n",
    "# x_train, y_train, x_val, y_val, x_test, y_test = utils.get_data(dataset, sensors,\n",
    "# sequence_length, alpha, threshold)\n",
    "train, test, y_test = load_CMAPSS('FD001')\n",
    "# x_train, y_train, x_val, y_val, x_test, y_test = CMAPSS_preprocessor(train, test, y_test)\n",
    "preprocess_pipeline = PreprocessPipeline(\n",
    "    name='CMAPPS_preprocessing', preprocessor=CMAPSS_preprocessor)\n",
    "x_train, y_train, x_val, y_val, x_test, y_test = preprocess_pipeline(\n",
    "    train=train, test=test, y_test=y_test, threshold=100)"
   ]
  },
  {
   "cell_type": "code",
   "execution_count": 4,
   "metadata": {},
   "outputs": [],
   "source": [
    "timesteps = x_train.shape[1]\n",
    "input_dim = x_train.shape[2]\n",
    "intermediate_dim = 300\n",
    "batch_size = 128\n",
    "latent_dim = 2\n",
    "epochs = 2\n",
    "optimizer = 'adam'"
   ]
  },
  {
   "cell_type": "code",
   "execution_count": 5,
   "metadata": {},
   "outputs": [],
   "source": [
    "train_data = dict(data=x_train, labels=y_train)\n",
    "eval_data = dict(data=x_val, labels=y_val)"
   ]
  },
  {
   "cell_type": "code",
   "execution_count": 6,
   "metadata": {},
   "outputs": [
    {
     "name": "stderr",
     "output_type": "stream",
     "text": [
      "2023-11-23 11:19:02 \u001b[33m[WARNING]\u001b[0m: No specific layer configuration has been provided. Creating default configuration...\u001b[0m\n",
      "2023-11-23 11:19:02 \u001b[32m[INFO]\u001b[0m: Regressor available for the latent space of the autoencoder\u001b[0m\n"
     ]
    }
   ],
   "source": [
    "model = VAE(input_dim=(x_train.shape[1], x_train.shape[2]), latent_dim=2, \n",
    "            downstream_task='regression', encoder=RecurrentEncoder, decoder=RecurrentDecoder)\n",
    "# model_callbacks = utils.get_callbacks(\"p\", model, x_train, y_train)"
   ]
  },
  {
   "cell_type": "code",
   "execution_count": 7,
   "metadata": {},
   "outputs": [
    {
     "name": "stderr",
     "output_type": "stream",
     "text": [
      "2023-11-23 11:19:02 \u001b[32m[INFO]\u001b[0m: +++ TrainingPipeline +++\u001b[0m\n",
      "2023-11-23 11:19:02 \u001b[32m[INFO]\u001b[0m: Creating folder in ../output_dir/TrainingPipeline_2023-11-23_11-19-02\u001b[0m\n"
     ]
    },
    {
     "name": "stdout",
     "output_type": "stream",
     "text": [
      "WARNING:tensorflow:AutoGraph could not transform <function _gcd_import at 0x7f13cf363400> and will run it as-is.\n",
      "Cause: Unable to locate the source code of <function _gcd_import at 0x7f13cf363400>. Note that functions defined in certain environments, like the interactive Python shell, do not expose their source code. If that is the case, you should define them in a .py source file. If you are certain the code is graph-compatible, wrap the call using @tf.autograph.experimental.do_not_convert. Original error: could not get source code\n",
      "To silence this warning, decorate the function with @tf.autograph.experimental.do_not_convert\n",
      "WARNING: AutoGraph could not transform <function _gcd_import at 0x7f13cf363400> and will run it as-is.\n",
      "Cause: Unable to locate the source code of <function _gcd_import at 0x7f13cf363400>. Note that functions defined in certain environments, like the interactive Python shell, do not expose their source code. If that is the case, you should define them in a .py source file. If you are certain the code is graph-compatible, wrap the call using @tf.autograph.experimental.do_not_convert. Original error: could not get source code\n",
      "To silence this warning, decorate the function with @tf.autograph.experimental.do_not_convert\n",
      "{'z': <tf.Tensor 'sampling_1/add:0' shape=(None, 2) dtype=float32>, 'z_mean': <tf.Tensor 'encoder_1/z_mean_1/add:0' shape=(None, 2) dtype=float32>, 'z_log_var': <tf.Tensor 'encoder_1/z_log_var_1/add:0' shape=(None, 2) dtype=float32>, 'reg': <tf.Tensor 'regressor_1/reg_output_1/add:0' shape=(None, 1) dtype=float32>, 'recon': <tf.Tensor 'decoder_1/lstm_2_1/transpose_1:0' shape=(None, None, 5) dtype=float32>}\n",
      "{'z': <tf.Tensor 'vae_1/sampling_1_1/add:0' shape=(None, 2) dtype=float32>, 'z_mean': <tf.Tensor 'vae_1/encoder_1/z_mean_1/add:0' shape=(None, 2) dtype=float32>, 'z_log_var': <tf.Tensor 'vae_1/encoder_1/z_log_var_1/add:0' shape=(None, 2) dtype=float32>, 'reg': <tf.Tensor 'vae_1/regressor_1/reg_output_1/add:0' shape=(None, 1) dtype=float32>, 'recon': <tf.Tensor 'vae_1/decoder_1/lstm_2_1/transpose_1:0' shape=(None, None, 5) dtype=float32>}\n",
      "[<KerasVariable shape=(600, 2), dtype=float32, path=vae/encoder/z_mean/kernel>, <KerasVariable shape=(2,), dtype=float32, path=vae/encoder/z_mean/bias>, <KerasVariable shape=(600, 2), dtype=float32, path=vae/encoder/z_log_var/kernel>, <KerasVariable shape=(2,), dtype=float32, path=vae/encoder/z_log_var/bias>, <KerasVariable shape=(5, 1200), dtype=float32, path=vae/encoder/bidirectional/forward_lstm/lstm_cell/kernel>, <KerasVariable shape=(300, 1200), dtype=float32, path=vae/encoder/bidirectional/forward_lstm/lstm_cell/recurrent_kernel>, <KerasVariable shape=(1200,), dtype=float32, path=vae/encoder/bidirectional/forward_lstm/lstm_cell/bias>, <KerasVariable shape=(5, 1200), dtype=float32, path=vae/encoder/bidirectional/backward_lstm/lstm_cell/kernel>, <KerasVariable shape=(300, 1200), dtype=float32, path=vae/encoder/bidirectional/backward_lstm/lstm_cell/recurrent_kernel>, <KerasVariable shape=(1200,), dtype=float32, path=vae/encoder/bidirectional/backward_lstm/lstm_cell/bias>, <KerasVariable shape=(2, 1200), dtype=float32, path=vae/decoder/bidirectional_1/forward_lstm_1/lstm_cell/kernel>, <KerasVariable shape=(300, 1200), dtype=float32, path=vae/decoder/bidirectional_1/forward_lstm_1/lstm_cell/recurrent_kernel>, <KerasVariable shape=(1200,), dtype=float32, path=vae/decoder/bidirectional_1/forward_lstm_1/lstm_cell/bias>, <KerasVariable shape=(2, 1200), dtype=float32, path=vae/decoder/bidirectional_1/backward_lstm_1/lstm_cell/kernel>, <KerasVariable shape=(300, 1200), dtype=float32, path=vae/decoder/bidirectional_1/backward_lstm_1/lstm_cell/recurrent_kernel>, <KerasVariable shape=(1200,), dtype=float32, path=vae/decoder/bidirectional_1/backward_lstm_1/lstm_cell/bias>, <KerasVariable shape=(600, 20), dtype=float32, path=vae/decoder/lstm_2/lstm_cell/kernel>, <KerasVariable shape=(5, 20), dtype=float32, path=vae/decoder/lstm_2/lstm_cell/recurrent_kernel>, <KerasVariable shape=(20,), dtype=float32, path=vae/decoder/lstm_2/lstm_cell/bias>, <KerasVariable shape=(2, 200), dtype=float32, path=vae/regressor/dense/kernel>, <KerasVariable shape=(200,), dtype=float32, path=vae/regressor/dense/bias>, <KerasVariable shape=(200, 1), dtype=float32, path=vae/regressor/reg_output/kernel>, <KerasVariable shape=(1,), dtype=float32, path=vae/regressor/reg_output/bias>]\n",
      "{'z': <tf.Tensor 'vae_1/sampling_2_1/add:0' shape=(None, 2) dtype=float32>, 'z_mean': <tf.Tensor 'vae_1/encoder_1/z_mean_1/add:0' shape=(None, 2) dtype=float32>, 'z_log_var': <tf.Tensor 'vae_1/encoder_1/z_log_var_1/add:0' shape=(None, 2) dtype=float32>, 'reg': <tf.Tensor 'vae_1/regressor_1/reg_output_1/add:0' shape=(None, 1) dtype=float32>, 'recon': <tf.Tensor 'vae_1/decoder_1/lstm_2_1/transpose_1:0' shape=(None, None, 5) dtype=float32>}\n",
      "[<KerasVariable shape=(600, 2), dtype=float32, path=vae/encoder/z_mean/kernel>, <KerasVariable shape=(2,), dtype=float32, path=vae/encoder/z_mean/bias>, <KerasVariable shape=(600, 2), dtype=float32, path=vae/encoder/z_log_var/kernel>, <KerasVariable shape=(2,), dtype=float32, path=vae/encoder/z_log_var/bias>, <KerasVariable shape=(5, 1200), dtype=float32, path=vae/encoder/bidirectional/forward_lstm/lstm_cell/kernel>, <KerasVariable shape=(300, 1200), dtype=float32, path=vae/encoder/bidirectional/forward_lstm/lstm_cell/recurrent_kernel>, <KerasVariable shape=(1200,), dtype=float32, path=vae/encoder/bidirectional/forward_lstm/lstm_cell/bias>, <KerasVariable shape=(5, 1200), dtype=float32, path=vae/encoder/bidirectional/backward_lstm/lstm_cell/kernel>, <KerasVariable shape=(300, 1200), dtype=float32, path=vae/encoder/bidirectional/backward_lstm/lstm_cell/recurrent_kernel>, <KerasVariable shape=(1200,), dtype=float32, path=vae/encoder/bidirectional/backward_lstm/lstm_cell/bias>, <KerasVariable shape=(2, 1200), dtype=float32, path=vae/decoder/bidirectional_1/forward_lstm_1/lstm_cell/kernel>, <KerasVariable shape=(300, 1200), dtype=float32, path=vae/decoder/bidirectional_1/forward_lstm_1/lstm_cell/recurrent_kernel>, <KerasVariable shape=(1200,), dtype=float32, path=vae/decoder/bidirectional_1/forward_lstm_1/lstm_cell/bias>, <KerasVariable shape=(2, 1200), dtype=float32, path=vae/decoder/bidirectional_1/backward_lstm_1/lstm_cell/kernel>, <KerasVariable shape=(300, 1200), dtype=float32, path=vae/decoder/bidirectional_1/backward_lstm_1/lstm_cell/recurrent_kernel>, <KerasVariable shape=(1200,), dtype=float32, path=vae/decoder/bidirectional_1/backward_lstm_1/lstm_cell/bias>, <KerasVariable shape=(600, 20), dtype=float32, path=vae/decoder/lstm_2/lstm_cell/kernel>, <KerasVariable shape=(5, 20), dtype=float32, path=vae/decoder/lstm_2/lstm_cell/recurrent_kernel>, <KerasVariable shape=(20,), dtype=float32, path=vae/decoder/lstm_2/lstm_cell/bias>, <KerasVariable shape=(2, 200), dtype=float32, path=vae/regressor/dense/kernel>, <KerasVariable shape=(200,), dtype=float32, path=vae/regressor/dense/bias>, <KerasVariable shape=(200, 1), dtype=float32, path=vae/regressor/reg_output/kernel>, <KerasVariable shape=(1,), dtype=float32, path=vae/regressor/reg_output/bias>]\n"
     ]
    },
    {
     "name": "stderr",
     "output_type": "stream",
     "text": [
      "2023-11-23 11:20:31.158438: I external/local_xla/xla/service/service.cc:168] XLA service 0x7f1298017690 initialized for platform Host (this does not guarantee that XLA will be used). Devices:\n",
      "2023-11-23 11:20:31.158493: I external/local_xla/xla/service/service.cc:176]   StreamExecutor device (0): Host, Default Version\n",
      "2023-11-23 11:20:31.742220: I tensorflow/compiler/mlir/tensorflow/utils/dump_mlir_util.cc:269] disabling MLIR crash reproducer, set env var `MLIR_CRASH_REPRODUCER_DIRECTORY` to enable.\n",
      "WARNING: All log messages before absl::InitializeLog() is called are written to STDERR\n",
      "I0000 00:00:1700734840.618633   35624 device_compiler.h:187] Compiled cluster using XLA!  This line is logged at most once for the lifetime of the process.\n",
      "2023-11-23 11:20:40.657313: E external/local_xla/xla/stream_executor/stream_executor_internal.h:181] SetPriority unimplemented for this stream.\n",
      "2023-11-23 11:20:40.657428: W external/local_tsl/tsl/framework/cpu_allocator_impl.cc:83] Allocation of 355946272 exceeds 10% of free system memory.\n",
      "2023-11-23 11:20:41.900224: W external/local_tsl/tsl/framework/cpu_allocator_impl.cc:83] Allocation of 355946272 exceeds 10% of free system memory.\n",
      "2023-11-23 11:20:43.106965: W external/local_tsl/tsl/framework/cpu_allocator_impl.cc:83] Allocation of 355946272 exceeds 10% of free system memory.\n",
      "2023-11-23 11:20:44.316571: W external/local_tsl/tsl/framework/cpu_allocator_impl.cc:83] Allocation of 355946272 exceeds 10% of free system memory.\n",
      "2023-11-23 11:20:45.523251: W external/local_tsl/tsl/framework/cpu_allocator_impl.cc:83] Allocation of 355946272 exceeds 10% of free system memory.\n"
     ]
    },
    {
     "name": "stdout",
     "output_type": "stream",
     "text": [
      "{'z': <tf.Tensor 'vae_1/sampling_3_1/add:0' shape=(None, 2) dtype=float32>, 'z_mean': <tf.Tensor 'vae_1/encoder_1/z_mean_1/add:0' shape=(None, 2) dtype=float32>, 'z_log_var': <tf.Tensor 'vae_1/encoder_1/z_log_var_1/add:0' shape=(None, 2) dtype=float32>, 'reg': <tf.Tensor 'vae_1/regressor_1/reg_output_1/add:0' shape=(None, 1) dtype=float32>, 'recon': <tf.Tensor 'vae_1/decoder_1/lstm_2_1/transpose_1:0' shape=(None, None, 5) dtype=float32>}\n",
      "\n",
      "Epoch 1: val_total_loss improved from inf to 2847.40308, saving model to ../output_dir/TrainingPipeline_2023-11-23_11-19-02/model.weights.h5\n",
      "112/112 - 262s - 2s/step - kl_loss: 106.3457 - reconstruction_loss: 0.3278 - reg_loss: 4292.9004 - total_loss: 4399.5713 - val_kl_loss: 107.3048 - val_reconstruction_loss: 0.3187 - val_reg_loss: 2739.7795 - val_total_loss: 2847.4031\n"
     ]
    }
   ],
   "source": [
    "pipeline = TrainingPipeline(model=model, num_epochs=1)\n",
    "trained_model = pipeline(train_data, eval_data)  # , callbacks=model_callbacks)"
   ]
  },
  {
   "cell_type": "code",
   "execution_count": 8,
   "metadata": {},
   "outputs": [
    {
     "name": "stdout",
     "output_type": "stream",
     "text": [
      "{'z': <tf.Tensor 'vae_1/sampling_4_1/add:0' shape=(32, 2) dtype=float32>, 'z_mean': <tf.Tensor 'vae_1/encoder_1/z_mean_1/add:0' shape=(32, 2) dtype=float32>, 'z_log_var': <tf.Tensor 'vae_1/encoder_1/z_log_var_1/add:0' shape=(32, 2) dtype=float32>, 'reg': <tf.Tensor 'vae_1/regressor_1/reg_output_1/add:0' shape=(32, 1) dtype=float32>, 'recon': <tf.Tensor 'vae_1/decoder_1/lstm_2_1/transpose_1:0' shape=(32, None, 5) dtype=float32>}\n",
      "\u001b[1m3/4\u001b[0m \u001b[32m━━━━━━━━━━━━━━━\u001b[0m\u001b[37m━━━━━\u001b[0m \u001b[1m0s\u001b[0m 102ms/step{'z': <tf.Tensor 'vae_1/sampling_5_1/add:0' shape=(None, 2) dtype=float32>, 'z_mean': <tf.Tensor 'vae_1/encoder_1/z_mean_1/add:0' shape=(None, 2) dtype=float32>, 'z_log_var': <tf.Tensor 'vae_1/encoder_1/z_log_var_1/add:0' shape=(None, 2) dtype=float32>, 'reg': <tf.Tensor 'vae_1/regressor_1/reg_output_1/add:0' shape=(None, 1) dtype=float32>, 'recon': <tf.Tensor 'vae_1/decoder_1/lstm_2_1/transpose_1:0' shape=(None, None, 5) dtype=float32>}\n",
      "\u001b[1m4/4\u001b[0m \u001b[32m━━━━━━━━━━━━━━━━━━━━\u001b[0m\u001b[37m\u001b[0m \u001b[1m7s\u001b[0m 1s/step  \n",
      "test set results: [\n",
      "\t mean_squared_error: 3818.81300464894 \n",
      "]\n",
      "test set results: [\n",
      "\t CMAPSS_Score: 582139.0318206203 \n",
      "]\n"
     ]
    },
    {
     "data": {
      "text/plain": [
       "array(582139.03182062)"
      ]
     },
     "execution_count": 8,
     "metadata": {},
     "output_type": "execute_result"
    }
   ],
   "source": [
    "test_data = dict(data=x_test, labels=y_test)\n",
    "y_hat = trained_model.predict(test_data)\n",
    "\n",
    "evaluate(y_true=np.expand_dims(test_data['labels'], axis=-1),\n",
    "         y_hat=y_hat['reg'], sel_metric=mean_squared_error)\n",
    "evaluate(y_true=np.expand_dims(test_data['labels'], axis=-1),\n",
    "         y_hat=y_hat['reg'], sel_metric=cmapps_score.CMAPSS_Score())"
   ]
  }
 ],
 "metadata": {
  "kernelspec": {
   "display_name": "aepy-test",
   "language": "python",
   "name": "python3"
  },
  "language_info": {
   "codemirror_mode": {
    "name": "ipython",
    "version": 3
   },
   "file_extension": ".py",
   "mimetype": "text/x-python",
   "name": "python",
   "nbconvert_exporter": "python",
   "pygments_lexer": "ipython3",
   "version": "3.10.12"
  }
 },
 "nbformat": 4,
 "nbformat_minor": 2
}
