{
 "cells": [
  {
   "cell_type": "markdown",
   "metadata": {},
   "source": [
    "# CVAE"
   ]
  },
  {
   "cell_type": "markdown",
   "metadata": {},
   "source": [
    "The encoder and decoder in addition to the input data are provided with an embedding vector that represents a condition. Thus, the encoder does not need to represent the condition in the latent space since the decoder will also get this information as an extra input.\n",
    "\n",
    "In this example we will use the MNIST dataset: the encoder can regress out the condition (specific digits) and learn the handwriting style as a latent representation."
   ]
  },
  {
   "cell_type": "code",
   "execution_count": null,
   "metadata": {},
   "outputs": [],
   "source": [
    "# Install the library\n",
    "\n",
    "!pip install rapidae"
   ]
  },
  {
   "cell_type": "code",
   "execution_count": 1,
   "metadata": {},
   "outputs": [],
   "source": [
    "%load_ext autoreload\n",
    "%autoreload 2\n",
    "\n",
    "import os\n",
    "import sys\n",
    "\n",
    "notebook_dir = os.path.abspath('') # get the current notebook directory\n",
    "sys.path.append(os.path.join(notebook_dir, '..', 'src')) # add src folder to path to import modules\n",
    "                                                        # '..', 'src' if you are in the 'examples' folder"
   ]
  },
  {
   "cell_type": "code",
   "execution_count": 3,
   "metadata": {},
   "outputs": [],
   "source": [
    "from rapidae.data import load_dataset\n",
    "from rapidae.models import CVAE\n",
    "from rapidae.models.base import VAE_Encoder_MLP, VAE_Decoder_MLP\n",
    "from rapidae.pipelines import TrainingPipeline\n",
    "from rapidae.evaluate import plot_latent_space, plot_reconstructions"
   ]
  },
  {
   "cell_type": "markdown",
   "metadata": {},
   "source": [
    "### Data"
   ]
  },
  {
   "cell_type": "code",
   "execution_count": 4,
   "metadata": {},
   "outputs": [
    {
     "name": "stderr",
     "output_type": "stream",
     "text": [
      "2024-05-10 11:59:15 \u001b[32m[INFO]\u001b[0m: Downloading data...\u001b[0m\n"
     ]
    },
    {
     "name": "stdout",
     "output_type": "stream",
     "text": [
      "Data shape: (60000, 784)\n"
     ]
    }
   ],
   "source": [
    "# Load MNIST dataset\n",
    "data = load_dataset(\"MNIST\")\n",
    "\n",
    "# normalize data\n",
    "x_train = data[\"x_train\"].reshape(data[\"x_train\"].shape[0], -1) / 255\n",
    "x_test = data[\"x_test\"].reshape(data[\"x_test\"].shape[0], -1) / 255\n",
    "y_train = data[\"y_train\"]\n",
    "y_test = data[\"y_test\"]\n",
    "\n",
    "print(\"Data shape:\", x_train.shape)"
   ]
  },
  {
   "cell_type": "markdown",
   "metadata": {},
   "source": [
    "Keep only images of 0–7 digits"
   ]
  },
  {
   "cell_type": "code",
   "execution_count": 5,
   "metadata": {},
   "outputs": [],
   "source": [
    "import numpy as np\n",
    "\n",
    "idx_07 = np.where((data[\"y_train\"] != 8) & (data[\"y_train\"] == 9))[0]\n",
    "x_train_07 = x_train[idx_07]\n",
    "y_train_07 = y_train[idx_07]"
   ]
  },
  {
   "cell_type": "markdown",
   "metadata": {},
   "source": [
    "### Model"
   ]
  },
  {
   "cell_type": "code",
   "execution_count": 13,
   "metadata": {},
   "outputs": [
    {
     "name": "stderr",
     "output_type": "stream",
     "text": [
      "2024-05-10 12:03:10 \u001b[32m[INFO]\u001b[0m: Using provided encoder\u001b[0m\n",
      "2024-05-10 12:03:11 \u001b[32m[INFO]\u001b[0m: Using provided decoder\u001b[0m\n"
     ]
    }
   ],
   "source": [
    "input_dim = x_train.shape[1]\n",
    "n_classes = np.unique(y_train).shape[0]\n",
    "# Model creation\n",
    "model = CVAE(input_dim=input_dim, \n",
    "            latent_dim=2,\n",
    "            encoder=VAE_Encoder_MLP(input_dim=input_dim, latent_dim=2), \n",
    "            decoder= VAE_Decoder_MLP(input_dim=input_dim, latent_dim=2),\n",
    "            n_classes=n_classes)"
   ]
  },
  {
   "cell_type": "markdown",
   "metadata": {},
   "source": [
    "### Training"
   ]
  },
  {
   "cell_type": "code",
   "execution_count": 14,
   "metadata": {},
   "outputs": [
    {
     "name": "stderr",
     "output_type": "stream",
     "text": [
      "2024-05-10 12:03:12 \u001b[32m[INFO]\u001b[0m: +++ CVAE_MNIST +++\u001b[0m\n",
      "2024-05-10 12:03:12 \u001b[32m[INFO]\u001b[0m: Creating folder in ./output_dir/CVAE_MNIST_2024-05-10_12-03\u001b[0m\n",
      "2024-05-10 12:03:12 \u001b[32m[INFO]\u001b[0m: \n",
      "TRAINING STARTED\n",
      "\tBackend: tensorflow\n",
      "\tEager mode: True\n",
      "\tValidation data available: False\n",
      "\tCallbacks set: ['EarlyStopping', 'ModelCheckpoint'] \n",
      "\u001b[0m\n"
     ]
    },
    {
     "name": "stdout",
     "output_type": "stream",
     "text": [
      "Epoch 1/30\n",
      "\n",
      "Epoch 1: loss improved from inf to 10.83467, saving model to ./output_dir/CVAE_MNIST_2024-05-10_12-03/model.weights.h5\n",
      "469/469 - 27s - 57ms/step - kl_loss: 0.3622 - loss: 10.8347 - reconstruction_loss: 10.4701\n",
      "Epoch 2/30\n",
      "\n",
      "Epoch 2: loss improved from 10.83467 to 7.94343, saving model to ./output_dir/CVAE_MNIST_2024-05-10_12-03/model.weights.h5\n",
      "469/469 - 26s - 55ms/step - kl_loss: 0.0054 - loss: 7.9434 - reconstruction_loss: 7.9370\n",
      "Epoch 3/30\n",
      "\n",
      "Epoch 3: loss improved from 7.94343 to 7.68684, saving model to ./output_dir/CVAE_MNIST_2024-05-10_12-03/model.weights.h5\n",
      "469/469 - 27s - 57ms/step - kl_loss: 0.0051 - loss: 7.6868 - reconstruction_loss: 7.6806\n",
      "Epoch 4/30\n",
      "\n",
      "Epoch 4: loss improved from 7.68684 to 7.62186, saving model to ./output_dir/CVAE_MNIST_2024-05-10_12-03/model.weights.h5\n",
      "469/469 - 26s - 55ms/step - kl_loss: 0.0037 - loss: 7.6219 - reconstruction_loss: 7.6170\n",
      "Epoch 5/30\n",
      "\n",
      "Epoch 5: loss improved from 7.62186 to 7.53352, saving model to ./output_dir/CVAE_MNIST_2024-05-10_12-03/model.weights.h5\n",
      "469/469 - 26s - 55ms/step - kl_loss: 0.0027 - loss: 7.5335 - reconstruction_loss: 7.5298\n",
      "Epoch 6/30\n",
      "\n",
      "Epoch 6: loss improved from 7.53352 to 7.45591, saving model to ./output_dir/CVAE_MNIST_2024-05-10_12-03/model.weights.h5\n",
      "469/469 - 26s - 56ms/step - kl_loss: 0.0028 - loss: 7.4559 - reconstruction_loss: 7.4520\n",
      "Epoch 7/30\n",
      "\n",
      "Epoch 7: loss improved from 7.45591 to 7.39099, saving model to ./output_dir/CVAE_MNIST_2024-05-10_12-03/model.weights.h5\n",
      "469/469 - 25s - 54ms/step - kl_loss: 0.0040 - loss: 7.3910 - reconstruction_loss: 7.3861\n",
      "Epoch 8/30\n",
      "\n",
      "Epoch 8: loss improved from 7.39099 to 7.32859, saving model to ./output_dir/CVAE_MNIST_2024-05-10_12-03/model.weights.h5\n",
      "469/469 - 25s - 54ms/step - kl_loss: 0.0069 - loss: 7.3286 - reconstruction_loss: 7.3207\n",
      "Epoch 9/30\n",
      "\n",
      "Epoch 9: loss improved from 7.32859 to 7.26760, saving model to ./output_dir/CVAE_MNIST_2024-05-10_12-03/model.weights.h5\n",
      "469/469 - 25s - 53ms/step - kl_loss: 0.0128 - loss: 7.2676 - reconstruction_loss: 7.2538\n",
      "Epoch 10/30\n",
      "\n",
      "Epoch 10: loss improved from 7.26760 to 7.20659, saving model to ./output_dir/CVAE_MNIST_2024-05-10_12-03/model.weights.h5\n",
      "469/469 - 24s - 51ms/step - kl_loss: 0.0306 - loss: 7.2066 - reconstruction_loss: 7.1749\n",
      "Epoch 11/30\n",
      "\n",
      "Epoch 11: loss improved from 7.20659 to 7.15485, saving model to ./output_dir/CVAE_MNIST_2024-05-10_12-03/model.weights.h5\n",
      "469/469 - 24s - 51ms/step - kl_loss: 0.0588 - loss: 7.1549 - reconstruction_loss: 7.0952\n",
      "Epoch 12/30\n",
      "\n",
      "Epoch 12: loss improved from 7.15485 to 7.11168, saving model to ./output_dir/CVAE_MNIST_2024-05-10_12-03/model.weights.h5\n",
      "469/469 - 24s - 51ms/step - kl_loss: 0.0903 - loss: 7.1117 - reconstruction_loss: 7.0206\n",
      "Epoch 13/30\n",
      "\n",
      "Epoch 13: loss improved from 7.11168 to 7.06708, saving model to ./output_dir/CVAE_MNIST_2024-05-10_12-03/model.weights.h5\n",
      "469/469 - 24s - 51ms/step - kl_loss: 0.1235 - loss: 7.0671 - reconstruction_loss: 6.9427\n",
      "Epoch 14/30\n",
      "\n",
      "Epoch 14: loss improved from 7.06708 to 7.01836, saving model to ./output_dir/CVAE_MNIST_2024-05-10_12-03/model.weights.h5\n",
      "469/469 - 24s - 52ms/step - kl_loss: 0.1557 - loss: 7.0184 - reconstruction_loss: 6.8617\n",
      "Epoch 15/30\n",
      "\n",
      "Epoch 15: loss improved from 7.01836 to 6.96395, saving model to ./output_dir/CVAE_MNIST_2024-05-10_12-03/model.weights.h5\n",
      "469/469 - 24s - 51ms/step - kl_loss: 0.1943 - loss: 6.9639 - reconstruction_loss: 6.7687\n",
      "Epoch 16/30\n",
      "\n",
      "Epoch 16: loss improved from 6.96395 to 6.91049, saving model to ./output_dir/CVAE_MNIST_2024-05-10_12-03/model.weights.h5\n",
      "469/469 - 28s - 59ms/step - kl_loss: 0.2225 - loss: 6.9105 - reconstruction_loss: 6.6871\n",
      "Epoch 17/30\n",
      "\n",
      "Epoch 17: loss improved from 6.91049 to 6.86755, saving model to ./output_dir/CVAE_MNIST_2024-05-10_12-03/model.weights.h5\n",
      "469/469 - 25s - 52ms/step - kl_loss: 0.2539 - loss: 6.8675 - reconstruction_loss: 6.6127\n",
      "Epoch 18/30\n",
      "\n",
      "Epoch 18: loss improved from 6.86755 to 6.84001, saving model to ./output_dir/CVAE_MNIST_2024-05-10_12-03/model.weights.h5\n",
      "469/469 - 25s - 52ms/step - kl_loss: 0.2799 - loss: 6.8400 - reconstruction_loss: 6.5592\n",
      "Epoch 19/30\n",
      "\n",
      "Epoch 19: loss improved from 6.84001 to 6.81835, saving model to ./output_dir/CVAE_MNIST_2024-05-10_12-03/model.weights.h5\n",
      "469/469 - 28s - 60ms/step - kl_loss: 0.3005 - loss: 6.8184 - reconstruction_loss: 6.5169\n",
      "Epoch 20/30\n",
      "\n",
      "Epoch 20: loss improved from 6.81835 to 6.79409, saving model to ./output_dir/CVAE_MNIST_2024-05-10_12-03/model.weights.h5\n",
      "469/469 - 26s - 55ms/step - kl_loss: 0.3157 - loss: 6.7941 - reconstruction_loss: 6.4775\n",
      "Epoch 21/30\n",
      "\n",
      "Epoch 21: loss improved from 6.79409 to 6.77995, saving model to ./output_dir/CVAE_MNIST_2024-05-10_12-03/model.weights.h5\n",
      "469/469 - 25s - 54ms/step - kl_loss: 0.3322 - loss: 6.7799 - reconstruction_loss: 6.4469\n",
      "Epoch 22/30\n",
      "\n",
      "Epoch 22: loss improved from 6.77995 to 6.76376, saving model to ./output_dir/CVAE_MNIST_2024-05-10_12-03/model.weights.h5\n",
      "469/469 - 25s - 53ms/step - kl_loss: 0.3418 - loss: 6.7638 - reconstruction_loss: 6.4211\n",
      "Epoch 23/30\n",
      "\n",
      "Epoch 23: loss improved from 6.76376 to 6.74931, saving model to ./output_dir/CVAE_MNIST_2024-05-10_12-03/model.weights.h5\n",
      "469/469 - 25s - 54ms/step - kl_loss: 0.3504 - loss: 6.7493 - reconstruction_loss: 6.3980\n",
      "Epoch 24/30\n",
      "\n",
      "Epoch 24: loss improved from 6.74931 to 6.74027, saving model to ./output_dir/CVAE_MNIST_2024-05-10_12-03/model.weights.h5\n",
      "469/469 - 25s - 53ms/step - kl_loss: 0.3593 - loss: 6.7403 - reconstruction_loss: 6.3802\n",
      "Epoch 25/30\n",
      "\n",
      "Epoch 25: loss improved from 6.74027 to 6.72661, saving model to ./output_dir/CVAE_MNIST_2024-05-10_12-03/model.weights.h5\n",
      "469/469 - 25s - 53ms/step - kl_loss: 0.3618 - loss: 6.7266 - reconstruction_loss: 6.3640\n",
      "Epoch 26/30\n",
      "\n",
      "Epoch 26: loss improved from 6.72661 to 6.72616, saving model to ./output_dir/CVAE_MNIST_2024-05-10_12-03/model.weights.h5\n",
      "469/469 - 26s - 55ms/step - kl_loss: 0.3753 - loss: 6.7262 - reconstruction_loss: 6.3499\n",
      "Epoch 27/30\n",
      "\n",
      "Epoch 27: loss improved from 6.72616 to 6.71363, saving model to ./output_dir/CVAE_MNIST_2024-05-10_12-03/model.weights.h5\n",
      "469/469 - 26s - 56ms/step - kl_loss: 0.3764 - loss: 6.7136 - reconstruction_loss: 6.3364\n",
      "Epoch 28/30\n",
      "\n",
      "Epoch 28: loss improved from 6.71363 to 6.70807, saving model to ./output_dir/CVAE_MNIST_2024-05-10_12-03/model.weights.h5\n",
      "469/469 - 26s - 54ms/step - kl_loss: 0.3846 - loss: 6.7081 - reconstruction_loss: 6.3225\n",
      "Epoch 29/30\n",
      "\n",
      "Epoch 29: loss improved from 6.70807 to 6.69585, saving model to ./output_dir/CVAE_MNIST_2024-05-10_12-03/model.weights.h5\n",
      "469/469 - 25s - 54ms/step - kl_loss: 0.3864 - loss: 6.6959 - reconstruction_loss: 6.3087\n",
      "Epoch 30/30\n",
      "\n",
      "Epoch 30: loss improved from 6.69585 to 6.69053, saving model to ./output_dir/CVAE_MNIST_2024-05-10_12-03/model.weights.h5\n",
      "469/469 - 25s - 53ms/step - kl_loss: 0.3939 - loss: 6.6905 - reconstruction_loss: 6.2959\n"
     ]
    },
    {
     "name": "stderr",
     "output_type": "stream",
     "text": [
      "2024-05-10 12:15:52 \u001b[32m[INFO]\u001b[0m: Restoring best model\u001b[0m\n",
      "2024-05-10 12:15:52 \u001b[32m[INFO]\u001b[0m: Best model restored\u001b[0m\n"
     ]
    }
   ],
   "source": [
    "pipe = TrainingPipeline(name='CVAE_MNIST', \n",
    "                        learning_rate=0.001,\n",
    "                        model=model, \n",
    "                        num_epochs=30, \n",
    "                        batch_size=128,\n",
    "                        graph_mode=True,)\n",
    "\n",
    "trained_model = pipe(x=(x_train, y_train))"
   ]
  },
  {
   "cell_type": "markdown",
   "metadata": {},
   "source": [
    "Aparentemente z es una tupla, averiguar por qué"
   ]
  },
  {
   "cell_type": "code",
   "execution_count": null,
   "metadata": {},
   "outputs": [],
   "source": []
  }
 ],
 "metadata": {
  "kernelspec": {
   "display_name": "cloudspace",
   "language": "python",
   "name": "python3"
  },
  "language_info": {
   "codemirror_mode": {
    "name": "ipython",
    "version": 3
   },
   "file_extension": ".py",
   "mimetype": "text/x-python",
   "name": "python",
   "nbconvert_exporter": "python",
   "pygments_lexer": "ipython3",
   "version": "3.10.13"
  }
 },
 "nbformat": 4,
 "nbformat_minor": 2
}
