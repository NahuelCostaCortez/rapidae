{
 "cells": [
  {
   "cell_type": "markdown",
   "metadata": {},
   "source": [
    "<a href=\"https://colab.research.google.com/github/NahuelCostaCortez/rapidae/blob/main/examples/START_HERE.ipynb\" target=\"_parent\"><img src=\"https://colab.research.google.com/assets/colab-badge.svg\" alt=\"Open In Colab\"/></a>"
   ]
  },
  {
   "cell_type": "markdown",
   "metadata": {},
   "source": [
    "### Installation"
   ]
  },
  {
   "cell_type": "markdown",
   "metadata": {},
   "source": [
    "First, let´s install the library."
   ]
  },
  {
   "cell_type": "code",
   "execution_count": null,
   "metadata": {},
   "outputs": [],
   "source": [
    "%pip install rapidae"
   ]
  },
  {
   "cell_type": "markdown",
   "metadata": {},
   "source": [
    "This installs the latest stable version. If you want to have control over the code you can check [execute_from_source_code](\"https://colab.research.google.com/github/NahuelCostaCortez/rapidae/blob/main/examples/execute_from_source_code.ipynb\")."
   ]
  },
  {
   "cell_type": "markdown",
   "metadata": {},
   "source": [
    "You will also need to install a backend framework\n",
    "\n",
    "**If you executing this from colab** Tensorflow, Pytorch and JAX are already installed so **you can skip this process**."
   ]
  },
  {
   "cell_type": "markdown",
   "metadata": {},
   "source": [
    "#### Install tensorflow"
   ]
  },
  {
   "cell_type": "code",
   "execution_count": null,
   "metadata": {},
   "outputs": [],
   "source": [
    "!python3 -m pip install tensorflow[and-cuda]"
   ]
  },
  {
   "cell_type": "markdown",
   "metadata": {},
   "source": [
    "After installing tensorflow Keras 3 should be re-installed. This is a temporary step while TensorFlow is pinned to Keras 2, and will no longer be necessary after TensorFlow 2.16. The cause is that tensorflow==2.15 will overwrite your Keras installation with keras==2.15."
   ]
  },
  {
   "cell_type": "code",
   "execution_count": null,
   "metadata": {},
   "outputs": [],
   "source": [
    "!pip install --upgrade keras"
   ]
  },
  {
   "cell_type": "markdown",
   "metadata": {},
   "source": [
    "#### Install pytorch"
   ]
  },
  {
   "cell_type": "code",
   "execution_count": null,
   "metadata": {},
   "outputs": [],
   "source": [
    "!pip3 install torch torchvision --index-url https://download.pytorch.org/whl/cu118"
   ]
  },
  {
   "cell_type": "markdown",
   "metadata": {},
   "source": [
    "#### Install JAX"
   ]
  },
  {
   "cell_type": "code",
   "execution_count": null,
   "metadata": {},
   "outputs": [],
   "source": [
    "!pip install --upgrade pip\n",
    "!pip install --upgrade \"jax[cpu]\" # CPU-only version\n",
    "# pip install --upgrade \"jax[cuda11_pip]\" # NVIDIA GPU version"
   ]
  },
  {
   "cell_type": "markdown",
   "metadata": {},
   "source": [
    "### Data"
   ]
  },
  {
   "cell_type": "markdown",
   "metadata": {},
   "source": [
    "Typically, for an experiment you need:\n",
    "\n",
    "- data\n",
    "- model\n",
    "\n",
    "The library has a module for each. Let´s start loading some data"
   ]
  },
  {
   "cell_type": "code",
   "execution_count": 12,
   "metadata": {},
   "outputs": [],
   "source": [
    "from rapidae.data import load_MNIST\n",
    "from keras import utils"
   ]
  },
  {
   "cell_type": "markdown",
   "metadata": {},
   "source": [
    "All datasets have a \"persistant\" parameter. If set to True stores the data in a newly created \"datasets\" folder. Default: False."
   ]
  },
  {
   "cell_type": "code",
   "execution_count": 17,
   "metadata": {},
   "outputs": [
    {
     "name": "stderr",
     "output_type": "stream",
     "text": [
      "2024-01-18 19:14:36 \u001b[32m[INFO]\u001b[0m: Downloading train-images-idx3-ubyte.gz...\u001b[0m\n",
      "2024-01-18 19:14:36 \u001b[32m[INFO]\u001b[0m: Downloading train-labels-idx1-ubyte.gz...\u001b[0m\n",
      "2024-01-18 19:14:36 \u001b[32m[INFO]\u001b[0m: Downloading t10k-images-idx3-ubyte.gz...\u001b[0m\n",
      "2024-01-18 19:14:36 \u001b[32m[INFO]\u001b[0m: Downloading t10k-labels-idx1-ubyte.gz...\u001b[0m\n",
      "2024-01-18 19:14:37 \u001b[32m[INFO]\u001b[0m: Deleting MNIST data...\u001b[0m\n"
     ]
    }
   ],
   "source": [
    "# Load MNIST dataset\n",
    "x_train, y_train, x_test, y_test = load_MNIST() # persistant=True stores the data"
   ]
  },
  {
   "cell_type": "markdown",
   "metadata": {},
   "source": [
    "Prepare data for training:\n",
    "- Normalize data in the range [0,1]\n",
    "- Convert labels to categorical"
   ]
  },
  {
   "cell_type": "code",
   "execution_count": 18,
   "metadata": {},
   "outputs": [],
   "source": [
    "# Normalize data and flatten images\n",
    "x_train = x_train.reshape(x_train.shape[0], -1).astype(\"float32\") / 255\n",
    "x_test = x_test.reshape(x_test.shape[0], -1).astype(\"float32\") / 255\n",
    "\n",
    "input_dim = x_train.shape[1]\n",
    "\n",
    "# Obtaint number of clasess\n",
    "n_classes = len(set(y_train))\n",
    "\n",
    "# Convert labels to categorical\n",
    "y_train = utils.to_categorical(y_train, n_classes)\n",
    "y_test = utils.to_categorical(y_test, n_classes)"
   ]
  },
  {
   "cell_type": "markdown",
   "metadata": {},
   "source": [
    "### Models"
   ]
  },
  {
   "cell_type": "markdown",
   "metadata": {},
   "source": [
    "You can list available models with the function ```list_models()```.\n",
    "\n",
    "Note however, that these are the base models, for a complete guide of the implemented models, please refer to the documentation or the README of the official repo."
   ]
  },
  {
   "cell_type": "code",
   "execution_count": 51,
   "metadata": {},
   "outputs": [],
   "source": [
    "from rapidae.models import list_models"
   ]
  },
  {
   "cell_type": "code",
   "execution_count": 6,
   "metadata": {},
   "outputs": [
    {
     "data": {
      "text/plain": [
       "['AE', 'CAE', 'VAE', 'VQVAE']"
      ]
     },
     "execution_count": 6,
     "metadata": {},
     "output_type": "execute_result"
    }
   ],
   "source": [
    "list_models()"
   ]
  },
  {
   "cell_type": "markdown",
   "metadata": {},
   "source": [
    "Let´s build a simple autoencoder.\n",
    "\n",
    "Each model needs typically an encoder and a decoder (some models don´t need an encoder or a decoder, but let´s skip that part). You can select among the available architectures in the models module or provide your own implementation"
   ]
  },
  {
   "cell_type": "markdown",
   "metadata": {},
   "source": [
    "#### Selecting an existing architecture"
   ]
  },
  {
   "cell_type": "code",
   "execution_count": 52,
   "metadata": {},
   "outputs": [],
   "source": [
    "from rapidae.models import AE"
   ]
  },
  {
   "cell_type": "markdown",
   "metadata": {},
   "source": [
    "Each model has at least the following parameters:\n",
    "\n",
    "- input_dim (Union[Tuple[int, ...], None]): The dimensionality of the input data. Default is None. **Required parameter**.\n",
    "- latent_dim (int): The dimensionality of the latent space. Default is 2.\n",
    "- encoder (BaseEncoder): An instance of BaseEncoder. Default is None. If no encoder is provided the BaseEncoder will be the chosen architecture.\n",
    "- decoder (BaseDecoder): An instance of BaseDecoder. Default is None. If no encoder is provided the BaseDecoder will be the chosen architecture.\n",
    "- exclude_decoder (bool): Whether to exclude the decoder from the model. Default is False.\n",
    "- layers_conf (list): The configuration of layers in the encoder and decoder architectures. Default is None.\n",
    "\n",
    "You can notice that the input_dim is the only required parameter, that means you can instantiate a model just by doing:"
   ]
  },
  {
   "cell_type": "code",
   "execution_count": 3,
   "metadata": {},
   "outputs": [
    {
     "name": "stderr",
     "output_type": "stream",
     "text": [
      "2024-01-18 18:45:34 \u001b[33m[WARNING]\u001b[0m: No specific layer configuration has been provided. Creating default configuration: [512]...\u001b[0m\n",
      "2024-01-18 18:45:34 \u001b[33m[WARNING]\u001b[0m: No encoder provided, using default MLP encoder\u001b[0m\n",
      "2024-01-18 18:45:34 \u001b[33m[WARNING]\u001b[0m: No decoder provided, using default MLP decoder\u001b[0m\n"
     ]
    }
   ],
   "source": [
    "model = AE(input_dim=input_dim)"
   ]
  },
  {
   "cell_type": "markdown",
   "metadata": {},
   "source": [
    "Feel free to experiment with other parameters. For example, in this case we also set:\n",
    "- latent_dim: number of neurons in the latent space (bottleneck).\n",
    "- layers_conf: by setting [32,64,128] we specify that we want an encoder with 3 layers and the number of neurons for each layer should be 32 for the first, 64 for the second and 128 for the third. The decoder has the same structure but in reverse, that is, 3 layers with 128, 64, 32 neurons in each one."
   ]
  },
  {
   "cell_type": "code",
   "execution_count": 4,
   "metadata": {},
   "outputs": [
    {
     "name": "stderr",
     "output_type": "stream",
     "text": [
      "2024-01-18 18:45:36 \u001b[33m[WARNING]\u001b[0m: No encoder provided, using default MLP encoder\u001b[0m\n",
      "2024-01-18 18:45:36 \u001b[33m[WARNING]\u001b[0m: No decoder provided, using default MLP decoder\u001b[0m\n"
     ]
    }
   ],
   "source": [
    "model = AE(input_dim=input_dim, latent_dim=2, layers_conf=[32, 64, 128])"
   ]
  },
  {
   "cell_type": "markdown",
   "metadata": {},
   "source": [
    "Finally, you can also select an existing architecture:"
   ]
  },
  {
   "cell_type": "code",
   "execution_count": 5,
   "metadata": {},
   "outputs": [],
   "source": [
    "from rapidae.models.base import Encoder_MLP, Decoder_MLP"
   ]
  },
  {
   "cell_type": "code",
   "execution_count": 6,
   "metadata": {},
   "outputs": [
    {
     "name": "stderr",
     "output_type": "stream",
     "text": [
      "2024-01-18 18:45:39 \u001b[33m[WARNING]\u001b[0m: No specific layer configuration has been provided. Creating default configuration: [512]...\u001b[0m\n"
     ]
    }
   ],
   "source": [
    "model = AE(input_dim=input_dim, encoder=Encoder_MLP, decoder=Decoder_MLP)"
   ]
  },
  {
   "cell_type": "markdown",
   "metadata": {},
   "source": [
    "#### Providing a custom architecture"
   ]
  },
  {
   "cell_type": "markdown",
   "metadata": {},
   "source": [
    "Let's say you want an asymmetric model, then you would have to define it yourself, here is an example:"
   ]
  },
  {
   "cell_type": "code",
   "execution_count": 26,
   "metadata": {},
   "outputs": [],
   "source": [
    "from rapidae.models import BaseEncoder, BaseDecoder\n",
    "from keras import layers\n",
    "\n",
    "class Custom_Encoder(BaseEncoder):\n",
    "    def __init__(self, input_dim, latent_dim, **kwargs): # you can add more arguments, but al least these are required\n",
    "        BaseEncoder.__init__(self, input_dim=input_dim, latent_dim=latent_dim)\n",
    "\n",
    "        self.layer_1 = layers.Dense(300)\n",
    "        self.layer_2 = layers.Dense(150)\n",
    "        self.layer_3 = layers.Dense(self.input_dim)\n",
    "\n",
    "    def call(self, x):\n",
    "        x = self.layer_1(x)\n",
    "        x = self.layer_2(x)\n",
    "        x = self.layer_3(x)\n",
    "        return x\n",
    "\n",
    "class Custom_Decoder(BaseDecoder):\n",
    "    def __init__(self, input_dim, latent_dim, **kwargs): # you can add more arguments, but al least these are required\n",
    "        BaseDecoder.__init__(self, input_dim=input_dim, latent_dim=latent_dim)\n",
    "\n",
    "        self.layer_1 = layers.Dense(self.latent_dim)\n",
    "        self.layer_2 = layers.Dense(self.input_dim)\n",
    "\n",
    "    def call(self, x):\n",
    "        x = self.layer_1(x)\n",
    "        x = self.layer_2(x)\n",
    "        return x"
   ]
  },
  {
   "cell_type": "markdown",
   "metadata": {},
   "source": [
    "Now instantiate the model as before"
   ]
  },
  {
   "cell_type": "code",
   "execution_count": 27,
   "metadata": {},
   "outputs": [],
   "source": [
    "model = AE(input_dim=input_dim, encoder=Custom_Encoder, decoder=Custom_Decoder)"
   ]
  },
  {
   "cell_type": "markdown",
   "metadata": {},
   "source": [
    "### Training"
   ]
  },
  {
   "cell_type": "markdown",
   "metadata": {},
   "source": [
    "The model is a keras model therefore you can directly use the .fit.\n",
    "\n",
    "The training pipeline allows you to configure training settings like managing callbacks or reloading the best parameters after tranining"
   ]
  },
  {
   "cell_type": "code",
   "execution_count": 11,
   "metadata": {},
   "outputs": [],
   "source": [
    "from rapidae.pipelines import TrainingPipeline"
   ]
  },
  {
   "cell_type": "code",
   "execution_count": 28,
   "metadata": {},
   "outputs": [
    {
     "name": "stderr",
     "output_type": "stream",
     "text": [
      "2024-01-18 19:19:52 \u001b[32m[INFO]\u001b[0m: +++ vanilla_autoencoder +++\u001b[0m\n",
      "2024-01-18 19:19:52 \u001b[32m[INFO]\u001b[0m: Creating folder in ./output_dir/vanilla_autoencoder_2024-01-18_19-19-52\u001b[0m\n"
     ]
    },
    {
     "name": "stdout",
     "output_type": "stream",
     "text": [
      "Epoch 1/10\n"
     ]
    },
    {
     "name": "stderr",
     "output_type": "stream",
     "text": [
      "2024-01-18 19:19:57.631672: I external/local_xla/xla/service/service.cc:168] XLA service 0x7f4fc800d510 initialized for platform CUDA (this does not guarantee that XLA will be used). Devices:\n",
      "2024-01-18 19:19:57.631950: I external/local_xla/xla/service/service.cc:176]   StreamExecutor device (0): NVIDIA GeForce RTX 3060, Compute Capability 8.6\n",
      "2024-01-18 19:19:57.767872: I tensorflow/compiler/mlir/tensorflow/utils/dump_mlir_util.cc:269] disabling MLIR crash reproducer, set env var `MLIR_CRASH_REPRODUCER_DIRECTORY` to enable.\n",
      "2024-01-18 19:20:06.963499: I external/local_xla/xla/stream_executor/cuda/cuda_dnn.cc:454] Loaded cuDNN version 8904\n",
      "2024-01-18 19:20:07.067615: I external/local_tsl/tsl/platform/default/subprocess.cc:304] Start cannot spawn child process: No such file or directory\n",
      "WARNING: All log messages before absl::InitializeLog() is called are written to STDERR\n",
      "I0000 00:00:1705602008.189848  358243 device_compiler.h:186] Compiled cluster using XLA!  This line is logged at most once for the lifetime of the process.\n",
      "W0000 00:00:1705602008.229019  358243 graph_launch.cc:671] Fallback to op-by-op mode because memset node breaks graph update\n",
      "W0000 00:00:1705602009.509543  358246 graph_launch.cc:671] Fallback to op-by-op mode because memset node breaks graph update\n"
     ]
    },
    {
     "name": "stdout",
     "output_type": "stream",
     "text": [
      "\n",
      "Epoch 1: loss improved from inf to 0.13329, saving model to ./output_dir/vanilla_autoencoder_2024-01-18_19-19-52/model.weights.h5\n",
      "469/469 - 14s - 29ms/step - loss: 0.1333\n",
      "Epoch 2/10\n",
      "\n",
      "Epoch 2: loss improved from 0.13329 to 0.05644, saving model to ./output_dir/vanilla_autoencoder_2024-01-18_19-19-52/model.weights.h5\n",
      "469/469 - 1s - 2ms/step - loss: 0.0564\n",
      "Epoch 3/10\n",
      "\n",
      "Epoch 3: loss improved from 0.05644 to 0.05607, saving model to ./output_dir/vanilla_autoencoder_2024-01-18_19-19-52/model.weights.h5\n",
      "469/469 - 1s - 2ms/step - loss: 0.0561\n",
      "Epoch 4/10\n",
      "\n",
      "Epoch 4: loss improved from 0.05607 to 0.05605, saving model to ./output_dir/vanilla_autoencoder_2024-01-18_19-19-52/model.weights.h5\n",
      "469/469 - 1s - 2ms/step - loss: 0.0560\n",
      "Epoch 5/10\n",
      "\n",
      "Epoch 5: loss did not improve from 0.05605\n",
      "469/469 - 1s - 2ms/step - loss: 0.0561\n",
      "Epoch 6/10\n",
      "\n",
      "Epoch 6: loss did not improve from 0.05605\n",
      "469/469 - 1s - 2ms/step - loss: 0.0561\n",
      "Epoch 7/10\n",
      "\n",
      "Epoch 7: loss did not improve from 0.05605\n",
      "469/469 - 1s - 2ms/step - loss: 0.0561\n",
      "Epoch 8/10\n",
      "\n",
      "Epoch 8: loss did not improve from 0.05605\n",
      "469/469 - 1s - 2ms/step - loss: 0.0561\n",
      "Epoch 9/10\n",
      "\n",
      "Epoch 9: loss did not improve from 0.05605\n",
      "469/469 - 1s - 2ms/step - loss: 0.0561\n",
      "Epoch 10/10\n",
      "\n",
      "Epoch 10: loss did not improve from 0.05605\n",
      "469/469 - 1s - 2ms/step - loss: 0.0561\n"
     ]
    },
    {
     "name": "stderr",
     "output_type": "stream",
     "text": [
      "2024-01-18 19:20:18 \u001b[32m[INFO]\u001b[0m: Best model restored\u001b[0m\n"
     ]
    }
   ],
   "source": [
    "pipe = TrainingPipeline(name='vanilla_autoencoder', learning_rate=0.01,\n",
    "                        model=model, num_epochs=10, batch_size=128)\n",
    "\n",
    "trained_model = pipe(x=x_train, y=x_train)"
   ]
  },
  {
   "cell_type": "markdown",
   "metadata": {},
   "source": [
    "### Evaluation"
   ]
  },
  {
   "cell_type": "markdown",
   "metadata": {},
   "source": [
    "Depending on what you are training the model for you can find different evaluations. For this example we are going to focus on the visual evaluation of the latent space as well as the decoder´s reconstructions"
   ]
  },
  {
   "cell_type": "code",
   "execution_count": 54,
   "metadata": {},
   "outputs": [],
   "source": [
    "from rapidae.data import plot_reconstructions, plot_latent_space"
   ]
  },
  {
   "cell_type": "code",
   "execution_count": 40,
   "metadata": {},
   "outputs": [
    {
     "name": "stdout",
     "output_type": "stream",
     "text": [
      "\u001b[1m313/313\u001b[0m \u001b[32m━━━━━━━━━━━━━━━━━━━━\u001b[0m\u001b[37m\u001b[0m \u001b[1m0s\u001b[0m 1ms/step\n"
     ]
    },
    {
     "data": {
      "image/png": "[encoded data removed]",
      "text/plain": [
       "<Figure size 2000x400 with 20 Axes>"
      ]
     },
     "metadata": {},
     "output_type": "display_data"
    }
   ],
   "source": [
    "outputs = trained_model.predict(x_test)\n",
    "\n",
    "plot_reconstructions(x_test, outputs['recon'])"
   ]
  },
  {
   "cell_type": "code",
   "execution_count": null,
   "metadata": {},
   "outputs": [],
   "source": [
    "plot_latent_space(outputs['latent'], y_test)"
   ]
  }
 ],
 "metadata": {
  "kernelspec": {
   "display_name": "rapidae",
   "language": "python",
   "name": "python3"
  },
  "language_info": {
   "codemirror_mode": {
    "name": "ipython",
    "version": 3
   },
   "file_extension": ".py",
   "mimetype": "text/x-python",
   "name": "python",
   "nbconvert_exporter": "python",
   "pygments_lexer": "ipython3",
   "version": "3.10.12"
  }
 },
 "nbformat": 4,
 "nbformat_minor": 2
}
