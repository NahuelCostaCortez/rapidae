{
 "cells": [
  {
   "cell_type": "markdown",
   "metadata": {},
   "source": [
    "<a href=\"https://colab.research.google.com/github/NahuelCostaCortez/rapidae/blob/main/examples/01_execute_from_source_code.ipynb\" target=\"_parent\"><img src=\"https://colab.research.google.com/assets/colab-badge.svg\" alt=\"Open In Colab\"/></a>"
   ]
  },
  {
   "cell_type": "markdown",
   "metadata": {},
   "source": [
    "🚨 Main will have the latest updates to the library, contrary to the package version. Here is an example on how to use the library from source code.\n",
    "\n"
   ]
  },
  {
   "cell_type": "code",
   "execution_count": null,
   "metadata": {},
   "outputs": [],
   "source": []
  },
  {
   "cell_type": "markdown",
   "metadata": {},
   "source": [
    "Clone and access the repo"
   ]
  },
  {
   "cell_type": "code",
   "execution_count": null,
   "metadata": {},
   "outputs": [],
   "source": [
    "!git clone https://github.com/NahuelCostaCortez/rapidae.git"
   ]
  },
  {
   "cell_type": "code",
   "execution_count": null,
   "metadata": {},
   "outputs": [],
   "source": [
    "%cd rapidae"
   ]
  },
  {
   "cell_type": "markdown",
   "metadata": {},
   "source": [
    "Install dependencies"
   ]
  },
  {
   "cell_type": "code",
   "execution_count": null,
   "metadata": {},
   "outputs": [],
   "source": [
    "!pip install -r requirements.txt"
   ]
  },
  {
   "cell_type": "markdown",
   "metadata": {},
   "source": [
    "Add the following if you are planning to edit files, modifications will be automatically available without having to reload the notebook"
   ]
  },
  {
   "cell_type": "code",
   "execution_count": 1,
   "metadata": {},
   "outputs": [],
   "source": [
    "%load_ext autoreload\n",
    "%autoreload 2"
   ]
  },
  {
   "cell_type": "markdown",
   "metadata": {},
   "source": [
    "Add rapidae/src folder to path"
   ]
  },
  {
   "cell_type": "code",
   "execution_count": 5,
   "metadata": {},
   "outputs": [],
   "source": [
    "import os\n",
    "import sys\n",
    "\n",
    "notebook_dir = os.path.abspath('') # get the current notebook directory\n",
    "sys.path.append(os.path.join(notebook_dir, '.', 'src')) # add src folder to path to import modules\n",
    "                                                        # '..', 'src' if you are in the 'examples' folder"
   ]
  },
  {
   "cell_type": "code",
   "execution_count": 3,
   "metadata": {},
   "outputs": [],
   "source": [
    "from rapidae.models import VAE"
   ]
  },
  {
   "cell_type": "code",
   "execution_count": 5,
   "metadata": {},
   "outputs": [
    {
     "name": "stderr",
     "output_type": "stream",
     "text": [
      "2024-04-16 07:51:51 \u001b[32m[INFO]\u001b[0m: Trying to set encoder and decoder from child class...\u001b[0m\n",
      "2024-04-16 07:51:51 \u001b[33m[WARNING]\u001b[0m: No encoder found in vae, using default encoder with layers_conf=[512]...\u001b[0m\n",
      "2024-04-16 07:51:51 \u001b[33m[WARNING]\u001b[0m: No decoder found in vae, using default decoder with layers_conf=[512]...\u001b[0m\n",
      "2024-04-16 07:51:51 \u001b[32m[INFO]\u001b[0m: No specific downstream task has been selected\u001b[0m\n",
      "2024-04-16 07:51:51 \u001b[32m[INFO]\u001b[0m: Using binary_crossentropy as the reconstruction loss function\u001b[0m\n"
     ]
    }
   ],
   "source": [
    "model = VAE(input_dim=(28,28,1))"
   ]
  },
  {
   "cell_type": "markdown",
   "metadata": {},
   "source": [
    "For simplicity, the rest of examples make use of ```pip install rapidae```, but you can easily replace it with the code above if you plan to play around with the source code."
   ]
  }
 ],
 "metadata": {
  "kernelspec": {
   "display_name": "rapidae",
   "language": "python",
   "name": "python3"
  },
  "language_info": {
   "codemirror_mode": {
    "name": "ipython",
    "version": 3
   },
   "file_extension": ".py",
   "mimetype": "text/x-python",
   "name": "python",
   "nbconvert_exporter": "python",
   "pygments_lexer": "ipython3",
   "version": "3.10.10"
  }
 },
 "nbformat": 4,
 "nbformat_minor": 2
}
