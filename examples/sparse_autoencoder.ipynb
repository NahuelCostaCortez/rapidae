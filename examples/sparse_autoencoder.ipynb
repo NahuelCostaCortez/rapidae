{
 "cells": [
  {
   "cell_type": "markdown",
   "metadata": {},
   "source": [
    "Since Rapidae uses the new version of Keras 3, this allows the use of different backends. \n",
    "We can select among the 3 available backends (Tensorflow, Pytorch and Jax) by modifying the environment variable \"KERAS_BACKEND\".\n",
    "In the next cell we can define it."
   ]
  },
  {
   "cell_type": "code",
   "execution_count": 1,
   "metadata": {},
   "outputs": [],
   "source": [
    "import os\n",
    "\n",
    "os.environ[\"KERAS_BACKEND\"] = \"torch\""
   ]
  },
  {
   "cell_type": "code",
   "execution_count": 2,
   "metadata": {},
   "outputs": [],
   "source": [
    "import sys\n",
    "\n",
    "notebook_dir = os.path.abspath('')\n",
    "sys.path.append(os.path.join(notebook_dir, '..'))\n",
    "\n",
    "import numpy as np\n",
    "\n",
    "from sklearn.metrics import accuracy_score\n",
    "from keras import utils\n",
    "from rapidae.data.datasets import load_MNIST\n",
    "from rapidae.data.utils import evaluate, display_diff, add_noise\n",
    "from rapidae.models.ae.ae_model import AE\n",
    "from rapidae.models.base.default_architectures import SparseEncoder, SparseDecoder\n",
    "from rapidae.pipelines.training import TrainingPipeline"
   ]
  },
  {
   "cell_type": "markdown",
   "metadata": {},
   "source": [
    "Download and preprocess the dataset. In this example, the selected dataset is the well-known MNIST composed of handwritten number images.\n",
    "\n",
    "The \"persistant\" parameter of the load_MNIST() serves as a flag to determine if we want the dataset to be cached in the datasets folder."
   ]
  },
  {
   "cell_type": "code",
   "execution_count": 3,
   "metadata": {},
   "outputs": [
    {
     "name": "stderr",
     "output_type": "stream",
     "text": [
      "2023-12-27 14:32:46 \u001b[32m[INFO]\u001b[0m: train-images-idx3-ubyte.gz already exists.\u001b[0m\n",
      "2023-12-27 14:32:46 \u001b[32m[INFO]\u001b[0m: train-labels-idx1-ubyte.gz already exists.\u001b[0m\n",
      "2023-12-27 14:32:46 \u001b[32m[INFO]\u001b[0m: t10k-images-idx3-ubyte.gz already exists.\u001b[0m\n",
      "2023-12-27 14:32:46 \u001b[32m[INFO]\u001b[0m: t10k-labels-idx1-ubyte.gz already exists.\u001b[0m\n"
     ]
    }
   ],
   "source": [
    "# Load MNIST dataset\n",
    "x_train, y_train, x_test, y_test = load_MNIST(persistant=True)\n",
    "\n",
    "x_train = x_train.reshape(x_train.shape[0], -1) / 255\n",
    "x_test = x_test.reshape(x_test.shape[0], -1) / 255\n",
    "\n",
    "# Obtain number of clasess\n",
    "n_classes = len(set(y_train))\n",
    "\n",
    "# Convert labels to categorical\n",
    "y_train = utils.to_categorical(y_train, n_classes)\n",
    "y_test = utils.to_categorical(y_test, n_classes)"
   ]
  },
  {
   "cell_type": "code",
   "execution_count": 4,
   "metadata": {},
   "outputs": [],
   "source": [
    "# Model creation\n",
    "model = AE(input_dim=x_train.shape[1], \n",
    "            latent_dim=32, encoder=SparseEncoder, decoder=SparseDecoder, layers_conf=[128, 64])"
   ]
  },
  {
   "cell_type": "code",
   "execution_count": 5,
   "metadata": {},
   "outputs": [
    {
     "name": "stderr",
     "output_type": "stream",
     "text": [
      "2023-12-27 14:32:47 \u001b[32m[INFO]\u001b[0m: +++ training_pipeline +++\u001b[0m\n",
      "2023-12-27 14:32:47 \u001b[32m[INFO]\u001b[0m: Creating folder in ../output_dir/training_pipeline_2023-12-27_14-32-47\u001b[0m\n",
      "/home/lucaspc/venvs/keras_core/lib/python3.11/site-packages/keras/src/layers/layer.py:358: UserWarning: `build()` was called on layer 'encoder', however the layer does not have a `build()` method implemented and it looks like it has unbuilt state. This will cause the layer to be marked as built, despite not being actually built, which may cause failures down the line. Make sure to implement a proper `build()` method.\n",
      "  warnings.warn(\n"
     ]
    },
    {
     "name": "stdout",
     "output_type": "stream",
     "text": [
      "Epoch 1/10\n",
      "\n",
      "Epoch 1: loss improved from inf to 0.06506, saving model to ../output_dir/training_pipeline_2023-12-27_14-32-47/model.weights.h5\n",
      "469/469 - 2s - 4ms/step - loss: 0.0651\n",
      "Epoch 2/10\n",
      "\n",
      "Epoch 2: loss improved from 0.06506 to 0.04626, saving model to ../output_dir/training_pipeline_2023-12-27_14-32-47/model.weights.h5\n",
      "469/469 - 2s - 3ms/step - loss: 0.0463\n",
      "Epoch 3/10\n",
      "\n",
      "Epoch 3: loss improved from 0.04626 to 0.03593, saving model to ../output_dir/training_pipeline_2023-12-27_14-32-47/model.weights.h5\n",
      "469/469 - 2s - 3ms/step - loss: 0.0359\n",
      "Epoch 4/10\n",
      "\n",
      "Epoch 4: loss improved from 0.03593 to 0.03036, saving model to ../output_dir/training_pipeline_2023-12-27_14-32-47/model.weights.h5\n",
      "469/469 - 2s - 3ms/step - loss: 0.0304\n",
      "Epoch 5/10\n",
      "\n",
      "Epoch 5: loss improved from 0.03036 to 0.02702, saving model to ../output_dir/training_pipeline_2023-12-27_14-32-47/model.weights.h5\n",
      "469/469 - 2s - 3ms/step - loss: 0.0270\n",
      "Epoch 6/10\n",
      "\n",
      "Epoch 6: loss improved from 0.02702 to 0.02452, saving model to ../output_dir/training_pipeline_2023-12-27_14-32-47/model.weights.h5\n",
      "469/469 - 1s - 3ms/step - loss: 0.0245\n",
      "Epoch 7/10\n",
      "\n",
      "Epoch 7: loss improved from 0.02452 to 0.02234, saving model to ../output_dir/training_pipeline_2023-12-27_14-32-47/model.weights.h5\n",
      "469/469 - 2s - 3ms/step - loss: 0.0223\n",
      "Epoch 8/10\n",
      "\n",
      "Epoch 8: loss improved from 0.02234 to 0.02026, saving model to ../output_dir/training_pipeline_2023-12-27_14-32-47/model.weights.h5\n",
      "469/469 - 2s - 3ms/step - loss: 0.0203\n",
      "Epoch 9/10\n",
      "\n",
      "Epoch 9: loss improved from 0.02026 to 0.01862, saving model to ../output_dir/training_pipeline_2023-12-27_14-32-47/model.weights.h5\n",
      "469/469 - 2s - 3ms/step - loss: 0.0186\n",
      "Epoch 10/10\n",
      "\n",
      "Epoch 10: loss improved from 0.01862 to 0.01742, saving model to ../output_dir/training_pipeline_2023-12-27_14-32-47/model.weights.h5\n",
      "469/469 - 2s - 3ms/step - loss: 0.0174\n"
     ]
    }
   ],
   "source": [
    "pipe = TrainingPipeline(name='training_pipeline',\n",
    "                        model=model, num_epochs=10, learning_rate=0.01)\n",
    "\n",
    "trained_model = pipe(x=x_train, y=y_train)"
   ]
  },
  {
   "cell_type": "code",
   "execution_count": 6,
   "metadata": {},
   "outputs": [
    {
     "name": "stdout",
     "output_type": "stream",
     "text": [
      "\u001b[1m313/313\u001b[0m \u001b[32m━━━━━━━━━━━━━━━━━━━━\u001b[0m\u001b[37m\u001b[0m \u001b[1m0s\u001b[0m 1ms/step\n"
     ]
    },
    {
     "data": {
      "image/png": "[encoded data removed]",
      "text/plain": [
       "<Figure size 2000x400 with 20 Axes>"
      ]
     },
     "metadata": {},
     "output_type": "display_data"
    }
   ],
   "source": [
    "y_hat = trained_model.predict(x_test)\n",
    "\n",
    "display_diff(x_test, y_hat['recon'])"
   ]
  }
 ],
 "metadata": {
  "kernelspec": {
   "display_name": "keras_core",
   "language": "python",
   "name": "python3"
  },
  "language_info": {
   "codemirror_mode": {
    "name": "ipython",
    "version": 3
   },
   "file_extension": ".py",
   "mimetype": "text/x-python",
   "name": "python",
   "nbconvert_exporter": "python",
   "pygments_lexer": "ipython3",
   "version": "3.11.2"
  }
 },
 "nbformat": 4,
 "nbformat_minor": 2
}
