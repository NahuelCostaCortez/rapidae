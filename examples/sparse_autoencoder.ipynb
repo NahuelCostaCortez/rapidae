{
    "cells": [
        {
            "cell_type": "markdown",
            "metadata": {},
            "source": [
                "<a href=\"https://colab.research.google.com/github/NahuelCostaCortez/rapidae/blob/main/examples/sparse_autoencoder.ipynb\" target=\"_parent\"><img src=\"https://colab.research.google.com/assets/colab-badge.svg\" alt=\"Open In Colab\"/></a>"
            ]
        },
        {
            "cell_type": "markdown",
            "metadata": {},
            "source": [
                "# Sparse Autoencoder"
            ]
        },
        {
            "cell_type": "markdown",
            "metadata": {},
            "source": [
                "Unlike traditional autoencoders, which aim to replicate the input data, sparse autoencoders incorporate a sparsity constraint, encouraging the network to activate only a small number of neurons in the hidden layer. This sparsity constraint helps extract meaningful features and representations from the input data, making the network more robust and efficient in capturing essential patterns. Sparse autoencoders find applications in various domains, such as image and signal processing, where learning compact and meaningful representations is crucial for tasks like classification and reconstruction."
            ]
        },
        {
            "cell_type": "code",
            "execution_count": 1,
            "metadata": {},
            "outputs": [],
            "source": [
                "# Install the library\n",
                "\n",
                "!pip install rapidae"
            ]
        },
        {
            "cell_type": "code",
            "execution_count": 3,
            "metadata": {},
            "outputs": [],
            "source": [
                "from keras import utils\n",
                "from rapidae.data import load_MNIST\n",
                "from rapidae.models.base import SparseEncoder, SparseDecoder\n",
                "from rapidae.models import AE\n",
                "from rapidae.pipelines import TrainingPipeline\n",
                "from rapidae.evaluate import plot_reconstructions"
            ]
        },
        {
            "cell_type": "markdown",
            "metadata": {},
            "source": [
                "### Data"
            ]
        },
        {
            "cell_type": "markdown",
            "metadata": {},
            "source": [
                "Download and preprocess the dataset. In this example, the selected dataset is the well-known MNIST composed of handwritten digit images.\n",
                "\n",
                "Train and test data are flattened since the first layer of the encoder we are going to use is a Dense layer."
            ]
        },
        {
            "cell_type": "code",
            "execution_count": 4,
            "metadata": {},
            "outputs": [
                {
                    "name": "stderr",
                    "output_type": "stream",
                    "text": [
                        "2024-04-16 11:33:34 \u001b[32m[INFO]\u001b[0m: Downloading train-images-idx3-ubyte.gz...\u001b[0m\n",
                        "2024-04-16 11:33:34 \u001b[32m[INFO]\u001b[0m: Downloading train-labels-idx1-ubyte.gz...\u001b[0m\n",
                        "2024-04-16 11:33:34 \u001b[32m[INFO]\u001b[0m: Downloading t10k-images-idx3-ubyte.gz...\u001b[0m\n",
                        "2024-04-16 11:33:34 \u001b[32m[INFO]\u001b[0m: Downloading t10k-labels-idx1-ubyte.gz...\u001b[0m\n",
                        "2024-04-16 11:33:35 \u001b[32m[INFO]\u001b[0m: Deleting MNIST data...\u001b[0m\n"
                    ]
                }
            ],
            "source": [
                "# Load dataset\n",
                "data = load_MNIST()\n",
                "\n",
                "# Flatten and normalize data\n",
                "x_train = data[\"x_train\"].reshape(data[\"x_train\"].shape[0], -1) / 255\n",
                "x_test = data[\"x_test\"].reshape(data[\"x_test\"].shape[0], -1) / 255\n",
                "\n",
                "# Obtain number of clasess\n",
                "n_classes = len(set(data[\"y_train\"]))"
            ]
        },
        {
            "cell_type": "markdown",
            "metadata": {},
            "source": [
                "### Model\n"
            ]
        },
        {
            "cell_type": "code",
            "execution_count": 7,
            "metadata": {},
            "outputs": [
                {
                    "name": "stderr",
                    "output_type": "stream",
                    "text": [
                        "2024-04-16 11:36:00 \u001b[32m[INFO]\u001b[0m: Using provided encoder\u001b[0m\n",
                        "2024-04-16 11:36:00 \u001b[32m[INFO]\u001b[0m: Encoder is a class, initializing...\u001b[0m\n",
                        "2024-04-16 11:36:00 \u001b[32m[INFO]\u001b[0m: Using provided decoder\u001b[0m\n",
                        "2024-04-16 11:36:00 \u001b[32m[INFO]\u001b[0m: Decoder is a class, initializing...\u001b[0m\n"
                    ]
                }
            ],
            "source": [
                "# Model creation\n",
                "model = AE(input_dim=x_train.shape[1],\n",
                "           latent_dim=32, \n",
                "           encoder=SparseEncoder, \n",
                "           decoder=SparseDecoder)"
            ]
        },
        {
            "cell_type": "markdown",
            "metadata": {},
            "source": [
                "### Training"
            ]
        },
        {
            "cell_type": "markdown",
            "metadata": {},
            "source": [
                "In the next cell a TrainingPipeline is created. This pipeline is in responsible for setting the training hyperparameters for the autoencoder such as the number of epochs, the batch size, the learning rate...\n",
                "\n",
                "The model is trained by calling the pipeline and passing it the training set and the labels."
            ]
        },
        {
            "cell_type": "code",
            "execution_count": 9,
            "metadata": {},
            "outputs": [
                {
                    "name": "stderr",
                    "output_type": "stream",
                    "text": [
                        "2024-04-16 11:36:22 \u001b[32m[INFO]\u001b[0m: +++ sparse_ae_MNIST +++\u001b[0m\n",
                        "2024-04-16 11:36:22 \u001b[32m[INFO]\u001b[0m: Creating folder in ./output_dir/sparse_ae_MNIST_2024-04-16_11-36\u001b[0m\n",
                        "2024-04-16 11:36:22 \u001b[32m[INFO]\u001b[0m: \n",
                        "TRAINING STARTED\n",
                        "\tBackend: tensorflow\n",
                        "\tEager mode: False\n",
                        "\tValidation data available: False\n",
                        "\tCallbacks set: ['EarlyStopping', 'ModelCheckpoint'] \n",
                        "\u001b[0m\n"
                    ]
                },
                {
                    "name": "stdout",
                    "output_type": "stream",
                    "text": [
                        "Epoch 1/20\n"
                    ]
                },
                {
                    "name": "stderr",
                    "output_type": "stream",
                    "text": [
                        "2024-04-16 11:36:23.458145: W external/local_tsl/tsl/framework/cpu_allocator_impl.cc:83] Allocation of 188160000 exceeds 10% of free system memory.\n"
                    ]
                },
                {
                    "name": "stdout",
                    "output_type": "stream",
                    "text": [
                        "\n",
                        "Epoch 1: loss improved from inf to 0.05904, saving model to ./output_dir/sparse_ae_MNIST_2024-04-16_11-36/model.weights.h5\n",
                        "469/469 - 13s - 27ms/step - loss: 0.0590\n",
                        "Epoch 2/20\n",
                        "\n",
                        "Epoch 2: loss improved from 0.05904 to 0.02704, saving model to ./output_dir/sparse_ae_MNIST_2024-04-16_11-36/model.weights.h5\n",
                        "469/469 - 19s - 41ms/step - loss: 0.0270\n",
                        "Epoch 3/20\n",
                        "\n",
                        "Epoch 3: loss improved from 0.02704 to 0.01612, saving model to ./output_dir/sparse_ae_MNIST_2024-04-16_11-36/model.weights.h5\n",
                        "469/469 - 10s - 22ms/step - loss: 0.0161\n",
                        "Epoch 4/20\n",
                        "\n",
                        "Epoch 4: loss improved from 0.01612 to 0.01233, saving model to ./output_dir/sparse_ae_MNIST_2024-04-16_11-36/model.weights.h5\n",
                        "469/469 - 11s - 23ms/step - loss: 0.0123\n",
                        "Epoch 5/20\n",
                        "\n",
                        "Epoch 5: loss improved from 0.01233 to 0.01046, saving model to ./output_dir/sparse_ae_MNIST_2024-04-16_11-36/model.weights.h5\n",
                        "469/469 - 18s - 39ms/step - loss: 0.0105\n",
                        "Epoch 6/20\n",
                        "\n",
                        "Epoch 6: loss improved from 0.01046 to 0.00929, saving model to ./output_dir/sparse_ae_MNIST_2024-04-16_11-36/model.weights.h5\n",
                        "469/469 - 11s - 24ms/step - loss: 0.0093\n",
                        "Epoch 7/20\n",
                        "\n",
                        "Epoch 7: loss improved from 0.00929 to 0.00849, saving model to ./output_dir/sparse_ae_MNIST_2024-04-16_11-36/model.weights.h5\n",
                        "469/469 - 11s - 23ms/step - loss: 0.0085\n",
                        "Epoch 8/20\n",
                        "\n",
                        "Epoch 8: loss improved from 0.00849 to 0.00791, saving model to ./output_dir/sparse_ae_MNIST_2024-04-16_11-36/model.weights.h5\n",
                        "469/469 - 10s - 21ms/step - loss: 0.0079\n",
                        "Epoch 9/20\n",
                        "\n",
                        "Epoch 9: loss improved from 0.00791 to 0.00749, saving model to ./output_dir/sparse_ae_MNIST_2024-04-16_11-36/model.weights.h5\n",
                        "469/469 - 10s - 22ms/step - loss: 0.0075\n",
                        "Epoch 10/20\n",
                        "\n",
                        "Epoch 10: loss improved from 0.00749 to 0.00719, saving model to ./output_dir/sparse_ae_MNIST_2024-04-16_11-36/model.weights.h5\n",
                        "469/469 - 10s - 21ms/step - loss: 0.0072\n",
                        "Epoch 11/20\n",
                        "\n",
                        "Epoch 11: loss improved from 0.00719 to 0.00695, saving model to ./output_dir/sparse_ae_MNIST_2024-04-16_11-36/model.weights.h5\n",
                        "469/469 - 10s - 22ms/step - loss: 0.0070\n",
                        "Epoch 12/20\n",
                        "\n",
                        "Epoch 12: loss improved from 0.00695 to 0.00678, saving model to ./output_dir/sparse_ae_MNIST_2024-04-16_11-36/model.weights.h5\n",
                        "469/469 - 11s - 23ms/step - loss: 0.0068\n",
                        "Epoch 13/20\n",
                        "\n",
                        "Epoch 13: loss improved from 0.00678 to 0.00654, saving model to ./output_dir/sparse_ae_MNIST_2024-04-16_11-36/model.weights.h5\n",
                        "469/469 - 10s - 22ms/step - loss: 0.0065\n",
                        "Epoch 14/20\n",
                        "\n",
                        "Epoch 14: loss improved from 0.00654 to 0.00641, saving model to ./output_dir/sparse_ae_MNIST_2024-04-16_11-36/model.weights.h5\n",
                        "469/469 - 11s - 23ms/step - loss: 0.0064\n",
                        "Epoch 15/20\n",
                        "\n",
                        "Epoch 15: loss improved from 0.00641 to 0.00629, saving model to ./output_dir/sparse_ae_MNIST_2024-04-16_11-36/model.weights.h5\n",
                        "469/469 - 10s - 22ms/step - loss: 0.0063\n",
                        "Epoch 16/20\n",
                        "\n",
                        "Epoch 16: loss improved from 0.00629 to 0.00616, saving model to ./output_dir/sparse_ae_MNIST_2024-04-16_11-36/model.weights.h5\n",
                        "469/469 - 10s - 22ms/step - loss: 0.0062\n",
                        "Epoch 17/20\n",
                        "\n",
                        "Epoch 17: loss improved from 0.00616 to 0.00606, saving model to ./output_dir/sparse_ae_MNIST_2024-04-16_11-36/model.weights.h5\n",
                        "469/469 - 10s - 22ms/step - loss: 0.0061\n",
                        "Epoch 18/20\n",
                        "\n",
                        "Epoch 18: loss improved from 0.00606 to 0.00598, saving model to ./output_dir/sparse_ae_MNIST_2024-04-16_11-36/model.weights.h5\n",
                        "469/469 - 10s - 21ms/step - loss: 0.0060\n",
                        "Epoch 19/20\n",
                        "\n",
                        "Epoch 19: loss improved from 0.00598 to 0.00589, saving model to ./output_dir/sparse_ae_MNIST_2024-04-16_11-36/model.weights.h5\n",
                        "469/469 - 10s - 22ms/step - loss: 0.0059\n",
                        "Epoch 20/20\n",
                        "\n",
                        "Epoch 20: loss improved from 0.00589 to 0.00582, saving model to ./output_dir/sparse_ae_MNIST_2024-04-16_11-36/model.weights.h5\n",
                        "469/469 - 10s - 22ms/step - loss: 0.0058\n"
                    ]
                },
                {
                    "name": "stderr",
                    "output_type": "stream",
                    "text": [
                        "2024-04-16 11:40:10 \u001b[32m[INFO]\u001b[0m: Restoring best model\u001b[0m\n",
                        "2024-04-16 11:40:10 \u001b[32m[INFO]\u001b[0m: Best model restored\u001b[0m\n"
                    ]
                }
            ],
            "source": [
                "pipe = TrainingPipeline(name='sparse_ae_MNIST',\n",
                "                        model=model, \n",
                "                        num_epochs=20, \n",
                "                        learning_rate=0.01)\n",
                "\n",
                "trained_model = pipe(x=x_train)"
            ]
        },
        {
            "cell_type": "markdown",
            "metadata": {},
            "source": [
                "### Evaluation"
            ]
        },
        {
            "cell_type": "markdown",
            "metadata": {},
            "source": [
                "Once the model is trained, we can call it on the test set and compare the reconstructed images to check its performance."
            ]
        },
        {
            "cell_type": "code",
            "execution_count": 11,
            "metadata": {},
            "outputs": [
                {
                    "name": "stdout",
                    "output_type": "stream",
                    "text": [
                        "\u001b[1m 25/313\u001b[0m \u001b[32m━\u001b[0m\u001b[37m━━━━━━━━━━━━━━━━━━━\u001b[0m \u001b[1m1s\u001b[0m 4ms/step"
                    ]
                },
                {
                    "name": "stderr",
                    "output_type": "stream",
                    "text": [
                        "2024-04-16 11:40:23.003317: W external/local_tsl/tsl/framework/cpu_allocator_impl.cc:83] Allocation of 31360000 exceeds 10% of free system memory.\n"
                    ]
                },
                {
                    "name": "stdout",
                    "output_type": "stream",
                    "text": [
                        "\u001b[1m313/313\u001b[0m \u001b[32m━━━━━━━━━━━━━━━━━━━━\u001b[0m\u001b[37m\u001b[0m \u001b[1m1s\u001b[0m 4ms/step\n"
                    ]
                },
                {
                    "name": "stderr",
                    "output_type": "stream",
                    "text": [
                        "2024-04-16 11:40:24.643487: W external/local_tsl/tsl/framework/cpu_allocator_impl.cc:83] Allocation of 31360000 exceeds 10% of free system memory.\n"
                    ]
                },
                {
                    "data": {
                        "image/png": "[encoded data removed]",
                        "text/plain": [
                            "<Figure size 2000x400 with 20 Axes>"
                        ]
                    },
                    "metadata": {},
                    "output_type": "display_data"
                }
            ],
            "source": [
                "outputs = trained_model.predict(x_test)\n",
                "\n",
                "plot_reconstructions(x_test, outputs['x_recon'])"
            ]
        }
    ],
    "metadata": {
        "kernelspec": {
            "display_name": "keras_core",
            "language": "python",
            "name": "python3"
        },
        "language_info": {
            "codemirror_mode": {
                "name": "ipython",
                "version": 3
            },
            "file_extension": ".py",
            "mimetype": "text/x-python",
            "name": "python",
            "nbconvert_exporter": "python",
            "pygments_lexer": "ipython3",
            "version": "3.10.10"
        }
    },
    "nbformat": 4,
    "nbformat_minor": 2
}
