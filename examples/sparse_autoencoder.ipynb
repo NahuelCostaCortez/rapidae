{
 "cells": [
  {
   "cell_type": "markdown",
   "metadata": {},
   "source": [
    "# Example of Sparse Autoencoder with MNIST dataset"
   ]
  },
  {
   "cell_type": "code",
   "execution_count": 1,
   "metadata": {},
   "outputs": [],
   "source": [
    "# First install the library\n",
    "\n",
    "# %pip install rapidae"
   ]
  },
  {
   "cell_type": "markdown",
   "metadata": {},
   "source": [
    "Since Rapidae uses the new version of Keras 3, this allows the use of different backends. \n",
    "We can select among the 3 available backends (Tensorflow, Pytorch and Jax) by modifying the environment variable \"KERAS_BACKEND\".\n",
    "In the next cell we can define it."
   ]
  },
  {
   "cell_type": "code",
   "execution_count": 2,
   "metadata": {},
   "outputs": [],
   "source": [
    "import os\n",
    "\n",
    "os.environ[\"KERAS_BACKEND\"] = \"torch\""
   ]
  },
  {
   "cell_type": "code",
   "execution_count": 3,
   "metadata": {},
   "outputs": [
    {
     "name": "stderr",
     "output_type": "stream",
     "text": [
      "2024-01-01 00:00:59.113387: E external/local_xla/xla/stream_executor/cuda/cuda_dnn.cc:9261] Unable to register cuDNN factory: Attempting to register factory for plugin cuDNN when one has already been registered\n",
      "2024-01-01 00:00:59.113415: E external/local_xla/xla/stream_executor/cuda/cuda_fft.cc:607] Unable to register cuFFT factory: Attempting to register factory for plugin cuFFT when one has already been registered\n",
      "2024-01-01 00:00:59.114110: E external/local_xla/xla/stream_executor/cuda/cuda_blas.cc:1515] Unable to register cuBLAS factory: Attempting to register factory for plugin cuBLAS when one has already been registered\n",
      "2024-01-01 00:00:59.118725: I tensorflow/core/platform/cpu_feature_guard.cc:182] This TensorFlow binary is optimized to use available CPU instructions in performance-critical operations.\n",
      "To enable the following instructions: AVX2 FMA, in other operations, rebuild TensorFlow with the appropriate compiler flags.\n",
      "2024-01-01 00:00:59.656110: W tensorflow/compiler/tf2tensorrt/utils/py_utils.cc:38] TF-TRT Warning: Could not find TensorRT\n"
     ]
    }
   ],
   "source": [
    "import sys\n",
    "\n",
    "#notebook_dir = os.path.abspath('')\n",
    "#sys.path.append(os.path.join(notebook_dir, '..', 'src'))\n",
    "\n",
    "from keras import utils\n",
    "from rapidae.pipelines.training import TrainingPipeline\n",
    "from rapidae.models.base.default_architectures import SparseEncoder, SparseDecoder\n",
    "from rapidae.models.ae.ae_model import AE\n",
    "from rapidae.data.utils import display_diff\n",
    "from rapidae.data.datasets import load_MNIST\n",
    "\n",
    "# For reproducibility in Keras 3. This will set:\n",
    "# 1) `numpy` seed\n",
    "# 2) backend random seed\n",
    "# 3) `python` random seed\n",
    "utils.set_random_seed(1)"
   ]
  },
  {
   "cell_type": "markdown",
   "metadata": {},
   "source": [
    "### Download and preprocess the dataset\n",
    "\n",
    "Download and preprocess the dataset. In this example, the selected dataset is the well-known MNIST composed of handwritten number images.\n",
    "\n",
    "The \"persistant\" parameter of the load_MNIST() serves as a flag to determine if we want the dataset to be cached in the datasets folder.\n",
    "\n",
    "Train and test data are normalized and flatten since we are going to use a non convolutional autoencoder."
   ]
  },
  {
   "cell_type": "code",
   "execution_count": 4,
   "metadata": {},
   "outputs": [
    {
     "name": "stderr",
     "output_type": "stream",
     "text": [
      "2024-01-01 00:01:00 \u001b[32m[INFO]\u001b[0m: train-images-idx3-ubyte.gz already exists.\u001b[0m\n",
      "2024-01-01 00:01:00 \u001b[32m[INFO]\u001b[0m: train-labels-idx1-ubyte.gz already exists.\u001b[0m\n",
      "2024-01-01 00:01:00 \u001b[32m[INFO]\u001b[0m: t10k-images-idx3-ubyte.gz already exists.\u001b[0m\n",
      "2024-01-01 00:01:00 \u001b[32m[INFO]\u001b[0m: t10k-labels-idx1-ubyte.gz already exists.\u001b[0m\n"
     ]
    },
    {
     "data": {
      "text/plain": [
       "'/home/lucaspc/aepy-project/rapidae/examples'"
      ]
     },
     "execution_count": 4,
     "metadata": {},
     "output_type": "execute_result"
    }
   ],
   "source": [
    "# Load MNIST dataset\n",
    "x_train, y_train, x_test, y_test = load_MNIST(persistant=True)\n",
    "\n",
    "x_train = x_train.reshape(x_train.shape[0], -1).astype('float32') / 255\n",
    "x_test = x_test.reshape(x_test.shape[0], -1).astype('float32') / 255\n",
    "\n",
    "# Obtain number of clasess\n",
    "n_classes = len(set(y_train))\n",
    "\n",
    "# Convert labels to categorical\n",
    "y_train = utils.to_categorical(y_train, n_classes)\n",
    "y_test = utils.to_categorical(y_test, n_classes)\n",
    "%pwd"
   ]
  },
  {
   "cell_type": "markdown",
   "metadata": {},
   "source": [
    "### Model creation\n"
   ]
  },
  {
   "cell_type": "code",
   "execution_count": 5,
   "metadata": {},
   "outputs": [],
   "source": [
    "# Model creation\n",
    "model = AE(input_dim=x_train.shape[1],\n",
    "           latent_dim=32, encoder=SparseEncoder, decoder=SparseDecoder, layers_conf=[128, 64], lambda_=4)"
   ]
  },
  {
   "cell_type": "markdown",
   "metadata": {},
   "source": [
    "### Training pipeline\n",
    "\n",
    "In the next cell a TrainingPipeline is created. This pipeline is in responsible for setting the training hyperparameters for the autoencoder such as the number of epochs, the batch size, the learning rate...\n",
    "\n",
    "We can also train the model by calling the pipeline and passing it the training set and the labels."
   ]
  },
  {
   "cell_type": "code",
   "execution_count": 6,
   "metadata": {},
   "outputs": [
    {
     "name": "stderr",
     "output_type": "stream",
     "text": [
      "2024-01-01 00:01:00 \u001b[32m[INFO]\u001b[0m: +++ training_pipeline_sparse_ae +++\u001b[0m\n",
      "2024-01-01 00:01:00 \u001b[32m[INFO]\u001b[0m: Creating folder in ../output_dir/training_pipeline_sparse_ae_2024-01-01_00-01-00\u001b[0m\n"
     ]
    },
    {
     "name": "stdout",
     "output_type": "stream",
     "text": [
      "Epoch 1/20\n"
     ]
    },
    {
     "name": "stderr",
     "output_type": "stream",
     "text": [
      "/home/lucaspc/venvs/keras_core/lib/python3.11/site-packages/keras/src/layers/layer.py:358: UserWarning: `build()` was called on layer 'encoder', however the layer does not have a `build()` method implemented and it looks like it has unbuilt state. This will cause the layer to be marked as built, despite not being actually built, which may cause failures down the line. Make sure to implement a proper `build()` method.\n",
      "  warnings.warn(\n"
     ]
    },
    {
     "name": "stdout",
     "output_type": "stream",
     "text": [
      "\n",
      "Epoch 1: loss improved from inf to 0.06572, saving model to ../output_dir/training_pipeline_sparse_ae_2024-01-01_00-01-00/model.weights.h5\n",
      "469/469 - 2s - 4ms/step - loss: 0.0657\n",
      "Epoch 2/20\n",
      "\n",
      "Epoch 2: loss improved from 0.06572 to 0.04724, saving model to ../output_dir/training_pipeline_sparse_ae_2024-01-01_00-01-00/model.weights.h5\n",
      "469/469 - 2s - 4ms/step - loss: 0.0472\n",
      "Epoch 3/20\n",
      "\n",
      "Epoch 3: loss improved from 0.04724 to 0.03644, saving model to ../output_dir/training_pipeline_sparse_ae_2024-01-01_00-01-00/model.weights.h5\n",
      "469/469 - 2s - 3ms/step - loss: 0.0364\n",
      "Epoch 4/20\n",
      "\n",
      "Epoch 4: loss improved from 0.03644 to 0.03101, saving model to ../output_dir/training_pipeline_sparse_ae_2024-01-01_00-01-00/model.weights.h5\n",
      "469/469 - 2s - 3ms/step - loss: 0.0310\n",
      "Epoch 5/20\n",
      "\n",
      "Epoch 5: loss improved from 0.03101 to 0.02783, saving model to ../output_dir/training_pipeline_sparse_ae_2024-01-01_00-01-00/model.weights.h5\n",
      "469/469 - 2s - 3ms/step - loss: 0.0278\n",
      "Epoch 6/20\n",
      "\n",
      "Epoch 6: loss improved from 0.02783 to 0.02492, saving model to ../output_dir/training_pipeline_sparse_ae_2024-01-01_00-01-00/model.weights.h5\n",
      "469/469 - 2s - 4ms/step - loss: 0.0249\n",
      "Epoch 7/20\n",
      "\n",
      "Epoch 7: loss improved from 0.02492 to 0.02268, saving model to ../output_dir/training_pipeline_sparse_ae_2024-01-01_00-01-00/model.weights.h5\n",
      "469/469 - 2s - 4ms/step - loss: 0.0227\n",
      "Epoch 8/20\n",
      "\n",
      "Epoch 8: loss improved from 0.02268 to 0.02075, saving model to ../output_dir/training_pipeline_sparse_ae_2024-01-01_00-01-00/model.weights.h5\n",
      "469/469 - 2s - 4ms/step - loss: 0.0207\n",
      "Epoch 9/20\n",
      "\n",
      "Epoch 9: loss improved from 0.02075 to 0.01893, saving model to ../output_dir/training_pipeline_sparse_ae_2024-01-01_00-01-00/model.weights.h5\n",
      "469/469 - 2s - 3ms/step - loss: 0.0189\n",
      "Epoch 10/20\n",
      "\n",
      "Epoch 10: loss improved from 0.01893 to 0.01738, saving model to ../output_dir/training_pipeline_sparse_ae_2024-01-01_00-01-00/model.weights.h5\n",
      "469/469 - 2s - 3ms/step - loss: 0.0174\n",
      "Epoch 11/20\n",
      "\n",
      "Epoch 11: loss improved from 0.01738 to 0.01616, saving model to ../output_dir/training_pipeline_sparse_ae_2024-01-01_00-01-00/model.weights.h5\n",
      "469/469 - 2s - 3ms/step - loss: 0.0162\n",
      "Epoch 12/20\n",
      "\n",
      "Epoch 12: loss improved from 0.01616 to 0.01506, saving model to ../output_dir/training_pipeline_sparse_ae_2024-01-01_00-01-00/model.weights.h5\n",
      "469/469 - 2s - 3ms/step - loss: 0.0151\n",
      "Epoch 13/20\n",
      "\n",
      "Epoch 13: loss improved from 0.01506 to 0.01419, saving model to ../output_dir/training_pipeline_sparse_ae_2024-01-01_00-01-00/model.weights.h5\n",
      "469/469 - 2s - 3ms/step - loss: 0.0142\n",
      "Epoch 14/20\n",
      "\n",
      "Epoch 14: loss improved from 0.01419 to 0.01342, saving model to ../output_dir/training_pipeline_sparse_ae_2024-01-01_00-01-00/model.weights.h5\n",
      "469/469 - 2s - 4ms/step - loss: 0.0134\n",
      "Epoch 15/20\n",
      "\n",
      "Epoch 15: loss improved from 0.01342 to 0.01275, saving model to ../output_dir/training_pipeline_sparse_ae_2024-01-01_00-01-00/model.weights.h5\n",
      "469/469 - 2s - 4ms/step - loss: 0.0127\n",
      "Epoch 16/20\n",
      "\n",
      "Epoch 16: loss improved from 0.01275 to 0.01225, saving model to ../output_dir/training_pipeline_sparse_ae_2024-01-01_00-01-00/model.weights.h5\n",
      "469/469 - 2s - 4ms/step - loss: 0.0122\n",
      "Epoch 17/20\n",
      "\n",
      "Epoch 17: loss improved from 0.01225 to 0.01176, saving model to ../output_dir/training_pipeline_sparse_ae_2024-01-01_00-01-00/model.weights.h5\n",
      "469/469 - 2s - 4ms/step - loss: 0.0118\n",
      "Epoch 18/20\n",
      "\n",
      "Epoch 18: loss improved from 0.01176 to 0.01130, saving model to ../output_dir/training_pipeline_sparse_ae_2024-01-01_00-01-00/model.weights.h5\n",
      "469/469 - 2s - 4ms/step - loss: 0.0113\n",
      "Epoch 19/20\n",
      "\n",
      "Epoch 19: loss improved from 0.01130 to 0.01090, saving model to ../output_dir/training_pipeline_sparse_ae_2024-01-01_00-01-00/model.weights.h5\n",
      "469/469 - 2s - 4ms/step - loss: 0.0109\n",
      "Epoch 20/20\n",
      "\n",
      "Epoch 20: loss improved from 0.01090 to 0.01060, saving model to ../output_dir/training_pipeline_sparse_ae_2024-01-01_00-01-00/model.weights.h5\n",
      "469/469 - 2s - 4ms/step - loss: 0.0106\n"
     ]
    }
   ],
   "source": [
    "pipe = TrainingPipeline(name='training_pipeline_sparse_ae',\n",
    "                        model=model, num_epochs=20, learning_rate=0.01)\n",
    "\n",
    "trained_model = pipe(x=x_train, y=y_train)"
   ]
  },
  {
   "cell_type": "code",
   "execution_count": 7,
   "metadata": {},
   "outputs": [
    {
     "name": "stdout",
     "output_type": "stream",
     "text": [
      "\u001b[1m313/313\u001b[0m \u001b[32m━━━━━━━━━━━━━━━━━━━━\u001b[0m\u001b[37m\u001b[0m \u001b[1m0s\u001b[0m 1ms/step\n"
     ]
    },
    {
     "data": {
      "image/png": "[encoded data removed]",
      "text/plain": [
       "<Figure size 2000x400 with 20 Axes>"
      ]
     },
     "metadata": {},
     "output_type": "display_data"
    }
   ],
   "source": [
    "y_hat = trained_model.predict(x_test)\n",
    "\n",
    "display_diff(x_test, y_hat['recon'])"
   ]
  }
 ],
 "metadata": {
  "kernelspec": {
   "display_name": "keras_core",
   "language": "python",
   "name": "python3"
  },
  "language_info": {
   "codemirror_mode": {
    "name": "ipython",
    "version": 3
   },
   "file_extension": ".py",
   "mimetype": "text/x-python",
   "name": "python",
   "nbconvert_exporter": "python",
   "pygments_lexer": "ipython3",
   "version": "3.11.2"
  }
 },
 "nbformat": 4,
 "nbformat_minor": 2
}
